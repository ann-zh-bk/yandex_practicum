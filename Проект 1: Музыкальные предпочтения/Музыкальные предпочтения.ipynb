{
 "cells": [
  {
   "cell_type": "markdown",
   "metadata": {
    "deletable": false,
    "editable": false,
    "id": "E0vqbgi9ay0H"
   },
   "source": [
    "# Яндекс Музыка"
   ]
  },
  {
   "cell_type": "markdown",
   "metadata": {
    "deletable": false,
    "editable": false,
    "id": "VUC88oWjTJw2"
   },
   "source": [
    "Сравнение Москвы и Петербурга окружено мифами. Например:\n",
    " * Москва — мегаполис, подчинённый жёсткому ритму рабочей недели;\n",
    " * Петербург — культурная столица, со своими вкусами.\n",
    "\n",
    "На данных Яндекс Музыки вы сравните поведение пользователей двух столиц.\n",
    "\n",
    "**Цель исследования** — проверьте три гипотезы:\n",
    "1. Активность пользователей зависит от дня недели. Причём в Москве и Петербурге это проявляется по-разному.\n",
    "2. В понедельник утром в Москве преобладают одни жанры, а в Петербурге — другие. Так же и вечером пятницы преобладают разные жанры — в зависимости от города. \n",
    "3. Москва и Петербург предпочитают разные жанры музыки. В Москве чаще слушают поп-музыку, в Петербурге — русский рэп.\n",
    "\n",
    "**Ход исследования**\n",
    "\n",
    "Данные о поведении пользователей вы получите из файла `yandex_music_project.csv`. О качестве данных ничего не известно. Поэтому перед проверкой гипотез понадобится обзор данных. \n",
    "\n",
    "Вы проверите данные на ошибки и оцените их влияние на исследование. Затем, на этапе предобработки вы поищете возможность исправить самые критичные ошибки данных.\n",
    " \n",
    "Таким образом, исследование пройдёт в три этапа:\n",
    " 1. Обзор данных.\n",
    " 2. Предобработка данных.\n",
    " 3. Проверка гипотез.\n",
    "\n"
   ]
  },
  {
   "cell_type": "markdown",
   "metadata": {
    "deletable": false,
    "editable": false,
    "id": "Ml1hmfXC_Zcs"
   },
   "source": [
    "## Обзор данных\n",
    "\n",
    "Составьте первое представление о данных Яндекс Музыки.\n",
    "\n",
    "\n"
   ]
  },
  {
   "cell_type": "markdown",
   "metadata": {
    "deletable": false,
    "editable": false,
    "id": "57eAOGIz_Zcs",
    "tags": [
     "start_task"
    ]
   },
   "source": [
    "**Задание 1**\n",
    "\n",
    "Основной инструмент аналитика — `pandas`. Импортируйте эту библиотеку."
   ]
  },
  {
   "cell_type": "code",
   "execution_count": 1,
   "metadata": {
    "deletable": false,
    "id": "AXN7PHPN_Zcs"
   },
   "outputs": [],
   "source": [
    "import pandas as pd # импорт библиотеки pandas"
   ]
  },
  {
   "cell_type": "markdown",
   "metadata": {
    "deletable": false,
    "editable": false,
    "id": "SG23P8tt_Zcs",
    "tags": [
     "start_task"
    ]
   },
   "source": [
    "**Задание 2**\n",
    "\n",
    "Прочитайте файл `yandex_music_project.csv` из папки `/datasets` и сохраните его в переменной `df`:"
   ]
  },
  {
   "cell_type": "code",
   "execution_count": 2,
   "metadata": {
    "deletable": false,
    "id": "fFVu7vqh_Zct"
   },
   "outputs": [],
   "source": [
    "df = pd.read_csv('/datasets/yandex_music_project.csv') # чтение файла с данными и сохранение в df"
   ]
  },
  {
   "cell_type": "markdown",
   "metadata": {
    "deletable": false,
    "editable": false,
    "id": "rDoOMd3uTqnZ",
    "tags": [
     "start_task"
    ]
   },
   "source": [
    "**Задание 3**\n",
    "\n",
    "\n",
    "Выведите на экран первые десять строк таблицы:"
   ]
  },
  {
   "cell_type": "code",
   "execution_count": 3,
   "metadata": {
    "deletable": false,
    "id": "oWTVX3gW_Zct"
   },
   "outputs": [
    {
     "name": "stdout",
     "output_type": "stream",
     "text": [
      "     userID                        Track            artist   genre  \\\n",
      "0  FFB692EC            Kamigata To Boots  The Mass Missile    rock   \n",
      "1  55204538  Delayed Because of Accident  Andreas Rönnberg    rock   \n",
      "2    20EC38            Funiculì funiculà       Mario Lanza     pop   \n",
      "3  A3DD03C9        Dragons in the Sunset        Fire + Ice    folk   \n",
      "4  E2DC1FAE                  Soul People        Space Echo   dance   \n",
      "5  842029A1                    Преданная         IMPERVTOR  rusrap   \n",
      "6  4CB90AA5                         True      Roman Messer   dance   \n",
      "7  F03E1C1F             Feeling This Way   Polina Griffith   dance   \n",
      "8  8FA1D3BE     И вновь продолжается бой               NaN  ruspop   \n",
      "9  E772D5C0                    Pessimist               NaN   dance   \n",
      "\n",
      "             City        time        Day  \n",
      "0  Saint-Petersburg  20:28:33  Wednesday  \n",
      "1            Moscow  14:07:09     Friday  \n",
      "2  Saint-Petersburg  20:58:07  Wednesday  \n",
      "3  Saint-Petersburg  08:37:09     Monday  \n",
      "4            Moscow  08:34:34     Monday  \n",
      "5  Saint-Petersburg  13:09:41     Friday  \n",
      "6            Moscow  13:00:07  Wednesday  \n",
      "7            Moscow  20:47:49  Wednesday  \n",
      "8            Moscow  09:17:40     Friday  \n",
      "9  Saint-Petersburg  21:20:49  Wednesday  \n"
     ]
    }
   ],
   "source": [
    "print(df.head(10)) # получение первых 10 строк таблицы df"
   ]
  },
  {
   "cell_type": "markdown",
   "metadata": {
    "deletable": false,
    "editable": false,
    "id": "EO73Kwic_Zct",
    "tags": [
     "start_task"
    ]
   },
   "source": [
    "**Задание 4**\n",
    "\n",
    "\n",
    "Одной командой получить общую информацию о таблице c помощью метода `info()`:"
   ]
  },
  {
   "cell_type": "code",
   "execution_count": 4,
   "metadata": {
    "deletable": false,
    "id": "DSf2kIb-_Zct"
   },
   "outputs": [
    {
     "name": "stdout",
     "output_type": "stream",
     "text": [
      "<class 'pandas.core.frame.DataFrame'>\n",
      "RangeIndex: 65079 entries, 0 to 65078\n",
      "Data columns (total 7 columns):\n",
      " #   Column    Non-Null Count  Dtype \n",
      "---  ------    --------------  ----- \n",
      " 0     userID  65079 non-null  object\n",
      " 1   Track     63848 non-null  object\n",
      " 2   artist    57876 non-null  object\n",
      " 3   genre     63881 non-null  object\n",
      " 4     City    65079 non-null  object\n",
      " 5   time      65079 non-null  object\n",
      " 6   Day       65079 non-null  object\n",
      "dtypes: object(7)\n",
      "memory usage: 3.5+ MB\n"
     ]
    }
   ],
   "source": [
    "df.info() # получение общей информации о данных в таблице df"
   ]
  },
  {
   "cell_type": "markdown",
   "metadata": {
    "deletable": false,
    "editable": false,
    "id": "TaQ2Iwbr_Zct"
   },
   "source": [
    "Итак, в таблице семь столбцов. Тип данных во всех столбцах — `object`.\n",
    "\n",
    "Согласно документации к данным:\n",
    "* `userID` — идентификатор пользователя;\n",
    "* `Track` — название трека;  \n",
    "* `artist` — имя исполнителя;\n",
    "* `genre` — название жанра;\n",
    "* `City` — город пользователя;\n",
    "* `time` — время начала прослушивания;\n",
    "* `Day` — день недели.\n",
    "\n",
    "Количество значений в столбцах различается. Значит, в данных есть пропущенные значения."
   ]
  },
  {
   "cell_type": "markdown",
   "metadata": {
    "deletable": false,
    "editable": false,
    "id": "rAfziTBDmf2h",
    "tags": [
     "start_task"
    ]
   },
   "source": [
    "**Задание 5**\n",
    "\n",
    "**Вопрос со свободной формой ответа**\n",
    "\n",
    "В названиях колонок видны нарушения стиля:\n",
    "* Строчные буквы сочетаются с прописными.\n",
    "* Встречаются пробелы.\n",
    "\n",
    "Какое третье нарушение?"
   ]
  },
  {
   "cell_type": "code",
   "execution_count": 5,
   "metadata": {
    "id": "jD8EXEIvmf2h"
   },
   "outputs": [],
   "source": [
    "# no snake_register Напишите ваш ответ здесь комментарием. Не удаляйте символ #. Не меняйте тип этой ячейки на Markdown."
   ]
  },
  {
   "cell_type": "markdown",
   "metadata": {
    "deletable": false,
    "editable": false,
    "id": "MCB6-dXG_Zct"
   },
   "source": [
    "**Выводы**\n",
    "\n",
    "В каждой строке таблицы — данные о прослушанном треке. Часть колонок описывает саму композицию: название, исполнителя и жанр. Остальные данные рассказывают о пользователе: из какого он города, когда он слушал музыку. \n",
    "\n",
    "Предварительно можно утверждать, что данных достаточно для проверки гипотез. Но встречаются пропуски в данных, а в названиях колонок — расхождения с хорошим стилем.\n",
    "\n",
    "Чтобы двигаться дальше, нужно устранить проблемы в данных."
   ]
  },
  {
   "cell_type": "markdown",
   "metadata": {
    "deletable": false,
    "editable": false,
    "id": "SjYF6Ub9_Zct"
   },
   "source": [
    "## Предобработка данных\n",
    "Исправьте стиль в заголовках столбцов, исключите пропуски. Затем проверьте данные на дубликаты."
   ]
  },
  {
   "cell_type": "markdown",
   "metadata": {
    "deletable": false,
    "editable": false,
    "id": "dIaKXr29_Zct",
    "tags": [
     "start_task"
    ]
   },
   "source": [
    "### Стиль заголовков\n",
    "\n",
    "**Задание 6**\n",
    "\n",
    "Выведите на экран названия столбцов:"
   ]
  },
  {
   "cell_type": "code",
   "execution_count": 6,
   "metadata": {
    "deletable": false,
    "id": "oKOTdF_Q_Zct"
   },
   "outputs": [
    {
     "name": "stdout",
     "output_type": "stream",
     "text": [
      "Index(['  userID', 'Track', 'artist', 'genre', '  City  ', 'time', 'Day'], dtype='object')\n"
     ]
    }
   ],
   "source": [
    "print(df.columns) # перечень названий столбцов таблицы df"
   ]
  },
  {
   "cell_type": "markdown",
   "metadata": {
    "deletable": false,
    "editable": false,
    "id": "zj5534cv_Zct",
    "tags": [
     "start_task"
    ]
   },
   "source": [
    "**Задание 7**\n",
    "\n",
    "\n",
    "Приведите названия в соответствие с хорошим стилем:\n",
    "* несколько слов в названии запишите в «змеином_регистре»,\n",
    "* все символы сделайте строчными,\n",
    "* устраните пробелы.\n",
    "\n",
    "Для этого переименуйте колонки так:\n",
    "* `'  userID'` → `'user_id'`;\n",
    "* `'Track'` → `'track'`;\n",
    "* `'  City  '` → `'city'`;\n",
    "* `'Day'` → `'day'`."
   ]
  },
  {
   "cell_type": "code",
   "execution_count": 7,
   "metadata": {
    "deletable": false,
    "id": "ISlFqs5y_Zct"
   },
   "outputs": [],
   "source": [
    "df = df.rename(columns={'  userID':'user_id', 'Track':'track', '  City  ':'city', 'Day':'day'})# переименование столбцов"
   ]
  },
  {
   "cell_type": "markdown",
   "metadata": {
    "deletable": false,
    "editable": false,
    "id": "1dqbh00J_Zct",
    "tags": [
     "start_task"
    ]
   },
   "source": [
    "**Задание 8**\n",
    "\n",
    "\n",
    "Проверьте результат. Для этого ещё раз выведите на экран названия столбцов:"
   ]
  },
  {
   "cell_type": "code",
   "execution_count": 8,
   "metadata": {
    "deletable": false,
    "id": "d4NOAmTW_Zct"
   },
   "outputs": [
    {
     "name": "stdout",
     "output_type": "stream",
     "text": [
      "Index(['user_id', 'track', 'artist', 'genre', 'city', 'time', 'day'], dtype='object')\n"
     ]
    }
   ],
   "source": [
    "print(df.columns) # проверка результатов - перечень названий столбцов"
   ]
  },
  {
   "cell_type": "markdown",
   "metadata": {
    "deletable": false,
    "editable": false,
    "id": "5ISfbcfY_Zct",
    "tags": [
     "start_task"
    ]
   },
   "source": [
    "### Пропуски значений\n",
    "\n",
    "**Задание 9**\n",
    "\n",
    "Сначала посчитайте, сколько в таблице пропущенных значений. Для этого достаточно двух методов `pandas`:"
   ]
  },
  {
   "cell_type": "code",
   "execution_count": 9,
   "metadata": {
    "deletable": false,
    "id": "RskX29qr_Zct"
   },
   "outputs": [
    {
     "name": "stdout",
     "output_type": "stream",
     "text": [
      "user_id       0\n",
      "track      1231\n",
      "artist     7203\n",
      "genre      1198\n",
      "city          0\n",
      "time          0\n",
      "day           0\n",
      "dtype: int64\n"
     ]
    }
   ],
   "source": [
    "print(df.isna().sum())# подсчёт пропусков"
   ]
  },
  {
   "cell_type": "markdown",
   "metadata": {
    "deletable": false,
    "editable": false,
    "id": "qubhgnlO_Zct"
   },
   "source": [
    "Не все пропущенные значения влияют на исследование. Так в `track` и `artist` пропуски не важны для вашей работы. Достаточно заменить их явными обозначениями.\n",
    "\n",
    "Но пропуски в `genre` могут помешать сравнению музыкальных вкусов в Москве и Санкт-Петербурге. На практике было бы правильно установить причину пропусков и восстановить данные. Такой возможности нет в учебном проекте. Придётся:\n",
    "* заполнить и эти пропуски явными обозначениями;\n",
    "* оценить, насколько они повредят расчётам. "
   ]
  },
  {
   "cell_type": "markdown",
   "metadata": {
    "deletable": false,
    "editable": false,
    "id": "fSv2laPA_Zct",
    "tags": [
     "start_task"
    ]
   },
   "source": [
    "**Задание 10**\n",
    "\n",
    "Замените пропущенные значения в столбцах `track`, `artist` и `genre` на строку `'unknown'`. Для этого создайте список `columns_to_replace`, переберите его элементы циклом `for` и для каждого столбца выполните замену пропущенных значений:"
   ]
  },
  {
   "cell_type": "code",
   "execution_count": 10,
   "metadata": {
    "deletable": false,
    "id": "KplB5qWs_Zct"
   },
   "outputs": [],
   "source": [
    "columns_to_replace = ['track', 'artist', 'genre']\n",
    "for column in columns_to_replace:\n",
    "    df[column] = df[column].fillna('unknown')# перебор названий столбцов в цикле и замена пропущенных значений на 'unknown'"
   ]
  },
  {
   "cell_type": "markdown",
   "metadata": {
    "deletable": false,
    "editable": false,
    "id": "Ilsm-MZo_Zct",
    "tags": [
     "start_task"
    ]
   },
   "source": [
    "**Задание 11**\n",
    "\n",
    "Убедитесь, что в таблице не осталось пропусков. Для этого ещё раз посчитайте пропущенные значения."
   ]
  },
  {
   "cell_type": "code",
   "execution_count": 11,
   "metadata": {
    "deletable": false,
    "id": "Tq4nYRX4_Zct"
   },
   "outputs": [
    {
     "name": "stdout",
     "output_type": "stream",
     "text": [
      "user_id    0\n",
      "track      0\n",
      "artist     0\n",
      "genre      0\n",
      "city       0\n",
      "time       0\n",
      "day        0\n",
      "dtype: int64\n"
     ]
    }
   ],
   "source": [
    "print(df.isna().sum())# подсчёт пропусков"
   ]
  },
  {
   "cell_type": "markdown",
   "metadata": {
    "deletable": false,
    "editable": false,
    "id": "BWKRtBJ3_Zct",
    "tags": [
     "start_task"
    ]
   },
   "source": [
    "### Дубликаты\n",
    "\n",
    "**Задание 12**\n",
    "\n",
    "Посчитайте явные дубликаты в таблице одной командой:"
   ]
  },
  {
   "cell_type": "code",
   "execution_count": 12,
   "metadata": {
    "deletable": false,
    "id": "36eES_S0_Zct"
   },
   "outputs": [
    {
     "data": {
      "text/plain": [
       "3826"
      ]
     },
     "execution_count": 12,
     "metadata": {},
     "output_type": "execute_result"
    }
   ],
   "source": [
    "df.duplicated().sum()# подсчёт явных дубликатов"
   ]
  },
  {
   "cell_type": "markdown",
   "metadata": {
    "deletable": false,
    "editable": false,
    "id": "Ot25h6XR_Zct",
    "tags": [
     "start_task"
    ]
   },
   "source": [
    "**Задание 13**\n",
    "\n",
    "Вызовите специальный метод `pandas`, чтобы удалить явные дубликаты:"
   ]
  },
  {
   "cell_type": "code",
   "execution_count": 13,
   "metadata": {
    "deletable": false,
    "id": "exFHq6tt_Zct"
   },
   "outputs": [],
   "source": [
    "df = df.drop_duplicates()# удаление явных дубликатов"
   ]
  },
  {
   "cell_type": "markdown",
   "metadata": {
    "deletable": false,
    "editable": false,
    "id": "Im2YwBEG_Zct",
    "tags": [
     "start_task"
    ]
   },
   "source": [
    "**Задание 14**\n",
    "\n",
    "Ещё раз посчитайте явные дубликаты в таблице — убедитесь, что полностью от них избавились:"
   ]
  },
  {
   "cell_type": "code",
   "execution_count": 14,
   "metadata": {
    "deletable": false,
    "id": "-8PuNWQ0_Zct"
   },
   "outputs": [
    {
     "data": {
      "text/plain": [
       "0"
      ]
     },
     "execution_count": 14,
     "metadata": {},
     "output_type": "execute_result"
    }
   ],
   "source": [
    "df.duplicated().sum()# проверка на отсутствие дубликатов"
   ]
  },
  {
   "cell_type": "markdown",
   "metadata": {
    "deletable": false,
    "editable": false,
    "id": "QlFBsxAr_Zct"
   },
   "source": [
    "Теперь избавьтесь от неявных дубликатов в колонке `genre`. Например, название одного и того же жанра может быть записано немного по-разному. Такие ошибки тоже повлияют на результат исследования."
   ]
  },
  {
   "cell_type": "markdown",
   "metadata": {
    "deletable": false,
    "editable": false,
    "id": "eSjWwsOh_Zct",
    "tags": [
     "start_task"
    ]
   },
   "source": [
    "**Задание 15**\n",
    "\n",
    "Выведите на экран список уникальных названий жанров, отсортированный в алфавитном порядке. Для этого:\n",
    "1. извлеките нужный столбец датафрейма; \n",
    "2. примените к нему метод сортировки;\n",
    "3. для отсортированного столбца вызовите метод, который вернёт уникальные значения из столбца."
   ]
  },
  {
   "cell_type": "code",
   "execution_count": 15,
   "metadata": {
    "deletable": false,
    "id": "JIUcqzZN_Zct"
   },
   "outputs": [
    {
     "data": {
      "text/plain": [
       "array(['acid', 'acoustic', 'action', 'adult', 'africa', 'afrikaans',\n",
       "       'alternative', 'alternativepunk', 'ambient', 'americana',\n",
       "       'animated', 'anime', 'arabesk', 'arabic', 'arena',\n",
       "       'argentinetango', 'art', 'audiobook', 'author', 'avantgarde',\n",
       "       'axé', 'baile', 'balkan', 'beats', 'bigroom', 'black', 'bluegrass',\n",
       "       'blues', 'bollywood', 'bossa', 'brazilian', 'breakbeat', 'breaks',\n",
       "       'broadway', 'cantautori', 'cantopop', 'canzone', 'caribbean',\n",
       "       'caucasian', 'celtic', 'chamber', 'chanson', 'children', 'chill',\n",
       "       'chinese', 'choral', 'christian', 'christmas', 'classical',\n",
       "       'classicmetal', 'club', 'colombian', 'comedy', 'conjazz',\n",
       "       'contemporary', 'country', 'cuban', 'dance', 'dancehall',\n",
       "       'dancepop', 'dark', 'death', 'deep', 'deutschrock', 'deutschspr',\n",
       "       'dirty', 'disco', 'dnb', 'documentary', 'downbeat', 'downtempo',\n",
       "       'drum', 'dub', 'dubstep', 'eastern', 'easy', 'electronic',\n",
       "       'electropop', 'emo', 'entehno', 'epicmetal', 'estrada', 'ethnic',\n",
       "       'eurofolk', 'european', 'experimental', 'extrememetal', 'fado',\n",
       "       'fairytail', 'film', 'fitness', 'flamenco', 'folk', 'folklore',\n",
       "       'folkmetal', 'folkrock', 'folktronica', 'forró', 'frankreich',\n",
       "       'französisch', 'french', 'funk', 'future', 'gangsta', 'garage',\n",
       "       'german', 'ghazal', 'gitarre', 'glitch', 'gospel', 'gothic',\n",
       "       'grime', 'grunge', 'gypsy', 'handsup', \"hard'n'heavy\", 'hardcore',\n",
       "       'hardstyle', 'hardtechno', 'hip', 'hip-hop', 'hiphop',\n",
       "       'historisch', 'holiday', 'hop', 'horror', 'house', 'hymn', 'idm',\n",
       "       'independent', 'indian', 'indie', 'indipop', 'industrial',\n",
       "       'inspirational', 'instrumental', 'international', 'irish', 'jam',\n",
       "       'japanese', 'jazz', 'jewish', 'jpop', 'jungle', 'k-pop',\n",
       "       'karadeniz', 'karaoke', 'kayokyoku', 'korean', 'laiko', 'latin',\n",
       "       'latino', 'leftfield', 'local', 'lounge', 'loungeelectronic',\n",
       "       'lovers', 'malaysian', 'mandopop', 'marschmusik', 'meditative',\n",
       "       'mediterranean', 'melodic', 'metal', 'metalcore', 'mexican',\n",
       "       'middle', 'minimal', 'miscellaneous', 'modern', 'mood', 'mpb',\n",
       "       'muslim', 'native', 'neoklassik', 'neue', 'new', 'newage',\n",
       "       'newwave', 'nu', 'nujazz', 'numetal', 'oceania', 'old', 'opera',\n",
       "       'orchestral', 'other', 'piano', 'podcasts', 'pop', 'popdance',\n",
       "       'popelectronic', 'popeurodance', 'poprussian', 'post',\n",
       "       'posthardcore', 'postrock', 'power', 'progmetal', 'progressive',\n",
       "       'psychedelic', 'punjabi', 'punk', 'quebecois', 'ragga', 'ram',\n",
       "       'rancheras', 'rap', 'rave', 'reggae', 'reggaeton', 'regional',\n",
       "       'relax', 'religious', 'retro', 'rhythm', 'rnb', 'rnr', 'rock',\n",
       "       'rockabilly', 'rockalternative', 'rockindie', 'rockother',\n",
       "       'romance', 'roots', 'ruspop', 'rusrap', 'rusrock', 'russian',\n",
       "       'salsa', 'samba', 'scenic', 'schlager', 'self', 'sertanejo',\n",
       "       'shanson', 'shoegazing', 'showtunes', 'singer', 'ska', 'skarock',\n",
       "       'slow', 'smooth', 'soft', 'soul', 'soulful', 'sound', 'soundtrack',\n",
       "       'southern', 'specialty', 'speech', 'spiritual', 'sport',\n",
       "       'stonerrock', 'surf', 'swing', 'synthpop', 'synthrock',\n",
       "       'sängerportrait', 'tango', 'tanzorchester', 'taraftar', 'tatar',\n",
       "       'tech', 'techno', 'teen', 'thrash', 'top', 'traditional',\n",
       "       'tradjazz', 'trance', 'tribal', 'trip', 'triphop', 'tropical',\n",
       "       'türk', 'türkçe', 'ukrrock', 'unknown', 'urban', 'uzbek',\n",
       "       'variété', 'vi', 'videogame', 'vocal', 'western', 'world',\n",
       "       'worldbeat', 'ïîï', 'электроника'], dtype=object)"
      ]
     },
     "execution_count": 15,
     "metadata": {},
     "output_type": "execute_result"
    }
   ],
   "source": [
    "df['genre'].sort_values().unique() # Просмотр уникальных названий жанров"
   ]
  },
  {
   "cell_type": "markdown",
   "metadata": {
    "deletable": false,
    "editable": false,
    "id": "qej-Qmuo_Zct",
    "tags": [
     "start_task"
    ]
   },
   "source": [
    "**Задание 16**\n",
    "\n",
    "Просмотрите список и найдите неявные дубликаты названия `hiphop`. Это могут быть названия с ошибками или альтернативные названия того же жанра.\n",
    "\n",
    "Вы увидите следующие неявные дубликаты:\n",
    "* *hip*,\n",
    "* *hop*,\n",
    "* *hip-hop*.\n",
    "\n",
    "Чтобы очистить от них таблицу используйте метод `replace()` с двумя аргументами: списком строк-дубликатов (включащий *hip*, *hop* и *hip-hop*) и строкой с правильным значением. Вам нужно исправить колонку `genre` в таблице `df`: заменить каждое значение из списка дубликатов на верное. Вместо `hip`, `hop` и `hip-hop` в таблице должно быть значение `hiphop`:"
   ]
  },
  {
   "cell_type": "code",
   "execution_count": 16,
   "metadata": {
    "deletable": false,
    "id": "ErNDkmns_Zct"
   },
   "outputs": [],
   "source": [
    "df['genre']=df['genre'].replace(['hip', 'hop', 'hip-hop'], 'hiphop')# Устранение неявных дубликатов"
   ]
  },
  {
   "cell_type": "markdown",
   "metadata": {
    "deletable": false,
    "editable": false,
    "id": "zQKF16_RG15m",
    "tags": [
     "start_task"
    ]
   },
   "source": [
    "**Задание 17**\n",
    "\n",
    "Проверьте, что заменили неправильные названия:\n",
    "\n",
    "*   hip,\n",
    "*   hop,\n",
    "*   hip-hop.\n",
    "\n",
    "Выведите отсортированный список уникальных значений столбца `genre`:"
   ]
  },
  {
   "cell_type": "code",
   "execution_count": 17,
   "metadata": {
    "deletable": false,
    "id": "wvixALnFG15m"
   },
   "outputs": [
    {
     "name": "stdout",
     "output_type": "stream",
     "text": [
      "['acid' 'acoustic' 'action' 'adult' 'africa' 'afrikaans' 'alternative'\n",
      " 'alternativepunk' 'ambient' 'americana' 'animated' 'anime' 'arabesk'\n",
      " 'arabic' 'arena' 'argentinetango' 'art' 'audiobook' 'author' 'avantgarde'\n",
      " 'axé' 'baile' 'balkan' 'beats' 'bigroom' 'black' 'bluegrass' 'blues'\n",
      " 'bollywood' 'bossa' 'brazilian' 'breakbeat' 'breaks' 'broadway'\n",
      " 'cantautori' 'cantopop' 'canzone' 'caribbean' 'caucasian' 'celtic'\n",
      " 'chamber' 'chanson' 'children' 'chill' 'chinese' 'choral' 'christian'\n",
      " 'christmas' 'classical' 'classicmetal' 'club' 'colombian' 'comedy'\n",
      " 'conjazz' 'contemporary' 'country' 'cuban' 'dance' 'dancehall' 'dancepop'\n",
      " 'dark' 'death' 'deep' 'deutschrock' 'deutschspr' 'dirty' 'disco' 'dnb'\n",
      " 'documentary' 'downbeat' 'downtempo' 'drum' 'dub' 'dubstep' 'eastern'\n",
      " 'easy' 'electronic' 'electropop' 'emo' 'entehno' 'epicmetal' 'estrada'\n",
      " 'ethnic' 'eurofolk' 'european' 'experimental' 'extrememetal' 'fado'\n",
      " 'fairytail' 'film' 'fitness' 'flamenco' 'folk' 'folklore' 'folkmetal'\n",
      " 'folkrock' 'folktronica' 'forró' 'frankreich' 'französisch' 'french'\n",
      " 'funk' 'future' 'gangsta' 'garage' 'german' 'ghazal' 'gitarre' 'glitch'\n",
      " 'gospel' 'gothic' 'grime' 'grunge' 'gypsy' 'handsup' \"hard'n'heavy\"\n",
      " 'hardcore' 'hardstyle' 'hardtechno' 'hiphop' 'historisch' 'holiday'\n",
      " 'horror' 'house' 'hymn' 'idm' 'independent' 'indian' 'indie' 'indipop'\n",
      " 'industrial' 'inspirational' 'instrumental' 'international' 'irish' 'jam'\n",
      " 'japanese' 'jazz' 'jewish' 'jpop' 'jungle' 'k-pop' 'karadeniz' 'karaoke'\n",
      " 'kayokyoku' 'korean' 'laiko' 'latin' 'latino' 'leftfield' 'local'\n",
      " 'lounge' 'loungeelectronic' 'lovers' 'malaysian' 'mandopop' 'marschmusik'\n",
      " 'meditative' 'mediterranean' 'melodic' 'metal' 'metalcore' 'mexican'\n",
      " 'middle' 'minimal' 'miscellaneous' 'modern' 'mood' 'mpb' 'muslim'\n",
      " 'native' 'neoklassik' 'neue' 'new' 'newage' 'newwave' 'nu' 'nujazz'\n",
      " 'numetal' 'oceania' 'old' 'opera' 'orchestral' 'other' 'piano' 'podcasts'\n",
      " 'pop' 'popdance' 'popelectronic' 'popeurodance' 'poprussian' 'post'\n",
      " 'posthardcore' 'postrock' 'power' 'progmetal' 'progressive' 'psychedelic'\n",
      " 'punjabi' 'punk' 'quebecois' 'ragga' 'ram' 'rancheras' 'rap' 'rave'\n",
      " 'reggae' 'reggaeton' 'regional' 'relax' 'religious' 'retro' 'rhythm'\n",
      " 'rnb' 'rnr' 'rock' 'rockabilly' 'rockalternative' 'rockindie' 'rockother'\n",
      " 'romance' 'roots' 'ruspop' 'rusrap' 'rusrock' 'russian' 'salsa' 'samba'\n",
      " 'scenic' 'schlager' 'self' 'sertanejo' 'shanson' 'shoegazing' 'showtunes'\n",
      " 'singer' 'ska' 'skarock' 'slow' 'smooth' 'soft' 'soul' 'soulful' 'sound'\n",
      " 'soundtrack' 'southern' 'specialty' 'speech' 'spiritual' 'sport'\n",
      " 'stonerrock' 'surf' 'swing' 'synthpop' 'synthrock' 'sängerportrait'\n",
      " 'tango' 'tanzorchester' 'taraftar' 'tatar' 'tech' 'techno' 'teen'\n",
      " 'thrash' 'top' 'traditional' 'tradjazz' 'trance' 'tribal' 'trip'\n",
      " 'triphop' 'tropical' 'türk' 'türkçe' 'ukrrock' 'unknown' 'urban' 'uzbek'\n",
      " 'variété' 'vi' 'videogame' 'vocal' 'western' 'world' 'worldbeat' 'ïîï'\n",
      " 'электроника']\n"
     ]
    }
   ],
   "source": [
    "import pandas as pd # импорт библиотеки pandas\n",
    "\n",
    "df = pd.read_csv('/datasets/yandex_music_project.csv') # чтение файла с данными и сохранение в df\n",
    "\n",
    "df = df.rename(columns={'  userID':'user_id', 'Track':'track', '  City  ':'city', 'Day':'day'}) # переименование столбцов\n",
    "\n",
    "columns_to_replace = ['track', 'artist', 'genre']\n",
    "for column in columns_to_replace:\n",
    "    df[column] = df[column].fillna('unknown') # перебор названий столбцов в цикле и замена пропущенных значений на 'unknown'\n",
    "\n",
    "df = df.drop_duplicates() # удаление явных дубликатов\n",
    "\n",
    "df['genre']=df['genre'].replace(['hip', 'hop', 'hip-hop'], 'hiphop') # Устранение неявных дубликатов\n",
    "\n",
    "print(df['genre'].sort_values().unique()) # Проверка на неявные дубликаты"
   ]
  },
  {
   "cell_type": "markdown",
   "metadata": {
    "deletable": false,
    "editable": false,
    "id": "jz6a9-7HQUDd"
   },
   "source": [
    "**Выводы**\n",
    "\n",
    "Предобработка обнаружила три проблемы в данных:\n",
    "\n",
    "- нарушения в стиле заголовков,\n",
    "- пропущенные значения,\n",
    "- дубликаты — явные и неявные.\n",
    "\n",
    "Вы исправили заголовки, чтобы упростить работу с таблицей. Без дубликатов исследование станет более точным.\n",
    "\n",
    "Пропущенные значения вы заменили на `'unknown'`. Ещё предстоит увидеть, не повредят ли исследованию пропуски в колонке `genre`.\n",
    "\n",
    "Теперь можно перейти к проверке гипотез. "
   ]
  },
  {
   "cell_type": "markdown",
   "metadata": {
    "deletable": false,
    "editable": false,
    "id": "WttZHXH0SqKk"
   },
   "source": [
    "## Проверка гипотез"
   ]
  },
  {
   "cell_type": "markdown",
   "metadata": {
    "deletable": false,
    "editable": false,
    "id": "Im936VVi_Zcu"
   },
   "source": [
    "### Сравнение поведения пользователей двух столиц"
   ]
  },
  {
   "cell_type": "markdown",
   "metadata": {
    "deletable": false,
    "editable": false,
    "id": "nwt_MuaL_Zcu"
   },
   "source": [
    "Первая гипотеза утверждает, что пользователи по-разному слушают музыку в Москве и Санкт-Петербурге. Проверьте это предположение по данным о трёх днях недели — понедельнике, среде и пятнице. Для этого:\n",
    "\n",
    "* Разделите пользователей Москвы и Санкт-Петербурга.\n",
    "* Сравните, сколько треков послушала каждая группа пользователей в понедельник, среду и пятницу.\n"
   ]
  },
  {
   "cell_type": "markdown",
   "metadata": {
    "deletable": false,
    "editable": false,
    "id": "8Dw_YMmT_Zcu",
    "tags": [
     "start_task"
    ]
   },
   "source": [
    "**Задание 18**\n",
    "\n",
    "Для тренировки сначала выполните каждый из расчётов по отдельности. \n",
    "\n",
    "Оцените активность пользователей в каждом городе. Сгруппируйте данные по городу и посчитайте прослушивания в каждой группе.\n",
    "\n"
   ]
  },
  {
   "cell_type": "code",
   "execution_count": 18,
   "metadata": {
    "deletable": false,
    "id": "0_Qs96oh_Zcu"
   },
   "outputs": [
    {
     "data": {
      "text/plain": [
       "city\n",
       "Moscow              42741\n",
       "Saint-Petersburg    18512\n",
       "Name: user_id, dtype: int64"
      ]
     },
     "execution_count": 18,
     "metadata": {},
     "output_type": "execute_result"
    }
   ],
   "source": [
    "df.groupby('city')['user_id'].count() # Подсчёт прослушиваний в каждом городе"
   ]
  },
  {
   "cell_type": "markdown",
   "metadata": {
    "deletable": false,
    "editable": false,
    "id": "dzli3w8o_Zcu",
    "tags": [
     "start_task"
    ]
   },
   "source": [
    "В Москве прослушиваний больше, чем в Петербурге. Из этого не следует, что московские пользователи чаще слушают музыку. Просто самих пользователей в Москве больше.\n",
    "\n",
    "**Задание 19**\n",
    "\n",
    "Теперь сгруппируйте данные по дню недели и посчитайте прослушивания в понедельник, среду и пятницу. Учтите, что в данных есть информация о прослушиваниях только за эти дни.\n"
   ]
  },
  {
   "cell_type": "code",
   "execution_count": 19,
   "metadata": {
    "deletable": false,
    "id": "uZMKjiJz_Zcu"
   },
   "outputs": [
    {
     "data": {
      "text/plain": [
       "day\n",
       "Friday       21840\n",
       "Monday       21354\n",
       "Wednesday    18059\n",
       "Name: user_id, dtype: int64"
      ]
     },
     "execution_count": 19,
     "metadata": {},
     "output_type": "execute_result"
    }
   ],
   "source": [
    "df.groupby('day')['user_id'].count() # Подсчёт прослушиваний в каждый из трёх дней"
   ]
  },
  {
   "cell_type": "markdown",
   "metadata": {
    "deletable": false,
    "editable": false,
    "id": "cC2tNrlL_Zcu"
   },
   "source": [
    "В среднем пользователи из двух городов менее активны по средам. Но картина может измениться, если рассмотреть каждый город в отдельности."
   ]
  },
  {
   "cell_type": "markdown",
   "metadata": {
    "deletable": false,
    "editable": false,
    "id": "POzs8bGa_Zcu",
    "tags": [
     "start_task"
    ]
   },
   "source": [
    "**Задание 20**\n",
    "\n",
    "\n",
    "Вы видели, как работает группировка по городу и по дням недели. Теперь напишите функцию, которая объединит два эти расчёта.\n",
    "\n",
    "Создайте функцию `number_tracks()`, которая посчитает прослушивания для заданного дня и города. Ей понадобятся два параметра:\n",
    "* день недели,\n",
    "* название города.\n",
    "\n",
    "В функции сохраните в переменную строки исходной таблицы, у которых значение:\n",
    "  * в колонке `day` равно параметру `day`,\n",
    "  * в колонке `city` равно параметру `city`.\n",
    "\n",
    "Для этого примените последовательную фильтрацию с логической индексацией (или сложные логические выражения в одну строку, если вы уже знакомы с ними).\n",
    "\n",
    "Затем посчитайте значения в столбце `user_id` получившейся таблицы. Результат сохраните в новую переменную. Верните эту переменную из функции."
   ]
  },
  {
   "cell_type": "code",
   "execution_count": 20,
   "metadata": {
    "deletable": false,
    "id": "Nz3GdQB1_Zcu"
   },
   "outputs": [],
   "source": [
    "def number_tracks(day, city):# <создание функции number_tracks()>\n",
    "# Объявляется функция с двумя параметрами: day, city.\n",
    "    track_list = df[df['day'] == day]  \n",
    "    track_list = track_list[track_list['city'] == city]\n",
    "    track_list_count = track_list['user_id'].count()\n",
    "    return track_list_count\n",
    "# В переменной track_list сохраняются те строки таблицы df, для которых \n",
    "# значение в столбце 'day' равно параметру day и одновременно значение\n",
    "# в столбце 'city' равно параметру city (используйте последовательную фильтрацию\n",
    "# с помощью логической индексации или сложные логические выражения в одну строку, если вы уже знакомы с ними).\n",
    "# В переменной track_list_count сохраняется число значений столбца 'user_id',\n",
    "# рассчитанное методом count() для таблицы track_list.\n",
    "# Функция возвращает число - значение track_list_count.\n",
    "\n",
    "# Функция для подсчёта прослушиваний для конкретного города и дня.\n",
    "# С помощью последовательной фильтрации с логической индексацией она \n",
    "# сначала получит из исходной таблицы строки с нужным днём,\n",
    "# затем из результата отфильтрует строки с нужным городом,\n",
    "# методом count() посчитает количество значений в колонке user_id. \n",
    "# Это количество функция вернёт в качестве результата"
   ]
  },
  {
   "cell_type": "markdown",
   "metadata": {
    "deletable": false,
    "editable": false,
    "id": "ytf7xFrFJQ2r",
    "tags": [
     "start_task"
    ]
   },
   "source": [
    "**Задание 21**\n",
    "\n",
    "Вызовите `number_tracks()` шесть раз, меняя значение параметров — так, чтобы получить данные для каждого города в каждый из трёх дней."
   ]
  },
  {
   "cell_type": "code",
   "execution_count": 21,
   "metadata": {
    "deletable": false,
    "id": "rJcRATNQ_Zcu"
   },
   "outputs": [
    {
     "data": {
      "text/plain": [
       "15740"
      ]
     },
     "execution_count": 21,
     "metadata": {},
     "output_type": "execute_result"
    }
   ],
   "source": [
    "number_tracks('Monday', 'Moscow')# количество прослушиваний в Москве по понедельникам"
   ]
  },
  {
   "cell_type": "code",
   "execution_count": 22,
   "metadata": {
    "deletable": false,
    "id": "hq_ncZ5T_Zcu"
   },
   "outputs": [
    {
     "data": {
      "text/plain": [
       "5614"
      ]
     },
     "execution_count": 22,
     "metadata": {},
     "output_type": "execute_result"
    }
   ],
   "source": [
    "number_tracks('Monday', 'Saint-Petersburg')# количество прослушиваний в Санкт-Петербурге по понедельникам"
   ]
  },
  {
   "cell_type": "code",
   "execution_count": 23,
   "metadata": {
    "deletable": false,
    "id": "_NTy2VPU_Zcu"
   },
   "outputs": [
    {
     "data": {
      "text/plain": [
       "11056"
      ]
     },
     "execution_count": 23,
     "metadata": {},
     "output_type": "execute_result"
    }
   ],
   "source": [
    "number_tracks('Wednesday', 'Moscow')# количество прослушиваний в Москве по средам"
   ]
  },
  {
   "cell_type": "code",
   "execution_count": 24,
   "metadata": {
    "deletable": false,
    "id": "j2y3TAwo_Zcu"
   },
   "outputs": [
    {
     "data": {
      "text/plain": [
       "7003"
      ]
     },
     "execution_count": 24,
     "metadata": {},
     "output_type": "execute_result"
    }
   ],
   "source": [
    "number_tracks('Wednesday', 'Saint-Petersburg')# количество прослушиваний в Санкт-Петербурге по средам"
   ]
  },
  {
   "cell_type": "code",
   "execution_count": 25,
   "metadata": {
    "deletable": false,
    "id": "vYDw5u_K_Zcu"
   },
   "outputs": [
    {
     "data": {
      "text/plain": [
       "15945"
      ]
     },
     "execution_count": 25,
     "metadata": {},
     "output_type": "execute_result"
    }
   ],
   "source": [
    "number_tracks('Friday', 'Moscow')# количество прослушиваний в Москве по пятницам"
   ]
  },
  {
   "cell_type": "code",
   "execution_count": 26,
   "metadata": {
    "deletable": false,
    "id": "8_yzFtW3_Zcu"
   },
   "outputs": [
    {
     "data": {
      "text/plain": [
       "5895"
      ]
     },
     "execution_count": 26,
     "metadata": {},
     "output_type": "execute_result"
    }
   ],
   "source": [
    "number_tracks('Friday', 'Saint-Petersburg')# количество прослушиваний в Санкт-Петербурге по пятницам"
   ]
  },
  {
   "cell_type": "markdown",
   "metadata": {
    "deletable": false,
    "editable": false,
    "id": "7QXffbO-_Zcu",
    "tags": [
     "start_task"
    ]
   },
   "source": [
    "**Задание 22**\n",
    "\n",
    "Создайте c помощью конструктора `pd.DataFrame` таблицу, где\n",
    "* названия колонок — `['city', 'monday', 'wednesday', 'friday']`;\n",
    "* данные — результаты, которые вы получили с помощью `number_tracks`."
   ]
  },
  {
   "cell_type": "code",
   "execution_count": 27,
   "metadata": {
    "deletable": false,
    "id": "APAcLpOr_Zcu"
   },
   "outputs": [],
   "source": [
    "data = [['Moscow',15740, 11056, 15945], ['Saint-Petersburg', 5614, 7003, 5895]]\n",
    "columns = ['city', 'monday', 'wednesday', 'friday']\n",
    "table = pd.DataFrame(data=data, columns=columns)# Таблица с результатами"
   ]
  },
  {
   "cell_type": "markdown",
   "metadata": {
    "deletable": false,
    "editable": false,
    "id": "-EgPIHYu_Zcu"
   },
   "source": [
    "**Выводы**\n",
    "\n",
    "Данные показывают разницу поведения пользователей:\n",
    "\n",
    "- В Москве пик прослушиваний приходится на понедельник и пятницу, а в среду заметен спад.\n",
    "- В Петербурге, наоборот, больше слушают музыку по средам. Активность в понедельник и пятницу здесь почти в равной мере уступает среде.\n",
    "\n",
    "Значит, данные говорят в пользу первой гипотезы."
   ]
  },
  {
   "cell_type": "markdown",
   "metadata": {
    "deletable": false,
    "editable": false,
    "id": "atZAxtq4_Zcu"
   },
   "source": [
    "### Музыка в начале и в конце недели"
   ]
  },
  {
   "cell_type": "markdown",
   "metadata": {
    "deletable": false,
    "editable": false,
    "id": "eXrQqXFH_Zcu"
   },
   "source": [
    "Согласно второй гипотезе, утром в понедельник в Москве преобладают одни жанры, а в Петербурге — другие. Так же и вечером пятницы преобладают разные жанры — в зависимости от города."
   ]
  },
  {
   "cell_type": "markdown",
   "metadata": {
    "deletable": false,
    "editable": false,
    "id": "S8UcW6Hw_Zcu",
    "tags": [
     "start_task"
    ]
   },
   "source": [
    "**Задание 23**\n",
    "\n",
    "Сохраните таблицы с данными в две переменные:\n",
    "* по Москве — в `moscow_general`;\n",
    "* по Санкт-Петербургу — в `spb_general`."
   ]
  },
  {
   "cell_type": "code",
   "execution_count": 28,
   "metadata": {
    "deletable": false,
    "id": "qeaFfM_P_Zcu"
   },
   "outputs": [],
   "source": [
    "moscow_general = df[df['city'] == 'Moscow']\n",
    "# получение таблицы moscow_general из тех строк таблицы df, \n",
    "# для которых значение в столбце 'city' равно 'Moscow'\n"
   ]
  },
  {
   "cell_type": "code",
   "execution_count": 29,
   "metadata": {
    "deletable": false,
    "id": "ORaVRKto_Zcu"
   },
   "outputs": [],
   "source": [
    "spb_general = df[df['city'] == 'Saint-Petersburg']# получение таблицы spb_general из тех строк таблицы df,\n",
    "# для которых значение в столбце 'city' равно 'Saint-Petersburg'\n"
   ]
  },
  {
   "cell_type": "markdown",
   "metadata": {
    "deletable": false,
    "id": "MEJV-CX2_Zcu",
    "tags": [
     "start_task"
    ]
   },
   "source": [
    "**Задание 24**\n",
    "\n",
    "Создайте функцию `genre_weekday()` с четырьмя параметрами:\n",
    "* таблица (датафрейм) с данными,\n",
    "* день недели,\n",
    "* начальная временная метка в формате 'hh:mm', \n",
    "* последняя временная метка в формате 'hh:mm'.\n",
    "\n",
    "Функция должна вернуть информацию о топ-10 жанров тех треков, которые прослушивали в указанный день, в промежутке между двумя отметками времени."
   ]
  },
  {
   "cell_type": "code",
   "execution_count": 30,
   "metadata": {
    "deletable": false,
    "id": "laJT9BYl_Zcu"
   },
   "outputs": [],
   "source": [
    "def genre_weekday (df, day, time1, time2):\n",
    "    genre_df = df[df['day'] == day]\n",
    "    genre_df = genre_df[genre_df['time']>time1]\n",
    "    genre_df = genre_df[genre_df['time']<time2]\n",
    "    genre_df_count = genre_df.groupby('genre')['genre'].count()\n",
    "    genre_df_sorted = genre_df_count.sort_values(ascending=False)\n",
    "    return genre_df_sorted[:10]\n",
    "    # Объявление функции genre_weekday() с параметрами table, day, time1, time2,\n",
    "# которая возвращает информацию о самых популярных жанрах в указанный день в\n",
    "# заданное время:\n",
    "# 1) в переменную genre_df сохраняются те строки переданного датафрейма table, для\n",
    "#    которых одновременно:\n",
    "#    - значение в столбце day равно значению аргумента day\n",
    "#    - значение в столбце time больше значения аргумента time1\n",
    "#    - значение в столбце time меньше значения аргумента time2\n",
    "#    Используйте последовательную фильтрацию с помощью логической индексации.\n",
    "# 2) сгруппировать датафрейм genre_df по столбцу genre, взять один из его\n",
    "#    столбцов и посчитать методом count() количество записей для каждого из\n",
    "#    присутствующих жанров, получившийся Series записать в переменную\n",
    "#    genre_df_count\n",
    "# 3) отсортировать genre_df_count по убыванию встречаемости и сохранить\n",
    "#    в переменную genre_df_sorted\n",
    "# 4) вернуть Series из 10 первых значений genre_df_sorted, это будут топ-10\n",
    "#    популярных жанров (в указанный день, в заданное время)\n",
    "\n",
    "#def genre_weekday(df, day, time1, time2):\n",
    "    # последовательная фильтрация\n",
    "    # оставляем в genre_df только те строки df, у которых день равен day\n",
    "    #genre_df = # ваш код здесь\n",
    "    # оставляем в genre_df только те строки genre_df, у которых время меньше time2\n",
    "    #genre_df = # ваш код здесь\n",
    "    # оставляем в genre_df только те строки genre_df, у которых время больше time1\n",
    "    #genre_df = # ваш код здесь\n",
    "    # сгруппируем отфильтрованный датафрейм по столбцу с названиями жанров, возьмём столбец genre и посчитаем кол-во строк для каждого жанра методом count()\n",
    "    #genre_df_grouped = # ваш код здесь\n",
    "    # отсортируем результат по убыванию (чтобы в начале Series оказались самые популярные жанры)\n",
    "    #genre_df_sorted = # ваш код здесь\n",
    "    # вернём Series с 10 самыми популярными жанрами в указанный отрезок времени заданного дня\n",
    "    #return genre_df_sorted[:10]"
   ]
  },
  {
   "cell_type": "markdown",
   "metadata": {
    "deletable": false,
    "editable": false,
    "id": "la2s2_PF_Zcu",
    "tags": [
     "start_task"
    ]
   },
   "source": [
    "**Задание 25**\n",
    "\n",
    "\n",
    "Cравните результаты функции `genre_weekday()` для Москвы и Санкт-Петербурга в понедельник утром (с 7:00 до 11:00) и в пятницу вечером (с 17:00 до 23:00):"
   ]
  },
  {
   "cell_type": "code",
   "execution_count": 31,
   "metadata": {
    "deletable": false,
    "id": "yz7itPUQ_Zcu"
   },
   "outputs": [
    {
     "data": {
      "text/plain": [
       "genre\n",
       "pop            781\n",
       "dance          549\n",
       "electronic     480\n",
       "rock           474\n",
       "hiphop         286\n",
       "ruspop         186\n",
       "world          181\n",
       "rusrap         175\n",
       "alternative    164\n",
       "unknown        161\n",
       "Name: genre, dtype: int64"
      ]
     },
     "execution_count": 31,
     "metadata": {},
     "output_type": "execute_result"
    }
   ],
   "source": [
    "genre_weekday(moscow_general, 'Monday', '07:00', '11:00')\n",
    "# вызов функции для утра понедельника в Москве (вместо df — таблица moscow_general)\n",
    "# объекты, хранящие время, являются строками и сравниваются как строки\n",
    "# пример вызова: genre_weekday(moscow_general, 'Monday', '07:00', '11:00')"
   ]
  },
  {
   "cell_type": "code",
   "execution_count": 32,
   "metadata": {
    "deletable": false,
    "id": "kwUcHPdy_Zcu"
   },
   "outputs": [
    {
     "data": {
      "text/plain": [
       "genre\n",
       "pop            218\n",
       "dance          182\n",
       "rock           162\n",
       "electronic     147\n",
       "hiphop          80\n",
       "ruspop          64\n",
       "alternative     58\n",
       "rusrap          55\n",
       "jazz            44\n",
       "classical       40\n",
       "Name: genre, dtype: int64"
      ]
     },
     "execution_count": 32,
     "metadata": {},
     "output_type": "execute_result"
    }
   ],
   "source": [
    "genre_weekday(spb_general, 'Monday', '07:00', '11:00')\n",
    "# вызов функции для утра понедельника в Петербурге (вместо df — таблица spb_general)"
   ]
  },
  {
   "cell_type": "code",
   "execution_count": 33,
   "metadata": {
    "deletable": false,
    "id": "EzXVRE1o_Zcu"
   },
   "outputs": [
    {
     "data": {
      "text/plain": [
       "genre\n",
       "pop            713\n",
       "rock           517\n",
       "dance          495\n",
       "electronic     482\n",
       "hiphop         273\n",
       "world          208\n",
       "ruspop         170\n",
       "alternative    163\n",
       "classical      163\n",
       "rusrap         142\n",
       "Name: genre, dtype: int64"
      ]
     },
     "execution_count": 33,
     "metadata": {},
     "output_type": "execute_result"
    }
   ],
   "source": [
    "genre_weekday(moscow_general, 'Friday', '17:00', '23:00')\n",
    "# вызов функции для вечера пятницы в Москве"
   ]
  },
  {
   "cell_type": "code",
   "execution_count": 34,
   "metadata": {
    "deletable": false,
    "id": "JZaEKu5v_Zcu"
   },
   "outputs": [
    {
     "data": {
      "text/plain": [
       "genre\n",
       "pop            256\n",
       "electronic     216\n",
       "rock           216\n",
       "dance          210\n",
       "hiphop          97\n",
       "alternative     63\n",
       "jazz            61\n",
       "classical       60\n",
       "rusrap          59\n",
       "world           54\n",
       "Name: genre, dtype: int64"
      ]
     },
     "execution_count": 34,
     "metadata": {},
     "output_type": "execute_result"
    }
   ],
   "source": [
    "genre_weekday(spb_general, 'Friday', '17:00', '23:00')# вызов функции для вечера пятницы в Петербурге"
   ]
  },
  {
   "cell_type": "markdown",
   "metadata": {
    "deletable": false,
    "editable": false,
    "id": "wrCe4MNX_Zcu"
   },
   "source": [
    "**Выводы**\n",
    "\n",
    "Если сравнить топ-10 жанров в понедельник утром, можно сделать такие выводы:\n",
    "\n",
    "1. В Москве и Петербурге слушают похожую музыку. Единственное отличие — в московский рейтинг вошёл жанр “world”, а в петербургский — джаз и классика.\n",
    "\n",
    "2. В Москве пропущенных значений оказалось так много, что значение `'unknown'` заняло десятое место среди самых популярных жанров. Значит, пропущенные значения занимают существенную долю в данных и угрожают достоверности исследования.\n",
    "\n",
    "Вечер пятницы не меняет эту картину. Некоторые жанры поднимаются немного выше, другие спускаются, но в целом топ-10 остаётся тем же самым.\n",
    "\n",
    "Таким образом, вторая гипотеза подтвердилась лишь частично:\n",
    "* Пользователи слушают похожую музыку в начале недели и в конце.\n",
    "* Разница между Москвой и Петербургом не слишком выражена. В Москве чаще слушают русскую популярную музыку, в Петербурге — джаз.\n",
    "\n",
    "Однако пропуски в данных ставят под сомнение этот результат. В Москве их так много, что рейтинг топ-10 мог бы выглядеть иначе, если бы не утерянные  данные о жанрах."
   ]
  },
  {
   "cell_type": "markdown",
   "metadata": {
    "deletable": false,
    "editable": false,
    "id": "JolODAqr_Zcu"
   },
   "source": [
    "### Жанровые предпочтения в Москве и Петербурге\n",
    "\n",
    "Гипотеза: Петербург — столица рэпа, музыку этого жанра там слушают чаще, чем в Москве.  А Москва — город контрастов, в котором, тем не менее, преобладает поп-музыка."
   ]
  },
  {
   "cell_type": "markdown",
   "metadata": {
    "deletable": false,
    "editable": false,
    "id": "DlegSvaT_Zcu",
    "tags": [
     "start_task"
    ]
   },
   "source": [
    "**Задание 26**\n",
    "\n",
    "Сгруппируйте таблицу `moscow_general` по жанру и посчитайте прослушивания треков каждого жанра методом `count()`. Затем отсортируйте результат в порядке убывания и сохраните его в таблице `moscow_genres`."
   ]
  },
  {
   "cell_type": "code",
   "execution_count": 35,
   "metadata": {
    "deletable": false,
    "id": "r19lIPke_Zcu"
   },
   "outputs": [],
   "source": [
    "moscow_genres = moscow_general.groupby('genre')['genre'].count()\n",
    "moscow_genres = moscow_genres.sort_values(ascending=False)\n",
    "# одной строкой: группировка таблицы moscow_general по столбцу 'genre', \n",
    "# подсчёт числа значений 'genre' в этой группировке методом count(), \n",
    "# сортировка получившегося Series в порядке убывания и сохранение в moscow_genres"
   ]
  },
  {
   "cell_type": "markdown",
   "metadata": {
    "deletable": false,
    "editable": false,
    "id": "6kMuomxTiIr8",
    "tags": [
     "start_task"
    ]
   },
   "source": [
    "**Задание 27**\n",
    "\n",
    "Выведите на экран первые десять строк `moscow_genres`:"
   ]
  },
  {
   "cell_type": "code",
   "execution_count": 36,
   "metadata": {
    "deletable": false,
    "id": "WhCSooF8_Zcv"
   },
   "outputs": [
    {
     "data": {
      "text/plain": [
       "genre\n",
       "pop            5892\n",
       "dance          4435\n",
       "rock           3965\n",
       "electronic     3786\n",
       "hiphop         2096\n",
       "classical      1616\n",
       "world          1432\n",
       "alternative    1379\n",
       "ruspop         1372\n",
       "rusrap         1161\n",
       "Name: genre, dtype: int64"
      ]
     },
     "execution_count": 36,
     "metadata": {},
     "output_type": "execute_result"
    }
   ],
   "source": [
    "moscow_genres.head(10)# просмотр первых 10 строк moscow_genres"
   ]
  },
  {
   "cell_type": "markdown",
   "metadata": {
    "deletable": false,
    "editable": false,
    "id": "cnPG2vnN_Zcv",
    "tags": [
     "start_task"
    ]
   },
   "source": [
    "**Задание 28**\n",
    "\n",
    "\n",
    "Теперь повторите то же и для Петербурга.\n",
    "\n",
    "Сгруппируйте таблицу `spb_general` по жанру. Посчитайте прослушивания треков каждого жанра. Результат отсортируйте в порядке убывания и сохраните в таблице `spb_genres`:\n"
   ]
  },
  {
   "cell_type": "code",
   "execution_count": 37,
   "metadata": {
    "deletable": false,
    "id": "gluLIpE7_Zcv"
   },
   "outputs": [],
   "source": [
    "spb_genres = spb_general.groupby('genre')['genre'].count()\n",
    "spb_genres = spb_genres.sort_values(ascending=False)\n",
    "# одной строкой: группировка таблицы spb_general по столбцу 'genre', \n",
    "# подсчёт числа значений 'genre' в этой группировке методом count(), \n",
    "# сортировка получившегося Series в порядке убывания и сохранение в spb_genres"
   ]
  },
  {
   "cell_type": "markdown",
   "metadata": {
    "deletable": false,
    "editable": false,
    "id": "5Doha_ODgyQ8",
    "tags": [
     "start_task"
    ]
   },
   "source": [
    "**Задание 29**\n",
    "\n",
    "Выведите на экран первые десять строк `spb_genres`:"
   ]
  },
  {
   "cell_type": "code",
   "execution_count": 38,
   "metadata": {
    "deletable": false,
    "id": "uaGJHjVU_Zcv"
   },
   "outputs": [
    {
     "data": {
      "text/plain": [
       "genre\n",
       "acoustic             2\n",
       "adult                8\n",
       "africa               4\n",
       "alternative        649\n",
       "alternativepunk      1\n",
       "ambient             64\n",
       "americana            1\n",
       "anime               29\n",
       "arabesk              2\n",
       "arabic               1\n",
       "Name: genre, dtype: int64"
      ]
     },
     "execution_count": 38,
     "metadata": {},
     "output_type": "execute_result"
    }
   ],
   "source": [
    "spb_genres.head(10)# просмотр первых 10 строк spb_genres"
   ]
  },
  {
   "cell_type": "markdown",
   "metadata": {
    "deletable": false,
    "editable": false,
    "id": "RY51YJYu_Zcv"
   },
   "source": [
    "**Выводы**"
   ]
  },
  {
   "cell_type": "markdown",
   "metadata": {
    "deletable": false,
    "editable": false,
    "id": "nVhnJEm__Zcv"
   },
   "source": [
    "Гипотеза частично подтвердилась:\n",
    "* Поп-музыка — самый популярный жанр в Москве, как и предполагала гипотеза. Более того, в топ-10 жанров встречается близкий жанр — русская популярная музыка.\n",
    "* Вопреки ожиданиям, рэп одинаково популярен в Москве и Петербурге. \n"
   ]
  },
  {
   "cell_type": "markdown",
   "metadata": {
    "deletable": false,
    "editable": false,
    "id": "ykKQ0N65_Zcv"
   },
   "source": [
    "## Итоги исследования"
   ]
  },
  {
   "cell_type": "markdown",
   "metadata": {
    "deletable": false,
    "editable": false,
    "id": "tjUwbHb3_Zcv"
   },
   "source": [
    "Вы проверили три гипотезы и установили:\n",
    "\n",
    "1. День недели по-разному влияет на активность пользователей в Москве и Петербурге. \n",
    "\n",
    "Первая гипотеза полностью подтвердилась.\n",
    "\n",
    "2. Музыкальные предпочтения не сильно меняются в течение недели — будь то Москва или Петербург. Небольшие различия заметны в начале недели, по понедельникам:\n",
    "* в Москве слушают музыку жанра “world”,\n",
    "* в Петербурге — джаз и классику.\n",
    "\n",
    "Таким образом, вторая гипотеза подтвердилась лишь отчасти. Этот результат мог оказаться иным, если бы не пропуски в данных.\n",
    "\n",
    "3. Во вкусах пользователей Москвы и Петербурга больше общего чем различий. Вопреки ожиданиям, предпочтения жанров в Петербурге напоминают московские.\n",
    "\n",
    "Третья гипотеза не подтвердилась. Если различия в предпочтениях и существуют, на основной массе пользователей они незаметны.\n",
    "\n",
    "**На практике исследования содержат проверки статистических гипотез.**\n",
    "Из данных одного сервиса не всегда можно сделать вывод о всех жителях города.\n",
    "Проверки статистических гипотез покажут, насколько они достоверны, исходя из имеющихся данных. \n",
    "С методами проверок гипотез вы ещё познакомитесь в следующих темах."
   ]
  },
  {
   "cell_type": "code",
   "execution_count": null,
   "metadata": {},
   "outputs": [],
   "source": []
  }
 ],
 "metadata": {
  "ExecuteTimeLog": [
   {
    "duration": 7,
    "start_time": "2022-06-19T10:28:14.003Z"
   },
   {
    "duration": 403,
    "start_time": "2022-06-20T07:47:16.843Z"
   },
   {
    "duration": 241,
    "start_time": "2022-06-20T07:47:51.387Z"
   },
   {
    "duration": 180,
    "start_time": "2022-06-20T07:48:26.982Z"
   },
   {
    "duration": 8,
    "start_time": "2022-06-20T07:49:33.316Z"
   },
   {
    "duration": 32,
    "start_time": "2022-06-20T07:50:07.742Z"
   },
   {
    "duration": 4,
    "start_time": "2022-06-20T07:50:57.745Z"
   },
   {
    "duration": 12,
    "start_time": "2022-06-20T07:51:15.615Z"
   },
   {
    "duration": 3,
    "start_time": "2022-06-20T07:51:26.939Z"
   },
   {
    "duration": 34,
    "start_time": "2022-06-20T07:51:52.421Z"
   },
   {
    "duration": 18,
    "start_time": "2022-06-20T07:53:42.857Z"
   },
   {
    "duration": 28,
    "start_time": "2022-06-20T07:53:59.791Z"
   },
   {
    "duration": 71,
    "start_time": "2022-06-20T07:54:30.218Z"
   },
   {
    "duration": 88,
    "start_time": "2022-06-20T07:54:56.243Z"
   },
   {
    "duration": 65,
    "start_time": "2022-06-20T07:55:14.021Z"
   },
   {
    "duration": 47,
    "start_time": "2022-06-20T07:55:47.209Z"
   },
   {
    "duration": 13,
    "start_time": "2022-06-20T07:56:33.142Z"
   },
   {
    "duration": 29,
    "start_time": "2022-06-20T07:57:09.509Z"
   },
   {
    "duration": 647,
    "start_time": "2022-06-20T07:57:16.640Z"
   },
   {
    "duration": 646,
    "start_time": "2022-06-20T07:57:51.494Z"
   },
   {
    "duration": 546,
    "start_time": "2022-06-20T07:58:39.259Z"
   },
   {
    "duration": 712,
    "start_time": "2022-06-20T07:59:20.608Z"
   },
   {
    "duration": 722,
    "start_time": "2022-06-20T08:02:02.926Z"
   },
   {
    "duration": 577,
    "start_time": "2022-06-20T08:54:31.067Z"
   },
   {
    "duration": 558,
    "start_time": "2022-06-20T08:55:32.844Z"
   },
   {
    "duration": 2,
    "start_time": "2022-06-20T09:06:11.694Z"
   },
   {
    "duration": 172,
    "start_time": "2022-06-20T09:06:11.708Z"
   },
   {
    "duration": 6,
    "start_time": "2022-06-20T09:06:11.882Z"
   },
   {
    "duration": 49,
    "start_time": "2022-06-20T09:06:11.890Z"
   },
   {
    "duration": 9,
    "start_time": "2022-06-20T09:06:11.942Z"
   },
   {
    "duration": 18,
    "start_time": "2022-06-20T09:06:11.953Z"
   },
   {
    "duration": 20,
    "start_time": "2022-06-20T09:06:11.973Z"
   },
   {
    "duration": 16,
    "start_time": "2022-06-20T09:06:11.995Z"
   },
   {
    "duration": 40,
    "start_time": "2022-06-20T09:06:12.012Z"
   },
   {
    "duration": 33,
    "start_time": "2022-06-20T09:06:12.053Z"
   },
   {
    "duration": 38,
    "start_time": "2022-06-20T09:06:12.089Z"
   },
   {
    "duration": 83,
    "start_time": "2022-06-20T09:06:12.128Z"
   },
   {
    "duration": 61,
    "start_time": "2022-06-20T09:06:12.213Z"
   },
   {
    "duration": 67,
    "start_time": "2022-06-20T09:06:12.276Z"
   },
   {
    "duration": 40,
    "start_time": "2022-06-20T09:06:12.344Z"
   },
   {
    "duration": 21,
    "start_time": "2022-06-20T09:06:12.386Z"
   },
   {
    "duration": 21,
    "start_time": "2022-06-20T09:06:12.409Z"
   },
   {
    "duration": 45,
    "start_time": "2022-06-20T09:06:12.432Z"
   },
   {
    "duration": 37,
    "start_time": "2022-06-20T09:06:12.478Z"
   },
   {
    "duration": 43,
    "start_time": "2022-06-20T09:06:12.527Z"
   },
   {
    "duration": 0,
    "start_time": "2022-06-20T09:06:12.571Z"
   },
   {
    "duration": 0,
    "start_time": "2022-06-20T09:06:12.572Z"
   },
   {
    "duration": 0,
    "start_time": "2022-06-20T09:06:12.573Z"
   },
   {
    "duration": 0,
    "start_time": "2022-06-20T09:06:12.574Z"
   },
   {
    "duration": 0,
    "start_time": "2022-06-20T09:06:12.575Z"
   },
   {
    "duration": 0,
    "start_time": "2022-06-20T09:06:12.576Z"
   },
   {
    "duration": 0,
    "start_time": "2022-06-20T09:06:12.577Z"
   },
   {
    "duration": 0,
    "start_time": "2022-06-20T09:06:12.578Z"
   },
   {
    "duration": 0,
    "start_time": "2022-06-20T09:06:12.579Z"
   },
   {
    "duration": 0,
    "start_time": "2022-06-20T09:06:12.580Z"
   },
   {
    "duration": 0,
    "start_time": "2022-06-20T09:06:12.580Z"
   },
   {
    "duration": 0,
    "start_time": "2022-06-20T09:06:12.581Z"
   },
   {
    "duration": 0,
    "start_time": "2022-06-20T09:06:12.582Z"
   },
   {
    "duration": 0,
    "start_time": "2022-06-20T09:06:12.583Z"
   },
   {
    "duration": 0,
    "start_time": "2022-06-20T09:06:12.584Z"
   },
   {
    "duration": 0,
    "start_time": "2022-06-20T09:06:12.585Z"
   },
   {
    "duration": 0,
    "start_time": "2022-06-20T09:06:12.586Z"
   },
   {
    "duration": 0,
    "start_time": "2022-06-20T09:06:12.587Z"
   },
   {
    "duration": 414,
    "start_time": "2022-06-20T12:16:52.420Z"
   },
   {
    "duration": 156,
    "start_time": "2022-06-20T12:16:52.836Z"
   },
   {
    "duration": 7,
    "start_time": "2022-06-20T12:16:52.994Z"
   },
   {
    "duration": 41,
    "start_time": "2022-06-20T12:16:53.004Z"
   },
   {
    "duration": 3,
    "start_time": "2022-06-20T12:16:53.046Z"
   },
   {
    "duration": 7,
    "start_time": "2022-06-20T12:16:53.050Z"
   },
   {
    "duration": 16,
    "start_time": "2022-06-20T12:16:53.058Z"
   },
   {
    "duration": 7,
    "start_time": "2022-06-20T12:16:53.075Z"
   },
   {
    "duration": 24,
    "start_time": "2022-06-20T12:16:53.084Z"
   },
   {
    "duration": 16,
    "start_time": "2022-06-20T12:16:53.128Z"
   },
   {
    "duration": 22,
    "start_time": "2022-06-20T12:16:53.146Z"
   },
   {
    "duration": 85,
    "start_time": "2022-06-20T12:16:53.170Z"
   },
   {
    "duration": 74,
    "start_time": "2022-06-20T12:16:53.257Z"
   },
   {
    "duration": 56,
    "start_time": "2022-06-20T12:16:53.333Z"
   },
   {
    "duration": 52,
    "start_time": "2022-06-20T12:16:53.391Z"
   },
   {
    "duration": 10,
    "start_time": "2022-06-20T12:16:53.444Z"
   },
   {
    "duration": 7,
    "start_time": "2022-06-20T12:16:53.456Z"
   },
   {
    "duration": 35,
    "start_time": "2022-06-20T12:16:53.465Z"
   },
   {
    "duration": 56,
    "start_time": "2022-06-20T12:16:53.501Z"
   },
   {
    "duration": 140,
    "start_time": "2022-06-20T12:16:53.559Z"
   },
   {
    "duration": 0,
    "start_time": "2022-06-20T12:16:53.702Z"
   },
   {
    "duration": 0,
    "start_time": "2022-06-20T12:16:53.703Z"
   },
   {
    "duration": 0,
    "start_time": "2022-06-20T12:16:53.704Z"
   },
   {
    "duration": 0,
    "start_time": "2022-06-20T12:16:53.705Z"
   },
   {
    "duration": 0,
    "start_time": "2022-06-20T12:16:53.706Z"
   },
   {
    "duration": 0,
    "start_time": "2022-06-20T12:16:53.707Z"
   },
   {
    "duration": 0,
    "start_time": "2022-06-20T12:16:53.708Z"
   },
   {
    "duration": 0,
    "start_time": "2022-06-20T12:16:53.709Z"
   },
   {
    "duration": 0,
    "start_time": "2022-06-20T12:16:53.710Z"
   },
   {
    "duration": 0,
    "start_time": "2022-06-20T12:16:53.711Z"
   },
   {
    "duration": 0,
    "start_time": "2022-06-20T12:16:53.712Z"
   },
   {
    "duration": 0,
    "start_time": "2022-06-20T12:16:53.713Z"
   },
   {
    "duration": 0,
    "start_time": "2022-06-20T12:16:53.714Z"
   },
   {
    "duration": 0,
    "start_time": "2022-06-20T12:16:53.715Z"
   },
   {
    "duration": 0,
    "start_time": "2022-06-20T12:16:53.716Z"
   },
   {
    "duration": 0,
    "start_time": "2022-06-20T12:16:53.717Z"
   },
   {
    "duration": 0,
    "start_time": "2022-06-20T12:16:53.718Z"
   },
   {
    "duration": 0,
    "start_time": "2022-06-20T12:16:53.719Z"
   },
   {
    "duration": 676,
    "start_time": "2022-06-20T12:21:34.487Z"
   },
   {
    "duration": 740,
    "start_time": "2022-06-20T12:38:21.513Z"
   },
   {
    "duration": 34,
    "start_time": "2022-06-20T12:59:35.629Z"
   },
   {
    "duration": 66,
    "start_time": "2022-06-20T13:28:18.748Z"
   },
   {
    "duration": 10,
    "start_time": "2022-06-20T13:28:42.800Z"
   },
   {
    "duration": 9,
    "start_time": "2022-06-20T13:29:31.610Z"
   },
   {
    "duration": 12,
    "start_time": "2022-06-20T14:11:28.421Z"
   },
   {
    "duration": 12,
    "start_time": "2022-06-20T14:13:11.345Z"
   },
   {
    "duration": 10,
    "start_time": "2022-06-20T16:41:50.798Z"
   },
   {
    "duration": 44,
    "start_time": "2022-06-21T13:57:40.141Z"
   },
   {
    "duration": 5,
    "start_time": "2022-06-21T13:58:09.142Z"
   },
   {
    "duration": 4,
    "start_time": "2022-06-21T14:34:39.730Z"
   },
   {
    "duration": 10,
    "start_time": "2022-06-21T14:34:47.263Z"
   },
   {
    "duration": 44,
    "start_time": "2022-06-21T14:37:26.530Z"
   },
   {
    "duration": 6,
    "start_time": "2022-06-21T14:37:52.641Z"
   },
   {
    "duration": 6,
    "start_time": "2022-06-21T14:39:22.720Z"
   },
   {
    "duration": 4,
    "start_time": "2022-06-21T14:39:27.070Z"
   },
   {
    "duration": 9,
    "start_time": "2022-06-21T14:39:34.802Z"
   },
   {
    "duration": 8,
    "start_time": "2022-06-21T14:42:05.779Z"
   },
   {
    "duration": 7,
    "start_time": "2022-06-21T14:42:38.860Z"
   },
   {
    "duration": 48,
    "start_time": "2022-06-21T14:42:49.758Z"
   },
   {
    "duration": 6,
    "start_time": "2022-06-21T14:42:59.523Z"
   },
   {
    "duration": 6,
    "start_time": "2022-06-21T14:49:49.146Z"
   },
   {
    "duration": 5,
    "start_time": "2022-06-21T15:00:19.031Z"
   },
   {
    "duration": 8,
    "start_time": "2022-06-21T15:00:22.637Z"
   },
   {
    "duration": 381,
    "start_time": "2022-06-21T15:00:27.091Z"
   },
   {
    "duration": 242,
    "start_time": "2022-06-21T15:00:27.474Z"
   },
   {
    "duration": 8,
    "start_time": "2022-06-21T15:00:27.718Z"
   },
   {
    "duration": 29,
    "start_time": "2022-06-21T15:00:27.727Z"
   },
   {
    "duration": 9,
    "start_time": "2022-06-21T15:00:27.758Z"
   },
   {
    "duration": 3,
    "start_time": "2022-06-21T15:00:27.769Z"
   },
   {
    "duration": 17,
    "start_time": "2022-06-21T15:00:27.774Z"
   },
   {
    "duration": 6,
    "start_time": "2022-06-21T15:00:27.793Z"
   },
   {
    "duration": 25,
    "start_time": "2022-06-21T15:00:27.801Z"
   },
   {
    "duration": 20,
    "start_time": "2022-06-21T15:00:27.828Z"
   },
   {
    "duration": 23,
    "start_time": "2022-06-21T15:00:27.869Z"
   },
   {
    "duration": 83,
    "start_time": "2022-06-21T15:00:27.893Z"
   },
   {
    "duration": 69,
    "start_time": "2022-06-21T15:00:27.978Z"
   },
   {
    "duration": 74,
    "start_time": "2022-06-21T15:00:28.049Z"
   },
   {
    "duration": 48,
    "start_time": "2022-06-21T15:00:28.125Z"
   },
   {
    "duration": 11,
    "start_time": "2022-06-21T15:00:28.174Z"
   },
   {
    "duration": 305,
    "start_time": "2022-06-21T15:00:28.187Z"
   },
   {
    "duration": 16,
    "start_time": "2022-06-21T15:00:28.495Z"
   },
   {
    "duration": 11,
    "start_time": "2022-06-21T15:00:28.513Z"
   },
   {
    "duration": 5,
    "start_time": "2022-06-21T15:00:28.526Z"
   },
   {
    "duration": 37,
    "start_time": "2022-06-21T15:00:28.533Z"
   },
   {
    "duration": 15,
    "start_time": "2022-06-21T15:00:28.571Z"
   },
   {
    "duration": 14,
    "start_time": "2022-06-21T15:00:28.588Z"
   },
   {
    "duration": 13,
    "start_time": "2022-06-21T15:00:28.603Z"
   },
   {
    "duration": 16,
    "start_time": "2022-06-21T15:00:28.617Z"
   },
   {
    "duration": 47,
    "start_time": "2022-06-21T15:00:28.634Z"
   },
   {
    "duration": 31,
    "start_time": "2022-06-21T15:00:28.682Z"
   },
   {
    "duration": 0,
    "start_time": "2022-06-21T15:00:28.715Z"
   },
   {
    "duration": 0,
    "start_time": "2022-06-21T15:00:28.716Z"
   },
   {
    "duration": 0,
    "start_time": "2022-06-21T15:00:28.717Z"
   },
   {
    "duration": 0,
    "start_time": "2022-06-21T15:00:28.718Z"
   },
   {
    "duration": 0,
    "start_time": "2022-06-21T15:00:28.719Z"
   },
   {
    "duration": 0,
    "start_time": "2022-06-21T15:00:28.720Z"
   },
   {
    "duration": 0,
    "start_time": "2022-06-21T15:00:28.721Z"
   },
   {
    "duration": 0,
    "start_time": "2022-06-21T15:00:28.722Z"
   },
   {
    "duration": 0,
    "start_time": "2022-06-21T15:00:28.722Z"
   },
   {
    "duration": 0,
    "start_time": "2022-06-21T15:00:28.723Z"
   },
   {
    "duration": 0,
    "start_time": "2022-06-21T15:00:28.724Z"
   },
   {
    "duration": 69,
    "start_time": "2022-06-21T15:06:29.487Z"
   },
   {
    "duration": 55,
    "start_time": "2022-06-21T15:07:29.088Z"
   },
   {
    "duration": 5,
    "start_time": "2022-06-21T15:08:43.334Z"
   },
   {
    "duration": 3,
    "start_time": "2022-06-21T15:08:54.167Z"
   },
   {
    "duration": 15,
    "start_time": "2022-06-21T15:13:34.273Z"
   },
   {
    "duration": 9,
    "start_time": "2022-06-21T15:13:36.529Z"
   },
   {
    "duration": 418,
    "start_time": "2022-06-22T08:35:40.313Z"
   },
   {
    "duration": 235,
    "start_time": "2022-06-22T08:35:40.733Z"
   },
   {
    "duration": 9,
    "start_time": "2022-06-22T08:35:40.969Z"
   },
   {
    "duration": 31,
    "start_time": "2022-06-22T08:35:40.980Z"
   },
   {
    "duration": 2,
    "start_time": "2022-06-22T08:35:41.013Z"
   },
   {
    "duration": 5,
    "start_time": "2022-06-22T08:35:41.025Z"
   },
   {
    "duration": 15,
    "start_time": "2022-06-22T08:35:41.032Z"
   },
   {
    "duration": 6,
    "start_time": "2022-06-22T08:35:41.048Z"
   },
   {
    "duration": 26,
    "start_time": "2022-06-22T08:35:41.056Z"
   },
   {
    "duration": 26,
    "start_time": "2022-06-22T08:35:41.085Z"
   },
   {
    "duration": 34,
    "start_time": "2022-06-22T08:35:41.113Z"
   },
   {
    "duration": 82,
    "start_time": "2022-06-22T08:35:41.148Z"
   },
   {
    "duration": 73,
    "start_time": "2022-06-22T08:35:41.232Z"
   },
   {
    "duration": 73,
    "start_time": "2022-06-22T08:35:41.307Z"
   },
   {
    "duration": 48,
    "start_time": "2022-06-22T08:35:41.381Z"
   },
   {
    "duration": 10,
    "start_time": "2022-06-22T08:35:41.431Z"
   },
   {
    "duration": 295,
    "start_time": "2022-06-22T08:35:41.443Z"
   },
   {
    "duration": 12,
    "start_time": "2022-06-22T08:35:41.740Z"
   },
   {
    "duration": 11,
    "start_time": "2022-06-22T08:35:41.754Z"
   },
   {
    "duration": 3,
    "start_time": "2022-06-22T08:35:41.767Z"
   },
   {
    "duration": 23,
    "start_time": "2022-06-22T08:35:41.772Z"
   },
   {
    "duration": 42,
    "start_time": "2022-06-22T08:35:41.797Z"
   },
   {
    "duration": 16,
    "start_time": "2022-06-22T08:35:41.840Z"
   },
   {
    "duration": 13,
    "start_time": "2022-06-22T08:35:41.857Z"
   },
   {
    "duration": 16,
    "start_time": "2022-06-22T08:35:41.872Z"
   },
   {
    "duration": 42,
    "start_time": "2022-06-22T08:35:41.889Z"
   },
   {
    "duration": 4,
    "start_time": "2022-06-22T08:35:41.933Z"
   },
   {
    "duration": 20,
    "start_time": "2022-06-22T08:35:41.940Z"
   },
   {
    "duration": 12,
    "start_time": "2022-06-22T08:35:41.962Z"
   },
   {
    "duration": 5,
    "start_time": "2022-06-22T08:35:41.976Z"
   },
   {
    "duration": 8,
    "start_time": "2022-06-22T08:35:41.982Z"
   },
   {
    "duration": 10,
    "start_time": "2022-06-22T08:35:41.991Z"
   },
   {
    "duration": 12,
    "start_time": "2022-06-22T08:35:42.003Z"
   },
   {
    "duration": 7,
    "start_time": "2022-06-22T08:35:42.016Z"
   },
   {
    "duration": 12,
    "start_time": "2022-06-22T08:35:42.025Z"
   },
   {
    "duration": 8,
    "start_time": "2022-06-22T08:35:42.039Z"
   },
   {
    "duration": 6,
    "start_time": "2022-06-22T08:35:42.049Z"
   },
   {
    "duration": 7,
    "start_time": "2022-06-22T08:35:42.056Z"
   },
   {
    "duration": 5,
    "start_time": "2022-06-22T08:43:57.773Z"
   },
   {
    "duration": 430,
    "start_time": "2022-06-22T08:44:28.722Z"
   },
   {
    "duration": 182,
    "start_time": "2022-06-22T08:44:29.154Z"
   },
   {
    "duration": 10,
    "start_time": "2022-06-22T08:44:29.338Z"
   },
   {
    "duration": 37,
    "start_time": "2022-06-22T08:44:29.350Z"
   },
   {
    "duration": 3,
    "start_time": "2022-06-22T08:44:29.389Z"
   },
   {
    "duration": 13,
    "start_time": "2022-06-22T08:44:29.394Z"
   },
   {
    "duration": 35,
    "start_time": "2022-06-22T08:44:29.408Z"
   },
   {
    "duration": 8,
    "start_time": "2022-06-22T08:44:29.445Z"
   },
   {
    "duration": 27,
    "start_time": "2022-06-22T08:44:29.455Z"
   },
   {
    "duration": 18,
    "start_time": "2022-06-22T08:44:29.484Z"
   },
   {
    "duration": 43,
    "start_time": "2022-06-22T08:44:29.504Z"
   },
   {
    "duration": 87,
    "start_time": "2022-06-22T08:44:29.548Z"
   },
   {
    "duration": 71,
    "start_time": "2022-06-22T08:44:29.636Z"
   },
   {
    "duration": 71,
    "start_time": "2022-06-22T08:44:29.710Z"
   },
   {
    "duration": 54,
    "start_time": "2022-06-22T08:44:29.782Z"
   },
   {
    "duration": 11,
    "start_time": "2022-06-22T08:44:29.837Z"
   },
   {
    "duration": 301,
    "start_time": "2022-06-22T08:44:29.850Z"
   },
   {
    "duration": 13,
    "start_time": "2022-06-22T08:44:30.152Z"
   },
   {
    "duration": 13,
    "start_time": "2022-06-22T08:44:30.166Z"
   },
   {
    "duration": 4,
    "start_time": "2022-06-22T08:44:30.181Z"
   },
   {
    "duration": 45,
    "start_time": "2022-06-22T08:44:30.186Z"
   },
   {
    "duration": 16,
    "start_time": "2022-06-22T08:44:30.233Z"
   },
   {
    "duration": 28,
    "start_time": "2022-06-22T08:44:30.251Z"
   },
   {
    "duration": 19,
    "start_time": "2022-06-22T08:44:30.281Z"
   },
   {
    "duration": 31,
    "start_time": "2022-06-22T08:44:30.302Z"
   },
   {
    "duration": 19,
    "start_time": "2022-06-22T08:44:30.335Z"
   },
   {
    "duration": 8,
    "start_time": "2022-06-22T08:44:30.356Z"
   },
   {
    "duration": 20,
    "start_time": "2022-06-22T08:44:30.365Z"
   },
   {
    "duration": 11,
    "start_time": "2022-06-22T08:44:30.387Z"
   },
   {
    "duration": 6,
    "start_time": "2022-06-22T08:44:30.400Z"
   },
   {
    "duration": 18,
    "start_time": "2022-06-22T08:44:30.408Z"
   },
   {
    "duration": 10,
    "start_time": "2022-06-22T08:44:30.427Z"
   },
   {
    "duration": 15,
    "start_time": "2022-06-22T08:44:30.438Z"
   },
   {
    "duration": 7,
    "start_time": "2022-06-22T08:44:30.455Z"
   },
   {
    "duration": 9,
    "start_time": "2022-06-22T08:44:30.464Z"
   },
   {
    "duration": 15,
    "start_time": "2022-06-22T08:44:30.474Z"
   },
   {
    "duration": 17,
    "start_time": "2022-06-22T08:44:30.491Z"
   },
   {
    "duration": 18,
    "start_time": "2022-06-22T08:44:30.510Z"
   },
   {
    "duration": 16,
    "start_time": "2022-06-22T08:59:14.385Z"
   },
   {
    "duration": 396,
    "start_time": "2022-06-22T14:05:37.569Z"
   },
   {
    "duration": 205,
    "start_time": "2022-06-22T14:05:37.967Z"
   },
   {
    "duration": 9,
    "start_time": "2022-06-22T14:05:38.174Z"
   },
   {
    "duration": 41,
    "start_time": "2022-06-22T14:05:38.185Z"
   },
   {
    "duration": 5,
    "start_time": "2022-06-22T14:05:38.230Z"
   },
   {
    "duration": 11,
    "start_time": "2022-06-22T14:05:38.241Z"
   },
   {
    "duration": 21,
    "start_time": "2022-06-22T14:05:38.254Z"
   },
   {
    "duration": 22,
    "start_time": "2022-06-22T14:05:38.277Z"
   },
   {
    "duration": 43,
    "start_time": "2022-06-22T14:05:38.301Z"
   },
   {
    "duration": 37,
    "start_time": "2022-06-22T14:05:38.346Z"
   },
   {
    "duration": 25,
    "start_time": "2022-06-22T14:05:38.385Z"
   },
   {
    "duration": 81,
    "start_time": "2022-06-22T14:05:38.411Z"
   },
   {
    "duration": 87,
    "start_time": "2022-06-22T14:05:38.493Z"
   },
   {
    "duration": 78,
    "start_time": "2022-06-22T14:05:38.582Z"
   },
   {
    "duration": 41,
    "start_time": "2022-06-22T14:05:38.662Z"
   },
   {
    "duration": 31,
    "start_time": "2022-06-22T14:05:38.704Z"
   },
   {
    "duration": 336,
    "start_time": "2022-06-22T14:05:38.736Z"
   },
   {
    "duration": 13,
    "start_time": "2022-06-22T14:05:39.074Z"
   },
   {
    "duration": 13,
    "start_time": "2022-06-22T14:05:39.088Z"
   },
   {
    "duration": 4,
    "start_time": "2022-06-22T14:05:39.102Z"
   },
   {
    "duration": 24,
    "start_time": "2022-06-22T14:05:39.136Z"
   },
   {
    "duration": 16,
    "start_time": "2022-06-22T14:05:39.162Z"
   },
   {
    "duration": 17,
    "start_time": "2022-06-22T14:05:39.180Z"
   },
   {
    "duration": 14,
    "start_time": "2022-06-22T14:05:39.199Z"
   },
   {
    "duration": 26,
    "start_time": "2022-06-22T14:05:39.231Z"
   },
   {
    "duration": 22,
    "start_time": "2022-06-22T14:05:39.259Z"
   },
   {
    "duration": 5,
    "start_time": "2022-06-22T14:05:39.283Z"
   },
   {
    "duration": 16,
    "start_time": "2022-06-22T14:05:39.292Z"
   },
   {
    "duration": 15,
    "start_time": "2022-06-22T14:05:39.332Z"
   },
   {
    "duration": 9,
    "start_time": "2022-06-22T14:05:39.349Z"
   },
   {
    "duration": 27,
    "start_time": "2022-06-22T14:05:39.359Z"
   },
   {
    "duration": 12,
    "start_time": "2022-06-22T14:05:39.388Z"
   },
   {
    "duration": 32,
    "start_time": "2022-06-22T14:05:39.402Z"
   },
   {
    "duration": 19,
    "start_time": "2022-06-22T14:05:39.439Z"
   },
   {
    "duration": 15,
    "start_time": "2022-06-22T14:05:39.460Z"
   },
   {
    "duration": 7,
    "start_time": "2022-06-22T14:05:39.477Z"
   },
   {
    "duration": 16,
    "start_time": "2022-06-22T14:05:39.486Z"
   },
   {
    "duration": 9,
    "start_time": "2022-06-22T14:05:39.504Z"
   },
   {
    "duration": 81,
    "start_time": "2022-06-22T14:06:04.995Z"
   },
   {
    "duration": 434,
    "start_time": "2022-06-23T16:13:16.945Z"
   },
   {
    "duration": 618,
    "start_time": "2022-06-23T16:13:17.384Z"
   },
   {
    "duration": 12,
    "start_time": "2022-06-23T16:13:18.008Z"
   },
   {
    "duration": 63,
    "start_time": "2022-06-23T16:13:18.023Z"
   },
   {
    "duration": 22,
    "start_time": "2022-06-23T16:13:18.092Z"
   },
   {
    "duration": 8,
    "start_time": "2022-06-23T16:13:18.116Z"
   },
   {
    "duration": 29,
    "start_time": "2022-06-23T16:13:18.126Z"
   },
   {
    "duration": 46,
    "start_time": "2022-06-23T16:13:18.161Z"
   },
   {
    "duration": 29,
    "start_time": "2022-06-23T16:13:18.209Z"
   },
   {
    "duration": 30,
    "start_time": "2022-06-23T16:13:18.240Z"
   },
   {
    "duration": 62,
    "start_time": "2022-06-23T16:13:18.272Z"
   },
   {
    "duration": 147,
    "start_time": "2022-06-23T16:13:18.337Z"
   },
   {
    "duration": 125,
    "start_time": "2022-06-23T16:13:18.492Z"
   },
   {
    "duration": 88,
    "start_time": "2022-06-23T16:13:18.623Z"
   },
   {
    "duration": 54,
    "start_time": "2022-06-23T16:13:18.713Z"
   },
   {
    "duration": 17,
    "start_time": "2022-06-23T16:13:18.773Z"
   },
   {
    "duration": 606,
    "start_time": "2022-06-23T16:13:18.796Z"
   },
   {
    "duration": 19,
    "start_time": "2022-06-23T16:13:19.408Z"
   },
   {
    "duration": 84,
    "start_time": "2022-06-23T16:13:19.432Z"
   },
   {
    "duration": 117,
    "start_time": "2022-06-23T16:13:19.527Z"
   },
   {
    "duration": 51,
    "start_time": "2022-06-23T16:13:19.646Z"
   },
   {
    "duration": 49,
    "start_time": "2022-06-23T16:13:19.699Z"
   },
   {
    "duration": 130,
    "start_time": "2022-06-23T16:13:19.750Z"
   },
   {
    "duration": 105,
    "start_time": "2022-06-23T16:13:19.882Z"
   },
   {
    "duration": 114,
    "start_time": "2022-06-23T16:13:19.994Z"
   },
   {
    "duration": 132,
    "start_time": "2022-06-23T16:13:20.110Z"
   },
   {
    "duration": 148,
    "start_time": "2022-06-23T16:13:20.244Z"
   },
   {
    "duration": 215,
    "start_time": "2022-06-23T16:13:20.394Z"
   },
   {
    "duration": 86,
    "start_time": "2022-06-23T16:13:20.612Z"
   },
   {
    "duration": 33,
    "start_time": "2022-06-23T16:13:20.701Z"
   },
   {
    "duration": 73,
    "start_time": "2022-06-23T16:13:20.737Z"
   },
   {
    "duration": 36,
    "start_time": "2022-06-23T16:13:20.814Z"
   },
   {
    "duration": 87,
    "start_time": "2022-06-23T16:13:20.856Z"
   },
   {
    "duration": 79,
    "start_time": "2022-06-23T16:13:20.945Z"
   },
   {
    "duration": 15,
    "start_time": "2022-06-23T16:13:21.026Z"
   },
   {
    "duration": 81,
    "start_time": "2022-06-23T16:13:21.043Z"
   },
   {
    "duration": 13,
    "start_time": "2022-06-23T16:13:21.126Z"
   },
   {
    "duration": 27,
    "start_time": "2022-06-23T16:13:21.144Z"
   }
  ],
  "colab": {
   "collapsed_sections": [
    "E0vqbgi9ay0H",
    "VUC88oWjTJw2"
   ],
   "name": "automatization_template_upd4.ipynb",
   "provenance": []
  },
  "kernelspec": {
   "display_name": "Python 3 (ipykernel)",
   "language": "python",
   "name": "python3"
  },
  "language_info": {
   "codemirror_mode": {
    "name": "ipython",
    "version": 3
   },
   "file_extension": ".py",
   "mimetype": "text/x-python",
   "name": "python",
   "nbconvert_exporter": "python",
   "pygments_lexer": "ipython3",
   "version": "3.9.12"
  },
  "toc": {
   "base_numbering": 1,
   "nav_menu": {
    "height": "215px",
    "width": "403px"
   },
   "number_sections": true,
   "sideBar": true,
   "skip_h1_title": true,
   "title_cell": "Table of Contents",
   "title_sidebar": "Contents",
   "toc_cell": false,
   "toc_position": {
    "height": "calc(100% - 180px)",
    "left": "10px",
    "top": "150px",
    "width": "285.825px"
   },
   "toc_section_display": true,
   "toc_window_display": false
  }
 },
 "nbformat": 4,
 "nbformat_minor": 1
}
