{
 "cells": [
  {
   "cell_type": "markdown",
   "metadata": {
    "id": "sIfNaMOxgFyK"
   },
   "source": [
    "## Исследование данных о российском кинопрокате\n",
    "\n"
   ]
  },
  {
   "cell_type": "markdown",
   "metadata": {
    "id": "3bSlkCsbgFyL"
   },
   "source": [
    "### Шаг 1. Откройте файлы с данными и объедините их в один датафрейм. \n",
    "\n",
    "Объедините данные таким образом, чтобы все объекты из датасета `mkrf_movies` обязательно вошли в получившийся датафрейм. \n",
    "\n",
    "<div id=\"accordion\">\n",
    "    <div class=\"card\">\n",
    "        <div class=\"card-header\" id=\"headingThree\">\n",
    "            <button class=\"btn btn-link collapsed\" data-toggle=\"collapse\" data-target=\"#collapseHint_0\" aria-expanded=\"false\" aria-controls=\"collapseHint_0\">Подсказка</button>\n",
    "        </div>\n",
    "        <div id=\"collapseHint_0\" class=\"collapse\" aria-labelledby=\"headingThree\" data-parent=\"#accordion\">\n",
    "            <div class=\"card-body\">\n",
    "Обратите внимание на тип данных столбца, по которому будете соединять датафреймы. Тип данных этих столбцов должен быть одинаковым в обоих датафреймах.\n",
    "            </div>\n",
    "        </div>\n",
    "    </div>\n",
    "</div>"
   ]
  },
  {
   "cell_type": "code",
   "execution_count": 1,
   "metadata": {},
   "outputs": [],
   "source": [
    "import pandas as pd\n",
    "import matplotlib.pyplot as plt"
   ]
  },
  {
   "cell_type": "code",
   "execution_count": 2,
   "metadata": {
    "id": "dw87FlzMgFyM"
   },
   "outputs": [],
   "source": [
    "#Загрузим датасет mkrf_movies.csv\n",
    "try:\n",
    "    st = \"C:/Users/Suntory1/Downloads/mkrf_movies.csv\"\n",
    "    movies = pd.read_csv(st.strip(\"‪u202a\"))\n",
    "except:\n",
    "    movies = pd.read_csv('/datasets/mkrf_movies.csv')"
   ]
  },
  {
   "cell_type": "code",
   "execution_count": 3,
   "metadata": {
    "scrolled": false
   },
   "outputs": [
    {
     "name": "stdout",
     "output_type": "stream",
     "text": [
      "<class 'pandas.core.frame.DataFrame'>\n",
      "RangeIndex: 7486 entries, 0 to 7485\n",
      "Data columns (total 15 columns):\n",
      " #   Column                 Non-Null Count  Dtype  \n",
      "---  ------                 --------------  -----  \n",
      " 0   title                  7486 non-null   object \n",
      " 1   puNumber               7486 non-null   object \n",
      " 2   show_start_date        7486 non-null   object \n",
      " 3   type                   7486 non-null   object \n",
      " 4   film_studio            7468 non-null   object \n",
      " 5   production_country     7484 non-null   object \n",
      " 6   director               7477 non-null   object \n",
      " 7   producer               6918 non-null   object \n",
      " 8   age_restriction        7486 non-null   object \n",
      " 9   refundable_support     332 non-null    float64\n",
      " 10  nonrefundable_support  332 non-null    float64\n",
      " 11  budget                 332 non-null    float64\n",
      " 12  financing_source       332 non-null    object \n",
      " 13  ratings                6519 non-null   object \n",
      " 14  genres                 6510 non-null   object \n",
      "dtypes: float64(3), object(12)\n",
      "memory usage: 877.4+ KB\n"
     ]
    }
   ],
   "source": [
    "#Исследуем датафрейм movies.\n",
    "movies.info()"
   ]
  },
  {
   "cell_type": "markdown",
   "metadata": {},
   "source": [
    "Видно, что числовая информация в puNumber и ratings, а также даты в show_start_date представлены в строковом формате. Название столбца puNumber записано в camel register вместо snake register."
   ]
  },
  {
   "cell_type": "code",
   "execution_count": 4,
   "metadata": {
    "scrolled": true
   },
   "outputs": [
    {
     "data": {
      "text/html": [
       "<div>\n",
       "<style scoped>\n",
       "    .dataframe tbody tr th:only-of-type {\n",
       "        vertical-align: middle;\n",
       "    }\n",
       "\n",
       "    .dataframe tbody tr th {\n",
       "        vertical-align: top;\n",
       "    }\n",
       "\n",
       "    .dataframe thead th {\n",
       "        text-align: right;\n",
       "    }\n",
       "</style>\n",
       "<table border=\"1\" class=\"dataframe\">\n",
       "  <thead>\n",
       "    <tr style=\"text-align: right;\">\n",
       "      <th></th>\n",
       "      <th>title</th>\n",
       "      <th>puNumber</th>\n",
       "      <th>show_start_date</th>\n",
       "      <th>type</th>\n",
       "      <th>film_studio</th>\n",
       "      <th>production_country</th>\n",
       "      <th>director</th>\n",
       "      <th>producer</th>\n",
       "      <th>age_restriction</th>\n",
       "      <th>refundable_support</th>\n",
       "      <th>nonrefundable_support</th>\n",
       "      <th>budget</th>\n",
       "      <th>financing_source</th>\n",
       "      <th>ratings</th>\n",
       "      <th>genres</th>\n",
       "    </tr>\n",
       "  </thead>\n",
       "  <tbody>\n",
       "    <tr>\n",
       "      <th>0</th>\n",
       "      <td>Открытый простор</td>\n",
       "      <td>221048915</td>\n",
       "      <td>2015-11-27T12:00:00.000Z</td>\n",
       "      <td>Художественный</td>\n",
       "      <td>Тачстоун Пикчерз, Кобальт Пикчерз, Бикон Пикче...</td>\n",
       "      <td>США</td>\n",
       "      <td>Кевин Костнер</td>\n",
       "      <td>Дэвид Валдес, Кевин Костнер, Джейк Эбертс</td>\n",
       "      <td>«18+» - запрещено для детей</td>\n",
       "      <td>NaN</td>\n",
       "      <td>NaN</td>\n",
       "      <td>NaN</td>\n",
       "      <td>NaN</td>\n",
       "      <td>7.2</td>\n",
       "      <td>боевик,драма,мелодрама</td>\n",
       "    </tr>\n",
       "    <tr>\n",
       "      <th>1</th>\n",
       "      <td>Особо важное задание</td>\n",
       "      <td>111013716</td>\n",
       "      <td>2016-09-13T12:00:00.000Z</td>\n",
       "      <td>Художественный</td>\n",
       "      <td>Киностудия \"Мосфильм\"</td>\n",
       "      <td>СССР</td>\n",
       "      <td>Е.Матвеев</td>\n",
       "      <td>NaN</td>\n",
       "      <td>«6+» - для детей старше 6 лет</td>\n",
       "      <td>NaN</td>\n",
       "      <td>NaN</td>\n",
       "      <td>NaN</td>\n",
       "      <td>NaN</td>\n",
       "      <td>6.6</td>\n",
       "      <td>драма,военный</td>\n",
       "    </tr>\n",
       "    <tr>\n",
       "      <th>2</th>\n",
       "      <td>Особо опасен</td>\n",
       "      <td>221038416</td>\n",
       "      <td>2016-10-10T12:00:00.000Z</td>\n",
       "      <td>Художественный</td>\n",
       "      <td>Юниверсал Пикчерз, Кикстарт Продакшнз, Марк Пл...</td>\n",
       "      <td>США</td>\n",
       "      <td>Тимур Бекмамбетов</td>\n",
       "      <td>Джим Лемли, Джейсон Нетер, Марк Е.Платт, Яйн Смит</td>\n",
       "      <td>«18+» - запрещено для детей</td>\n",
       "      <td>NaN</td>\n",
       "      <td>NaN</td>\n",
       "      <td>NaN</td>\n",
       "      <td>NaN</td>\n",
       "      <td>6.8</td>\n",
       "      <td>фантастика,боевик,триллер</td>\n",
       "    </tr>\n",
       "    <tr>\n",
       "      <th>3</th>\n",
       "      <td>Особо опасен</td>\n",
       "      <td>221026916</td>\n",
       "      <td>2016-06-10T12:00:00.000Z</td>\n",
       "      <td>Художественный</td>\n",
       "      <td>Юниверсал Пикчерз, Кикстарт Продакшнз, Марк Пл...</td>\n",
       "      <td>США</td>\n",
       "      <td>Тимур Бекмамбетов</td>\n",
       "      <td>Джим Лемли, Джейсон Нетер, Марк Е.Платт, Яйн Смит</td>\n",
       "      <td>«18+» - запрещено для детей</td>\n",
       "      <td>NaN</td>\n",
       "      <td>NaN</td>\n",
       "      <td>NaN</td>\n",
       "      <td>NaN</td>\n",
       "      <td>6.8</td>\n",
       "      <td>фантастика,боевик,триллер</td>\n",
       "    </tr>\n",
       "    <tr>\n",
       "      <th>4</th>\n",
       "      <td>Особо опасен</td>\n",
       "      <td>221030815</td>\n",
       "      <td>2015-07-29T12:00:00.000Z</td>\n",
       "      <td>Художественный</td>\n",
       "      <td>Юниверсал Пикчерз, Кикстарт Продакшнз, Марк Пл...</td>\n",
       "      <td>США</td>\n",
       "      <td>Тимур Бекмамбетов</td>\n",
       "      <td>Джим Лемли, Джейсон Нетер, Марк Е.Платт, Яйн Смит</td>\n",
       "      <td>«18+» - запрещено для детей</td>\n",
       "      <td>NaN</td>\n",
       "      <td>NaN</td>\n",
       "      <td>NaN</td>\n",
       "      <td>NaN</td>\n",
       "      <td>6.8</td>\n",
       "      <td>фантастика,боевик,триллер</td>\n",
       "    </tr>\n",
       "    <tr>\n",
       "      <th>5</th>\n",
       "      <td>Остановился поезд</td>\n",
       "      <td>111013816</td>\n",
       "      <td>2016-09-13T12:00:00.000Z</td>\n",
       "      <td>Художественный</td>\n",
       "      <td>Киностудия \"Мосфильм\"</td>\n",
       "      <td>СССР</td>\n",
       "      <td>В.Абдрашитов</td>\n",
       "      <td>NaN</td>\n",
       "      <td>«6+» - для детей старше 6 лет</td>\n",
       "      <td>NaN</td>\n",
       "      <td>NaN</td>\n",
       "      <td>NaN</td>\n",
       "      <td>NaN</td>\n",
       "      <td>7.7</td>\n",
       "      <td>драма</td>\n",
       "    </tr>\n",
       "    <tr>\n",
       "      <th>6</th>\n",
       "      <td>Любовь и голуби</td>\n",
       "      <td>111007013</td>\n",
       "      <td>2013-10-18T12:00:00.000Z</td>\n",
       "      <td>Художественный</td>\n",
       "      <td>Киностудия \"Мосфильм\"</td>\n",
       "      <td>СССР</td>\n",
       "      <td>В.Меньшов</td>\n",
       "      <td>NaN</td>\n",
       "      <td>«12+» - для детей старше 12 лет</td>\n",
       "      <td>NaN</td>\n",
       "      <td>NaN</td>\n",
       "      <td>NaN</td>\n",
       "      <td>NaN</td>\n",
       "      <td>8.3</td>\n",
       "      <td>мелодрама,комедия</td>\n",
       "    </tr>\n",
       "    <tr>\n",
       "      <th>7</th>\n",
       "      <td>Любовь и сигареты</td>\n",
       "      <td>221074614</td>\n",
       "      <td>2014-12-29T12:00:00.000Z</td>\n",
       "      <td>Художественный</td>\n",
       "      <td>Юнайтед Артистс, Грин Стрит Филмз, Айкон Интер...</td>\n",
       "      <td>США</td>\n",
       "      <td>Джон Туртурро</td>\n",
       "      <td>Джон Пенотти, Джон Туртурро</td>\n",
       "      <td>«18+» - запрещено для детей</td>\n",
       "      <td>NaN</td>\n",
       "      <td>NaN</td>\n",
       "      <td>NaN</td>\n",
       "      <td>NaN</td>\n",
       "      <td>6.6</td>\n",
       "      <td>мюзикл,мелодрама,комедия</td>\n",
       "    </tr>\n",
       "    <tr>\n",
       "      <th>8</th>\n",
       "      <td>Отпетые мошенники.</td>\n",
       "      <td>121011416</td>\n",
       "      <td>2016-05-05T12:00:00.000Z</td>\n",
       "      <td>Художественный</td>\n",
       "      <td>Пульсар Продюксьон, ТФ1 Фильм</td>\n",
       "      <td>Франция</td>\n",
       "      <td>Эрик Беснард</td>\n",
       "      <td>Патрис Леду</td>\n",
       "      <td>«18+» - запрещено для детей</td>\n",
       "      <td>NaN</td>\n",
       "      <td>NaN</td>\n",
       "      <td>NaN</td>\n",
       "      <td>NaN</td>\n",
       "      <td>8.0</td>\n",
       "      <td>комедия,криминал</td>\n",
       "    </tr>\n",
       "    <tr>\n",
       "      <th>9</th>\n",
       "      <td>Отпуск за свой счет</td>\n",
       "      <td>111019114</td>\n",
       "      <td>2014-12-01T12:00:00.000Z</td>\n",
       "      <td>Художественный</td>\n",
       "      <td>Киностудия \"Мосфильм\", Телевидение ВНР</td>\n",
       "      <td>СССР, Венгрия</td>\n",
       "      <td>В.Титов</td>\n",
       "      <td>NaN</td>\n",
       "      <td>«12+» - для детей старше 12 лет</td>\n",
       "      <td>NaN</td>\n",
       "      <td>NaN</td>\n",
       "      <td>NaN</td>\n",
       "      <td>NaN</td>\n",
       "      <td>7.8</td>\n",
       "      <td>мелодрама,комедия</td>\n",
       "    </tr>\n",
       "  </tbody>\n",
       "</table>\n",
       "</div>"
      ],
      "text/plain": [
       "                  title   puNumber           show_start_date            type  \\\n",
       "0      Открытый простор  221048915  2015-11-27T12:00:00.000Z  Художественный   \n",
       "1  Особо важное задание  111013716  2016-09-13T12:00:00.000Z  Художественный   \n",
       "2          Особо опасен  221038416  2016-10-10T12:00:00.000Z  Художественный   \n",
       "3          Особо опасен  221026916  2016-06-10T12:00:00.000Z  Художественный   \n",
       "4          Особо опасен  221030815  2015-07-29T12:00:00.000Z  Художественный   \n",
       "5     Остановился поезд  111013816  2016-09-13T12:00:00.000Z  Художественный   \n",
       "6       Любовь и голуби  111007013  2013-10-18T12:00:00.000Z  Художественный   \n",
       "7     Любовь и сигареты  221074614  2014-12-29T12:00:00.000Z  Художественный   \n",
       "8    Отпетые мошенники.  121011416  2016-05-05T12:00:00.000Z  Художественный   \n",
       "9   Отпуск за свой счет  111019114  2014-12-01T12:00:00.000Z  Художественный   \n",
       "\n",
       "                                         film_studio production_country  \\\n",
       "0  Тачстоун Пикчерз, Кобальт Пикчерз, Бикон Пикче...                США   \n",
       "1                              Киностудия \"Мосфильм\"               СССР   \n",
       "2  Юниверсал Пикчерз, Кикстарт Продакшнз, Марк Пл...                США   \n",
       "3  Юниверсал Пикчерз, Кикстарт Продакшнз, Марк Пл...                США   \n",
       "4  Юниверсал Пикчерз, Кикстарт Продакшнз, Марк Пл...                США   \n",
       "5                              Киностудия \"Мосфильм\"               СССР   \n",
       "6                              Киностудия \"Мосфильм\"               СССР   \n",
       "7  Юнайтед Артистс, Грин Стрит Филмз, Айкон Интер...                США   \n",
       "8                     Пульсар Продюксьон, ТФ1 Фильм             Франция   \n",
       "9             Киностудия \"Мосфильм\", Телевидение ВНР      СССР, Венгрия   \n",
       "\n",
       "            director                                           producer  \\\n",
       "0      Кевин Костнер          Дэвид Валдес, Кевин Костнер, Джейк Эбертс   \n",
       "1          Е.Матвеев                                                NaN   \n",
       "2  Тимур Бекмамбетов  Джим Лемли, Джейсон Нетер, Марк Е.Платт, Яйн Смит   \n",
       "3  Тимур Бекмамбетов  Джим Лемли, Джейсон Нетер, Марк Е.Платт, Яйн Смит   \n",
       "4  Тимур Бекмамбетов  Джим Лемли, Джейсон Нетер, Марк Е.Платт, Яйн Смит   \n",
       "5       В.Абдрашитов                                                NaN   \n",
       "6          В.Меньшов                                                NaN   \n",
       "7      Джон Туртурро                        Джон Пенотти, Джон Туртурро   \n",
       "8       Эрик Беснард                                        Патрис Леду   \n",
       "9            В.Титов                                                NaN   \n",
       "\n",
       "                   age_restriction  refundable_support  nonrefundable_support  \\\n",
       "0      «18+» - запрещено для детей                 NaN                    NaN   \n",
       "1    «6+» - для детей старше 6 лет                 NaN                    NaN   \n",
       "2      «18+» - запрещено для детей                 NaN                    NaN   \n",
       "3      «18+» - запрещено для детей                 NaN                    NaN   \n",
       "4      «18+» - запрещено для детей                 NaN                    NaN   \n",
       "5    «6+» - для детей старше 6 лет                 NaN                    NaN   \n",
       "6  «12+» - для детей старше 12 лет                 NaN                    NaN   \n",
       "7      «18+» - запрещено для детей                 NaN                    NaN   \n",
       "8      «18+» - запрещено для детей                 NaN                    NaN   \n",
       "9  «12+» - для детей старше 12 лет                 NaN                    NaN   \n",
       "\n",
       "   budget financing_source ratings                     genres  \n",
       "0     NaN              NaN     7.2     боевик,драма,мелодрама  \n",
       "1     NaN              NaN     6.6              драма,военный  \n",
       "2     NaN              NaN     6.8  фантастика,боевик,триллер  \n",
       "3     NaN              NaN     6.8  фантастика,боевик,триллер  \n",
       "4     NaN              NaN     6.8  фантастика,боевик,триллер  \n",
       "5     NaN              NaN     7.7                      драма  \n",
       "6     NaN              NaN     8.3          мелодрама,комедия  \n",
       "7     NaN              NaN     6.6   мюзикл,мелодрама,комедия  \n",
       "8     NaN              NaN     8.0           комедия,криминал  \n",
       "9     NaN              NaN     7.8          мелодрама,комедия  "
      ]
     },
     "execution_count": 4,
     "metadata": {},
     "output_type": "execute_result"
    }
   ],
   "source": [
    "movies.head(10)"
   ]
  },
  {
   "cell_type": "markdown",
   "metadata": {},
   "source": [
    "В датафрейме movies видны дубликаты фильмов."
   ]
  },
  {
   "cell_type": "code",
   "execution_count": 5,
   "metadata": {},
   "outputs": [],
   "source": [
    "#Загрузим и исследуем датасет mkrf_shows.csv\n",
    "try:\n",
    "    st2 = \"C:/Users/Suntory1/Downloads/mkrf_shows.csv\"\n",
    "    shows = pd.read_csv(st2.strip(\"‪u202a\"))\n",
    "except:\n",
    "    shows = pd.read_csv('/datasets/mkrf_shows.csv')"
   ]
  },
  {
   "cell_type": "code",
   "execution_count": 6,
   "metadata": {
    "scrolled": true
   },
   "outputs": [
    {
     "name": "stdout",
     "output_type": "stream",
     "text": [
      "<class 'pandas.core.frame.DataFrame'>\n",
      "RangeIndex: 3158 entries, 0 to 3157\n",
      "Data columns (total 2 columns):\n",
      " #   Column      Non-Null Count  Dtype  \n",
      "---  ------      --------------  -----  \n",
      " 0   puNumber    3158 non-null   int64  \n",
      " 1   box_office  3158 non-null   float64\n",
      "dtypes: float64(1), int64(1)\n",
      "memory usage: 49.5 KB\n"
     ]
    }
   ],
   "source": [
    "shows.info()"
   ]
  },
  {
   "cell_type": "markdown",
   "metadata": {},
   "source": [
    "Видно, что так же, как и в предыдущем датафрейме, имеется столбец puNumber, но с иным типом данных. Поэтому пока объединение таблиц невозможно. Для этого надо сначала унифицировать тип данных столбцов, по которым пройдёт объединение."
   ]
  },
  {
   "cell_type": "code",
   "execution_count": 7,
   "metadata": {},
   "outputs": [
    {
     "data": {
      "text/plain": [
       "1797           нет\n",
       "5249     231001111\n",
       "1011     231001012\n",
       "3992     226019110\n",
       "4355     226017410\n",
       "           ...    \n",
       "1128     111000113\n",
       "729      111000112\n",
       "4768     111000111\n",
       "3962     111000110\n",
       "804      111004112\n",
       "Name: puNumber, Length: 7486, dtype: object"
      ]
     },
     "execution_count": 7,
     "metadata": {},
     "output_type": "execute_result"
    }
   ],
   "source": [
    "#Проверим номера прокатных удостоверений в столбце movies puNumber.\n",
    "movies['puNumber'].sort_values(ascending=False)"
   ]
  },
  {
   "cell_type": "markdown",
   "metadata": {},
   "source": [
    "В данном столбце встречается значение \"нет\", это необходимо учесть при смене типа данных столбца."
   ]
  },
  {
   "cell_type": "code",
   "execution_count": 8,
   "metadata": {},
   "outputs": [],
   "source": [
    "#Переведём тип данных в числовой формат, при этом заменим значения \"нет\" на NaN.\n",
    "movies['puNumber'] = pd.to_numeric(movies['puNumber'], errors='coerce')"
   ]
  },
  {
   "cell_type": "code",
   "execution_count": 9,
   "metadata": {},
   "outputs": [
    {
     "data": {
      "text/plain": [
       "dtype('float64')"
      ]
     },
     "execution_count": 9,
     "metadata": {},
     "output_type": "execute_result"
    }
   ],
   "source": [
    "#Проверим изменение типа данных в столбце.\n",
    "movies['puNumber'].dtypes\n",
    "#Тип данных изменён."
   ]
  },
  {
   "cell_type": "code",
   "execution_count": 10,
   "metadata": {},
   "outputs": [],
   "source": [
    "#Объединим два датасета.\n",
    "movies = movies.merge(shows, on='puNumber', how='left')"
   ]
  },
  {
   "cell_type": "code",
   "execution_count": 11,
   "metadata": {},
   "outputs": [
    {
     "data": {
      "text/plain": [
       "Index(['title', 'puNumber', 'show_start_date', 'type', 'film_studio',\n",
       "       'production_country', 'director', 'producer', 'age_restriction',\n",
       "       'refundable_support', 'nonrefundable_support', 'budget',\n",
       "       'financing_source', 'ratings', 'genres', 'box_office'],\n",
       "      dtype='object')"
      ]
     },
     "execution_count": 11,
     "metadata": {},
     "output_type": "execute_result"
    }
   ],
   "source": [
    "#Проверим наличие присоединённого датасета.\n",
    "movies.columns"
   ]
  },
  {
   "cell_type": "markdown",
   "metadata": {},
   "source": [
    "К датасету movies успешно добавлен столбец box_office. Исходные столбцы при этом сохранены."
   ]
  },
  {
   "cell_type": "code",
   "execution_count": 12,
   "metadata": {},
   "outputs": [],
   "source": [
    "#Напишем название столбца puNumber в snake register, чтобы унифицировать со стилем написания других столбцов.\n",
    "movies.rename(columns={'puNumber':'pu_number'}, inplace=True)"
   ]
  },
  {
   "cell_type": "code",
   "execution_count": 13,
   "metadata": {
    "scrolled": true
   },
   "outputs": [
    {
     "data": {
      "text/plain": [
       "Index(['title', 'pu_number', 'show_start_date', 'type', 'film_studio',\n",
       "       'production_country', 'director', 'producer', 'age_restriction',\n",
       "       'refundable_support', 'nonrefundable_support', 'budget',\n",
       "       'financing_source', 'ratings', 'genres', 'box_office'],\n",
       "      dtype='object')"
      ]
     },
     "execution_count": 13,
     "metadata": {},
     "output_type": "execute_result"
    }
   ],
   "source": [
    "#Проверим переименование столбца.\n",
    "movies.columns\n",
    "#Столбец переименован."
   ]
  },
  {
   "cell_type": "code",
   "execution_count": 14,
   "metadata": {},
   "outputs": [
    {
     "data": {
      "text/plain": [
       "7486"
      ]
     },
     "execution_count": 14,
     "metadata": {},
     "output_type": "execute_result"
    }
   ],
   "source": [
    "#Также проверим количество строк.\n",
    "movies.shape[0]"
   ]
  },
  {
   "cell_type": "markdown",
   "metadata": {},
   "source": [
    "Количество строк осталось неизменным."
   ]
  },
  {
   "cell_type": "markdown",
   "metadata": {},
   "source": [
    "**Формирование и первичное исследование датасета:**\n",
    "\n",
    "Датасеты mkrf_movies.csv и mkrf_shows.csv были соединены в единый датасет movies, при этом была сохранена вся информация из левого датасета.\n",
    "Названия столбцов были приведены к единому регистру.\n",
    "Были обнаружены следующие ошибки: неверный тип данных у некоторых столбцов, наличие дубликатов."
   ]
  },
  {
   "cell_type": "markdown",
   "metadata": {
    "id": "KLDGpPG0gFyM"
   },
   "source": [
    "### Шаг 2. Предобработка данных"
   ]
  },
  {
   "cell_type": "markdown",
   "metadata": {
    "id": "ssWwKXsxgFyO"
   },
   "source": [
    "#### Шаг 2.1. Проверьте типы данных\n",
    "\n",
    "- Проверьте типы данных в датафрейме и преобразуйте их там, где это необходимо."
   ]
  },
  {
   "cell_type": "code",
   "execution_count": 15,
   "metadata": {
    "id": "kVGSplJOgFyO"
   },
   "outputs": [
    {
     "data": {
      "text/plain": [
       "array(['7.2', '6.6', '6.8', '7.7', '8.3', '8.0', '7.8', '8.1', '7.1',\n",
       "       '6.0', '7.4', '5.8', '8.7', '6.3', '6.9', '5.0', '4.3', '7.3',\n",
       "       '7.0', '6.4', nan, '8.2', '7.5', '6.7', '7.9', '5.9', '6.2', '5.6',\n",
       "       '6.5', '2.4', '7.6', '6.1', '8.6', '8.5', '8.8', '5.5', '5.1',\n",
       "       '5.7', '5.4', '99%', '4.4', '4.5', '5.3', '4.1', '8.4', '2.6',\n",
       "       '3.8', '4.6', '4.8', '4.0', '3.0', '1.6', '4.2', '5.2', '4.7',\n",
       "       '4.9', '3.9', '2.7', '3.3', '2.9', '28%', '3.7', '1.4', '3.1',\n",
       "       '97%', '3.5', '3.2', '2.8', '1.5', '2.1', '2.5', '9.2', '3.4',\n",
       "       '1.1', '3.6', '83%', '64%', '91%', '94%', '62%', '79%', '90%',\n",
       "       '19%', '88%', '1.0', '89%', '1.3', '1.9', '1.8', '1.2', '1.7',\n",
       "       '9.0', '98%', '8.9', '9.1'], dtype=object)"
      ]
     },
     "execution_count": 15,
     "metadata": {},
     "output_type": "execute_result"
    }
   ],
   "source": [
    "#Проверим значения в строковом столбце ratings.\n",
    "movies['ratings'].unique()"
   ]
  },
  {
   "cell_type": "markdown",
   "metadata": {},
   "source": [
    "В основном присутствуют вещественные числа, но также есть указания процентов. Их необходимо заменить на вещественные числа, чтобы не потерять при дальнейших манипуляциях."
   ]
  },
  {
   "cell_type": "code",
   "execution_count": 16,
   "metadata": {},
   "outputs": [],
   "source": [
    "#Заменим проценты на вещественные числа.\n",
    "movies = movies.replace({'ratings':{'99%':'9.9', '28%':'2.8', '97%':'9.7','83%':'8.3', '64%':'6.4', '91%':'9.1', '94%':'9.4',  \n",
    "                                   '62%':'6.2', '79%':'7.9', '90%':'9.0', '19%':'1.9', '88%':'8.8', '89%':'8.9', '98%':'9.8'}})"
   ]
  },
  {
   "cell_type": "code",
   "execution_count": 17,
   "metadata": {},
   "outputs": [
    {
     "data": {
      "text/plain": [
       "array(['7.2', '6.6', '6.8', '7.7', '8.3', '8.0', '7.8', '8.1', '7.1',\n",
       "       '6.0', '7.4', '5.8', '8.7', '6.3', '6.9', '5.0', '4.3', '7.3',\n",
       "       '7.0', '6.4', nan, '8.2', '7.5', '6.7', '7.9', '5.9', '6.2', '5.6',\n",
       "       '6.5', '2.4', '7.6', '6.1', '8.6', '8.5', '8.8', '5.5', '5.1',\n",
       "       '5.7', '5.4', '9.9', '4.4', '4.5', '5.3', '4.1', '8.4', '2.6',\n",
       "       '3.8', '4.6', '4.8', '4.0', '3.0', '1.6', '4.2', '5.2', '4.7',\n",
       "       '4.9', '3.9', '2.7', '3.3', '2.9', '2.8', '3.7', '1.4', '3.1',\n",
       "       '9.7', '3.5', '3.2', '1.5', '2.1', '2.5', '9.2', '3.4', '1.1',\n",
       "       '3.6', '9.1', '9.4', '9.0', '1.9', '1.0', '8.9', '1.3', '1.8',\n",
       "       '1.2', '1.7', '9.8'], dtype=object)"
      ]
     },
     "execution_count": 17,
     "metadata": {},
     "output_type": "execute_result"
    }
   ],
   "source": [
    "#Проверим произведенную замену.\n",
    "movies['ratings'].unique()\n",
    "#Замена прошла успешно."
   ]
  },
  {
   "cell_type": "code",
   "execution_count": 18,
   "metadata": {},
   "outputs": [],
   "source": [
    "#Переведём тип данных в числовой формат, при этом строковые значения \"nan\" будут заменены на числовые NaN.\n",
    "movies['ratings'] = pd.to_numeric(movies['ratings'], errors='coerce')"
   ]
  },
  {
   "cell_type": "code",
   "execution_count": 19,
   "metadata": {},
   "outputs": [
    {
     "data": {
      "text/plain": [
       "dtype('float64')"
      ]
     },
     "execution_count": 19,
     "metadata": {},
     "output_type": "execute_result"
    }
   ],
   "source": [
    "#Проверим изменение типа данных в столбце ratings.\n",
    "movies['ratings'].dtypes\n",
    "#Тип данных изменён."
   ]
  },
  {
   "cell_type": "code",
   "execution_count": 20,
   "metadata": {},
   "outputs": [],
   "source": [
    "#Поменяем тип данных в строковом столбце show_start_date.\n",
    "movies['show_start_date'] = pd.to_datetime(movies['show_start_date'], format='%Y-%m-%d')"
   ]
  },
  {
   "cell_type": "code",
   "execution_count": 21,
   "metadata": {},
   "outputs": [
    {
     "data": {
      "text/plain": [
       "datetime64[ns, UTC]"
      ]
     },
     "execution_count": 21,
     "metadata": {},
     "output_type": "execute_result"
    }
   ],
   "source": [
    "#Проверим изменение типа данных в столбце show_start_date.\n",
    "movies['show_start_date'].dtypes\n",
    "#Тип данных изменён."
   ]
  },
  {
   "cell_type": "markdown",
   "metadata": {},
   "source": [
    "**Типы данных:**\n",
    "Были исправлены типы данных в столбцах ratings и show_start_date со строкового на числовой и datetime."
   ]
  },
  {
   "cell_type": "markdown",
   "metadata": {
    "id": "i0MOLbF-gFyP"
   },
   "source": [
    "#### Шаг 2.2. Изучите пропуски в датафрейме\n",
    "\n",
    "- Объясните, почему заполнили пропуски определённым образом или почему не стали этого делать."
   ]
  },
  {
   "cell_type": "code",
   "execution_count": 22,
   "metadata": {
    "id": "8MJD_lkngFyP"
   },
   "outputs": [
    {
     "data": {
      "text/plain": [
       "title                       0\n",
       "show_start_date             0\n",
       "type                        0\n",
       "age_restriction             0\n",
       "pu_number                   1\n",
       "production_country          2\n",
       "director                    9\n",
       "film_studio                18\n",
       "producer                  568\n",
       "ratings                   967\n",
       "genres                    976\n",
       "box_office               4328\n",
       "refundable_support       7154\n",
       "nonrefundable_support    7154\n",
       "budget                   7154\n",
       "financing_source         7154\n",
       "dtype: int64"
      ]
     },
     "execution_count": 22,
     "metadata": {},
     "output_type": "execute_result"
    }
   ],
   "source": [
    "#Проверяем наличие пропущенных значений в столбцах.\n",
    "movies.isnull().sum().sort_values() "
   ]
  },
  {
   "cell_type": "markdown",
   "metadata": {},
   "source": [
    "В 12 из 16 столбцов встречаются пропуски.  \n",
    "В столбцах budget, refundable_support, nonrefundable_support и financing_source наибольшее и при этом одинаковое количество пропусков. Вероятно, это связано с тем, что эти столбцы отражают взаимосвязанную информацию: budget указывает на общий бюджет фильма, а столбцы refundable_support и nonrefundable_support - на части его госфинансирования. Вероятно NaN в refundable_support и nonrefundable_support показывает отсутствие госфинансирования и, следовательно, может быть заменён на 0.  \n",
    "В столбце financing_source NaN, вероятно, показывает отсутствие источника госфинансирования и, следовательно, может быть замен на слово \"отсутствует\". Эти столбцы требуют дальнейшего изучения."
   ]
  },
  {
   "cell_type": "code",
   "execution_count": 23,
   "metadata": {
    "scrolled": true
   },
   "outputs": [
    {
     "data": {
      "text/plain": [
       "title                     0.000000\n",
       "show_start_date           0.000000\n",
       "type                      0.000000\n",
       "age_restriction           0.000000\n",
       "pu_number                 0.013358\n",
       "production_country        0.026717\n",
       "director                  0.120224\n",
       "film_studio               0.240449\n",
       "producer                  7.587497\n",
       "ratings                  12.917446\n",
       "genres                   13.037670\n",
       "box_office               57.814587\n",
       "refundable_support       95.565055\n",
       "nonrefundable_support    95.565055\n",
       "budget                   95.565055\n",
       "financing_source         95.565055\n",
       "dtype: float64"
      ]
     },
     "execution_count": 23,
     "metadata": {},
     "output_type": "execute_result"
    }
   ],
   "source": [
    "#Проверим процент пропусков от всех значений в датафрейме.\n",
    "movies.isnull().sum().sort_values()/movies.shape[0] * 100 "
   ]
  },
  {
   "cell_type": "markdown",
   "metadata": {},
   "source": [
    "В столбцах budget, refundable_support, nonrefundable_support и financing_source пропуски составляют 95% всех значений. \n",
    "Такое количество пропусков нельзя удалять, поскольку это сделает анализ данных крайне недостоверным.\n",
    "Пропуски в этих столбцах требуют дальнейшего изучения и, возможно, замены.\n",
    "Пропуски в столбцах producer, ratings, genres и особенно в столбце box_office составляют солидную часть значений, \n",
    "но не могут быть заменены, поскольку, по-видимому, отражают объективную нехватку информации по этим критериям.\n",
    "В столбцах film_studio, director, production_country, pu_number пропуски составляют менее 1% от всех значений,\n",
    "следовательно ими можно пренебречь."
   ]
  },
  {
   "cell_type": "code",
   "execution_count": 24,
   "metadata": {},
   "outputs": [],
   "source": [
    "#Изучим столбец budget.\n",
    "bd_movies = movies[movies['budget']>=0]"
   ]
  },
  {
   "cell_type": "code",
   "execution_count": 25,
   "metadata": {},
   "outputs": [
    {
     "name": "stdout",
     "output_type": "stream",
     "text": [
      "<class 'pandas.core.frame.DataFrame'>\n",
      "Int64Index: 332 entries, 1281 to 7478\n",
      "Data columns (total 16 columns):\n",
      " #   Column                 Non-Null Count  Dtype              \n",
      "---  ------                 --------------  -----              \n",
      " 0   title                  332 non-null    object             \n",
      " 1   pu_number              332 non-null    float64            \n",
      " 2   show_start_date        332 non-null    datetime64[ns, UTC]\n",
      " 3   type                   332 non-null    object             \n",
      " 4   film_studio            332 non-null    object             \n",
      " 5   production_country     332 non-null    object             \n",
      " 6   director               332 non-null    object             \n",
      " 7   producer               330 non-null    object             \n",
      " 8   age_restriction        332 non-null    object             \n",
      " 9   refundable_support     332 non-null    float64            \n",
      " 10  nonrefundable_support  332 non-null    float64            \n",
      " 11  budget                 332 non-null    float64            \n",
      " 12  financing_source       332 non-null    object             \n",
      " 13  ratings                316 non-null    float64            \n",
      " 14  genres                 316 non-null    object             \n",
      " 15  box_office             318 non-null    float64            \n",
      "dtypes: datetime64[ns, UTC](1), float64(6), object(9)\n",
      "memory usage: 44.1+ KB\n"
     ]
    }
   ],
   "source": [
    "bd_movies.info()"
   ]
  },
  {
   "cell_type": "markdown",
   "metadata": {},
   "source": [
    "Только у 332 кинолент указан общий бюджет."
   ]
  },
  {
   "cell_type": "code",
   "execution_count": 26,
   "metadata": {
    "scrolled": false
   },
   "outputs": [
    {
     "data": {
      "text/plain": [
       "Россия                                        316\n",
       "Россия, Италия                                  2\n",
       "Россия, Германия                                2\n",
       "Россия, Франция, Латвия                         1\n",
       "Россия-Украина                                  1\n",
       "Россия, Украина, Польша                         1\n",
       "Россия, Германия, Великобритания                1\n",
       "Россия, Армения                                 1\n",
       "Россия-Словакия-Чехия                           1\n",
       "Россия, Латвия, Чешская Республика              1\n",
       "Россия, Германия, Казахстан, Польша, Китай      1\n",
       "Россия, Сербия                                  1\n",
       "Россия - Грузия                                 1\n",
       "Россия-Китай                                    1\n",
       "Россия, Бельгия, Финляндия                      1\n",
       "Name: production_country, dtype: int64"
      ]
     },
     "execution_count": 26,
     "metadata": {},
     "output_type": "execute_result"
    }
   ],
   "source": [
    "bd_movies['production_country'].value_counts()"
   ]
  },
  {
   "cell_type": "markdown",
   "metadata": {},
   "source": [
    "Все киноленты, для которых указан бюджет, были либо сняты в РФ (316 фильмов), либо при её участии (16 фильмов)."
   ]
  },
  {
   "cell_type": "code",
   "execution_count": 109,
   "metadata": {},
   "outputs": [
    {
     "data": {
      "text/plain": [
       "1505"
      ]
     },
     "execution_count": 109,
     "metadata": {},
     "output_type": "execute_result"
    }
   ],
   "source": [
    "#Проверим есть ли российские фильмы, для которых не указан бюджет.\n",
    "movies[(movies['budget'].isna())&(movies['production_country']=='Россия')].shape[0]\n",
    "#Да, такие фильмы есть."
   ]
  },
  {
   "cell_type": "code",
   "execution_count": 28,
   "metadata": {},
   "outputs": [],
   "source": [
    "#Проверим указаны ли бюджеты заграничных кинокартин.\n",
    "non_rus_movies = movies[(movies['budget']>=0)&(movies['production_country']!='Россия')]"
   ]
  },
  {
   "cell_type": "code",
   "execution_count": 29,
   "metadata": {
    "scrolled": true
   },
   "outputs": [
    {
     "data": {
      "text/plain": [
       "['Россия, Франция, Латвия',\n",
       " 'Россия-Украина',\n",
       " 'Россия, Италия',\n",
       " 'Россия, Украина, Польша',\n",
       " 'Россия, Германия, Великобритания',\n",
       " 'Россия, Германия',\n",
       " 'Россия, Армения',\n",
       " 'Россия-Словакия-Чехия',\n",
       " 'Россия, Латвия, Чешская Республика',\n",
       " 'Россия, Германия, Казахстан, Польша, Китай',\n",
       " 'Россия, Сербия',\n",
       " 'Россия - Грузия',\n",
       " 'Россия-Китай',\n",
       " 'Россия, Бельгия, Финляндия']"
      ]
     },
     "execution_count": 29,
     "metadata": {},
     "output_type": "execute_result"
    }
   ],
   "source": [
    "list(non_rus_movies['production_country'].unique())"
   ]
  },
  {
   "cell_type": "markdown",
   "metadata": {},
   "source": [
    "Вывод: бюджеты указаны только у части фильмов, отснятых в современной России или при её участии.\n",
    "Следовательно, NaN, указанные в столбце budget, обозначают отсутствие информации о бюджете данного фильма и не могут быть заменены на 0."
   ]
  },
  {
   "cell_type": "code",
   "execution_count": 30,
   "metadata": {},
   "outputs": [],
   "source": [
    "#Исследуем столбец с возвратной частью господдержки.\n",
    "refund = movies[movies['refundable_support']>=0]"
   ]
  },
  {
   "cell_type": "code",
   "execution_count": 31,
   "metadata": {},
   "outputs": [
    {
     "data": {
      "text/plain": [
       "332"
      ]
     },
     "execution_count": 31,
     "metadata": {},
     "output_type": "execute_result"
    }
   ],
   "source": [
    "refund.shape[0]"
   ]
  },
  {
   "cell_type": "markdown",
   "metadata": {},
   "source": [
    "Возвратная часть господдержки так же, как и бюджет, указана только для 332 кинокартин. \n",
    "Проверим те же ли это киноленты, для которых указан бюджет."
   ]
  },
  {
   "cell_type": "code",
   "execution_count": 32,
   "metadata": {},
   "outputs": [],
   "source": [
    "refund_budget = movies[(movies['refundable_support']>=0)&(movies['budget']>=0)]"
   ]
  },
  {
   "cell_type": "code",
   "execution_count": 33,
   "metadata": {},
   "outputs": [
    {
     "data": {
      "text/plain": [
       "332"
      ]
     },
     "execution_count": 33,
     "metadata": {},
     "output_type": "execute_result"
    }
   ],
   "source": [
    "refund_budget.shape[0]"
   ]
  },
  {
   "cell_type": "markdown",
   "metadata": {},
   "source": [
    "Число кинокартин совпадает."
   ]
  },
  {
   "cell_type": "code",
   "execution_count": 34,
   "metadata": {},
   "outputs": [],
   "source": [
    "#Проверим есть ли кинокартины, для которых указана возвратная часть господдержки, но не бюджет.\n",
    "refund_offbudget = movies[(movies['refundable_support']>=0)&(movies['budget'].isna())]"
   ]
  },
  {
   "cell_type": "code",
   "execution_count": 35,
   "metadata": {},
   "outputs": [
    {
     "data": {
      "text/plain": [
       "0"
      ]
     },
     "execution_count": 35,
     "metadata": {},
     "output_type": "execute_result"
    }
   ],
   "source": [
    "refund_offbudget.shape[0]"
   ]
  },
  {
   "cell_type": "markdown",
   "metadata": {},
   "source": [
    "Таких картин нет. Таким образом, столбцы budget и refundable_support заполнены только для части фильмов, снятых в современной России. \n",
    "Пропуски в столбце refundable_support, могут быть заменены на 0, поскольку обозначают отсутствие господдержки, оказываемой госорганами. Можно предположить, что аналогичным образом обстоят дела со столбцом nonrefundable_support."
   ]
  },
  {
   "cell_type": "code",
   "execution_count": 36,
   "metadata": {},
   "outputs": [],
   "source": [
    "#Проверим связаны ли столбцы budget и nonrefundable_support.\n",
    "nonrefund_budget = movies[(movies['nonrefundable_support']>=0)&(movies['budget']>=0)]"
   ]
  },
  {
   "cell_type": "code",
   "execution_count": 37,
   "metadata": {},
   "outputs": [
    {
     "data": {
      "text/plain": [
       "332"
      ]
     },
     "execution_count": 37,
     "metadata": {},
     "output_type": "execute_result"
    }
   ],
   "source": [
    "nonrefund_budget.shape[0]"
   ]
  },
  {
   "cell_type": "code",
   "execution_count": 38,
   "metadata": {},
   "outputs": [],
   "source": [
    "#Проверим есть ли кинокартины, для которых указана невозвратная часть господдержки, но пропущен бюджет.\n",
    "nonrefund_offbudget = movies[(movies['nonrefundable_support']>=0)&(movies['budget'].isna())]"
   ]
  },
  {
   "cell_type": "code",
   "execution_count": 39,
   "metadata": {},
   "outputs": [
    {
     "data": {
      "text/plain": [
       "0"
      ]
     },
     "execution_count": 39,
     "metadata": {},
     "output_type": "execute_result"
    }
   ],
   "source": [
    "nonrefund_offbudget.shape[0] "
   ]
  },
  {
   "cell_type": "markdown",
   "metadata": {},
   "source": [
    "Такие картины не найдены. \n",
    "Следовательно столбцы budget, refundable_support и nonrefundable_support заполнены только для некоторых фильмов, произведённых в современной РФ. Таким образом, пропуски, указанные в столбце nonrefundable_support для иных кинофильмов, обозначают отсутствие господдержки и могут быть заменены на 0."
   ]
  },
  {
   "cell_type": "code",
   "execution_count": 40,
   "metadata": {},
   "outputs": [],
   "source": [
    "#Обозначим отсутствие госфинансирования и связанных с ним возвратов в столбцах refundable_support и nonrefundable_support \n",
    "#с помощью 0.\n",
    "movies[['refundable_support', 'nonrefundable_support']] = \\\n",
    "movies[['refundable_support', 'nonrefundable_support']].fillna(0)"
   ]
  },
  {
   "cell_type": "code",
   "execution_count": 41,
   "metadata": {
    "scrolled": true
   },
   "outputs": [
    {
     "data": {
      "text/plain": [
       "refundable_support       0\n",
       "nonrefundable_support    0\n",
       "dtype: int64"
      ]
     },
     "execution_count": 41,
     "metadata": {},
     "output_type": "execute_result"
    }
   ],
   "source": [
    "#Проверим осуществлённую замену.\n",
    "movies[['refundable_support', 'nonrefundable_support']].isna().sum()\n",
    "#Замена прошла успешно."
   ]
  },
  {
   "cell_type": "code",
   "execution_count": 42,
   "metadata": {},
   "outputs": [],
   "source": [
    "#Проверим для каких фильмов указаны источники госфинансирования.\n",
    "finsource_budget = movies[~(movies['financing_source'].isna())&(movies['budget']>=0)]"
   ]
  },
  {
   "cell_type": "code",
   "execution_count": 43,
   "metadata": {},
   "outputs": [
    {
     "data": {
      "text/plain": [
       "332"
      ]
     },
     "execution_count": 43,
     "metadata": {},
     "output_type": "execute_result"
    }
   ],
   "source": [
    "finsource_budget.shape[0]"
   ]
  },
  {
   "cell_type": "markdown",
   "metadata": {},
   "source": [
    "Как и предыдущие столбцы, столбец financing_source, по-видимому, заполнен только для некоторых современных российских фильмов.\n",
    "Необходимо убедиться в этом, для этого проверим есть ли иностранные фильмы с указанием источников госфинансирования."
   ]
  },
  {
   "cell_type": "code",
   "execution_count": 44,
   "metadata": {},
   "outputs": [],
   "source": [
    "finsource_offbudget = movies[~(movies['financing_source'].isna())&(movies['budget'].isna())]"
   ]
  },
  {
   "cell_type": "code",
   "execution_count": 45,
   "metadata": {},
   "outputs": [
    {
     "data": {
      "text/plain": [
       "0"
      ]
     },
     "execution_count": 45,
     "metadata": {},
     "output_type": "execute_result"
    }
   ],
   "source": [
    "finsource_offbudget.shape[0]"
   ]
  },
  {
   "cell_type": "markdown",
   "metadata": {},
   "source": [
    "У иностранных фильмов и фильмов, снятых в СССР, не указаны источники госфинансирования. \n",
    "Следовательно NaN в столбце financing_source для этих фильмов можно заменить на слово \"отсутствует\"."
   ]
  },
  {
   "cell_type": "code",
   "execution_count": 46,
   "metadata": {},
   "outputs": [],
   "source": [
    "#Обозначим отсутствие источников госфинансирования с помощью слова \"отсутствует\".\n",
    "movies['financing_source'] = movies['financing_source'].fillna('отсутствует')"
   ]
  },
  {
   "cell_type": "code",
   "execution_count": 47,
   "metadata": {},
   "outputs": [
    {
     "data": {
      "text/plain": [
       "0"
      ]
     },
     "execution_count": 47,
     "metadata": {},
     "output_type": "execute_result"
    }
   ],
   "source": [
    "#Проверим осуществлённую замену.\n",
    "movies['financing_source'].isna().sum()\n",
    "#Замена прошла успешно."
   ]
  },
  {
   "cell_type": "markdown",
   "metadata": {},
   "source": [
    "**Пропущенные значения:**\n",
    "\n",
    "В 12 из 16 столбцов обнаружены пропущенные значения. В некоторых столбцах они составляли 95%.\n",
    "В 4х столбцах пропуски составляют менее 1%, следовательно, ими можно пренебречь. \n",
    "В столбцах budget, producer, ratings, genres, box_office замена невозможна, поскольку у нас нет соответствующих данных.\n",
    "В столбцах refundable_support и nonrefundable_support пропуски были заменены на 0 и обозначают 0 рублей, полученных из и возвращенных в бюджет. В столбце financing_source NaN, по-видимому, обозначал отсутствие источника госфинансирования и потому был заменён на слово \"отсутствует\"."
   ]
  },
  {
   "cell_type": "markdown",
   "metadata": {
    "id": "4c6k1t9ygFyQ"
   },
   "source": [
    "#### Шаг 2.3. Изучите дубликаты в датафрейме\n",
    "- Проверьте, есть ли в данных дубликаты. Опишите причины, которые могли повлиять на появление дублей."
   ]
  },
  {
   "cell_type": "code",
   "execution_count": 48,
   "metadata": {
    "id": "aKck8RIdgFyQ"
   },
   "outputs": [
    {
     "data": {
      "text/plain": [
       "0"
      ]
     },
     "execution_count": 48,
     "metadata": {},
     "output_type": "execute_result"
    }
   ],
   "source": [
    "#Проверим наличие полных дубликатов.\n",
    "movies.duplicated().sum() "
   ]
  },
  {
   "cell_type": "markdown",
   "metadata": {},
   "source": [
    "Проверка на полные дубликаты показала их отсутствие."
   ]
  },
  {
   "cell_type": "code",
   "execution_count": 49,
   "metadata": {},
   "outputs": [
    {
     "data": {
      "text/plain": [
       "714"
      ]
     },
     "execution_count": 49,
     "metadata": {},
     "output_type": "execute_result"
    }
   ],
   "source": [
    "#Попробуем поискать дубликаты среди кинолент.\n",
    "movies['title'].duplicated().sum()"
   ]
  },
  {
   "cell_type": "markdown",
   "metadata": {},
   "source": [
    "Примерно у 10% фильмов есть дубликаты."
   ]
  },
  {
   "cell_type": "code",
   "execution_count": 50,
   "metadata": {
    "scrolled": true
   },
   "outputs": [
    {
     "data": {
      "text/plain": [
       "День святого Валентина_                               5\n",
       "Кошки против собак: Месть Китти Галор                 4\n",
       "Знакомство с Факерами 2.                              4\n",
       "Рапунцель: Запутанная история                         4\n",
       "Секс в большом городе 2                               4\n",
       "                                                     ..\n",
       "МУЛЬТ в кино. Выпуск № 14                             1\n",
       "Стажёр                                                1\n",
       "Мэхэббэт - ул йорэк эше (Любовь - это дело сердца)    1\n",
       "Иван Грозный - 2 серия (восстановленная версия)       1\n",
       "Машины песенки. Серия \"Когда цветут кактусы\"          1\n",
       "Name: title, Length: 6772, dtype: int64"
      ]
     },
     "execution_count": 50,
     "metadata": {},
     "output_type": "execute_result"
    }
   ],
   "source": [
    "movies['title'].value_counts()"
   ]
  },
  {
   "cell_type": "code",
   "execution_count": null,
   "metadata": {},
   "outputs": [],
   "source": [
    "Видно, что у киноленты может быть до 5 дублей."
   ]
  },
  {
   "cell_type": "code",
   "execution_count": 51,
   "metadata": {},
   "outputs": [
    {
     "data": {
      "text/plain": [
       "2"
      ]
     },
     "execution_count": 51,
     "metadata": {},
     "output_type": "execute_result"
    }
   ],
   "source": [
    "#Попробуем поискать дубликаты среди прокатных удостоверений.\n",
    "movies['pu_number'].duplicated().sum()"
   ]
  },
  {
   "cell_type": "markdown",
   "metadata": {},
   "source": [
    "Среди прокатных удостоверений практически нет дубликатов. \n",
    "Следовательно по какой-то причине одному и тому же фильму могут присваивать несколько прокатных удостоверений. "
   ]
  },
  {
   "cell_type": "code",
   "execution_count": 52,
   "metadata": {
    "scrolled": false
   },
   "outputs": [
    {
     "data": {
      "text/html": [
       "<div>\n",
       "<style scoped>\n",
       "    .dataframe tbody tr th:only-of-type {\n",
       "        vertical-align: middle;\n",
       "    }\n",
       "\n",
       "    .dataframe tbody tr th {\n",
       "        vertical-align: top;\n",
       "    }\n",
       "\n",
       "    .dataframe thead th {\n",
       "        text-align: right;\n",
       "    }\n",
       "</style>\n",
       "<table border=\"1\" class=\"dataframe\">\n",
       "  <thead>\n",
       "    <tr style=\"text-align: right;\">\n",
       "      <th></th>\n",
       "      <th>title</th>\n",
       "      <th>pu_number</th>\n",
       "      <th>show_start_date</th>\n",
       "      <th>type</th>\n",
       "      <th>film_studio</th>\n",
       "      <th>production_country</th>\n",
       "      <th>director</th>\n",
       "      <th>producer</th>\n",
       "      <th>age_restriction</th>\n",
       "      <th>refundable_support</th>\n",
       "      <th>nonrefundable_support</th>\n",
       "      <th>budget</th>\n",
       "      <th>financing_source</th>\n",
       "      <th>ratings</th>\n",
       "      <th>genres</th>\n",
       "      <th>box_office</th>\n",
       "    </tr>\n",
       "  </thead>\n",
       "  <tbody>\n",
       "    <tr>\n",
       "      <th>455</th>\n",
       "      <td>100 миллионов евро</td>\n",
       "      <td>121013712.0</td>\n",
       "      <td>2012-06-06 12:00:00+00:00</td>\n",
       "      <td>Художественный</td>\n",
       "      <td>Патэ, Эсквуд, Серенити Фильм, ТФ1 Фильм Продюк...</td>\n",
       "      <td>Франция</td>\n",
       "      <td>Оливер Барру</td>\n",
       "      <td>Ричард Грандпьерр</td>\n",
       "      <td>«16+» - для детей старше 16 лет</td>\n",
       "      <td>0.0</td>\n",
       "      <td>0.0</td>\n",
       "      <td>NaN</td>\n",
       "      <td>отсутствует</td>\n",
       "      <td>6.1</td>\n",
       "      <td>комедия</td>\n",
       "      <td>NaN</td>\n",
       "    </tr>\n",
       "    <tr>\n",
       "      <th>454</th>\n",
       "      <td>100 миллионов евро</td>\n",
       "      <td>221024616.0</td>\n",
       "      <td>2016-05-25 12:00:00+00:00</td>\n",
       "      <td>Художественный</td>\n",
       "      <td>Патэ, Эсквуд, Серенити Фильм, ТФ1 Фильм Продюк...</td>\n",
       "      <td>Франция</td>\n",
       "      <td>Оливер Барру</td>\n",
       "      <td>Ричард Грандпьерр</td>\n",
       "      <td>«16+» - для детей старше 16 лет</td>\n",
       "      <td>0.0</td>\n",
       "      <td>0.0</td>\n",
       "      <td>NaN</td>\n",
       "      <td>отсутствует</td>\n",
       "      <td>6.1</td>\n",
       "      <td>комедия</td>\n",
       "      <td>NaN</td>\n",
       "    </tr>\n",
       "    <tr>\n",
       "      <th>4852</th>\n",
       "      <td>127 часов</td>\n",
       "      <td>121000811.0</td>\n",
       "      <td>2011-01-27 12:00:00+00:00</td>\n",
       "      <td>Художественный</td>\n",
       "      <td>Фокс Серчлайт Пикчерз, Клод Эйт Филмз, Филм Фо...</td>\n",
       "      <td>США - Великобритания</td>\n",
       "      <td>Дэнни Бойл</td>\n",
       "      <td>Бернард Беллью, Тесса Росс, Гаррет Смит</td>\n",
       "      <td>«16+» - для детей старше 16 лет</td>\n",
       "      <td>0.0</td>\n",
       "      <td>0.0</td>\n",
       "      <td>NaN</td>\n",
       "      <td>отсутствует</td>\n",
       "      <td>7.7</td>\n",
       "      <td>триллер,биография,драма</td>\n",
       "      <td>NaN</td>\n",
       "    </tr>\n",
       "    <tr>\n",
       "      <th>5058</th>\n",
       "      <td>127 часов</td>\n",
       "      <td>221069011.0</td>\n",
       "      <td>2011-05-18 12:00:00+00:00</td>\n",
       "      <td>Художественный</td>\n",
       "      <td>Фокс Серчлайт Пикчерз, Клод Эйт Филмз, Филм Фо...</td>\n",
       "      <td>США - Великобритания</td>\n",
       "      <td>Дэнни Бойл</td>\n",
       "      <td>Бернард Беллью, Тесса Росс, Гаррет Смит</td>\n",
       "      <td>«16+» - для детей старше 16 лет</td>\n",
       "      <td>0.0</td>\n",
       "      <td>0.0</td>\n",
       "      <td>NaN</td>\n",
       "      <td>отсутствует</td>\n",
       "      <td>7.7</td>\n",
       "      <td>триллер,биография,драма</td>\n",
       "      <td>NaN</td>\n",
       "    </tr>\n",
       "    <tr>\n",
       "      <th>3129</th>\n",
       "      <td>13 часов: Тайные солдаты Бенгази</td>\n",
       "      <td>221019616.0</td>\n",
       "      <td>2016-04-19 12:00:00+00:00</td>\n",
       "      <td>Художественный</td>\n",
       "      <td>Парамаунт, Дан Филмз, Латина Пикчарз,3 Арт Инт...</td>\n",
       "      <td>США</td>\n",
       "      <td>Майкл Бэй</td>\n",
       "      <td>Майкл Бэй, Эрвин Стофф</td>\n",
       "      <td>«18+» - запрещено для детей</td>\n",
       "      <td>0.0</td>\n",
       "      <td>0.0</td>\n",
       "      <td>NaN</td>\n",
       "      <td>отсутствует</td>\n",
       "      <td>6.7</td>\n",
       "      <td>боевик,триллер,драма</td>\n",
       "      <td>NaN</td>\n",
       "    </tr>\n",
       "    <tr>\n",
       "      <th>...</th>\n",
       "      <td>...</td>\n",
       "      <td>...</td>\n",
       "      <td>...</td>\n",
       "      <td>...</td>\n",
       "      <td>...</td>\n",
       "      <td>...</td>\n",
       "      <td>...</td>\n",
       "      <td>...</td>\n",
       "      <td>...</td>\n",
       "      <td>...</td>\n",
       "      <td>...</td>\n",
       "      <td>...</td>\n",
       "      <td>...</td>\n",
       "      <td>...</td>\n",
       "      <td>...</td>\n",
       "      <td>...</td>\n",
       "    </tr>\n",
       "    <tr>\n",
       "      <th>4505</th>\n",
       "      <td>Я ненавижу день святого Валентина</td>\n",
       "      <td>221139210.0</td>\n",
       "      <td>2010-12-03 12:00:00+00:00</td>\n",
       "      <td>Художественный</td>\n",
       "      <td>Блю Стар Пикчерз, Ай Хэйт Вдэй Продакшнз, Ай С...</td>\n",
       "      <td>США</td>\n",
       "      <td>Ниа Вардалос</td>\n",
       "      <td>Доминик Йанно, Мэдлейн Шерак, Уильям Шерак</td>\n",
       "      <td>«16+» - для детей старше 16 лет</td>\n",
       "      <td>0.0</td>\n",
       "      <td>0.0</td>\n",
       "      <td>NaN</td>\n",
       "      <td>отсутствует</td>\n",
       "      <td>5.0</td>\n",
       "      <td>мелодрама,комедия</td>\n",
       "      <td>NaN</td>\n",
       "    </tr>\n",
       "    <tr>\n",
       "      <th>1704</th>\n",
       "      <td>Я, снова я и мама</td>\n",
       "      <td>121030213.0</td>\n",
       "      <td>2013-11-21 12:00:00+00:00</td>\n",
       "      <td>Художественный</td>\n",
       "      <td>Гомон, Эль Джи Эм Продакшнз, Ректанль Продюксь...</td>\n",
       "      <td>Франция - Бельгия</td>\n",
       "      <td>Гийом Гальенн</td>\n",
       "      <td>Жан-Батист Дюпон, Алис Жирар, Сирил Кольбо-Жюстен</td>\n",
       "      <td>«16+» - для детей старше 16 лет</td>\n",
       "      <td>0.0</td>\n",
       "      <td>0.0</td>\n",
       "      <td>NaN</td>\n",
       "      <td>отсутствует</td>\n",
       "      <td>6.3</td>\n",
       "      <td>комедия,мелодрама,драма</td>\n",
       "      <td>NaN</td>\n",
       "    </tr>\n",
       "    <tr>\n",
       "      <th>1703</th>\n",
       "      <td>Я, снова я и мама</td>\n",
       "      <td>121013116.0</td>\n",
       "      <td>2016-05-23 12:00:00+00:00</td>\n",
       "      <td>Художественный</td>\n",
       "      <td>Гомон, Эль Джи Эм Продакшнз, Ректанль Продюксь...</td>\n",
       "      <td>Франция - Бельгия</td>\n",
       "      <td>Гийом Гальенн</td>\n",
       "      <td>Жан-Батист Дюпон, Алис Жирар, Сирил Кольбо-Жюстен</td>\n",
       "      <td>«16+» - для детей старше 16 лет</td>\n",
       "      <td>0.0</td>\n",
       "      <td>0.0</td>\n",
       "      <td>NaN</td>\n",
       "      <td>отсутствует</td>\n",
       "      <td>6.3</td>\n",
       "      <td>комедия,мелодрама,драма</td>\n",
       "      <td>NaN</td>\n",
       "    </tr>\n",
       "    <tr>\n",
       "      <th>6379</th>\n",
       "      <td>Ян Антонышев</td>\n",
       "      <td>112011818.0</td>\n",
       "      <td>2018-11-15 12:00:00+00:00</td>\n",
       "      <td>Документальный</td>\n",
       "      <td>NaN</td>\n",
       "      <td>Россия</td>\n",
       "      <td>Е.Окопная</td>\n",
       "      <td>Е.Герасимов</td>\n",
       "      <td>«12+» - для детей старше 12 лет</td>\n",
       "      <td>0.0</td>\n",
       "      <td>0.0</td>\n",
       "      <td>NaN</td>\n",
       "      <td>отсутствует</td>\n",
       "      <td>NaN</td>\n",
       "      <td>NaN</td>\n",
       "      <td>NaN</td>\n",
       "    </tr>\n",
       "    <tr>\n",
       "      <th>6380</th>\n",
       "      <td>Ян Антонышев</td>\n",
       "      <td>112011918.0</td>\n",
       "      <td>2018-11-15 12:00:00+00:00</td>\n",
       "      <td>Документальный</td>\n",
       "      <td>NaN</td>\n",
       "      <td>Россия</td>\n",
       "      <td>Е.Окопная</td>\n",
       "      <td>Е.Герасимов</td>\n",
       "      <td>«12+» - для детей старше 12 лет</td>\n",
       "      <td>0.0</td>\n",
       "      <td>0.0</td>\n",
       "      <td>NaN</td>\n",
       "      <td>отсутствует</td>\n",
       "      <td>NaN</td>\n",
       "      <td>NaN</td>\n",
       "      <td>NaN</td>\n",
       "    </tr>\n",
       "  </tbody>\n",
       "</table>\n",
       "<p>1272 rows × 16 columns</p>\n",
       "</div>"
      ],
      "text/plain": [
       "                                  title    pu_number  \\\n",
       "455                  100 миллионов евро  121013712.0   \n",
       "454                  100 миллионов евро  221024616.0   \n",
       "4852                          127 часов  121000811.0   \n",
       "5058                          127 часов  221069011.0   \n",
       "3129   13 часов: Тайные солдаты Бенгази  221019616.0   \n",
       "...                                 ...          ...   \n",
       "4505  Я ненавижу день святого Валентина  221139210.0   \n",
       "1704                  Я, снова я и мама  121030213.0   \n",
       "1703                  Я, снова я и мама  121013116.0   \n",
       "6379                       Ян Антонышев  112011818.0   \n",
       "6380                       Ян Антонышев  112011918.0   \n",
       "\n",
       "               show_start_date            type  \\\n",
       "455  2012-06-06 12:00:00+00:00  Художественный   \n",
       "454  2016-05-25 12:00:00+00:00  Художественный   \n",
       "4852 2011-01-27 12:00:00+00:00  Художественный   \n",
       "5058 2011-05-18 12:00:00+00:00  Художественный   \n",
       "3129 2016-04-19 12:00:00+00:00  Художественный   \n",
       "...                        ...             ...   \n",
       "4505 2010-12-03 12:00:00+00:00  Художественный   \n",
       "1704 2013-11-21 12:00:00+00:00  Художественный   \n",
       "1703 2016-05-23 12:00:00+00:00  Художественный   \n",
       "6379 2018-11-15 12:00:00+00:00  Документальный   \n",
       "6380 2018-11-15 12:00:00+00:00  Документальный   \n",
       "\n",
       "                                            film_studio    production_country  \\\n",
       "455   Патэ, Эсквуд, Серенити Фильм, ТФ1 Фильм Продюк...               Франция   \n",
       "454   Патэ, Эсквуд, Серенити Фильм, ТФ1 Фильм Продюк...               Франция   \n",
       "4852  Фокс Серчлайт Пикчерз, Клод Эйт Филмз, Филм Фо...  США - Великобритания   \n",
       "5058  Фокс Серчлайт Пикчерз, Клод Эйт Филмз, Филм Фо...  США - Великобритания   \n",
       "3129  Парамаунт, Дан Филмз, Латина Пикчарз,3 Арт Инт...                   США   \n",
       "...                                                 ...                   ...   \n",
       "4505  Блю Стар Пикчерз, Ай Хэйт Вдэй Продакшнз, Ай С...                   США   \n",
       "1704  Гомон, Эль Джи Эм Продакшнз, Ректанль Продюксь...     Франция - Бельгия   \n",
       "1703  Гомон, Эль Джи Эм Продакшнз, Ректанль Продюксь...     Франция - Бельгия   \n",
       "6379                                                NaN                Россия   \n",
       "6380                                                NaN                Россия   \n",
       "\n",
       "           director                                           producer  \\\n",
       "455    Оливер Барру                                  Ричард Грандпьерр   \n",
       "454    Оливер Барру                                  Ричард Грандпьерр   \n",
       "4852     Дэнни Бойл            Бернард Беллью, Тесса Росс, Гаррет Смит   \n",
       "5058     Дэнни Бойл            Бернард Беллью, Тесса Росс, Гаррет Смит   \n",
       "3129      Майкл Бэй                             Майкл Бэй, Эрвин Стофф   \n",
       "...             ...                                                ...   \n",
       "4505   Ниа Вардалос         Доминик Йанно, Мэдлейн Шерак, Уильям Шерак   \n",
       "1704  Гийом Гальенн  Жан-Батист Дюпон, Алис Жирар, Сирил Кольбо-Жюстен   \n",
       "1703  Гийом Гальенн  Жан-Батист Дюпон, Алис Жирар, Сирил Кольбо-Жюстен   \n",
       "6379      Е.Окопная                                        Е.Герасимов   \n",
       "6380      Е.Окопная                                        Е.Герасимов   \n",
       "\n",
       "                      age_restriction  refundable_support  \\\n",
       "455   «16+» - для детей старше 16 лет                 0.0   \n",
       "454   «16+» - для детей старше 16 лет                 0.0   \n",
       "4852  «16+» - для детей старше 16 лет                 0.0   \n",
       "5058  «16+» - для детей старше 16 лет                 0.0   \n",
       "3129      «18+» - запрещено для детей                 0.0   \n",
       "...                               ...                 ...   \n",
       "4505  «16+» - для детей старше 16 лет                 0.0   \n",
       "1704  «16+» - для детей старше 16 лет                 0.0   \n",
       "1703  «16+» - для детей старше 16 лет                 0.0   \n",
       "6379  «12+» - для детей старше 12 лет                 0.0   \n",
       "6380  «12+» - для детей старше 12 лет                 0.0   \n",
       "\n",
       "      nonrefundable_support  budget financing_source  ratings  \\\n",
       "455                     0.0     NaN      отсутствует      6.1   \n",
       "454                     0.0     NaN      отсутствует      6.1   \n",
       "4852                    0.0     NaN      отсутствует      7.7   \n",
       "5058                    0.0     NaN      отсутствует      7.7   \n",
       "3129                    0.0     NaN      отсутствует      6.7   \n",
       "...                     ...     ...              ...      ...   \n",
       "4505                    0.0     NaN      отсутствует      5.0   \n",
       "1704                    0.0     NaN      отсутствует      6.3   \n",
       "1703                    0.0     NaN      отсутствует      6.3   \n",
       "6379                    0.0     NaN      отсутствует      NaN   \n",
       "6380                    0.0     NaN      отсутствует      NaN   \n",
       "\n",
       "                       genres  box_office  \n",
       "455                   комедия         NaN  \n",
       "454                   комедия         NaN  \n",
       "4852  триллер,биография,драма         NaN  \n",
       "5058  триллер,биография,драма         NaN  \n",
       "3129     боевик,триллер,драма         NaN  \n",
       "...                       ...         ...  \n",
       "4505        мелодрама,комедия         NaN  \n",
       "1704  комедия,мелодрама,драма         NaN  \n",
       "1703  комедия,мелодрама,драма         NaN  \n",
       "6379                      NaN         NaN  \n",
       "6380                      NaN         NaN  \n",
       "\n",
       "[1272 rows x 16 columns]"
      ]
     },
     "execution_count": 52,
     "metadata": {},
     "output_type": "execute_result"
    }
   ],
   "source": [
    "#Сформируем датафрейм с информацией о фильмах с одинаковым названием.\n",
    "movies[movies['title'].duplicated(keep=False)].sort_values(by='title')"
   ]
  },
  {
   "cell_type": "markdown",
   "metadata": {},
   "source": [
    "Из датафрейма видно, что фильмы с одинаковыми названиями выходили в прокат в разное время. Следовательно удалять такие дубликаты нельзя, потому что это повлияет на статистику по годам."
   ]
  },
  {
   "cell_type": "markdown",
   "metadata": {},
   "source": [
    "**Дубликаты:**\n",
    "\n",
    "В датафрейме не выявлено полных дубликатов.  Примерно 10% фильмов указано в данных более одного раза. Это связано с тем, что один и тот же фильм мог выходить в прокат несколько раз в разные годы."
   ]
  },
  {
   "cell_type": "markdown",
   "metadata": {
    "id": "52fOPrEBgFyQ"
   },
   "source": [
    "#### Шаг 2.4. Изучите категориальные значения\n",
    "\n",
    "- Посмотрите, какая общая проблема встречается почти во всех категориальных столбцах;\n",
    "- Исправьте проблемные значения в поле `type`.\n",
    "\n",
    "<div id=\"accordion\">\n",
    "    <div class=\"card\">\n",
    "        <div class=\"card-header\" id=\"headingThree\">\n",
    "            <button class=\"btn btn-link collapsed\" data-toggle=\"collapse\" data-target=\"#collapseHint_1\" aria-expanded=\"false\" aria-controls=\"collapseHint_1\">Подсказка</button>\n",
    "        </div>\n",
    "        <div id=\"collapseHint_1\" class=\"collapse\" aria-labelledby=\"headingThree\" data-parent=\"#accordion\">\n",
    "            <div class=\"card-body\">\n",
    "В поле <code>type</code> есть несколько значений, у которых появился пробел в начале строки. Самый простой способ их «починить» -- использовать метод <a href=\"https://pandas.pydata.org/docs/reference/api/pandas.Series.str.strip.html#pandas.Series.str.strip\">.str.strip</a>. Этот метод удаляет все пробелы, которые встречаются в начале и в конце строки. Применяют его таким образом:<br>\n",
    "<code>df['type'].str.strip()</code>\n",
    "            </div>\n",
    "        </div>\n",
    "    </div>\n",
    "</div>"
   ]
  },
  {
   "cell_type": "code",
   "execution_count": 53,
   "metadata": {},
   "outputs": [
    {
     "data": {
      "text/html": [
       "<div>\n",
       "<style scoped>\n",
       "    .dataframe tbody tr th:only-of-type {\n",
       "        vertical-align: middle;\n",
       "    }\n",
       "\n",
       "    .dataframe tbody tr th {\n",
       "        vertical-align: top;\n",
       "    }\n",
       "\n",
       "    .dataframe thead th {\n",
       "        text-align: right;\n",
       "    }\n",
       "</style>\n",
       "<table border=\"1\" class=\"dataframe\">\n",
       "  <thead>\n",
       "    <tr style=\"text-align: right;\">\n",
       "      <th></th>\n",
       "      <th>title</th>\n",
       "      <th>pu_number</th>\n",
       "      <th>show_start_date</th>\n",
       "      <th>type</th>\n",
       "      <th>film_studio</th>\n",
       "      <th>production_country</th>\n",
       "      <th>director</th>\n",
       "      <th>producer</th>\n",
       "      <th>age_restriction</th>\n",
       "      <th>refundable_support</th>\n",
       "      <th>nonrefundable_support</th>\n",
       "      <th>budget</th>\n",
       "      <th>financing_source</th>\n",
       "      <th>ratings</th>\n",
       "      <th>genres</th>\n",
       "      <th>box_office</th>\n",
       "    </tr>\n",
       "  </thead>\n",
       "  <tbody>\n",
       "    <tr>\n",
       "      <th>0</th>\n",
       "      <td>Открытый простор</td>\n",
       "      <td>221048915.0</td>\n",
       "      <td>2015-11-27 12:00:00+00:00</td>\n",
       "      <td>Художественный</td>\n",
       "      <td>Тачстоун Пикчерз, Кобальт Пикчерз, Бикон Пикче...</td>\n",
       "      <td>США</td>\n",
       "      <td>Кевин Костнер</td>\n",
       "      <td>Дэвид Валдес, Кевин Костнер, Джейк Эбертс</td>\n",
       "      <td>«18+» - запрещено для детей</td>\n",
       "      <td>0.0</td>\n",
       "      <td>0.0</td>\n",
       "      <td>NaN</td>\n",
       "      <td>отсутствует</td>\n",
       "      <td>7.2</td>\n",
       "      <td>боевик,драма,мелодрама</td>\n",
       "      <td>NaN</td>\n",
       "    </tr>\n",
       "    <tr>\n",
       "      <th>1</th>\n",
       "      <td>Особо важное задание</td>\n",
       "      <td>111013716.0</td>\n",
       "      <td>2016-09-13 12:00:00+00:00</td>\n",
       "      <td>Художественный</td>\n",
       "      <td>Киностудия \"Мосфильм\"</td>\n",
       "      <td>СССР</td>\n",
       "      <td>Е.Матвеев</td>\n",
       "      <td>NaN</td>\n",
       "      <td>«6+» - для детей старше 6 лет</td>\n",
       "      <td>0.0</td>\n",
       "      <td>0.0</td>\n",
       "      <td>NaN</td>\n",
       "      <td>отсутствует</td>\n",
       "      <td>6.6</td>\n",
       "      <td>драма,военный</td>\n",
       "      <td>NaN</td>\n",
       "    </tr>\n",
       "    <tr>\n",
       "      <th>2</th>\n",
       "      <td>Особо опасен</td>\n",
       "      <td>221038416.0</td>\n",
       "      <td>2016-10-10 12:00:00+00:00</td>\n",
       "      <td>Художественный</td>\n",
       "      <td>Юниверсал Пикчерз, Кикстарт Продакшнз, Марк Пл...</td>\n",
       "      <td>США</td>\n",
       "      <td>Тимур Бекмамбетов</td>\n",
       "      <td>Джим Лемли, Джейсон Нетер, Марк Е.Платт, Яйн Смит</td>\n",
       "      <td>«18+» - запрещено для детей</td>\n",
       "      <td>0.0</td>\n",
       "      <td>0.0</td>\n",
       "      <td>NaN</td>\n",
       "      <td>отсутствует</td>\n",
       "      <td>6.8</td>\n",
       "      <td>фантастика,боевик,триллер</td>\n",
       "      <td>NaN</td>\n",
       "    </tr>\n",
       "    <tr>\n",
       "      <th>3</th>\n",
       "      <td>Особо опасен</td>\n",
       "      <td>221026916.0</td>\n",
       "      <td>2016-06-10 12:00:00+00:00</td>\n",
       "      <td>Художественный</td>\n",
       "      <td>Юниверсал Пикчерз, Кикстарт Продакшнз, Марк Пл...</td>\n",
       "      <td>США</td>\n",
       "      <td>Тимур Бекмамбетов</td>\n",
       "      <td>Джим Лемли, Джейсон Нетер, Марк Е.Платт, Яйн Смит</td>\n",
       "      <td>«18+» - запрещено для детей</td>\n",
       "      <td>0.0</td>\n",
       "      <td>0.0</td>\n",
       "      <td>NaN</td>\n",
       "      <td>отсутствует</td>\n",
       "      <td>6.8</td>\n",
       "      <td>фантастика,боевик,триллер</td>\n",
       "      <td>NaN</td>\n",
       "    </tr>\n",
       "    <tr>\n",
       "      <th>4</th>\n",
       "      <td>Особо опасен</td>\n",
       "      <td>221030815.0</td>\n",
       "      <td>2015-07-29 12:00:00+00:00</td>\n",
       "      <td>Художественный</td>\n",
       "      <td>Юниверсал Пикчерз, Кикстарт Продакшнз, Марк Пл...</td>\n",
       "      <td>США</td>\n",
       "      <td>Тимур Бекмамбетов</td>\n",
       "      <td>Джим Лемли, Джейсон Нетер, Марк Е.Платт, Яйн Смит</td>\n",
       "      <td>«18+» - запрещено для детей</td>\n",
       "      <td>0.0</td>\n",
       "      <td>0.0</td>\n",
       "      <td>NaN</td>\n",
       "      <td>отсутствует</td>\n",
       "      <td>6.8</td>\n",
       "      <td>фантастика,боевик,триллер</td>\n",
       "      <td>NaN</td>\n",
       "    </tr>\n",
       "    <tr>\n",
       "      <th>5</th>\n",
       "      <td>Остановился поезд</td>\n",
       "      <td>111013816.0</td>\n",
       "      <td>2016-09-13 12:00:00+00:00</td>\n",
       "      <td>Художественный</td>\n",
       "      <td>Киностудия \"Мосфильм\"</td>\n",
       "      <td>СССР</td>\n",
       "      <td>В.Абдрашитов</td>\n",
       "      <td>NaN</td>\n",
       "      <td>«6+» - для детей старше 6 лет</td>\n",
       "      <td>0.0</td>\n",
       "      <td>0.0</td>\n",
       "      <td>NaN</td>\n",
       "      <td>отсутствует</td>\n",
       "      <td>7.7</td>\n",
       "      <td>драма</td>\n",
       "      <td>NaN</td>\n",
       "    </tr>\n",
       "    <tr>\n",
       "      <th>6</th>\n",
       "      <td>Любовь и голуби</td>\n",
       "      <td>111007013.0</td>\n",
       "      <td>2013-10-18 12:00:00+00:00</td>\n",
       "      <td>Художественный</td>\n",
       "      <td>Киностудия \"Мосфильм\"</td>\n",
       "      <td>СССР</td>\n",
       "      <td>В.Меньшов</td>\n",
       "      <td>NaN</td>\n",
       "      <td>«12+» - для детей старше 12 лет</td>\n",
       "      <td>0.0</td>\n",
       "      <td>0.0</td>\n",
       "      <td>NaN</td>\n",
       "      <td>отсутствует</td>\n",
       "      <td>8.3</td>\n",
       "      <td>мелодрама,комедия</td>\n",
       "      <td>2700.0</td>\n",
       "    </tr>\n",
       "    <tr>\n",
       "      <th>7</th>\n",
       "      <td>Любовь и сигареты</td>\n",
       "      <td>221074614.0</td>\n",
       "      <td>2014-12-29 12:00:00+00:00</td>\n",
       "      <td>Художественный</td>\n",
       "      <td>Юнайтед Артистс, Грин Стрит Филмз, Айкон Интер...</td>\n",
       "      <td>США</td>\n",
       "      <td>Джон Туртурро</td>\n",
       "      <td>Джон Пенотти, Джон Туртурро</td>\n",
       "      <td>«18+» - запрещено для детей</td>\n",
       "      <td>0.0</td>\n",
       "      <td>0.0</td>\n",
       "      <td>NaN</td>\n",
       "      <td>отсутствует</td>\n",
       "      <td>6.6</td>\n",
       "      <td>мюзикл,мелодрама,комедия</td>\n",
       "      <td>NaN</td>\n",
       "    </tr>\n",
       "    <tr>\n",
       "      <th>8</th>\n",
       "      <td>Отпетые мошенники.</td>\n",
       "      <td>121011416.0</td>\n",
       "      <td>2016-05-05 12:00:00+00:00</td>\n",
       "      <td>Художественный</td>\n",
       "      <td>Пульсар Продюксьон, ТФ1 Фильм</td>\n",
       "      <td>Франция</td>\n",
       "      <td>Эрик Беснард</td>\n",
       "      <td>Патрис Леду</td>\n",
       "      <td>«18+» - запрещено для детей</td>\n",
       "      <td>0.0</td>\n",
       "      <td>0.0</td>\n",
       "      <td>NaN</td>\n",
       "      <td>отсутствует</td>\n",
       "      <td>8.0</td>\n",
       "      <td>комедия,криминал</td>\n",
       "      <td>NaN</td>\n",
       "    </tr>\n",
       "    <tr>\n",
       "      <th>9</th>\n",
       "      <td>Отпуск за свой счет</td>\n",
       "      <td>111019114.0</td>\n",
       "      <td>2014-12-01 12:00:00+00:00</td>\n",
       "      <td>Художественный</td>\n",
       "      <td>Киностудия \"Мосфильм\", Телевидение ВНР</td>\n",
       "      <td>СССР, Венгрия</td>\n",
       "      <td>В.Титов</td>\n",
       "      <td>NaN</td>\n",
       "      <td>«12+» - для детей старше 12 лет</td>\n",
       "      <td>0.0</td>\n",
       "      <td>0.0</td>\n",
       "      <td>NaN</td>\n",
       "      <td>отсутствует</td>\n",
       "      <td>7.8</td>\n",
       "      <td>мелодрама,комедия</td>\n",
       "      <td>NaN</td>\n",
       "    </tr>\n",
       "    <tr>\n",
       "      <th>10</th>\n",
       "      <td>Превосходство Борна /По одноименной новелле Ро...</td>\n",
       "      <td>221031416.0</td>\n",
       "      <td>2016-06-29 12:00:00+00:00</td>\n",
       "      <td>Художественный</td>\n",
       "      <td>Кеннеди/Маршал Компани, Юниверсал Пикчерз, Гип...</td>\n",
       "      <td>США</td>\n",
       "      <td>Пол Грингросс</td>\n",
       "      <td>Патрик Кроули, Фрэнк Маршалл, Пол Сэндберг</td>\n",
       "      <td>«16+» - для детей старше 16 лет</td>\n",
       "      <td>0.0</td>\n",
       "      <td>0.0</td>\n",
       "      <td>NaN</td>\n",
       "      <td>отсутствует</td>\n",
       "      <td>7.7</td>\n",
       "      <td>боевик,триллер,детектив</td>\n",
       "      <td>NaN</td>\n",
       "    </tr>\n",
       "    <tr>\n",
       "      <th>11</th>\n",
       "      <td>Ответный ход</td>\n",
       "      <td>111019014.0</td>\n",
       "      <td>2014-12-01 12:00:00+00:00</td>\n",
       "      <td>Художественный</td>\n",
       "      <td>Киностудия \"Мосфильм\"</td>\n",
       "      <td>СССР</td>\n",
       "      <td>М.Туманишвили</td>\n",
       "      <td>NaN</td>\n",
       "      <td>«12+» - для детей старше 12 лет</td>\n",
       "      <td>0.0</td>\n",
       "      <td>0.0</td>\n",
       "      <td>NaN</td>\n",
       "      <td>отсутствует</td>\n",
       "      <td>7.8</td>\n",
       "      <td>боевик,драма,приключения</td>\n",
       "      <td>NaN</td>\n",
       "    </tr>\n",
       "    <tr>\n",
       "      <th>12</th>\n",
       "      <td>Малышка на миллион /По мотивам рассказов Ф.Х.Т...</td>\n",
       "      <td>221011415.0</td>\n",
       "      <td>2015-04-03 12:00:00+00:00</td>\n",
       "      <td>Художественный</td>\n",
       "      <td>Уорнер Бразерс, Лейкшор Интертейнмент, Малпасо...</td>\n",
       "      <td>США</td>\n",
       "      <td>Клинт Иствуд</td>\n",
       "      <td>Клинт Иствуд, Том Розенберг, Альберт С.Рудди, ...</td>\n",
       "      <td>«16+» - для детей старше 16 лет</td>\n",
       "      <td>0.0</td>\n",
       "      <td>0.0</td>\n",
       "      <td>NaN</td>\n",
       "      <td>отсутствует</td>\n",
       "      <td>8.1</td>\n",
       "      <td>драма,спорт</td>\n",
       "      <td>NaN</td>\n",
       "    </tr>\n",
       "    <tr>\n",
       "      <th>13</th>\n",
       "      <td>Преданный садовник</td>\n",
       "      <td>121003106.0</td>\n",
       "      <td>2013-08-26 12:00:00+00:00</td>\n",
       "      <td>Художественный</td>\n",
       "      <td>Потбойлер Продакшнз, Эпсилон Моушн Пикчерз, Ск...</td>\n",
       "      <td>Германия-Великобритания</td>\n",
       "      <td>Фернанду Мейрелльеш</td>\n",
       "      <td>Саймон Чэннинг Уильямс</td>\n",
       "      <td>«16+» - для детей старше 16 лет</td>\n",
       "      <td>0.0</td>\n",
       "      <td>0.0</td>\n",
       "      <td>NaN</td>\n",
       "      <td>отсутствует</td>\n",
       "      <td>7.1</td>\n",
       "      <td>триллер,драма,мелодрама</td>\n",
       "      <td>NaN</td>\n",
       "    </tr>\n",
       "    <tr>\n",
       "      <th>14</th>\n",
       "      <td>Отель /По мотивам пьесы Джона Уэбстера/</td>\n",
       "      <td>221008812.0</td>\n",
       "      <td>2012-01-27 12:00:00+00:00</td>\n",
       "      <td>Художественный</td>\n",
       "      <td>Кэтлей, Отель Продакшнс, Мунстоун Интертейнмен...</td>\n",
       "      <td>Великобритания - Италия</td>\n",
       "      <td>Майк Фиггис</td>\n",
       "      <td>Этчи Стро, Анни Стюарт, Майк Фиггис</td>\n",
       "      <td>«18+» - запрещено для детей</td>\n",
       "      <td>0.0</td>\n",
       "      <td>0.0</td>\n",
       "      <td>NaN</td>\n",
       "      <td>отсутствует</td>\n",
       "      <td>6.0</td>\n",
       "      <td>комедия,мелодрама</td>\n",
       "      <td>NaN</td>\n",
       "    </tr>\n",
       "    <tr>\n",
       "      <th>15</th>\n",
       "      <td>Председатель</td>\n",
       "      <td>111014916.0</td>\n",
       "      <td>2016-09-13 12:00:00+00:00</td>\n",
       "      <td>Художественный</td>\n",
       "      <td>Киностудия \"Мосфильм\"</td>\n",
       "      <td>СССР</td>\n",
       "      <td>А.Салтыков</td>\n",
       "      <td>NaN</td>\n",
       "      <td>«12+» - для детей старше 12 лет</td>\n",
       "      <td>0.0</td>\n",
       "      <td>0.0</td>\n",
       "      <td>NaN</td>\n",
       "      <td>отсутствует</td>\n",
       "      <td>8.3</td>\n",
       "      <td>драма</td>\n",
       "      <td>NaN</td>\n",
       "    </tr>\n",
       "    <tr>\n",
       "      <th>16</th>\n",
       "      <td>Осенний марафон</td>\n",
       "      <td>111007513.0</td>\n",
       "      <td>2013-10-18 12:00:00+00:00</td>\n",
       "      <td>Художественный</td>\n",
       "      <td>Киностудия \"Мосфильм\"</td>\n",
       "      <td>СССР</td>\n",
       "      <td>Г.Данелия</td>\n",
       "      <td>NaN</td>\n",
       "      <td>«12+» - для детей старше 12 лет</td>\n",
       "      <td>0.0</td>\n",
       "      <td>0.0</td>\n",
       "      <td>NaN</td>\n",
       "      <td>отсутствует</td>\n",
       "      <td>8.0</td>\n",
       "      <td>драма,мелодрама,комедия</td>\n",
       "      <td>NaN</td>\n",
       "    </tr>\n",
       "    <tr>\n",
       "      <th>17</th>\n",
       "      <td>Осень</td>\n",
       "      <td>111027914.0</td>\n",
       "      <td>2014-12-24 12:00:00+00:00</td>\n",
       "      <td>Художественный</td>\n",
       "      <td>Киностудия \"Мосфильм\"</td>\n",
       "      <td>СССР</td>\n",
       "      <td>А.Смирнов</td>\n",
       "      <td>NaN</td>\n",
       "      <td>«12+» - для детей старше 12 лет</td>\n",
       "      <td>0.0</td>\n",
       "      <td>0.0</td>\n",
       "      <td>NaN</td>\n",
       "      <td>отсутствует</td>\n",
       "      <td>7.4</td>\n",
       "      <td>драма,мелодрама</td>\n",
       "      <td>NaN</td>\n",
       "    </tr>\n",
       "    <tr>\n",
       "      <th>18</th>\n",
       "      <td>Неподдающиеся</td>\n",
       "      <td>111003616.0</td>\n",
       "      <td>2016-02-12 12:00:00+00:00</td>\n",
       "      <td>Художественный</td>\n",
       "      <td>Киностудия \"Мосфильм\"</td>\n",
       "      <td>СССР</td>\n",
       "      <td>Ю.Чулюкин</td>\n",
       "      <td>NaN</td>\n",
       "      <td>«6+» - для детей старше 6 лет</td>\n",
       "      <td>0.0</td>\n",
       "      <td>0.0</td>\n",
       "      <td>NaN</td>\n",
       "      <td>отсутствует</td>\n",
       "      <td>8.0</td>\n",
       "      <td>мелодрама,комедия</td>\n",
       "      <td>360.0</td>\n",
       "    </tr>\n",
       "    <tr>\n",
       "      <th>19</th>\n",
       "      <td>Неподсуден</td>\n",
       "      <td>111003716.0</td>\n",
       "      <td>2016-02-12 12:00:00+00:00</td>\n",
       "      <td>Художественный</td>\n",
       "      <td>Киностудия \"Мосфильм\"</td>\n",
       "      <td>СССР</td>\n",
       "      <td>В.Краснопольский, В.Усков</td>\n",
       "      <td>NaN</td>\n",
       "      <td>«6+» - для детей старше 6 лет</td>\n",
       "      <td>0.0</td>\n",
       "      <td>0.0</td>\n",
       "      <td>NaN</td>\n",
       "      <td>отсутствует</td>\n",
       "      <td>7.7</td>\n",
       "      <td>драма</td>\n",
       "      <td>420.0</td>\n",
       "    </tr>\n",
       "  </tbody>\n",
       "</table>\n",
       "</div>"
      ],
      "text/plain": [
       "                                                title    pu_number  \\\n",
       "0                                    Открытый простор  221048915.0   \n",
       "1                                Особо важное задание  111013716.0   \n",
       "2                                        Особо опасен  221038416.0   \n",
       "3                                        Особо опасен  221026916.0   \n",
       "4                                        Особо опасен  221030815.0   \n",
       "5                                   Остановился поезд  111013816.0   \n",
       "6                                     Любовь и голуби  111007013.0   \n",
       "7                                   Любовь и сигареты  221074614.0   \n",
       "8                                  Отпетые мошенники.  121011416.0   \n",
       "9                                 Отпуск за свой счет  111019114.0   \n",
       "10  Превосходство Борна /По одноименной новелле Ро...  221031416.0   \n",
       "11                                       Ответный ход  111019014.0   \n",
       "12  Малышка на миллион /По мотивам рассказов Ф.Х.Т...  221011415.0   \n",
       "13                                 Преданный садовник  121003106.0   \n",
       "14            Отель /По мотивам пьесы Джона Уэбстера/  221008812.0   \n",
       "15                                       Председатель  111014916.0   \n",
       "16                                    Осенний марафон  111007513.0   \n",
       "17                                              Осень  111027914.0   \n",
       "18                                      Неподдающиеся  111003616.0   \n",
       "19                                         Неподсуден  111003716.0   \n",
       "\n",
       "             show_start_date            type  \\\n",
       "0  2015-11-27 12:00:00+00:00  Художественный   \n",
       "1  2016-09-13 12:00:00+00:00  Художественный   \n",
       "2  2016-10-10 12:00:00+00:00  Художественный   \n",
       "3  2016-06-10 12:00:00+00:00  Художественный   \n",
       "4  2015-07-29 12:00:00+00:00  Художественный   \n",
       "5  2016-09-13 12:00:00+00:00  Художественный   \n",
       "6  2013-10-18 12:00:00+00:00  Художественный   \n",
       "7  2014-12-29 12:00:00+00:00  Художественный   \n",
       "8  2016-05-05 12:00:00+00:00  Художественный   \n",
       "9  2014-12-01 12:00:00+00:00  Художественный   \n",
       "10 2016-06-29 12:00:00+00:00  Художественный   \n",
       "11 2014-12-01 12:00:00+00:00  Художественный   \n",
       "12 2015-04-03 12:00:00+00:00  Художественный   \n",
       "13 2013-08-26 12:00:00+00:00  Художественный   \n",
       "14 2012-01-27 12:00:00+00:00  Художественный   \n",
       "15 2016-09-13 12:00:00+00:00  Художественный   \n",
       "16 2013-10-18 12:00:00+00:00  Художественный   \n",
       "17 2014-12-24 12:00:00+00:00  Художественный   \n",
       "18 2016-02-12 12:00:00+00:00  Художественный   \n",
       "19 2016-02-12 12:00:00+00:00  Художественный   \n",
       "\n",
       "                                          film_studio  \\\n",
       "0   Тачстоун Пикчерз, Кобальт Пикчерз, Бикон Пикче...   \n",
       "1                               Киностудия \"Мосфильм\"   \n",
       "2   Юниверсал Пикчерз, Кикстарт Продакшнз, Марк Пл...   \n",
       "3   Юниверсал Пикчерз, Кикстарт Продакшнз, Марк Пл...   \n",
       "4   Юниверсал Пикчерз, Кикстарт Продакшнз, Марк Пл...   \n",
       "5                               Киностудия \"Мосфильм\"   \n",
       "6                               Киностудия \"Мосфильм\"   \n",
       "7   Юнайтед Артистс, Грин Стрит Филмз, Айкон Интер...   \n",
       "8                      Пульсар Продюксьон, ТФ1 Фильм    \n",
       "9              Киностудия \"Мосфильм\", Телевидение ВНР   \n",
       "10  Кеннеди/Маршал Компани, Юниверсал Пикчерз, Гип...   \n",
       "11                              Киностудия \"Мосфильм\"   \n",
       "12  Уорнер Бразерс, Лейкшор Интертейнмент, Малпасо...   \n",
       "13  Потбойлер Продакшнз, Эпсилон Моушн Пикчерз, Ск...   \n",
       "14  Кэтлей, Отель Продакшнс, Мунстоун Интертейнмен...   \n",
       "15                              Киностудия \"Мосфильм\"   \n",
       "16                              Киностудия \"Мосфильм\"   \n",
       "17                              Киностудия \"Мосфильм\"   \n",
       "18                              Киностудия \"Мосфильм\"   \n",
       "19                              Киностудия \"Мосфильм\"   \n",
       "\n",
       "         production_country                   director  \\\n",
       "0                       США              Кевин Костнер   \n",
       "1                      СССР                  Е.Матвеев   \n",
       "2                       США          Тимур Бекмамбетов   \n",
       "3                       США          Тимур Бекмамбетов   \n",
       "4                       США          Тимур Бекмамбетов   \n",
       "5                      СССР               В.Абдрашитов   \n",
       "6                      СССР                  В.Меньшов   \n",
       "7                       США              Джон Туртурро   \n",
       "8                   Франция               Эрик Беснард   \n",
       "9             СССР, Венгрия                    В.Титов   \n",
       "10                      США              Пол Грингросс   \n",
       "11                     СССР              М.Туманишвили   \n",
       "12                      США               Клинт Иствуд   \n",
       "13  Германия-Великобритания        Фернанду Мейрелльеш   \n",
       "14  Великобритания - Италия                Майк Фиггис   \n",
       "15                     СССР                 А.Салтыков   \n",
       "16                     СССР                  Г.Данелия   \n",
       "17                     СССР                  А.Смирнов   \n",
       "18                     СССР                  Ю.Чулюкин   \n",
       "19                     СССР  В.Краснопольский, В.Усков   \n",
       "\n",
       "                                             producer  \\\n",
       "0           Дэвид Валдес, Кевин Костнер, Джейк Эбертс   \n",
       "1                                                 NaN   \n",
       "2   Джим Лемли, Джейсон Нетер, Марк Е.Платт, Яйн Смит   \n",
       "3   Джим Лемли, Джейсон Нетер, Марк Е.Платт, Яйн Смит   \n",
       "4   Джим Лемли, Джейсон Нетер, Марк Е.Платт, Яйн Смит   \n",
       "5                                                 NaN   \n",
       "6                                                 NaN   \n",
       "7                         Джон Пенотти, Джон Туртурро   \n",
       "8                                         Патрис Леду   \n",
       "9                                                 NaN   \n",
       "10         Патрик Кроули, Фрэнк Маршалл, Пол Сэндберг   \n",
       "11                                                NaN   \n",
       "12  Клинт Иствуд, Том Розенберг, Альберт С.Рудди, ...   \n",
       "13                             Саймон Чэннинг Уильямс   \n",
       "14                Этчи Стро, Анни Стюарт, Майк Фиггис   \n",
       "15                                                NaN   \n",
       "16                                                NaN   \n",
       "17                                                NaN   \n",
       "18                                                NaN   \n",
       "19                                                NaN   \n",
       "\n",
       "                    age_restriction  refundable_support  \\\n",
       "0       «18+» - запрещено для детей                 0.0   \n",
       "1     «6+» - для детей старше 6 лет                 0.0   \n",
       "2       «18+» - запрещено для детей                 0.0   \n",
       "3       «18+» - запрещено для детей                 0.0   \n",
       "4       «18+» - запрещено для детей                 0.0   \n",
       "5     «6+» - для детей старше 6 лет                 0.0   \n",
       "6   «12+» - для детей старше 12 лет                 0.0   \n",
       "7       «18+» - запрещено для детей                 0.0   \n",
       "8       «18+» - запрещено для детей                 0.0   \n",
       "9   «12+» - для детей старше 12 лет                 0.0   \n",
       "10  «16+» - для детей старше 16 лет                 0.0   \n",
       "11  «12+» - для детей старше 12 лет                 0.0   \n",
       "12  «16+» - для детей старше 16 лет                 0.0   \n",
       "13  «16+» - для детей старше 16 лет                 0.0   \n",
       "14      «18+» - запрещено для детей                 0.0   \n",
       "15  «12+» - для детей старше 12 лет                 0.0   \n",
       "16  «12+» - для детей старше 12 лет                 0.0   \n",
       "17  «12+» - для детей старше 12 лет                 0.0   \n",
       "18    «6+» - для детей старше 6 лет                 0.0   \n",
       "19    «6+» - для детей старше 6 лет                 0.0   \n",
       "\n",
       "    nonrefundable_support  budget financing_source  ratings  \\\n",
       "0                     0.0     NaN      отсутствует      7.2   \n",
       "1                     0.0     NaN      отсутствует      6.6   \n",
       "2                     0.0     NaN      отсутствует      6.8   \n",
       "3                     0.0     NaN      отсутствует      6.8   \n",
       "4                     0.0     NaN      отсутствует      6.8   \n",
       "5                     0.0     NaN      отсутствует      7.7   \n",
       "6                     0.0     NaN      отсутствует      8.3   \n",
       "7                     0.0     NaN      отсутствует      6.6   \n",
       "8                     0.0     NaN      отсутствует      8.0   \n",
       "9                     0.0     NaN      отсутствует      7.8   \n",
       "10                    0.0     NaN      отсутствует      7.7   \n",
       "11                    0.0     NaN      отсутствует      7.8   \n",
       "12                    0.0     NaN      отсутствует      8.1   \n",
       "13                    0.0     NaN      отсутствует      7.1   \n",
       "14                    0.0     NaN      отсутствует      6.0   \n",
       "15                    0.0     NaN      отсутствует      8.3   \n",
       "16                    0.0     NaN      отсутствует      8.0   \n",
       "17                    0.0     NaN      отсутствует      7.4   \n",
       "18                    0.0     NaN      отсутствует      8.0   \n",
       "19                    0.0     NaN      отсутствует      7.7   \n",
       "\n",
       "                       genres  box_office  \n",
       "0      боевик,драма,мелодрама         NaN  \n",
       "1               драма,военный         NaN  \n",
       "2   фантастика,боевик,триллер         NaN  \n",
       "3   фантастика,боевик,триллер         NaN  \n",
       "4   фантастика,боевик,триллер         NaN  \n",
       "5                       драма         NaN  \n",
       "6           мелодрама,комедия      2700.0  \n",
       "7    мюзикл,мелодрама,комедия         NaN  \n",
       "8            комедия,криминал         NaN  \n",
       "9           мелодрама,комедия         NaN  \n",
       "10    боевик,триллер,детектив         NaN  \n",
       "11   боевик,драма,приключения         NaN  \n",
       "12                драма,спорт         NaN  \n",
       "13    триллер,драма,мелодрама         NaN  \n",
       "14          комедия,мелодрама         NaN  \n",
       "15                      драма         NaN  \n",
       "16    драма,мелодрама,комедия         NaN  \n",
       "17            драма,мелодрама         NaN  \n",
       "18          мелодрама,комедия       360.0  \n",
       "19                      драма       420.0  "
      ]
     },
     "execution_count": 53,
     "metadata": {},
     "output_type": "execute_result"
    }
   ],
   "source": [
    "#Изучим категориальные столбцы.\n",
    "movies.head(20)"
   ]
  },
  {
   "cell_type": "markdown",
   "metadata": {},
   "source": [
    "В столбцах genres, production_country и др. в одной ячейке встречается несколько значений, перечисленных через запятую. Это усложняет поиск и анализ информации. Вероятно, следовало бы создать отдельные колонки для каждого значения, например, production_country1, production_country2 и т.д."
   ]
  },
  {
   "cell_type": "code",
   "execution_count": 54,
   "metadata": {
    "id": "PnXKIVdFgFyR"
   },
   "outputs": [
    {
     "data": {
      "text/plain": [
       "['Художественный',\n",
       " 'Анимационный',\n",
       " 'Прочие',\n",
       " 'Документальный',\n",
       " 'Научно-популярный',\n",
       " ' Художественный',\n",
       " ' Анимационный',\n",
       " 'Музыкально-развлекательный']"
      ]
     },
     "execution_count": 54,
     "metadata": {},
     "output_type": "execute_result"
    }
   ],
   "source": [
    "list(movies['type'].unique())"
   ]
  },
  {
   "cell_type": "markdown",
   "metadata": {},
   "source": [
    "В списке уникальных типов есть неявные дубликаты, которые образовались из-за пробелов, стоящих перед типом."
   ]
  },
  {
   "cell_type": "code",
   "execution_count": 55,
   "metadata": {},
   "outputs": [],
   "source": [
    "#Удалим пробелы.\n",
    "movies['type'] = movies['type'].str.strip()"
   ]
  },
  {
   "cell_type": "code",
   "execution_count": 56,
   "metadata": {
    "scrolled": true
   },
   "outputs": [
    {
     "data": {
      "text/plain": [
       "['Художественный',\n",
       " 'Анимационный',\n",
       " 'Прочие',\n",
       " 'Документальный',\n",
       " 'Научно-популярный',\n",
       " 'Музыкально-развлекательный']"
      ]
     },
     "execution_count": 56,
     "metadata": {},
     "output_type": "execute_result"
    }
   ],
   "source": [
    "list(movies['type'].unique())"
   ]
  },
  {
   "cell_type": "markdown",
   "metadata": {},
   "source": [
    "Дубликаты типов с пробелами исчезли."
   ]
  },
  {
   "cell_type": "markdown",
   "metadata": {},
   "source": [
    "**Категориальные значения:**\n",
    "\n",
    "В некоторых столбцах с категориальными значениями в одной ячейке указано более одного значения, что осложняет поиск и анализ данных.\n",
    "В столбце type были удалены дубликаты типов."
   ]
  },
  {
   "cell_type": "markdown",
   "metadata": {
    "id": "XFSN5lrEgFyR"
   },
   "source": [
    "#### Шаг 2.5. Проверьте количественные значения\n",
    "\n",
    "- Проверьте, обнаружились ли в таких столбцах подозрительные данные. Как с такими данными лучше поступить?\n",
    "\n",
    "<div id=\"accordion\">\n",
    "    <div class=\"card\">\n",
    "        <div class=\"card-header\" id=\"headingThree\">\n",
    "            <button class=\"btn btn-link collapsed\" data-toggle=\"collapse\" data-target=\"#collapseHint_budget\" aria-expanded=\"false\" aria-controls=\"collapseHint_budget\">Подсказка</button>\n",
    "        </div>\n",
    "        <div id=\"collapseHint_budget\" class=\"collapse\" aria-labelledby=\"headingThree\" data-parent=\"#accordion\">\n",
    "            <div class=\"card-body\">\n",
    "Обратите внимание на описание столбца <code>budget</code>. Как этот столбец соотносится с двумя другими: <code>refundable_support</code> и <code>nonrefundable_support</code>?\n",
    "            </div>\n",
    "        </div>\n",
    "    </div>\n",
    "</div>"
   ]
  },
  {
   "cell_type": "code",
   "execution_count": 57,
   "metadata": {
    "id": "YbzClBxagFyS"
   },
   "outputs": [
    {
     "data": {
      "text/html": [
       "<div>\n",
       "<style scoped>\n",
       "    .dataframe tbody tr th:only-of-type {\n",
       "        vertical-align: middle;\n",
       "    }\n",
       "\n",
       "    .dataframe tbody tr th {\n",
       "        vertical-align: top;\n",
       "    }\n",
       "\n",
       "    .dataframe thead th {\n",
       "        text-align: right;\n",
       "    }\n",
       "</style>\n",
       "<table border=\"1\" class=\"dataframe\">\n",
       "  <thead>\n",
       "    <tr style=\"text-align: right;\">\n",
       "      <th></th>\n",
       "      <th>budget</th>\n",
       "      <th>refundable_support</th>\n",
       "      <th>nonrefundable_support</th>\n",
       "    </tr>\n",
       "  </thead>\n",
       "  <tbody>\n",
       "    <tr>\n",
       "      <th>7114</th>\n",
       "      <td>2.305074e+09</td>\n",
       "      <td>180000000.0</td>\n",
       "      <td>90000000.0</td>\n",
       "    </tr>\n",
       "    <tr>\n",
       "      <th>5437</th>\n",
       "      <td>1.032906e+09</td>\n",
       "      <td>110000000.0</td>\n",
       "      <td>190000000.0</td>\n",
       "    </tr>\n",
       "    <tr>\n",
       "      <th>7464</th>\n",
       "      <td>9.800000e+08</td>\n",
       "      <td>100000000.0</td>\n",
       "      <td>400000000.0</td>\n",
       "    </tr>\n",
       "    <tr>\n",
       "      <th>7474</th>\n",
       "      <td>9.440000e+08</td>\n",
       "      <td>100000000.0</td>\n",
       "      <td>400000000.0</td>\n",
       "    </tr>\n",
       "    <tr>\n",
       "      <th>7171</th>\n",
       "      <td>7.799420e+08</td>\n",
       "      <td>0.0</td>\n",
       "      <td>60000000.0</td>\n",
       "    </tr>\n",
       "    <tr>\n",
       "      <th>3351</th>\n",
       "      <td>6.842005e+08</td>\n",
       "      <td>150000000.0</td>\n",
       "      <td>300000000.0</td>\n",
       "    </tr>\n",
       "    <tr>\n",
       "      <th>2920</th>\n",
       "      <td>6.352839e+08</td>\n",
       "      <td>50000000.0</td>\n",
       "      <td>392104482.0</td>\n",
       "    </tr>\n",
       "    <tr>\n",
       "      <th>5653</th>\n",
       "      <td>5.901922e+08</td>\n",
       "      <td>0.0</td>\n",
       "      <td>400000000.0</td>\n",
       "    </tr>\n",
       "    <tr>\n",
       "      <th>6549</th>\n",
       "      <td>5.637847e+08</td>\n",
       "      <td>60000000.0</td>\n",
       "      <td>120000000.0</td>\n",
       "    </tr>\n",
       "    <tr>\n",
       "      <th>3255</th>\n",
       "      <td>5.284420e+08</td>\n",
       "      <td>75000000.0</td>\n",
       "      <td>175000000.0</td>\n",
       "    </tr>\n",
       "    <tr>\n",
       "      <th>5569</th>\n",
       "      <td>5.000127e+08</td>\n",
       "      <td>100000000.0</td>\n",
       "      <td>250000000.0</td>\n",
       "    </tr>\n",
       "    <tr>\n",
       "      <th>2142</th>\n",
       "      <td>5.000000e+08</td>\n",
       "      <td>30000000.0</td>\n",
       "      <td>30000000.0</td>\n",
       "    </tr>\n",
       "    <tr>\n",
       "      <th>6699</th>\n",
       "      <td>4.998266e+08</td>\n",
       "      <td>0.0</td>\n",
       "      <td>130000000.0</td>\n",
       "    </tr>\n",
       "    <tr>\n",
       "      <th>5502</th>\n",
       "      <td>4.937340e+08</td>\n",
       "      <td>0.0</td>\n",
       "      <td>225000000.0</td>\n",
       "    </tr>\n",
       "    <tr>\n",
       "      <th>6887</th>\n",
       "      <td>4.537047e+08</td>\n",
       "      <td>0.0</td>\n",
       "      <td>300000000.0</td>\n",
       "    </tr>\n",
       "    <tr>\n",
       "      <th>2092</th>\n",
       "      <td>4.364372e+08</td>\n",
       "      <td>0.0</td>\n",
       "      <td>56579055.0</td>\n",
       "    </tr>\n",
       "    <tr>\n",
       "      <th>3453</th>\n",
       "      <td>4.300000e+08</td>\n",
       "      <td>100000000.0</td>\n",
       "      <td>200000000.0</td>\n",
       "    </tr>\n",
       "    <tr>\n",
       "      <th>3042</th>\n",
       "      <td>3.990753e+08</td>\n",
       "      <td>40000000.0</td>\n",
       "      <td>0.0</td>\n",
       "    </tr>\n",
       "    <tr>\n",
       "      <th>5826</th>\n",
       "      <td>3.901911e+08</td>\n",
       "      <td>0.0</td>\n",
       "      <td>260000000.0</td>\n",
       "    </tr>\n",
       "    <tr>\n",
       "      <th>5914</th>\n",
       "      <td>3.850000e+08</td>\n",
       "      <td>30000000.0</td>\n",
       "      <td>30000000.0</td>\n",
       "    </tr>\n",
       "  </tbody>\n",
       "</table>\n",
       "</div>"
      ],
      "text/plain": [
       "            budget  refundable_support  nonrefundable_support\n",
       "7114  2.305074e+09         180000000.0             90000000.0\n",
       "5437  1.032906e+09         110000000.0            190000000.0\n",
       "7464  9.800000e+08         100000000.0            400000000.0\n",
       "7474  9.440000e+08         100000000.0            400000000.0\n",
       "7171  7.799420e+08                 0.0             60000000.0\n",
       "3351  6.842005e+08         150000000.0            300000000.0\n",
       "2920  6.352839e+08          50000000.0            392104482.0\n",
       "5653  5.901922e+08                 0.0            400000000.0\n",
       "6549  5.637847e+08          60000000.0            120000000.0\n",
       "3255  5.284420e+08          75000000.0            175000000.0\n",
       "5569  5.000127e+08         100000000.0            250000000.0\n",
       "2142  5.000000e+08          30000000.0             30000000.0\n",
       "6699  4.998266e+08                 0.0            130000000.0\n",
       "5502  4.937340e+08                 0.0            225000000.0\n",
       "6887  4.537047e+08                 0.0            300000000.0\n",
       "2092  4.364372e+08                 0.0             56579055.0\n",
       "3453  4.300000e+08         100000000.0            200000000.0\n",
       "3042  3.990753e+08          40000000.0                    0.0\n",
       "5826  3.901911e+08                 0.0            260000000.0\n",
       "5914  3.850000e+08          30000000.0             30000000.0"
      ]
     },
     "execution_count": 57,
     "metadata": {},
     "output_type": "execute_result"
    }
   ],
   "source": [
    "#Изучим основные количественные столбцы.\n",
    "movies[['budget', 'refundable_support', 'nonrefundable_support']].sort_values(by='budget', ascending=False).head(20)"
   ]
  },
  {
   "cell_type": "markdown",
   "metadata": {},
   "source": [
    "Видно, что в некоторых случаях общий бюджет фильма значительно превышает сумму госфинансирования. Это возможно, потому что у фильма, помимо госорганов, могут быть и другие (частные) источники финансирования. Невероятной кажется обратная ситуация, когда господдержка оказывается больше общего бюджета фильма"
   ]
  },
  {
   "cell_type": "code",
   "execution_count": 58,
   "metadata": {},
   "outputs": [],
   "source": [
    "#Проверим, бывают ли случаи, когда общий бюджет фильма меньше, чем господдержка.\n",
    "movies['diff'] = movies['budget'] - (movies['refundable_support'] + movies['nonrefundable_support'])"
   ]
  },
  {
   "cell_type": "code",
   "execution_count": 59,
   "metadata": {
    "scrolled": false
   },
   "outputs": [
    {
     "data": {
      "text/plain": [
       "2053    -23000000.0\n",
       "2058    -75000000.0\n",
       "2472    -80000000.0\n",
       "2532    -20000000.0\n",
       "2615   -160000000.0\n",
       "2684    -59000000.0\n",
       "2788    -35000000.0\n",
       "2874     -6000000.0\n",
       "3047    -70000000.0\n",
       "3565   -250000000.0\n",
       "3675    -40000000.0\n",
       "3739    -45000000.0\n",
       "5673    -60000000.0\n",
       "5806    -70000000.0\n",
       "6008    -80000000.0\n",
       "6323   -138969465.0\n",
       "6823   -180000000.0\n",
       "Name: diff, dtype: float64"
      ]
     },
     "execution_count": 59,
     "metadata": {},
     "output_type": "execute_result"
    }
   ],
   "source": [
    "movies['diff'][movies['diff'] < 0]"
   ]
  },
  {
   "cell_type": "markdown",
   "metadata": {},
   "source": [
    "Есть 17 фильмов, чей бюджет меньше полученного ими госфинансирования. Трудно сказать, что значит этот показатель. Возможно, это фильмы, при производстве которых не были полностью потрачены полученные ими госсредства. Нужно исследовать эти фильмы поподробнее."
   ]
  },
  {
   "cell_type": "code",
   "execution_count": 60,
   "metadata": {},
   "outputs": [
    {
     "data": {
      "text/html": [
       "<div>\n",
       "<style scoped>\n",
       "    .dataframe tbody tr th:only-of-type {\n",
       "        vertical-align: middle;\n",
       "    }\n",
       "\n",
       "    .dataframe tbody tr th {\n",
       "        vertical-align: top;\n",
       "    }\n",
       "\n",
       "    .dataframe thead th {\n",
       "        text-align: right;\n",
       "    }\n",
       "</style>\n",
       "<table border=\"1\" class=\"dataframe\">\n",
       "  <thead>\n",
       "    <tr style=\"text-align: right;\">\n",
       "      <th></th>\n",
       "      <th>budget</th>\n",
       "      <th>refundable_support</th>\n",
       "      <th>nonrefundable_support</th>\n",
       "    </tr>\n",
       "  </thead>\n",
       "  <tbody>\n",
       "    <tr>\n",
       "      <th>2053</th>\n",
       "      <td>0.0</td>\n",
       "      <td>0.0</td>\n",
       "      <td>23000000.0</td>\n",
       "    </tr>\n",
       "    <tr>\n",
       "      <th>2058</th>\n",
       "      <td>0.0</td>\n",
       "      <td>0.0</td>\n",
       "      <td>75000000.0</td>\n",
       "    </tr>\n",
       "    <tr>\n",
       "      <th>2472</th>\n",
       "      <td>0.0</td>\n",
       "      <td>10000000.0</td>\n",
       "      <td>70000000.0</td>\n",
       "    </tr>\n",
       "    <tr>\n",
       "      <th>2532</th>\n",
       "      <td>0.0</td>\n",
       "      <td>20000000.0</td>\n",
       "      <td>0.0</td>\n",
       "    </tr>\n",
       "    <tr>\n",
       "      <th>2615</th>\n",
       "      <td>0.0</td>\n",
       "      <td>60000000.0</td>\n",
       "      <td>100000000.0</td>\n",
       "    </tr>\n",
       "    <tr>\n",
       "      <th>2684</th>\n",
       "      <td>0.0</td>\n",
       "      <td>0.0</td>\n",
       "      <td>59000000.0</td>\n",
       "    </tr>\n",
       "    <tr>\n",
       "      <th>2788</th>\n",
       "      <td>0.0</td>\n",
       "      <td>0.0</td>\n",
       "      <td>35000000.0</td>\n",
       "    </tr>\n",
       "    <tr>\n",
       "      <th>2874</th>\n",
       "      <td>0.0</td>\n",
       "      <td>0.0</td>\n",
       "      <td>6000000.0</td>\n",
       "    </tr>\n",
       "    <tr>\n",
       "      <th>3047</th>\n",
       "      <td>0.0</td>\n",
       "      <td>19000000.0</td>\n",
       "      <td>51000000.0</td>\n",
       "    </tr>\n",
       "    <tr>\n",
       "      <th>3565</th>\n",
       "      <td>0.0</td>\n",
       "      <td>0.0</td>\n",
       "      <td>250000000.0</td>\n",
       "    </tr>\n",
       "    <tr>\n",
       "      <th>3675</th>\n",
       "      <td>0.0</td>\n",
       "      <td>20000000.0</td>\n",
       "      <td>20000000.0</td>\n",
       "    </tr>\n",
       "    <tr>\n",
       "      <th>3739</th>\n",
       "      <td>0.0</td>\n",
       "      <td>25000000.0</td>\n",
       "      <td>20000000.0</td>\n",
       "    </tr>\n",
       "    <tr>\n",
       "      <th>5673</th>\n",
       "      <td>0.0</td>\n",
       "      <td>20000000.0</td>\n",
       "      <td>40000000.0</td>\n",
       "    </tr>\n",
       "    <tr>\n",
       "      <th>5806</th>\n",
       "      <td>0.0</td>\n",
       "      <td>10000000.0</td>\n",
       "      <td>60000000.0</td>\n",
       "    </tr>\n",
       "    <tr>\n",
       "      <th>6008</th>\n",
       "      <td>0.0</td>\n",
       "      <td>40000000.0</td>\n",
       "      <td>40000000.0</td>\n",
       "    </tr>\n",
       "    <tr>\n",
       "      <th>6323</th>\n",
       "      <td>0.0</td>\n",
       "      <td>0.0</td>\n",
       "      <td>138969465.0</td>\n",
       "    </tr>\n",
       "    <tr>\n",
       "      <th>6823</th>\n",
       "      <td>0.0</td>\n",
       "      <td>60000000.0</td>\n",
       "      <td>120000000.0</td>\n",
       "    </tr>\n",
       "  </tbody>\n",
       "</table>\n",
       "</div>"
      ],
      "text/plain": [
       "      budget  refundable_support  nonrefundable_support\n",
       "2053     0.0                 0.0             23000000.0\n",
       "2058     0.0                 0.0             75000000.0\n",
       "2472     0.0          10000000.0             70000000.0\n",
       "2532     0.0          20000000.0                    0.0\n",
       "2615     0.0          60000000.0            100000000.0\n",
       "2684     0.0                 0.0             59000000.0\n",
       "2788     0.0                 0.0             35000000.0\n",
       "2874     0.0                 0.0              6000000.0\n",
       "3047     0.0          19000000.0             51000000.0\n",
       "3565     0.0                 0.0            250000000.0\n",
       "3675     0.0          20000000.0             20000000.0\n",
       "3739     0.0          25000000.0             20000000.0\n",
       "5673     0.0          20000000.0             40000000.0\n",
       "5806     0.0          10000000.0             60000000.0\n",
       "6008     0.0          40000000.0             40000000.0\n",
       "6323     0.0                 0.0            138969465.0\n",
       "6823     0.0          60000000.0            120000000.0"
      ]
     },
     "execution_count": 60,
     "metadata": {},
     "output_type": "execute_result"
    }
   ],
   "source": [
    "#Проверим финансовые показатели этих фильмов.\n",
    "movies[movies['diff'] < 0][['budget', 'refundable_support', 'nonrefundable_support']]"
   ]
  },
  {
   "cell_type": "markdown",
   "metadata": {},
   "source": [
    "Эти фильмы получали поддержку от государства, но у них по какой-то причине указан нулевой бюджет. Отсюда и отрицательная разница в столбце diff."
   ]
  },
  {
   "cell_type": "code",
   "execution_count": 61,
   "metadata": {},
   "outputs": [],
   "source": [
    "#Удалим более ненужный столбец.\n",
    "movies = movies.drop(columns='diff') "
   ]
  },
  {
   "cell_type": "markdown",
   "metadata": {},
   "source": [
    "**Количественные значения:**\n",
    "\n",
    "При анализе столбцов, содержащих количественные значения, была обнаружена странность: общий бюджет нескольких фильмов оказался меньше, полученного ими госфинансирования. Это требует дополнительных данных и анализа."
   ]
  },
  {
   "cell_type": "markdown",
   "metadata": {
    "id": "Eu6oWp2CgFyS"
   },
   "source": [
    "#### Шаг 2.6. Добавьте новые столбцы\n",
    "\n",
    "\n",
    "\n"
   ]
  },
  {
   "cell_type": "markdown",
   "metadata": {
    "id": "7GgW-UpAgFyS"
   },
   "source": [
    "- Создайте столбец с информацией о годе проката. Выделите год из даты премьеры фильма."
   ]
  },
  {
   "cell_type": "code",
   "execution_count": 62,
   "metadata": {
    "id": "I-yd1DkWgFyT"
   },
   "outputs": [],
   "source": [
    "#Добавим столбец year, указывающий год проката.\n",
    "movies['year'] = pd.DatetimeIndex(movies['show_start_date']).year"
   ]
  },
  {
   "cell_type": "code",
   "execution_count": 63,
   "metadata": {},
   "outputs": [
    {
     "data": {
      "text/plain": [
       "0    2015\n",
       "1    2016\n",
       "2    2016\n",
       "3    2016\n",
       "4    2015\n",
       "Name: year, dtype: int64"
      ]
     },
     "execution_count": 63,
     "metadata": {},
     "output_type": "execute_result"
    }
   ],
   "source": [
    "#Проверим наличие нового столбца.\n",
    "movies['year'].head()"
   ]
  },
  {
   "cell_type": "markdown",
   "metadata": {
    "id": "nFTDLDYOgFyT"
   },
   "source": [
    "- Создайте два столбца: с именем и фамилией главного режиссёра и основным жанром фильма. В столбцы войдут первые значения из списка режиссёров и жанров соответственно.\n",
    "\n",
    "<div id=\"accordion\">\n",
    "    <div class=\"card\">\n",
    "        <div class=\"card-header\" id=\"headingThree\">\n",
    "            <button class=\"btn btn-link collapsed\" data-toggle=\"collapse\" data-target=\"#collapseHint_2\" aria-expanded=\"false\" aria-controls=\"collapseHint_2\">Подсказка</button>\n",
    "        </div>\n",
    "        <div id=\"collapseHint_2\" class=\"collapse\" aria-labelledby=\"headingThree\" data-parent=\"#accordion\">\n",
    "            <div class=\"card-body\">\n",
    "Чтобы создать такие столбцы, лучше всего использовать собственную функцию. Эту функцию можно применить к двум столбцам сразу. \n",
    "            </div>\n",
    "        </div>\n",
    "    </div>\n",
    "</div>"
   ]
  },
  {
   "cell_type": "code",
   "execution_count": 64,
   "metadata": {},
   "outputs": [],
   "source": [
    "#Добавим столбец с указанием главного режиссера. Для этого извлечем имя первого режиссера, указанного в столбце director.\n",
    "movies['main_director'] = movies['director'].str.split(',',expand=True)[0]"
   ]
  },
  {
   "cell_type": "code",
   "execution_count": 65,
   "metadata": {},
   "outputs": [
    {
     "data": {
      "text/plain": [
       "0        Кевин Костнер\n",
       "1            Е.Матвеев\n",
       "2    Тимур Бекмамбетов\n",
       "3    Тимур Бекмамбетов\n",
       "4    Тимур Бекмамбетов\n",
       "Name: main_director, dtype: object"
      ]
     },
     "execution_count": 65,
     "metadata": {},
     "output_type": "execute_result"
    }
   ],
   "source": [
    "#Проверим новый столбец main_director.\n",
    "movies['main_director'].head()"
   ]
  },
  {
   "cell_type": "code",
   "execution_count": 66,
   "metadata": {
    "id": "LSbRZKbMgFyU"
   },
   "outputs": [],
   "source": [
    "#Добавим столбец с указанием главного жанра фильма. Для этого извлечем первый жанр, указанный в столбце genres.\n",
    "movies['main_genre'] = movies['genres'].str.split(',',expand=True)[0]"
   ]
  },
  {
   "cell_type": "code",
   "execution_count": 67,
   "metadata": {},
   "outputs": [
    {
     "data": {
      "text/plain": [
       "0        боевик\n",
       "1         драма\n",
       "2    фантастика\n",
       "3    фантастика\n",
       "4    фантастика\n",
       "Name: main_genre, dtype: object"
      ]
     },
     "execution_count": 67,
     "metadata": {},
     "output_type": "execute_result"
    }
   ],
   "source": [
    "#Проверим новый столбец main_genre.\n",
    "movies['main_genre'].head()"
   ]
  },
  {
   "cell_type": "markdown",
   "metadata": {
    "id": "1FsCXHwdgFyU"
   },
   "source": [
    "- Посчитайте, какую долю от общего бюджета фильма составляет государственная поддержка."
   ]
  },
  {
   "cell_type": "code",
   "execution_count": 68,
   "metadata": {},
   "outputs": [],
   "source": [
    "#Ранее мы выяснили, что бюджеты, а также возвращаемые и невозвращаемые части господдержки, \n",
    "#указаны только у части современных российских фильмов. Отсортируем эти фильмы. \n",
    "supported_movies = movies[movies['budget']>0]"
   ]
  },
  {
   "cell_type": "code",
   "execution_count": 69,
   "metadata": {
    "id": "LV6qFuZLgFyV"
   },
   "outputs": [
    {
     "name": "stderr",
     "output_type": "stream",
     "text": [
      "C:\\Users\\Suntory1\\AppData\\Local\\Temp\\ipykernel_21804\\4249085957.py:2: SettingWithCopyWarning: \n",
      "A value is trying to be set on a copy of a slice from a DataFrame.\n",
      "Try using .loc[row_indexer,col_indexer] = value instead\n",
      "\n",
      "See the caveats in the documentation: https://pandas.pydata.org/pandas-docs/stable/user_guide/indexing.html#returning-a-view-versus-a-copy\n",
      "  supported_movies['ratio'] = \\\n"
     ]
    }
   ],
   "source": [
    "#Добавим столбец ratio, который покажет, сколько процентов от общей стоимости фильма составляет господдержка.\n",
    "supported_movies['ratio'] = \\\n",
    "(supported_movies['refundable_support']+supported_movies['nonrefundable_support'])/supported_movies['budget']*100"
   ]
  },
  {
   "cell_type": "code",
   "execution_count": 70,
   "metadata": {
    "scrolled": true
   },
   "outputs": [
    {
     "data": {
      "text/plain": [
       "count    315.000000\n",
       "mean      51.738582\n",
       "std       17.004298\n",
       "min        4.404305\n",
       "25%       37.345810\n",
       "50%       59.226455\n",
       "75%       65.693118\n",
       "max       78.474525\n",
       "Name: ratio, dtype: float64"
      ]
     },
     "execution_count": 70,
     "metadata": {},
     "output_type": "execute_result"
    }
   ],
   "source": [
    "#Рассмотрим столбец ratio поподробнее.\n",
    "supported_movies['ratio'].describe()"
   ]
  },
  {
   "cell_type": "markdown",
   "metadata": {},
   "source": [
    "Медианное значение господдержки - 51%. Как правило, фильмы получают поддержку в размере от 37% до 65%. Максимальная господдержка составляет 78% от общего бюджета фильма. Есть фильмы, которые получили лишь 4% господдержки"
   ]
  },
  {
   "cell_type": "markdown",
   "metadata": {},
   "source": [
    "**Новые столбцы:**\n",
    "\n",
    "К датафрейму было добавлено 3 новых столбца: year, main_director, main_genre.  Также была посчитано, что, как правило, доля господдержки в общем бюджете спонсируемого фильма составляет примерно от 37% до 65%."
   ]
  },
  {
   "cell_type": "markdown",
   "metadata": {
    "id": "6t4EukPLgFyV"
   },
   "source": [
    "### Шаг 3. Проведите исследовательский анализ данных\n"
   ]
  },
  {
   "cell_type": "markdown",
   "metadata": {
    "id": "vAH8WCzugFyV"
   },
   "source": [
    "- Посмотрите, сколько фильмов выходило в прокат каждый год. Обратите внимание, что данные о прокате в кинотеатрах известны не для всех фильмов. Посчитайте, какую долю составляют фильмы с указанной информацией о прокате в кинотеатрах."
   ]
  },
  {
   "cell_type": "code",
   "execution_count": 71,
   "metadata": {
    "id": "ABeV47y7gFyW",
    "scrolled": true
   },
   "outputs": [],
   "source": [
    "#Посмотрим, сколько фильмов выходило в прокат каждый год.\n",
    "year_info = movies.groupby('year')['title'].count()"
   ]
  },
  {
   "cell_type": "code",
   "execution_count": 72,
   "metadata": {},
   "outputs": [
    {
     "data": {
      "text/plain": [
       "year\n",
       "2010    985\n",
       "2011    622\n",
       "2012    593\n",
       "2013    630\n",
       "2014    807\n",
       "2015    705\n",
       "2016    818\n",
       "2017    505\n",
       "2018    891\n",
       "2019    930\n",
       "Name: title, dtype: int64"
      ]
     },
     "execution_count": 72,
     "metadata": {},
     "output_type": "execute_result"
    }
   ],
   "source": [
    "year_info"
   ]
  },
  {
   "cell_type": "code",
   "execution_count": 73,
   "metadata": {},
   "outputs": [
    {
     "data": {
      "text/plain": [
       "count     10.00000\n",
       "mean     748.60000\n",
       "std      160.84582\n",
       "min      505.00000\n",
       "25%      624.00000\n",
       "50%      756.00000\n",
       "75%      872.75000\n",
       "max      985.00000\n",
       "Name: title, dtype: float64"
      ]
     },
     "execution_count": 73,
     "metadata": {},
     "output_type": "execute_result"
    }
   ],
   "source": [
    "year_info.describe()"
   ]
  },
  {
   "cell_type": "code",
   "execution_count": 74,
   "metadata": {
    "scrolled": true
   },
   "outputs": [
    {
     "data": {
      "image/png": "[encoded data removed]",
      "text/plain": [
       "<Figure size 432x288 with 1 Axes>"
      ]
     },
     "metadata": {
      "needs_background": "light"
     },
     "output_type": "display_data"
    }
   ],
   "source": [
    "movies.hist('year', bins=10)\n",
    "plt.title('Количество фильмов, вышедших в прокат в 2010-2019гг')\n",
    "plt.xlabel('Год') \n",
    "plt.ylabel('Количество фильмов');"
   ]
  },
  {
   "cell_type": "markdown",
   "metadata": {},
   "source": [
    "Из гистограммы и табличной информации выше видно, что количество фильмов, вышедших в прокат с 2010 по 2019гг, сильно разнится от года к году. Максимальный показатель - 985 фильмов в 2010 году, минимальный - 505 в 2017 году. В среднем ежегодно выходило около 750 фильмов. В целом с 2014 видна тенденция к увеличению количества фильмов в прокате, однако рекорд 2010 года так и не был побит."
   ]
  },
  {
   "cell_type": "code",
   "execution_count": 75,
   "metadata": {
    "scrolled": true
   },
   "outputs": [],
   "source": [
    "#Посмотрим, сколько фильмов выходило в прокат каждый год и по скольким известны кассовые сборы.\n",
    "box_info = movies.pivot_table(index='year', values=['title', 'box_office'], aggfunc='count')"
   ]
  },
  {
   "cell_type": "code",
   "execution_count": 76,
   "metadata": {},
   "outputs": [
    {
     "data": {
      "text/html": [
       "<div>\n",
       "<style scoped>\n",
       "    .dataframe tbody tr th:only-of-type {\n",
       "        vertical-align: middle;\n",
       "    }\n",
       "\n",
       "    .dataframe tbody tr th {\n",
       "        vertical-align: top;\n",
       "    }\n",
       "\n",
       "    .dataframe thead th {\n",
       "        text-align: right;\n",
       "    }\n",
       "</style>\n",
       "<table border=\"1\" class=\"dataframe\">\n",
       "  <thead>\n",
       "    <tr style=\"text-align: right;\">\n",
       "      <th></th>\n",
       "      <th>box_office</th>\n",
       "      <th>title</th>\n",
       "    </tr>\n",
       "    <tr>\n",
       "      <th>year</th>\n",
       "      <th></th>\n",
       "      <th></th>\n",
       "    </tr>\n",
       "  </thead>\n",
       "  <tbody>\n",
       "    <tr>\n",
       "      <th>2010</th>\n",
       "      <td>105</td>\n",
       "      <td>985</td>\n",
       "    </tr>\n",
       "    <tr>\n",
       "      <th>2011</th>\n",
       "      <td>109</td>\n",
       "      <td>622</td>\n",
       "    </tr>\n",
       "    <tr>\n",
       "      <th>2012</th>\n",
       "      <td>128</td>\n",
       "      <td>593</td>\n",
       "    </tr>\n",
       "    <tr>\n",
       "      <th>2013</th>\n",
       "      <td>184</td>\n",
       "      <td>630</td>\n",
       "    </tr>\n",
       "    <tr>\n",
       "      <th>2014</th>\n",
       "      <td>279</td>\n",
       "      <td>807</td>\n",
       "    </tr>\n",
       "    <tr>\n",
       "      <th>2015</th>\n",
       "      <td>465</td>\n",
       "      <td>705</td>\n",
       "    </tr>\n",
       "    <tr>\n",
       "      <th>2016</th>\n",
       "      <td>526</td>\n",
       "      <td>818</td>\n",
       "    </tr>\n",
       "    <tr>\n",
       "      <th>2017</th>\n",
       "      <td>357</td>\n",
       "      <td>505</td>\n",
       "    </tr>\n",
       "    <tr>\n",
       "      <th>2018</th>\n",
       "      <td>475</td>\n",
       "      <td>891</td>\n",
       "    </tr>\n",
       "    <tr>\n",
       "      <th>2019</th>\n",
       "      <td>530</td>\n",
       "      <td>930</td>\n",
       "    </tr>\n",
       "  </tbody>\n",
       "</table>\n",
       "</div>"
      ],
      "text/plain": [
       "      box_office  title\n",
       "year                   \n",
       "2010         105    985\n",
       "2011         109    622\n",
       "2012         128    593\n",
       "2013         184    630\n",
       "2014         279    807\n",
       "2015         465    705\n",
       "2016         526    818\n",
       "2017         357    505\n",
       "2018         475    891\n",
       "2019         530    930"
      ]
     },
     "execution_count": 76,
     "metadata": {},
     "output_type": "execute_result"
    }
   ],
   "source": [
    "box_info\n",
    "#Видно, что с каждым годом учет кассовых сборов становился полнее."
   ]
  },
  {
   "cell_type": "code",
   "execution_count": 77,
   "metadata": {},
   "outputs": [],
   "source": [
    "#Изучим, какую долю составляют фильмы с известной суммой сборов в прокате от общего числа фильмов.\n",
    "box_info['ratio'] = round((box_info['box_office']/box_info['title'])*100, 2)"
   ]
  },
  {
   "cell_type": "code",
   "execution_count": 78,
   "metadata": {
    "scrolled": true
   },
   "outputs": [
    {
     "data": {
      "text/plain": [
       "year\n",
       "2010    10.66\n",
       "2011    17.52\n",
       "2012    21.59\n",
       "2013    29.21\n",
       "2014    34.57\n",
       "2015    65.96\n",
       "2016    64.30\n",
       "2017    70.69\n",
       "2018    53.31\n",
       "2019    56.99\n",
       "Name: ratio, dtype: float64"
      ]
     },
     "execution_count": 78,
     "metadata": {},
     "output_type": "execute_result"
    }
   ],
   "source": [
    "box_info['ratio']"
   ]
  },
  {
   "cell_type": "code",
   "execution_count": 110,
   "metadata": {
    "scrolled": false
   },
   "outputs": [
    {
     "data": {
      "image/png": "[encoded data removed]",
      "text/plain": [
       "<Figure size 432x432 with 1 Axes>"
      ]
     },
     "metadata": {
      "needs_background": "light"
     },
     "output_type": "display_data"
    }
   ],
   "source": [
    "box_info['ratio'].plot(kind='bar', figsize=(6, 6))\n",
    "plt.title('Доля фильмов с учтённым кассовым сбором')\n",
    "plt.xlabel('Год')\n",
    "plt.ylabel('Проценты');"
   ]
  },
  {
   "cell_type": "markdown",
   "metadata": {},
   "source": [
    "Видно, что доля фильмов, по которым известны данные по кассовым сборам, стабильно росла до 2018 года. С 2015 года доля таких фильмов превышает половину от всех кинолент, вышедших в прокат."
   ]
  },
  {
   "cell_type": "markdown",
   "metadata": {
    "id": "BEOdcIrIgFyW"
   },
   "source": [
    "- Изучите, как менялась динамика проката по годам. В каком году сумма сборов была минимальной? А максимальной?"
   ]
  },
  {
   "cell_type": "code",
   "execution_count": 80,
   "metadata": {
    "scrolled": true
   },
   "outputs": [
    {
     "data": {
      "text/plain": [
       "year\n",
       "2010    2.428654e+06\n",
       "2011    1.410276e+07\n",
       "2012    6.955423e+06\n",
       "2013    2.979971e+07\n",
       "2014    7.444952e+09\n",
       "2015    3.949737e+10\n",
       "2016    4.786630e+10\n",
       "2017    4.856371e+10\n",
       "2018    4.966840e+10\n",
       "2019    4.842571e+10\n",
       "Name: box_office, dtype: float64"
      ]
     },
     "execution_count": 80,
     "metadata": {},
     "output_type": "execute_result"
    }
   ],
   "source": [
    "#Определим года с минимальным и максимальным кассовыми сборами.\n",
    "movies.groupby('year')['box_office'].sum()"
   ]
  },
  {
   "cell_type": "code",
   "execution_count": 81,
   "metadata": {
    "scrolled": true
   },
   "outputs": [
    {
     "data": {
      "image/png": "[encoded data removed]",
      "text/plain": [
       "<Figure size 432x432 with 1 Axes>"
      ]
     },
     "metadata": {
      "needs_background": "light"
     },
     "output_type": "display_data"
    }
   ],
   "source": [
    "#Отобразим рост кассовых сборов на графике.\n",
    "movies.groupby('year')['box_office'].sum().plot(kind='bar', figsize=(6, 6))\n",
    "plt.title('Кассовые сборы в 2010-2019гг')\n",
    "plt.xlabel('Год')\n",
    "plt.ylabel('Млрд руб');"
   ]
  },
  {
   "cell_type": "markdown",
   "metadata": {},
   "source": [
    "Из табличных данных выше выходит, что минимальные сборы приходятся на 2010 год, максимальные - на 2018 год. За этот период кассовые сборы возросли примерно в 20000 раз. Однако необходимо помнить, что в 2010 году кассовые сборы были известны только у 10% фильмов, тогда как в 2018 году этот показатель составил уже 53%. Следовательно общий рост кассовых сборов объясняется не только финансовыми успехами фильмов, но и улучшением административного учета.  \n",
    "На гистограмме видно, что сумма кассовых сборов была крупнейшей и почти неизменной в период с 2016-2019гг. В 2014 кассовые сборы были намного меньше. Это переломный год. С этого года на порядок увеличились сборы. В 2010-2013гг кассовые сборы настолько малы по сравнению с аналогичными показателями за 2014-2019, что их даже не видно на графике. Повторим: такой значительный рост кассовых сборов связан не только с финансовыми успехами фильмов, но и с увеличением числа фильмов, у которых учтен кассовый сбор."
   ]
  },
  {
   "cell_type": "markdown",
   "metadata": {
    "id": "G-7qS-N-gFyY"
   },
   "source": [
    "- С помощью сводной таблицы посчитайте среднюю и медианную сумму сборов для каждого года."
   ]
  },
  {
   "cell_type": "code",
   "execution_count": 82,
   "metadata": {
    "id": "jmp-rgg9gFyY",
    "scrolled": true
   },
   "outputs": [
    {
     "data": {
      "text/html": [
       "<div>\n",
       "<style scoped>\n",
       "    .dataframe tbody tr th:only-of-type {\n",
       "        vertical-align: middle;\n",
       "    }\n",
       "\n",
       "    .dataframe tbody tr th {\n",
       "        vertical-align: top;\n",
       "    }\n",
       "\n",
       "    .dataframe thead tr th {\n",
       "        text-align: left;\n",
       "    }\n",
       "\n",
       "    .dataframe thead tr:last-of-type th {\n",
       "        text-align: right;\n",
       "    }\n",
       "</style>\n",
       "<table border=\"1\" class=\"dataframe\">\n",
       "  <thead>\n",
       "    <tr>\n",
       "      <th></th>\n",
       "      <th>median</th>\n",
       "      <th>mean</th>\n",
       "    </tr>\n",
       "    <tr>\n",
       "      <th></th>\n",
       "      <th>box_office</th>\n",
       "      <th>box_office</th>\n",
       "    </tr>\n",
       "    <tr>\n",
       "      <th>year</th>\n",
       "      <th></th>\n",
       "      <th></th>\n",
       "    </tr>\n",
       "  </thead>\n",
       "  <tbody>\n",
       "    <tr>\n",
       "      <th>2010</th>\n",
       "      <td>1700.000</td>\n",
       "      <td>2.313004e+04</td>\n",
       "    </tr>\n",
       "    <tr>\n",
       "      <th>2011</th>\n",
       "      <td>3000.000</td>\n",
       "      <td>1.293832e+05</td>\n",
       "    </tr>\n",
       "    <tr>\n",
       "      <th>2012</th>\n",
       "      <td>5660.000</td>\n",
       "      <td>5.433924e+04</td>\n",
       "    </tr>\n",
       "    <tr>\n",
       "      <th>2013</th>\n",
       "      <td>3522.500</td>\n",
       "      <td>1.619549e+05</td>\n",
       "    </tr>\n",
       "    <tr>\n",
       "      <th>2014</th>\n",
       "      <td>18160.000</td>\n",
       "      <td>2.668442e+07</td>\n",
       "    </tr>\n",
       "    <tr>\n",
       "      <th>2015</th>\n",
       "      <td>4920933.000</td>\n",
       "      <td>8.494057e+07</td>\n",
       "    </tr>\n",
       "    <tr>\n",
       "      <th>2016</th>\n",
       "      <td>3846679.410</td>\n",
       "      <td>9.100057e+07</td>\n",
       "    </tr>\n",
       "    <tr>\n",
       "      <th>2017</th>\n",
       "      <td>9968340.000</td>\n",
       "      <td>1.360328e+08</td>\n",
       "    </tr>\n",
       "    <tr>\n",
       "      <th>2018</th>\n",
       "      <td>8891102.210</td>\n",
       "      <td>1.045651e+08</td>\n",
       "    </tr>\n",
       "    <tr>\n",
       "      <th>2019</th>\n",
       "      <td>4627798.345</td>\n",
       "      <td>9.136926e+07</td>\n",
       "    </tr>\n",
       "  </tbody>\n",
       "</table>\n",
       "</div>"
      ],
      "text/plain": [
       "           median          mean\n",
       "       box_office    box_office\n",
       "year                           \n",
       "2010     1700.000  2.313004e+04\n",
       "2011     3000.000  1.293832e+05\n",
       "2012     5660.000  5.433924e+04\n",
       "2013     3522.500  1.619549e+05\n",
       "2014    18160.000  2.668442e+07\n",
       "2015  4920933.000  8.494057e+07\n",
       "2016  3846679.410  9.100057e+07\n",
       "2017  9968340.000  1.360328e+08\n",
       "2018  8891102.210  1.045651e+08\n",
       "2019  4627798.345  9.136926e+07"
      ]
     },
     "execution_count": 82,
     "metadata": {},
     "output_type": "execute_result"
    }
   ],
   "source": [
    "#Посчитаем медианы и среднее арифметическое кассовых сборов за каждый год.\n",
    "movies.pivot_table(index='year', values='box_office', aggfunc=['median', 'mean'])\n",
    "#Среднее арифметическое значительно превышает медианы. Это говорит о наличии ярких выбросов."
   ]
  },
  {
   "cell_type": "code",
   "execution_count": 83,
   "metadata": {
    "scrolled": false
   },
   "outputs": [
    {
     "data": {
      "image/png": "[encoded data removed]",
      "text/plain": [
       "<Figure size 432x432 with 1 Axes>"
      ]
     },
     "metadata": {
      "needs_background": "light"
     },
     "output_type": "display_data"
    }
   ],
   "source": [
    "#Построим общий график для медианных и средних сумм кассовых сборов.\n",
    "ax = movies.pivot_table(index='year', values='box_office', aggfunc='median').plot(\n",
    "          y='box_office',\n",
    "          style='x-',\n",
    "          linewidth=5,\n",
    "          alpha=0.7,\n",
    "          label='median',\n",
    "          figsize=(6,6)\n",
    ")\n",
    "\n",
    "movies.pivot_table(index='year', values='box_office', aggfunc='mean').plot(\n",
    "        y='box_office',\n",
    "        style='o-',        \n",
    "        ax=ax,\n",
    "        linewidth=5,\n",
    "        alpha=0.7,\n",
    "        label='mean',\n",
    "        figsize=(6,6)\n",
    ")\n",
    "plt.title('Кассовые сборы. Медиана и среднее значение')\n",
    "plt.xlabel('Год')\n",
    "plt.ylabel('100 млн руб');"
   ]
  },
  {
   "cell_type": "markdown",
   "metadata": {},
   "source": [
    "Из графика видно, что до 2013 года медиана и среднее почти не отличались. В это время количество фильмов с известной суммой кассового сбора было около 10%. С 2013 среднее значение начинает резко возрастать. Ранее мы обнаружили, что именно с этого момента резко увеличилось количество фильмов, для которых известна сумма кассового сбора. \n",
    "В целом изменения в среднем значении коррелируют с изменением доли фильмов с известным кассовым сбором и достигают максимума, когда достигает максимума доля фильмов с известным кассовым сбором в 2017 году (70% от всех фильмов в прокате).\n",
    "Среди учтенных фильмов могут находиться фильмы с очень крупными кассовыми сборами - т.н. выбросы. Именно они могли вызвать резкий взлёт средних сумм по сравнению с медианными суммами."
   ]
  },
  {
   "cell_type": "code",
   "execution_count": 84,
   "metadata": {
    "scrolled": false
   },
   "outputs": [
    {
     "data": {
      "image/png": "[encoded data removed]",
      "text/plain": [
       "<Figure size 432x432 with 1 Axes>"
      ]
     },
     "metadata": {
      "needs_background": "light"
     },
     "output_type": "display_data"
    }
   ],
   "source": [
    "#Проверим наличие выбросов по кассовым сборам.\n",
    "movies.plot.scatter(x='year', y='box_office', figsize=(6,6))\n",
    "plt.title('Кассовые сборы в 2010-2019гг')\n",
    "plt.xlabel('Год')\n",
    "plt.ylabel('Млрд руб');"
   ]
  },
  {
   "cell_type": "markdown",
   "metadata": {},
   "source": [
    "Действительно количество выбросов сильно возросло после 2013, чем, вероятно, и объясняется рост среднего значения и его значительное отличие от медианы."
   ]
  },
  {
   "cell_type": "markdown",
   "metadata": {
    "id": "Ok89WFwJgFyZ"
   },
   "source": [
    "- Определите, влияет ли возрастное ограничение аудитории («6+», «12+», «16+», «18+» и т. д.) на сборы фильма в прокате в период с 2015 по 2019 год? Фильмы с каким возрастным ограничением собрали больше всего денег в прокате? Меняется ли картина в зависимости от года? Если да, предположите, с чем это может быть связано."
   ]
  },
  {
   "cell_type": "code",
   "execution_count": 85,
   "metadata": {
    "id": "jsSbEqfjgFya"
   },
   "outputs": [],
   "source": [
    "#Создадим датафрейм, содержащий все фильмы, вышедшие в период с 2015 по 2019, для которых известны кассовые сборы.\n",
    "movies_exam = movies[~(movies['budget'].isna())&(movies['year']>=2015)]"
   ]
  },
  {
   "cell_type": "code",
   "execution_count": 86,
   "metadata": {
    "scrolled": false
   },
   "outputs": [
    {
     "data": {
      "image/png": "[encoded data removed]",
      "text/plain": [
       "<Figure size 576x432 with 1 Axes>"
      ]
     },
     "metadata": {
      "needs_background": "light"
     },
     "output_type": "display_data"
    }
   ],
   "source": [
    "#Исследуем график, чтобы определить, как возрастная категория фильма влияет на продажи билетов.\n",
    "movies_exam.pivot_table(index='year', columns='age_restriction', values='box_office', aggfunc='sum').plot(kind='bar', figsize=(8, 6))\n",
    "plt.title('Возрастные категории. Доля в кассовых сборах')\n",
    "plt.xlabel('Год')\n",
    "plt.ylabel('Млрд руб');"
   ]
  },
  {
   "cell_type": "markdown",
   "metadata": {},
   "source": [
    "Из графика видно, что суммы кассовых сборов, собранные разными категориями, существенно различаются.  \n",
    "Категорию \"12+\" можно назвать локомотивом кинопроката. Это ежегодный лидер продаж. Исключение составляет 2017 год, когда пальма первенства досталась категории \"6+\".  \n",
    "Категория \"6+\", как правило, занимает 2 место по популярности. За ней следует категория \"16+\".  \n",
    "Очевидными аутсайдерами являются категории \"18+\" и особенно \"0+\". Фильмов этих категорий настолько мало, что они даже не каждый год представлены в графике."
   ]
  },
  {
   "cell_type": "markdown",
   "metadata": {},
   "source": [
    "**Анализ датасета movies:**\n",
    "\n",
    "Мы определили, что количество фильмов, вышедших в прокат с 2010 по 2019, сильно варьировалось от года к году. Нет ярко выраженной тенденции к понижению или увеличению с течением времени. Максимальный показатель - 985 фильмов - был достигнут в 2010. На втором месте - 2019 с показателем в 930 фильмов. Минимальным показатель был в 2017 - 505 фильмов. В среднем в изучаемый период ежегодно выходило около 750 фильмов. \n",
    "   \n",
    "   \n",
    "Доля фильмов с известным кассовым сбором, напротив, имеет четкую тенденцию к увеличению с каждым годом: данный показатель непрерывно рос с 2010 до 2017 (с 11% до 70%), в 2018 и в 2019гг он составил немногим более 50%. В целом кассовые сборы выросли за исследуемый период в примерно 20000 раз. Такой грандиозный рост объясняется не только коммерческим успехом кинолент, но и значительным увеличением доли фильмов с известным кассовым сбором в анализе.\n",
    "   \n",
    "   \n",
    "Были исследованы медианы и среднее значение: примерно с 2013 среднее значение резко возросло, что связано с появлением выбросов - фильмов с очень крупными кассовыми сборами.\n",
    "   \n",
    "   \n",
    "Также было выяснено, что возрастные категории значительно влияют на кассовые сборы. Явными лидерами являются категории \"12+\" и \"6+\". Категории \"0+\" и \"18+\", напротив, являются наименее доходными."
   ]
  },
  {
   "cell_type": "markdown",
   "metadata": {
    "id": "l_Kg6Ku4gFya"
   },
   "source": [
    "### Шаг 4. Исследуйте фильмы, которые получили государственную поддержку\n",
    "\n",
    "На этом этапе нет конкретных инструкций и заданий — поищите интересные закономерности в данных. Посмотрите, сколько выделяют средств на поддержку кино. Проверьте, хорошо ли окупаются такие фильмы, какой у них рейтинг."
   ]
  },
  {
   "cell_type": "code",
   "execution_count": 87,
   "metadata": {
    "id": "W9QKpjUdgFyb"
   },
   "outputs": [],
   "source": [
    "#Сформируем датафрейм, который содержит данные только о фильмах с господдержкой.\n",
    "gov_movies = movies[(movies['nonrefundable_support']>0)|(movies['refundable_support']>0)]"
   ]
  },
  {
   "cell_type": "code",
   "execution_count": 88,
   "metadata": {
    "scrolled": true
   },
   "outputs": [
    {
     "name": "stdout",
     "output_type": "stream",
     "text": [
      "<class 'pandas.core.frame.DataFrame'>\n",
      "Int64Index: 332 entries, 1281 to 7478\n",
      "Data columns (total 19 columns):\n",
      " #   Column                 Non-Null Count  Dtype              \n",
      "---  ------                 --------------  -----              \n",
      " 0   title                  332 non-null    object             \n",
      " 1   pu_number              332 non-null    float64            \n",
      " 2   show_start_date        332 non-null    datetime64[ns, UTC]\n",
      " 3   type                   332 non-null    object             \n",
      " 4   film_studio            332 non-null    object             \n",
      " 5   production_country     332 non-null    object             \n",
      " 6   director               332 non-null    object             \n",
      " 7   producer               330 non-null    object             \n",
      " 8   age_restriction        332 non-null    object             \n",
      " 9   refundable_support     332 non-null    float64            \n",
      " 10  nonrefundable_support  332 non-null    float64            \n",
      " 11  budget                 332 non-null    float64            \n",
      " 12  financing_source       332 non-null    object             \n",
      " 13  ratings                316 non-null    float64            \n",
      " 14  genres                 316 non-null    object             \n",
      " 15  box_office             318 non-null    float64            \n",
      " 16  year                   332 non-null    int64              \n",
      " 17  main_director          332 non-null    object             \n",
      " 18  main_genre             316 non-null    object             \n",
      "dtypes: datetime64[ns, UTC](1), float64(6), int64(1), object(11)\n",
      "memory usage: 51.9+ KB\n"
     ]
    }
   ],
   "source": [
    "gov_movies.info()"
   ]
  },
  {
   "cell_type": "markdown",
   "metadata": {},
   "source": [
    "В датафрейме 332 фильма. Для каждого из них известна сумма господдержки. Кассовые сборы известны для 318 кинолент."
   ]
  },
  {
   "cell_type": "code",
   "execution_count": 89,
   "metadata": {
    "scrolled": true
   },
   "outputs": [],
   "source": [
    "#Изучим, сколько невозвратных средств ежегодно выделялось на финансирование кинопроизводства.\n",
    "gov_movies_nonref = gov_movies.pivot_table(index='year', values='nonrefundable_support', aggfunc='sum')"
   ]
  },
  {
   "cell_type": "code",
   "execution_count": 90,
   "metadata": {},
   "outputs": [
    {
     "data": {
      "text/html": [
       "<div>\n",
       "<style scoped>\n",
       "    .dataframe tbody tr th:only-of-type {\n",
       "        vertical-align: middle;\n",
       "    }\n",
       "\n",
       "    .dataframe tbody tr th {\n",
       "        vertical-align: top;\n",
       "    }\n",
       "\n",
       "    .dataframe thead th {\n",
       "        text-align: right;\n",
       "    }\n",
       "</style>\n",
       "<table border=\"1\" class=\"dataframe\">\n",
       "  <thead>\n",
       "    <tr style=\"text-align: right;\">\n",
       "      <th></th>\n",
       "      <th>nonrefundable_support</th>\n",
       "    </tr>\n",
       "    <tr>\n",
       "      <th>year</th>\n",
       "      <th></th>\n",
       "    </tr>\n",
       "  </thead>\n",
       "  <tbody>\n",
       "    <tr>\n",
       "      <th>2013</th>\n",
       "      <td>1.343479e+08</td>\n",
       "    </tr>\n",
       "    <tr>\n",
       "      <th>2014</th>\n",
       "      <td>5.010023e+08</td>\n",
       "    </tr>\n",
       "    <tr>\n",
       "      <th>2015</th>\n",
       "      <td>3.019088e+09</td>\n",
       "    </tr>\n",
       "    <tr>\n",
       "      <th>2016</th>\n",
       "      <td>3.381655e+09</td>\n",
       "    </tr>\n",
       "    <tr>\n",
       "      <th>2017</th>\n",
       "      <td>2.464625e+09</td>\n",
       "    </tr>\n",
       "    <tr>\n",
       "      <th>2018</th>\n",
       "      <td>2.784969e+09</td>\n",
       "    </tr>\n",
       "    <tr>\n",
       "      <th>2019</th>\n",
       "      <td>3.976000e+09</td>\n",
       "    </tr>\n",
       "  </tbody>\n",
       "</table>\n",
       "</div>"
      ],
      "text/plain": [
       "      nonrefundable_support\n",
       "year                       \n",
       "2013           1.343479e+08\n",
       "2014           5.010023e+08\n",
       "2015           3.019088e+09\n",
       "2016           3.381655e+09\n",
       "2017           2.464625e+09\n",
       "2018           2.784969e+09\n",
       "2019           3.976000e+09"
      ]
     },
     "execution_count": 90,
     "metadata": {},
     "output_type": "execute_result"
    }
   ],
   "source": [
    "gov_movies_nonref"
   ]
  },
  {
   "cell_type": "code",
   "execution_count": 91,
   "metadata": {
    "scrolled": true
   },
   "outputs": [
    {
     "data": {
      "image/png": "[encoded data removed]",
      "text/plain": [
       "<Figure size 432x288 with 1 Axes>"
      ]
     },
     "metadata": {
      "needs_background": "light"
     },
     "output_type": "display_data"
    }
   ],
   "source": [
    "gov_movies_nonref.plot(kind='bar')\n",
    "plt.title('Невозвратная часть госфинансирования')\n",
    "plt.xlabel('Год')\n",
    "plt.ylabel('Млрд руб');"
   ]
  },
  {
   "cell_type": "markdown",
   "metadata": {},
   "source": [
    "Объём невозвратной господдержки в разы увеличился с 2013 года и продолжил расти до 2016. В 2017 госфинансирование несколько сократилось, но продолжило расти в последующие годы и достигло максимума в 2019. Всего за данный период объём невозвратной господдержки увеличился примерно в 40 раз и составил 4млрд в 2019."
   ]
  },
  {
   "cell_type": "code",
   "execution_count": 92,
   "metadata": {},
   "outputs": [],
   "source": [
    "#Изучим кассовые сборы фильмов, получивших господдержку.\n",
    "gov_movies_box = gov_movies.pivot_table(index='year', values='box_office', aggfunc='sum')"
   ]
  },
  {
   "cell_type": "code",
   "execution_count": 93,
   "metadata": {
    "scrolled": false
   },
   "outputs": [
    {
     "data": {
      "text/html": [
       "<div>\n",
       "<style scoped>\n",
       "    .dataframe tbody tr th:only-of-type {\n",
       "        vertical-align: middle;\n",
       "    }\n",
       "\n",
       "    .dataframe tbody tr th {\n",
       "        vertical-align: top;\n",
       "    }\n",
       "\n",
       "    .dataframe thead th {\n",
       "        text-align: right;\n",
       "    }\n",
       "</style>\n",
       "<table border=\"1\" class=\"dataframe\">\n",
       "  <thead>\n",
       "    <tr style=\"text-align: right;\">\n",
       "      <th></th>\n",
       "      <th>box_office</th>\n",
       "    </tr>\n",
       "    <tr>\n",
       "      <th>year</th>\n",
       "      <th></th>\n",
       "    </tr>\n",
       "  </thead>\n",
       "  <tbody>\n",
       "    <tr>\n",
       "      <th>2013</th>\n",
       "      <td>2.032239e+07</td>\n",
       "    </tr>\n",
       "    <tr>\n",
       "      <th>2014</th>\n",
       "      <td>1.017422e+09</td>\n",
       "    </tr>\n",
       "    <tr>\n",
       "      <th>2015</th>\n",
       "      <td>5.785285e+09</td>\n",
       "    </tr>\n",
       "    <tr>\n",
       "      <th>2016</th>\n",
       "      <td>6.081708e+09</td>\n",
       "    </tr>\n",
       "    <tr>\n",
       "      <th>2017</th>\n",
       "      <td>1.086508e+10</td>\n",
       "    </tr>\n",
       "    <tr>\n",
       "      <th>2018</th>\n",
       "      <td>9.934069e+09</td>\n",
       "    </tr>\n",
       "    <tr>\n",
       "      <th>2019</th>\n",
       "      <td>8.409627e+09</td>\n",
       "    </tr>\n",
       "  </tbody>\n",
       "</table>\n",
       "</div>"
      ],
      "text/plain": [
       "        box_office\n",
       "year              \n",
       "2013  2.032239e+07\n",
       "2014  1.017422e+09\n",
       "2015  5.785285e+09\n",
       "2016  6.081708e+09\n",
       "2017  1.086508e+10\n",
       "2018  9.934069e+09\n",
       "2019  8.409627e+09"
      ]
     },
     "execution_count": 93,
     "metadata": {},
     "output_type": "execute_result"
    }
   ],
   "source": [
    "gov_movies_box"
   ]
  },
  {
   "cell_type": "code",
   "execution_count": 94,
   "metadata": {
    "scrolled": true
   },
   "outputs": [
    {
     "data": {
      "image/png": "[encoded data removed]",
      "text/plain": [
       "<Figure size 432x288 with 1 Axes>"
      ]
     },
     "metadata": {
      "needs_background": "light"
     },
     "output_type": "display_data"
    }
   ],
   "source": [
    "gov_movies_box.plot(kind='bar')\n",
    "plt.title('Кассовые сборы фильмов, получивших госфинансирование')\n",
    "plt.xlabel('Год')\n",
    "plt.ylabel('10 млрд руб');"
   ]
  },
  {
   "cell_type": "markdown",
   "metadata": {},
   "source": [
    "До 2017 продолжался быстрый рост кассовых сборов. Всего за этот период кассовые сборы возросли почти в 500 раз. Максимум в 10 млрд пришелся на 2017. В 2018 и 2019 этот показатель плавно снизился до 8,4 млрд.  \n",
    "Напомним, что увеличение кассовых сборов также связано с увеличением числа фильмов, для которых известны кассовые сборы. Доля таких фильмов увеличилась с 11% до 70% в изучаемый период."
   ]
  },
  {
   "cell_type": "code",
   "execution_count": 95,
   "metadata": {
    "scrolled": true
   },
   "outputs": [
    {
     "data": {
      "image/png": "[encoded data removed]",
      "text/plain": [
       "<Figure size 432x432 with 1 Axes>"
      ]
     },
     "metadata": {
      "needs_background": "light"
     },
     "output_type": "display_data"
    }
   ],
   "source": [
    "#Сравним изменения в господдержке и кассовых сборах на общем графике.\n",
    "ax = gov_movies_nonref.pivot_table(index='year', values='nonrefundable_support', aggfunc='sum').plot(\n",
    "          y='nonrefundable_support',\n",
    "          style='x-',\n",
    "          linewidth=5,\n",
    "          alpha=0.7,\n",
    "          label='nonrefund',\n",
    "          figsize=(6,6)\n",
    ")\n",
    "\n",
    "gov_movies_box.pivot_table(index='year', values='box_office', aggfunc='sum').plot(\n",
    "        y='box_office',\n",
    "        style='o-',        \n",
    "        ax=ax,\n",
    "        linewidth=5,\n",
    "        alpha=0.7,\n",
    "        label='box',\n",
    "        figsize=(6,6)\n",
    ")\n",
    "plt.title('Госфинансирование и кассовые сборы в 2013-2019гг')\n",
    "plt.xlabel('Год')\n",
    "plt.ylabel('10 млрд руб');"
   ]
  },
  {
   "cell_type": "markdown",
   "metadata": {},
   "source": [
    "Из графика видно, что с 2014 года рост кассовых сборов стал резко опережать рост господдержки. Особенно интересен 2017 год. На этот год приходится довольно значительный провал в господдержке, но при этом кассовые сборы достигли пика (доля фильмов с известным кассовым сбором в 2017 также составляла рекордные 70%)"
   ]
  },
  {
   "cell_type": "code",
   "execution_count": 96,
   "metadata": {},
   "outputs": [
    {
     "data": {
      "text/plain": [
       "0.4557291723694731"
      ]
     },
     "execution_count": 96,
     "metadata": {},
     "output_type": "execute_result"
    }
   ],
   "source": [
    "#Попробуем посмотреть, есть ли линейная связь между невозвратной частью господдержки и кассовыми сборами фильма.\n",
    "gov_movies['nonrefundable_support'].corr(gov_movies['box_office'])\n",
    "#Коэффициент Пирсона показывает наличие некоторой положительной связи."
   ]
  },
  {
   "cell_type": "code",
   "execution_count": 97,
   "metadata": {
    "scrolled": true
   },
   "outputs": [
    {
     "data": {
      "image/png": "[encoded data removed]",
      "text/plain": [
       "<Figure size 432x432 with 1 Axes>"
      ]
     },
     "metadata": {
      "needs_background": "light"
     },
     "output_type": "display_data"
    }
   ],
   "source": [
    "#Продолжим исследовать зависимость между госфинансированием и кассовыми сборами фильма на графике разброса.\n",
    "gov_movies.plot.scatter(x='nonrefundable_support', y='box_office', figsize=(6, 6))\n",
    "plt.title('Зависимость между госфинансированием и кассовыми сборами')\n",
    "plt.xlabel('Господдержка. 100 млн руб')\n",
    "plt.ylabel('Кассовые сборы. Млрд руб');"
   ]
  },
  {
   "cell_type": "markdown",
   "metadata": {},
   "source": [
    "У большинства кинокартин при небольшой господдержке такие же скромные кассовые сборы. Видна некоторая корреляция между увеличением господдержки и увеличением кассовых сборов. Есть единичные фильмы, которые с минимальной господдержкой смогли добиться значительных финансовых результатов. Есть также единичные фильмы, которые при большой господдержке либо добились финансового успеха, либо показали средний результат."
   ]
  },
  {
   "cell_type": "markdown",
   "metadata": {},
   "source": [
    "<div class=\"alert alert-success\">\n",
    "<h2> Комментарий ревьюера 😊<a class=\"tocSkip\"> </h2>\n",
    "\n",
    "Очень здорово, что ты проводишь подобный анализ, находя взаимосвязи между данными. Молодец!)"
   ]
  },
  {
   "cell_type": "code",
   "execution_count": 98,
   "metadata": {
    "scrolled": true
   },
   "outputs": [
    {
     "data": {
      "text/html": [
       "<style type=\"text/css\">\n",
       "#T_e5c9c_row0_col0, #T_e5c9c_row1_col1, #T_e5c9c_row2_col2, #T_e5c9c_row3_col3, #T_e5c9c_row4_col4 {\n",
       "  background-color: #023858;\n",
       "  color: #f1f1f1;\n",
       "}\n",
       "#T_e5c9c_row0_col1 {\n",
       "  background-color: #cacee5;\n",
       "  color: #000000;\n",
       "}\n",
       "#T_e5c9c_row0_col2 {\n",
       "  background-color: #4094c3;\n",
       "  color: #f1f1f1;\n",
       "}\n",
       "#T_e5c9c_row0_col3, #T_e5c9c_row3_col0, #T_e5c9c_row3_col1, #T_e5c9c_row3_col2, #T_e5c9c_row3_col4 {\n",
       "  background-color: #fff7fb;\n",
       "  color: #000000;\n",
       "}\n",
       "#T_e5c9c_row0_col4 {\n",
       "  background-color: #dcdaeb;\n",
       "  color: #000000;\n",
       "}\n",
       "#T_e5c9c_row1_col0 {\n",
       "  background-color: #abbfdc;\n",
       "  color: #000000;\n",
       "}\n",
       "#T_e5c9c_row1_col2 {\n",
       "  background-color: #5a9ec9;\n",
       "  color: #f1f1f1;\n",
       "}\n",
       "#T_e5c9c_row1_col3 {\n",
       "  background-color: #ebe6f2;\n",
       "  color: #000000;\n",
       "}\n",
       "#T_e5c9c_row1_col4 {\n",
       "  background-color: #a9bfdc;\n",
       "  color: #000000;\n",
       "}\n",
       "#T_e5c9c_row2_col0 {\n",
       "  background-color: #2f8bbe;\n",
       "  color: #f1f1f1;\n",
       "}\n",
       "#T_e5c9c_row2_col1 {\n",
       "  background-color: #62a2cb;\n",
       "  color: #f1f1f1;\n",
       "}\n",
       "#T_e5c9c_row2_col3 {\n",
       "  background-color: #f1ebf4;\n",
       "  color: #000000;\n",
       "}\n",
       "#T_e5c9c_row2_col4 {\n",
       "  background-color: #ced0e6;\n",
       "  color: #000000;\n",
       "}\n",
       "#T_e5c9c_row4_col0 {\n",
       "  background-color: #bbc7e0;\n",
       "  color: #000000;\n",
       "}\n",
       "#T_e5c9c_row4_col1 {\n",
       "  background-color: #a5bddb;\n",
       "  color: #000000;\n",
       "}\n",
       "#T_e5c9c_row4_col2 {\n",
       "  background-color: #c1cae2;\n",
       "  color: #000000;\n",
       "}\n",
       "#T_e5c9c_row4_col3 {\n",
       "  background-color: #e7e3f0;\n",
       "  color: #000000;\n",
       "}\n",
       "</style>\n",
       "<table id=\"T_e5c9c\">\n",
       "  <thead>\n",
       "    <tr>\n",
       "      <th class=\"blank level0\" >&nbsp;</th>\n",
       "      <th id=\"T_e5c9c_level0_col0\" class=\"col_heading level0 col0\" >refundable_support</th>\n",
       "      <th id=\"T_e5c9c_level0_col1\" class=\"col_heading level0 col1\" >nonrefundable_support</th>\n",
       "      <th id=\"T_e5c9c_level0_col2\" class=\"col_heading level0 col2\" >budget</th>\n",
       "      <th id=\"T_e5c9c_level0_col3\" class=\"col_heading level0 col3\" >ratings</th>\n",
       "      <th id=\"T_e5c9c_level0_col4\" class=\"col_heading level0 col4\" >box_office</th>\n",
       "    </tr>\n",
       "  </thead>\n",
       "  <tbody>\n",
       "    <tr>\n",
       "      <th id=\"T_e5c9c_level0_row0\" class=\"row_heading level0 row0\" >refundable_support</th>\n",
       "      <td id=\"T_e5c9c_row0_col0\" class=\"data row0 col0\" >1.000000</td>\n",
       "      <td id=\"T_e5c9c_row0_col1\" class=\"data row0 col1\" >0.359622</td>\n",
       "      <td id=\"T_e5c9c_row0_col2\" class=\"data row0 col2\" >0.641224</td>\n",
       "      <td id=\"T_e5c9c_row0_col3\" class=\"data row0 col3\" >-0.003797</td>\n",
       "      <td id=\"T_e5c9c_row0_col4\" class=\"data row0 col4\" >0.312137</td>\n",
       "    </tr>\n",
       "    <tr>\n",
       "      <th id=\"T_e5c9c_level0_row1\" class=\"row_heading level0 row1\" >nonrefundable_support</th>\n",
       "      <td id=\"T_e5c9c_row1_col0\" class=\"data row1 col0\" >0.359622</td>\n",
       "      <td id=\"T_e5c9c_row1_col1\" class=\"data row1 col1\" >1.000000</td>\n",
       "      <td id=\"T_e5c9c_row1_col2\" class=\"data row1 col2\" >0.594169</td>\n",
       "      <td id=\"T_e5c9c_row1_col3\" class=\"data row1 col3\" >0.125646</td>\n",
       "      <td id=\"T_e5c9c_row1_col4\" class=\"data row1 col4\" >0.455729</td>\n",
       "    </tr>\n",
       "    <tr>\n",
       "      <th id=\"T_e5c9c_level0_row2\" class=\"row_heading level0 row2\" >budget</th>\n",
       "      <td id=\"T_e5c9c_row2_col0\" class=\"data row2 col0\" >0.641224</td>\n",
       "      <td id=\"T_e5c9c_row2_col1\" class=\"data row2 col1\" >0.594169</td>\n",
       "      <td id=\"T_e5c9c_row2_col2\" class=\"data row2 col2\" >1.000000</td>\n",
       "      <td id=\"T_e5c9c_row2_col3\" class=\"data row2 col3\" >0.093117</td>\n",
       "      <td id=\"T_e5c9c_row2_col4\" class=\"data row2 col4\" >0.361325</td>\n",
       "    </tr>\n",
       "    <tr>\n",
       "      <th id=\"T_e5c9c_level0_row3\" class=\"row_heading level0 row3\" >ratings</th>\n",
       "      <td id=\"T_e5c9c_row3_col0\" class=\"data row3 col0\" >-0.003797</td>\n",
       "      <td id=\"T_e5c9c_row3_col1\" class=\"data row3 col1\" >0.125646</td>\n",
       "      <td id=\"T_e5c9c_row3_col2\" class=\"data row3 col2\" >0.093117</td>\n",
       "      <td id=\"T_e5c9c_row3_col3\" class=\"data row3 col3\" >1.000000</td>\n",
       "      <td id=\"T_e5c9c_row3_col4\" class=\"data row3 col4\" >0.143755</td>\n",
       "    </tr>\n",
       "    <tr>\n",
       "      <th id=\"T_e5c9c_level0_row4\" class=\"row_heading level0 row4\" >box_office</th>\n",
       "      <td id=\"T_e5c9c_row4_col0\" class=\"data row4 col0\" >0.312137</td>\n",
       "      <td id=\"T_e5c9c_row4_col1\" class=\"data row4 col1\" >0.455729</td>\n",
       "      <td id=\"T_e5c9c_row4_col2\" class=\"data row4 col2\" >0.361325</td>\n",
       "      <td id=\"T_e5c9c_row4_col3\" class=\"data row4 col3\" >0.143755</td>\n",
       "      <td id=\"T_e5c9c_row4_col4\" class=\"data row4 col4\" >1.000000</td>\n",
       "    </tr>\n",
       "  </tbody>\n",
       "</table>\n"
      ],
      "text/plain": [
       "<pandas.io.formats.style.Styler at 0x241cf52a970>"
      ]
     },
     "execution_count": 98,
     "metadata": {},
     "output_type": "execute_result"
    }
   ],
   "source": [
    "#Продолжим исследовать связи между госфинансированием и кассовыми сборами фильма с помощью матрицы корреляции Пирсона.\n",
    "#Заодно исследуем линейные связи для основных числовых столбцов.\n",
    "gov_movies[['refundable_support','nonrefundable_support', 'budget','ratings', 'box_office']].corr().style.background_gradient()"
   ]
  },
  {
   "cell_type": "markdown",
   "metadata": {},
   "source": [
    "Как и на графике выше, кассовые сборы показывают наличие некоторой положительной связи с невозвратной частью господдержки. Кроме того, бюджет фильма имеет определённую положительную корреляцию с господдержкой. Интересно, что рейтинг кинофильма напрямую не связан ни с господдержкой, ни с кассовыми сборами. Изучим это поподробнее."
   ]
  },
  {
   "cell_type": "code",
   "execution_count": 99,
   "metadata": {
    "scrolled": false
   },
   "outputs": [
    {
     "data": {
      "image/png": "[encoded data removed]",
      "text/plain": [
       "<Figure size 432x432 with 1 Axes>"
      ]
     },
     "metadata": {
      "needs_background": "light"
     },
     "output_type": "display_data"
    }
   ],
   "source": [
    "#Проверим есть ли зависимость между госфинансированием и рейтингом фильма.\n",
    "gov_movies.plot.scatter(x='nonrefundable_support', y='ratings', figsize=(6, 6))\n",
    "plt.title('Госфинансирование и рейтинги')\n",
    "plt.xlabel('Госфинансирование. 100 млн руб')\n",
    "plt.ylabel('Рейтинги. Баллы');"
   ]
  },
  {
   "cell_type": "markdown",
   "metadata": {},
   "source": [
    "Основной массе фильмов присвоены рейтинги от 5 до 7.  \n",
    "Фильмы с минимальной господдержкой смогли получить как минимальные, так и максимальные значения рейтинга.  \n",
    "Фильмы с большой господдержкой получили средние рейтинги.  \n",
    "Прямой связи, как положительной, так и отрицательной, между господдержкой и рейтингом нет."
   ]
  },
  {
   "cell_type": "code",
   "execution_count": 100,
   "metadata": {
    "scrolled": false
   },
   "outputs": [
    {
     "data": {
      "image/png": "[encoded data removed]",
      "text/plain": [
       "<Figure size 432x432 with 1 Axes>"
      ]
     },
     "metadata": {
      "needs_background": "light"
     },
     "output_type": "display_data"
    }
   ],
   "source": [
    "#Проверим есть ли зависимость между кассовыми сборами фильма и его рейтингом.\n",
    "gov_movies.plot.scatter(x='box_office', y='ratings', figsize=(6, 6))\n",
    "plt.title('Кассовые сборы и рейтинги')\n",
    "plt.xlabel('Кассовые сборы. Млрд руб')\n",
    "plt.ylabel('Рейтинги. Баллы');"
   ]
  },
  {
   "cell_type": "markdown",
   "metadata": {},
   "source": [
    "Основная часть фильмов имеет скромные кассовые сборы и рейтинг примерно 5-7. \n",
    "При увеличении кассовых сборов рейтинг остаётся в рамках среднего.\n",
    "Самые высокие и самые низкие рейтинги у фильмов с минимальными или небольшими кассовыми сборами.\n",
    "Явной корреляции между рейтингом и кассовыми сборами нет."
   ]
  },
  {
   "cell_type": "code",
   "execution_count": 101,
   "metadata": {},
   "outputs": [],
   "source": [
    "#Изучим связи между господдержкой и окупаемостью кинолент.\n",
    "#Для этого сначала отсортируем фильмы, получившие госфинансирование, для которых известны кассовые сборы.\n",
    "gov_movies_box = gov_movies[~(gov_movies['box_office'].isna())]"
   ]
  },
  {
   "cell_type": "code",
   "execution_count": 102,
   "metadata": {},
   "outputs": [
    {
     "data": {
      "text/plain": [
       "318"
      ]
     },
     "execution_count": 102,
     "metadata": {},
     "output_type": "execute_result"
    }
   ],
   "source": [
    "gov_movies_box.shape[0]\n",
    "#Таких фильмов 318."
   ]
  },
  {
   "cell_type": "code",
   "execution_count": 103,
   "metadata": {},
   "outputs": [],
   "source": [
    "#Посчитаем, сколько фильмов, получивших господдержку, окупились в прокате.\n",
    "gov_movies_success = \\\n",
    "gov_movies_box[gov_movies_box['box_office']>(gov_movies_box['nonrefundable_support']+gov_movies_box['refundable_support'])]"
   ]
  },
  {
   "cell_type": "code",
   "execution_count": 104,
   "metadata": {
    "scrolled": true
   },
   "outputs": [
    {
     "data": {
      "text/plain": [
       "118"
      ]
     },
     "execution_count": 104,
     "metadata": {},
     "output_type": "execute_result"
    }
   ],
   "source": [
    "gov_movies_success.shape[0]\n",
    "#Из 332 фильмов окупилось примерно 35% - 118 кинокартин."
   ]
  },
  {
   "cell_type": "code",
   "execution_count": 105,
   "metadata": {
    "scrolled": false
   },
   "outputs": [
    {
     "name": "stderr",
     "output_type": "stream",
     "text": [
      "C:\\Users\\Suntory1\\AppData\\Local\\Temp\\ipykernel_21804\\4130209501.py:2: SettingWithCopyWarning: \n",
      "A value is trying to be set on a copy of a slice from a DataFrame.\n",
      "Try using .loc[row_indexer,col_indexer] = value instead\n",
      "\n",
      "See the caveats in the documentation: https://pandas.pydata.org/pandas-docs/stable/user_guide/indexing.html#returning-a-view-versus-a-copy\n",
      "  gov_movies_success['ratio'] = \\\n"
     ]
    }
   ],
   "source": [
    "#Проверим, насколько кассовые сборы превышают объёмы госфинансирования.\n",
    "gov_movies_success['ratio'] = \\\n",
    "gov_movies_success['box_office']/(gov_movies_box['nonrefundable_support']+gov_movies_box['refundable_support'])"
   ]
  },
  {
   "cell_type": "code",
   "execution_count": 106,
   "metadata": {
    "scrolled": true
   },
   "outputs": [
    {
     "data": {
      "text/plain": [
       "count    118.000000\n",
       "mean       4.718980\n",
       "std        6.118850\n",
       "min        1.004272\n",
       "25%        1.557219\n",
       "50%        2.698579\n",
       "75%        5.004937\n",
       "max       51.226145\n",
       "Name: ratio, dtype: float64"
      ]
     },
     "execution_count": 106,
     "metadata": {},
     "output_type": "execute_result"
    }
   ],
   "source": [
    "gov_movies_success['ratio'].describe()"
   ]
  },
  {
   "cell_type": "markdown",
   "metadata": {},
   "source": [
    "В наиболее типичном случае кассовые сборы превышают объём господдержки в 1,5-5 раз. Но есть уникальные фильмы, чьи кассовые сборы в 50 раз больше полученной ими господдержки."
   ]
  },
  {
   "cell_type": "code",
   "execution_count": 107,
   "metadata": {},
   "outputs": [
    {
     "data": {
      "text/plain": [
       "комедия        35\n",
       "мультфильм     20\n",
       "драма          19\n",
       "фантастика      6\n",
       "ужасы           5\n",
       "приключения     5\n",
       "семейный        4\n",
       "боевик          4\n",
       "военный         4\n",
       "спорт           3\n",
       "фэнтези         3\n",
       "история         3\n",
       "триллер         2\n",
       "биография       2\n",
       "детектив        1\n",
       "криминал        1\n",
       "Name: main_genre, dtype: int64"
      ]
     },
     "execution_count": 107,
     "metadata": {},
     "output_type": "execute_result"
    }
   ],
   "source": [
    "#Посмотрим на наиболее популярные жанры коммерчески успешных фильмов.\n",
    "gov_movies_success['main_genre'].value_counts()"
   ]
  },
  {
   "cell_type": "code",
   "execution_count": 108,
   "metadata": {
    "scrolled": true
   },
   "outputs": [
    {
     "data": {
      "image/png": "[encoded data removed]",
      "text/plain": [
       "<Figure size 432x432 with 1 Axes>"
      ]
     },
     "metadata": {
      "needs_background": "light"
     },
     "output_type": "display_data"
    }
   ],
   "source": [
    "gov_movies_success.groupby('main_genre')['title'].count().sort_values().plot(kind='barh', figsize=(6, 6))\n",
    "plt.title('Жанры фильмов, окупившихся в прокате')\n",
    "plt.xlabel('Количество фильмов')\n",
    "plt.ylabel('Жанр');"
   ]
  },
  {
   "cell_type": "markdown",
   "metadata": {},
   "source": [
    "С большим отрывом лидируют комедии, мультфильмы и драмы. В совокупности они составляют более половины всех фильмов."
   ]
  },
  {
   "cell_type": "markdown",
   "metadata": {},
   "source": [
    "**Фильмы, получившие господдержку:**\n",
    "\n",
    "Мы начали с выяснения объёма госфинансирования. Была обнаружена неровная тенденция к увеличению господдержки. Всего объёмы госфинансирования выросли в примерно 40 раз в течение изучаемого периода и достигли 4млрд в 2019г.\n",
    "\n",
    "Мы также изучили кассовые сборы фильмов, получивших господдержку. В течение изучаемого периода кассовые сборы увеличились примерно в 500 раз и достигли максимума в 10 млрд в 2017г. С 2014г. рост кассовых сборов стал значительно превышать объёмы господдержки.\n",
    "\n",
    "Был исследован рейтинг фильмов, получивших господдержку. Типичные рейтинги для таких фильмов - 5-7 баллов. Ни кассовые сборы, ни объём госфинансирования не оказывают прямого воздействия на рейтинг фильма.\n",
    "\n",
    "В конце мы изучили окупаемость фильмов, получивших господдержку. Выяснилось, что окупается примерно 35% всех кинолент, получивших госфинансирование. При этом в среднем кассовые сборы в 1,5-5 раз превышают объёмы господдержки. Наиболее популярными жанрами среди оккупившихся кинолент оказались комедии, мультфильмы и драмы. На их долю приходится более половины всех фильмов."
   ]
  },
  {
   "cell_type": "markdown",
   "metadata": {
    "id": "V2gYwMcPgFyd"
   },
   "source": [
    "### Шаг 5. Напишите общий вывод"
   ]
  },
  {
   "cell_type": "markdown",
   "metadata": {},
   "source": [
    "### Анализ датасетов mkrf_movies.csv и mkrf_shows.csv\n",
    "\n",
    "Анализ включает в себя 4 шага, описанных ниже.\n",
    "\n",
    "**Шаг 1. Формирование и изучение датасета**\n",
    "\n",
    "Предоставленные клиентом датасеты mkrf_movies.csv и mkrf_shows.csv были объединены в единый датасет movies. Полученный датасет содержит информацию о 7486 фильмах, вышедших в прокат в РФ в период с 2010 по 2019гг, включая такую информацию, как название фильма, номер прокатного удостоверения, имя режиссера, жанровую принадлежность, общий бюджет, сумму возвратной и невозвратной помощи от государства, сумму кассового сбора, дату выхода в прокат и др. Особенностью датасета является то, что сумма кассового сбора указана для менее чем половины всех кинолент (3158 фильмов). Кроме того, общий бюджет, а также возвратные и невозвратные части господдержки указаны только для части фильмов, произведённых в РФ или при её участии, а именно для 4% от всех фильмов в датасете (332 фильма).\n",
    "\n",
    "\n",
    "**Шаг 2. Предобработка данных**\n",
    "\n",
    "2.1. Были исправлены типы данных в некоторых столбцах.  \n",
    "2.2. Пропущенные значения были проанализированы и по возможности удалены.  \n",
    "2.3. Были обнаружены неполные дубликаты фильмов. Принято решение не удалять их.  \n",
    "2.4. Были проанализированы категориальные данные и указан способ, как улучшить их структуру.  \n",
    "2.5. Были проанализированы количественные значения. Найдено незначительное количество фильмов с отрицательными бюджетами. Были указаны возможные причины этого.  \n",
    "2.6. Было сформировано 3 новых столбца: year, main_director, main_genre.\n",
    "\n",
    "\n",
    "**Шаг 3. Анализ датасета movies**\n",
    "\n",
    "3.1. Количество фильмов, выходивших в прокат ежегодно:  \n",
    "- сильно варьируется по годам,\n",
    "- максимальные показатели - 985 фильмов в 2010 году и 930 в 2019 году,\n",
    "- минимальный показатель - 505 фильмов в 2017 году,\n",
    "- медианный показатель - 750 фильмов ежегодно,\n",
    "- с 2014 года видна тенденция к увеличению количества фильмов в прокате.\n",
    "\n",
    "3.2. Доля фильмов с известным кассовым сбором:  \n",
    "- заметно выросла в изучаемый период: с 11% в 2010 году до 70% в 2017 году,\n",
    "- перенесла спад до 57% в 2018-2019гг,\n",
    "- оказывает сильное влияние на объёмы кассовых сборов.\n",
    "\n",
    "3.3. Кассовые сборы:\n",
    "- начали резко расти с 2014 года,\n",
    "- выросли в 20000 раз за исследуемый период,\n",
    "- достигли максимума в 2018 году (около 50млрд),\n",
    "- минимальный показатель был в 2010 году (около 2,4млн),\n",
    "- зависят не только от качества фильма, но и от полноты учета кассовых сборов,\n",
    "- имеются яркие выбросы - фильмы с очень крупными кассовыми сборами.\n",
    "\n",
    "3.4. Возрастные категории:\n",
    "- оказывают сильное влияние на кассовые сборы фильма,\n",
    "- более половины суммы кассового сбора приносят категории \"12+\" и \"6+\",\n",
    "- явными аутсайдерами являются категории \"0+\" и \"18+\".\n",
    "\n",
    "\n",
    "**Шаг 4. Фильмы, получившие господдержку**\n",
    "\n",
    "4.1. Невозвратная часть господдержки:\n",
    "- имеет тенденцию к неравномерному росту,\n",
    "- увеличилась в 40 раз в течение изучаемого периода,\n",
    "- обычно покрывает от 37% до 65% общего бюджета фильма,\n",
    "- была минимальной в 2013 году (130 млн),\n",
    "- достигла максимума в 2019 году (4 млрд).\n",
    "\n",
    "4.2. Кассовые сборы:\n",
    "- быстро росли до 2017 года,\n",
    "- пережили плавный спад в 2018-2019гг,\n",
    "- в течение изучаемого периода увеличились примерно в 500 раз,\n",
    "- росли в том числе и благодаря увеличению в прокате доли фильмов с известным кассовым сбором,\n",
    "- были минимальными в 2013 году (20 млн),\n",
    "- достигли максимума в 2017 году (10 млрд).\n",
    "\n",
    "4.3. Рейтинг:\n",
    "- наиболее типичные рейтинги - 5-7 баллов из 10,\n",
    "- не зависит ни от объёма господдержки, ни от кассовых сборов.\n",
    "\n",
    "4.4. Окупаемость:\n",
    "- примерно 40% фильмов, получивших господдержку, достигают окупаемости,\n",
    "- кассовые сборы таких фильмов в среднем превышают объёмы господдержки в 1,5-5 раз,\n",
    "- более половины коммерчески успешных фильмов приходится на 3 жанра: комедии, драмы и мультфильмы.\n",
    "\n",
    "**Общие выводы**\n",
    "\n",
    "1. Киноиндустрия в РФ в 2010-2019гг.  \n",
    "Количество фильмов, ежегодно выходивших в прокат, сильно варьировалось от года к году. С 2014 года есть тенденция на увеличение количества фильмов в прокате, однако уровень 2010 года так и не был достигнут.  \n",
    "Заметно улучшился учет кассовых сборов: к 2019 году у половины фильмов были известны кассовые сборы. Это также привело к значительному росту объёма кассовых сборов.\n",
    "2. Господдержка в киноиндустрии  \n",
    "Вклад государства в отечественную киноиндустрию значительно вырос в исследуемый период: невозвратная часть господдержки увеличилась на 40%. Кроме того, рост госфинансирования привел к некоторому увеличению кассовых сборов, но не отразился на рейтингах фильмов.  \n",
    "Около 35% фильмов, поддержанных государством, смогли добиться окупаемости. Их кассовый сбор, как правило, превышал объём господдержки в 1,5-5 раз."
   ]
  }
 ],
 "metadata": {
  "ExecuteTimeLog": [
   {
    "duration": 537,
    "start_time": "2021-07-07T10:12:08.634Z"
   },
   {
    "duration": 206,
    "start_time": "2021-07-07T10:12:30.191Z"
   },
   {
    "duration": 227,
    "start_time": "2021-07-07T10:12:33.078Z"
   },
   {
    "duration": 153,
    "start_time": "2021-07-07T10:13:42.146Z"
   },
   {
    "duration": 233,
    "start_time": "2021-07-07T10:30:09.252Z"
   },
   {
    "duration": 19,
    "start_time": "2021-07-07T10:30:15.577Z"
   },
   {
    "duration": 18,
    "start_time": "2021-07-07T10:30:57.348Z"
   },
   {
    "duration": 19,
    "start_time": "2021-07-07T10:31:17.452Z"
   },
   {
    "duration": 21,
    "start_time": "2021-07-07T10:31:32.227Z"
   },
   {
    "duration": 27,
    "start_time": "2021-07-07T10:32:06.588Z"
   },
   {
    "duration": 23,
    "start_time": "2021-07-07T10:32:43.645Z"
   },
   {
    "duration": 24,
    "start_time": "2021-07-07T10:33:06.948Z"
   },
   {
    "duration": 7,
    "start_time": "2021-07-07T10:33:28.558Z"
   },
   {
    "duration": 23,
    "start_time": "2021-07-07T10:33:43.761Z"
   },
   {
    "duration": 28,
    "start_time": "2021-07-07T10:34:13.466Z"
   },
   {
    "duration": 23,
    "start_time": "2021-07-07T10:35:56.187Z"
   },
   {
    "duration": 6,
    "start_time": "2021-07-07T10:36:48.182Z"
   },
   {
    "duration": 14,
    "start_time": "2021-07-07T10:37:49.641Z"
   },
   {
    "duration": 6,
    "start_time": "2021-07-07T10:38:06.694Z"
   },
   {
    "duration": 6,
    "start_time": "2021-07-07T10:38:13.493Z"
   },
   {
    "duration": 19,
    "start_time": "2021-07-07T10:38:44.056Z"
   },
   {
    "duration": 186,
    "start_time": "2021-07-07T10:48:35.618Z"
   },
   {
    "duration": 24,
    "start_time": "2021-07-07T10:48:51.498Z"
   },
   {
    "duration": 20,
    "start_time": "2021-07-07T10:48:59.415Z"
   },
   {
    "duration": 20,
    "start_time": "2021-07-07T10:53:02.195Z"
   },
   {
    "duration": 188,
    "start_time": "2021-07-07T10:54:40.486Z"
   },
   {
    "duration": 115,
    "start_time": "2021-07-07T10:54:52.552Z"
   },
   {
    "duration": 214,
    "start_time": "2021-07-07T10:54:56.354Z"
   },
   {
    "duration": 47,
    "start_time": "2021-07-07T10:54:58.282Z"
   },
   {
    "duration": 217,
    "start_time": "2021-07-07T10:59:16.075Z"
   },
   {
    "duration": 51,
    "start_time": "2021-07-07T10:59:16.243Z"
   },
   {
    "duration": 578,
    "start_time": "2021-07-07T10:59:18.774Z"
   },
   {
    "duration": 161,
    "start_time": "2021-07-07T10:59:21.238Z"
   },
   {
    "duration": 59,
    "start_time": "2021-07-07T10:59:21.453Z"
   },
   {
    "duration": 3,
    "start_time": "2021-07-07T11:02:10.786Z"
   },
   {
    "duration": 13,
    "start_time": "2021-07-07T11:07:07.722Z"
   },
   {
    "duration": 26,
    "start_time": "2021-07-07T11:07:17.958Z"
   },
   {
    "duration": 22,
    "start_time": "2021-07-07T11:08:17.939Z"
   },
   {
    "duration": 212,
    "start_time": "2021-07-07T11:08:19.665Z"
   },
   {
    "duration": 21,
    "start_time": "2021-07-07T11:08:29.945Z"
   },
   {
    "duration": 31,
    "start_time": "2021-07-07T11:08:38.899Z"
   },
   {
    "duration": 23,
    "start_time": "2021-07-07T11:08:54.527Z"
   },
   {
    "duration": 8,
    "start_time": "2021-07-07T11:18:55.974Z"
   },
   {
    "duration": 7,
    "start_time": "2021-07-07T11:19:03.639Z"
   },
   {
    "duration": 7,
    "start_time": "2021-07-07T11:19:06.444Z"
   },
   {
    "duration": 578,
    "start_time": "2021-07-07T12:09:59.576Z"
   },
   {
    "duration": 195,
    "start_time": "2021-07-07T12:10:00.156Z"
   },
   {
    "duration": 115,
    "start_time": "2021-07-07T12:10:00.353Z"
   },
   {
    "duration": 3,
    "start_time": "2021-07-07T12:10:00.470Z"
   },
   {
    "duration": 32,
    "start_time": "2021-07-07T12:10:00.474Z"
   },
   {
    "duration": 23,
    "start_time": "2021-07-07T12:10:00.508Z"
   },
   {
    "duration": 19,
    "start_time": "2021-07-07T12:10:00.533Z"
   },
   {
    "duration": 44,
    "start_time": "2021-07-07T12:10:00.553Z"
   },
   {
    "duration": 7,
    "start_time": "2021-07-07T12:10:00.600Z"
   },
   {
    "duration": 7,
    "start_time": "2021-07-07T12:19:45.761Z"
   },
   {
    "duration": 21,
    "start_time": "2021-07-07T12:21:35.482Z"
   },
   {
    "duration": 21,
    "start_time": "2021-07-07T12:29:23.569Z"
   },
   {
    "duration": 525,
    "start_time": "2021-07-07T12:29:44.542Z"
   },
   {
    "duration": 214,
    "start_time": "2021-07-07T12:29:45.069Z"
   },
   {
    "duration": 92,
    "start_time": "2021-07-07T12:29:45.285Z"
   },
   {
    "duration": 3,
    "start_time": "2021-07-07T12:29:45.379Z"
   },
   {
    "duration": 28,
    "start_time": "2021-07-07T12:29:45.384Z"
   },
   {
    "duration": 23,
    "start_time": "2021-07-07T12:29:45.413Z"
   },
   {
    "duration": 21,
    "start_time": "2021-07-07T12:29:45.437Z"
   },
   {
    "duration": 41,
    "start_time": "2021-07-07T12:29:45.460Z"
   },
   {
    "duration": 7,
    "start_time": "2021-07-07T12:29:45.502Z"
   },
   {
    "duration": 20,
    "start_time": "2021-07-07T12:29:45.511Z"
   },
   {
    "duration": 12,
    "start_time": "2021-07-07T12:34:02.800Z"
   },
   {
    "duration": 7,
    "start_time": "2021-07-07T12:35:10.479Z"
   },
   {
    "duration": 8,
    "start_time": "2021-07-07T12:35:22.440Z"
   },
   {
    "duration": 6,
    "start_time": "2021-07-07T12:35:35.649Z"
   },
   {
    "duration": 6,
    "start_time": "2021-07-07T12:35:43.107Z"
   },
   {
    "duration": 22,
    "start_time": "2021-07-07T12:38:03.029Z"
   },
   {
    "duration": 10,
    "start_time": "2021-07-07T12:38:06.592Z"
   },
   {
    "duration": 563,
    "start_time": "2021-07-07T12:38:46.493Z"
   },
   {
    "duration": 265,
    "start_time": "2021-07-07T12:38:47.058Z"
   },
   {
    "duration": 94,
    "start_time": "2021-07-07T12:38:47.325Z"
   },
   {
    "duration": 3,
    "start_time": "2021-07-07T12:38:47.422Z"
   },
   {
    "duration": 30,
    "start_time": "2021-07-07T12:38:47.427Z"
   },
   {
    "duration": 16,
    "start_time": "2021-07-07T12:38:53.305Z"
   },
   {
    "duration": 10,
    "start_time": "2021-07-07T12:38:53.499Z"
   },
   {
    "duration": 8,
    "start_time": "2021-07-07T12:39:48.161Z"
   },
   {
    "duration": 27,
    "start_time": "2021-07-07T12:41:17.629Z"
   },
   {
    "duration": 17,
    "start_time": "2021-07-07T12:41:17.867Z"
   },
   {
    "duration": 21,
    "start_time": "2021-07-07T12:41:19.310Z"
   },
   {
    "duration": 7,
    "start_time": "2021-07-07T12:41:19.544Z"
   },
   {
    "duration": 20,
    "start_time": "2021-07-07T12:41:20.504Z"
   },
   {
    "duration": 554,
    "start_time": "2021-07-07T12:56:23.696Z"
   },
   {
    "duration": 200,
    "start_time": "2021-07-07T12:56:25.234Z"
   },
   {
    "duration": 119,
    "start_time": "2021-07-07T12:56:25.480Z"
   },
   {
    "duration": 4,
    "start_time": "2021-07-07T12:56:25.762Z"
   },
   {
    "duration": 26,
    "start_time": "2021-07-07T12:56:27.172Z"
   },
   {
    "duration": 12,
    "start_time": "2021-07-07T12:56:29.051Z"
   },
   {
    "duration": 10,
    "start_time": "2021-07-07T12:56:29.291Z"
   },
   {
    "duration": 8,
    "start_time": "2021-07-07T12:56:29.623Z"
   },
   {
    "duration": 28,
    "start_time": "2021-07-07T12:56:32.137Z"
   },
   {
    "duration": 19,
    "start_time": "2021-07-07T12:56:39.785Z"
   },
   {
    "duration": 20,
    "start_time": "2021-07-07T12:56:44.297Z"
   },
   {
    "duration": 7,
    "start_time": "2021-07-07T12:56:45.392Z"
   },
   {
    "duration": 23,
    "start_time": "2021-07-07T12:56:46.615Z"
   },
   {
    "duration": 4,
    "start_time": "2021-07-07T12:57:06.625Z"
   },
   {
    "duration": 32,
    "start_time": "2021-07-07T12:57:36.690Z"
   },
   {
    "duration": 18,
    "start_time": "2021-07-07T12:58:00.149Z"
   },
   {
    "duration": 15,
    "start_time": "2021-07-07T12:59:16.793Z"
   },
   {
    "duration": 7,
    "start_time": "2021-07-07T13:19:22.624Z"
   },
   {
    "duration": 6,
    "start_time": "2021-07-07T14:17:33.527Z"
   },
   {
    "duration": 9,
    "start_time": "2021-07-07T14:17:48.409Z"
   },
   {
    "duration": 8,
    "start_time": "2021-07-07T14:20:13.060Z"
   },
   {
    "duration": 8,
    "start_time": "2021-07-07T14:20:37.957Z"
   },
   {
    "duration": 8,
    "start_time": "2021-07-07T14:20:47.470Z"
   },
   {
    "duration": 9,
    "start_time": "2021-07-07T14:20:54.503Z"
   },
   {
    "duration": 10,
    "start_time": "2021-07-07T14:28:57.763Z"
   },
   {
    "duration": 3,
    "start_time": "2021-07-07T14:30:23.377Z"
   },
   {
    "duration": 3,
    "start_time": "2021-07-07T14:30:36.489Z"
   },
   {
    "duration": 103,
    "start_time": "2021-07-07T14:30:52.351Z"
   },
   {
    "duration": 8,
    "start_time": "2021-07-07T14:30:54.763Z"
   },
   {
    "duration": 8,
    "start_time": "2021-07-07T14:31:29.301Z"
   },
   {
    "duration": 13,
    "start_time": "2021-07-07T14:31:44.516Z"
   },
   {
    "duration": 7,
    "start_time": "2021-07-07T14:33:10.972Z"
   },
   {
    "duration": 11,
    "start_time": "2021-07-07T14:33:27.780Z"
   },
   {
    "duration": 8,
    "start_time": "2021-07-07T14:34:44.588Z"
   },
   {
    "duration": 57,
    "start_time": "2021-07-07T14:35:59.042Z"
   },
   {
    "duration": 3,
    "start_time": "2021-07-07T14:36:28.168Z"
   },
   {
    "duration": 5,
    "start_time": "2021-07-07T14:36:46.254Z"
   },
   {
    "duration": 4,
    "start_time": "2021-07-07T14:36:52.714Z"
   },
   {
    "duration": 3,
    "start_time": "2021-07-07T14:36:56.612Z"
   },
   {
    "duration": 4,
    "start_time": "2021-07-07T14:36:57.049Z"
   },
   {
    "duration": 3,
    "start_time": "2021-07-07T14:39:21.214Z"
   },
   {
    "duration": 7,
    "start_time": "2021-07-07T14:39:52.406Z"
   },
   {
    "duration": 11,
    "start_time": "2021-07-07T14:39:58.576Z"
   },
   {
    "duration": 9,
    "start_time": "2021-07-07T14:40:26.301Z"
   },
   {
    "duration": 10,
    "start_time": "2021-07-07T14:40:31.704Z"
   },
   {
    "duration": 11,
    "start_time": "2021-07-07T14:40:36.249Z"
   },
   {
    "duration": 10,
    "start_time": "2021-07-07T14:40:39.783Z"
   },
   {
    "duration": 9,
    "start_time": "2021-07-07T14:40:48.558Z"
   },
   {
    "duration": 10,
    "start_time": "2021-07-07T14:40:57.143Z"
   },
   {
    "duration": 9,
    "start_time": "2021-07-07T14:41:06.074Z"
   },
   {
    "duration": 4324,
    "start_time": "2021-07-07T14:41:22.004Z"
   },
   {
    "duration": 11,
    "start_time": "2021-07-07T14:41:33.392Z"
   },
   {
    "duration": 9,
    "start_time": "2021-07-07T14:41:39.288Z"
   },
   {
    "duration": 569,
    "start_time": "2021-07-07T14:42:14.387Z"
   },
   {
    "duration": 197,
    "start_time": "2021-07-07T14:42:14.959Z"
   },
   {
    "duration": 84,
    "start_time": "2021-07-07T14:42:16.052Z"
   },
   {
    "duration": 4,
    "start_time": "2021-07-07T14:42:16.900Z"
   },
   {
    "duration": 27,
    "start_time": "2021-07-07T14:42:19.898Z"
   },
   {
    "duration": 12,
    "start_time": "2021-07-07T14:42:21.577Z"
   },
   {
    "duration": 9,
    "start_time": "2021-07-07T14:42:21.813Z"
   },
   {
    "duration": 9,
    "start_time": "2021-07-07T14:42:22.569Z"
   },
   {
    "duration": 29,
    "start_time": "2021-07-07T14:42:25.837Z"
   },
   {
    "duration": 20,
    "start_time": "2021-07-07T14:42:27.003Z"
   },
   {
    "duration": 21,
    "start_time": "2021-07-07T14:42:28.767Z"
   },
   {
    "duration": 7,
    "start_time": "2021-07-07T14:42:29.838Z"
   },
   {
    "duration": 4,
    "start_time": "2021-07-07T14:43:25.493Z"
   },
   {
    "duration": 7,
    "start_time": "2021-07-07T14:43:26.573Z"
   },
   {
    "duration": 10,
    "start_time": "2021-07-07T14:43:31.639Z"
   },
   {
    "duration": 9,
    "start_time": "2021-07-07T14:43:32.046Z"
   },
   {
    "duration": 10,
    "start_time": "2021-07-07T14:43:33.301Z"
   },
   {
    "duration": 12,
    "start_time": "2021-07-07T14:43:33.658Z"
   },
   {
    "duration": 8,
    "start_time": "2021-07-07T14:43:34.552Z"
   },
   {
    "duration": 9,
    "start_time": "2021-07-07T14:43:35.058Z"
   },
   {
    "duration": 12,
    "start_time": "2021-07-07T14:43:35.914Z"
   },
   {
    "duration": 17,
    "start_time": "2021-07-07T14:45:34.368Z"
   },
   {
    "duration": 512,
    "start_time": "2021-07-07T14:51:58.236Z"
   },
   {
    "duration": 223,
    "start_time": "2021-07-07T14:51:58.750Z"
   },
   {
    "duration": 93,
    "start_time": "2021-07-07T14:51:58.977Z"
   },
   {
    "duration": 4,
    "start_time": "2021-07-07T14:51:59.071Z"
   },
   {
    "duration": 37,
    "start_time": "2021-07-07T14:51:59.077Z"
   },
   {
    "duration": 18,
    "start_time": "2021-07-07T14:51:59.116Z"
   },
   {
    "duration": 10,
    "start_time": "2021-07-07T14:51:59.137Z"
   },
   {
    "duration": 8,
    "start_time": "2021-07-07T14:51:59.149Z"
   },
   {
    "duration": 54,
    "start_time": "2021-07-07T14:51:59.158Z"
   },
   {
    "duration": 18,
    "start_time": "2021-07-07T14:51:59.213Z"
   },
   {
    "duration": 22,
    "start_time": "2021-07-07T14:51:59.232Z"
   },
   {
    "duration": 36,
    "start_time": "2021-07-07T14:51:59.255Z"
   },
   {
    "duration": 7,
    "start_time": "2021-07-07T14:51:59.293Z"
   },
   {
    "duration": 10,
    "start_time": "2021-07-07T14:51:59.302Z"
   },
   {
    "duration": 9,
    "start_time": "2021-07-07T14:51:59.313Z"
   },
   {
    "duration": 11,
    "start_time": "2021-07-07T14:51:59.324Z"
   },
   {
    "duration": 8,
    "start_time": "2021-07-07T14:51:59.337Z"
   },
   {
    "duration": 46,
    "start_time": "2021-07-07T14:51:59.347Z"
   },
   {
    "duration": 22,
    "start_time": "2021-07-07T14:51:59.395Z"
   },
   {
    "duration": 24,
    "start_time": "2021-07-07T14:57:32.911Z"
   },
   {
    "duration": 7,
    "start_time": "2021-07-07T14:58:22.070Z"
   },
   {
    "duration": 4,
    "start_time": "2021-07-07T14:59:11.239Z"
   },
   {
    "duration": 25,
    "start_time": "2021-07-07T15:07:22.208Z"
   },
   {
    "duration": 16,
    "start_time": "2021-07-07T15:08:25.560Z"
   },
   {
    "duration": 15,
    "start_time": "2021-07-07T15:08:40.647Z"
   },
   {
    "duration": 14,
    "start_time": "2021-07-07T15:08:46.669Z"
   },
   {
    "duration": 533,
    "start_time": "2021-07-07T15:18:07.440Z"
   },
   {
    "duration": 173,
    "start_time": "2021-07-07T15:18:07.974Z"
   },
   {
    "duration": 84,
    "start_time": "2021-07-07T15:18:08.149Z"
   },
   {
    "duration": 3,
    "start_time": "2021-07-07T15:18:08.235Z"
   },
   {
    "duration": 30,
    "start_time": "2021-07-07T15:18:08.240Z"
   },
   {
    "duration": 22,
    "start_time": "2021-07-07T15:18:08.272Z"
   },
   {
    "duration": 11,
    "start_time": "2021-07-07T15:18:08.295Z"
   },
   {
    "duration": 11,
    "start_time": "2021-07-07T15:18:08.309Z"
   },
   {
    "duration": 40,
    "start_time": "2021-07-07T15:18:08.322Z"
   },
   {
    "duration": 42,
    "start_time": "2021-07-07T15:18:08.364Z"
   },
   {
    "duration": 22,
    "start_time": "2021-07-07T15:18:08.408Z"
   },
   {
    "duration": 5,
    "start_time": "2021-07-07T15:18:08.432Z"
   },
   {
    "duration": 13,
    "start_time": "2021-07-07T15:18:08.439Z"
   },
   {
    "duration": 9,
    "start_time": "2021-07-07T15:18:08.454Z"
   },
   {
    "duration": 32,
    "start_time": "2021-07-07T15:18:08.465Z"
   },
   {
    "duration": 10,
    "start_time": "2021-07-07T15:18:08.501Z"
   },
   {
    "duration": 7,
    "start_time": "2021-07-07T15:18:08.513Z"
   },
   {
    "duration": 11,
    "start_time": "2021-07-07T15:18:08.521Z"
   },
   {
    "duration": 17,
    "start_time": "2021-07-07T15:18:08.534Z"
   },
   {
    "duration": 44,
    "start_time": "2021-07-07T15:18:08.553Z"
   },
   {
    "duration": 22,
    "start_time": "2021-07-07T15:18:08.599Z"
   },
   {
    "duration": 61,
    "start_time": "2021-07-07T15:18:08.622Z"
   },
   {
    "duration": 7,
    "start_time": "2021-07-07T15:18:39.457Z"
   },
   {
    "duration": 5,
    "start_time": "2021-07-07T16:05:17.020Z"
   },
   {
    "duration": 5,
    "start_time": "2021-07-07T16:51:28.794Z"
   },
   {
    "duration": 546,
    "start_time": "2021-07-07T16:52:26.306Z"
   },
   {
    "duration": 203,
    "start_time": "2021-07-07T16:52:27.523Z"
   },
   {
    "duration": 85,
    "start_time": "2021-07-07T16:52:27.736Z"
   },
   {
    "duration": 4,
    "start_time": "2021-07-07T16:52:27.899Z"
   },
   {
    "duration": 25,
    "start_time": "2021-07-07T16:52:28.674Z"
   },
   {
    "duration": 8,
    "start_time": "2021-07-07T16:52:32.956Z"
   },
   {
    "duration": 18,
    "start_time": "2021-07-07T16:52:35.616Z"
   },
   {
    "duration": 6,
    "start_time": "2021-07-07T16:52:36.913Z"
   },
   {
    "duration": 11,
    "start_time": "2021-07-07T16:52:40.258Z"
   },
   {
    "duration": 10,
    "start_time": "2021-07-07T16:52:46.251Z"
   },
   {
    "duration": 8,
    "start_time": "2021-07-07T16:52:47.182Z"
   },
   {
    "duration": 27,
    "start_time": "2021-07-07T16:53:20.391Z"
   },
   {
    "duration": 20,
    "start_time": "2021-07-07T16:53:22.022Z"
   },
   {
    "duration": 23,
    "start_time": "2021-07-07T16:53:23.690Z"
   },
   {
    "duration": 8,
    "start_time": "2021-07-07T16:53:24.261Z"
   },
   {
    "duration": 4,
    "start_time": "2021-07-07T16:53:38.733Z"
   },
   {
    "duration": 7,
    "start_time": "2021-07-07T16:53:40.445Z"
   },
   {
    "duration": 11,
    "start_time": "2021-07-07T16:53:41.348Z"
   },
   {
    "duration": 13,
    "start_time": "2021-07-07T16:53:45.250Z"
   },
   {
    "duration": 12,
    "start_time": "2021-07-07T16:53:45.467Z"
   },
   {
    "duration": 4,
    "start_time": "2021-07-07T16:55:32.704Z"
   },
   {
    "duration": 12,
    "start_time": "2021-07-07T16:55:49.012Z"
   },
   {
    "duration": 18,
    "start_time": "2021-07-07T16:55:49.547Z"
   },
   {
    "duration": 611,
    "start_time": "2021-07-07T16:58:35.156Z"
   },
   {
    "duration": 200,
    "start_time": "2021-07-07T16:58:35.770Z"
   },
   {
    "duration": 86,
    "start_time": "2021-07-07T16:58:35.972Z"
   },
   {
    "duration": 3,
    "start_time": "2021-07-07T16:58:36.060Z"
   },
   {
    "duration": 27,
    "start_time": "2021-07-07T16:58:36.065Z"
   },
   {
    "duration": 8,
    "start_time": "2021-07-07T16:58:36.094Z"
   },
   {
    "duration": 17,
    "start_time": "2021-07-07T16:58:36.103Z"
   },
   {
    "duration": 5,
    "start_time": "2021-07-07T16:58:36.123Z"
   },
   {
    "duration": 11,
    "start_time": "2021-07-07T16:58:36.130Z"
   },
   {
    "duration": 7,
    "start_time": "2021-07-07T16:58:36.143Z"
   },
   {
    "duration": 37,
    "start_time": "2021-07-07T16:58:36.152Z"
   },
   {
    "duration": 27,
    "start_time": "2021-07-07T16:58:36.191Z"
   },
   {
    "duration": 19,
    "start_time": "2021-07-07T16:58:36.219Z"
   },
   {
    "duration": 49,
    "start_time": "2021-07-07T16:58:36.240Z"
   },
   {
    "duration": 6,
    "start_time": "2021-07-07T16:58:36.291Z"
   },
   {
    "duration": 3,
    "start_time": "2021-07-07T16:58:36.299Z"
   },
   {
    "duration": 13,
    "start_time": "2021-07-07T16:58:36.304Z"
   },
   {
    "duration": 10,
    "start_time": "2021-07-07T16:58:36.319Z"
   },
   {
    "duration": 10,
    "start_time": "2021-07-07T16:58:36.331Z"
   },
   {
    "duration": 44,
    "start_time": "2021-07-07T16:58:36.343Z"
   },
   {
    "duration": 4,
    "start_time": "2021-07-07T16:58:36.388Z"
   },
   {
    "duration": 13,
    "start_time": "2021-07-07T16:58:36.394Z"
   },
   {
    "duration": 16,
    "start_time": "2021-07-07T16:58:36.410Z"
   },
   {
    "duration": 8,
    "start_time": "2021-07-07T17:02:31.629Z"
   },
   {
    "duration": 8,
    "start_time": "2021-07-07T17:02:34.308Z"
   },
   {
    "duration": 6,
    "start_time": "2021-07-07T17:05:13.483Z"
   },
   {
    "duration": 17,
    "start_time": "2021-07-07T17:05:20.606Z"
   },
   {
    "duration": 7,
    "start_time": "2021-07-07T17:05:34.638Z"
   },
   {
    "duration": 3,
    "start_time": "2021-07-07T17:06:31.883Z"
   },
   {
    "duration": 570,
    "start_time": "2021-07-07T17:06:37.165Z"
   },
   {
    "duration": 174,
    "start_time": "2021-07-07T17:06:37.737Z"
   },
   {
    "duration": 47,
    "start_time": "2021-07-07T17:06:37.913Z"
   },
   {
    "duration": 3,
    "start_time": "2021-07-07T17:06:37.962Z"
   },
   {
    "duration": 27,
    "start_time": "2021-07-07T17:06:37.967Z"
   },
   {
    "duration": 7,
    "start_time": "2021-07-07T17:06:37.996Z"
   },
   {
    "duration": 16,
    "start_time": "2021-07-07T17:06:38.005Z"
   },
   {
    "duration": 6,
    "start_time": "2021-07-07T17:06:38.024Z"
   },
   {
    "duration": 12,
    "start_time": "2021-07-07T17:06:38.031Z"
   },
   {
    "duration": 41,
    "start_time": "2021-07-07T17:06:38.045Z"
   },
   {
    "duration": 8,
    "start_time": "2021-07-07T17:06:38.088Z"
   },
   {
    "duration": 26,
    "start_time": "2021-07-07T17:06:38.098Z"
   },
   {
    "duration": 17,
    "start_time": "2021-07-07T17:06:38.126Z"
   },
   {
    "duration": 43,
    "start_time": "2021-07-07T17:06:38.144Z"
   },
   {
    "duration": 6,
    "start_time": "2021-07-07T17:06:38.188Z"
   },
   {
    "duration": 5,
    "start_time": "2021-07-07T17:06:38.195Z"
   },
   {
    "duration": 9,
    "start_time": "2021-07-07T17:06:38.201Z"
   },
   {
    "duration": 12,
    "start_time": "2021-07-07T17:06:38.212Z"
   },
   {
    "duration": 11,
    "start_time": "2021-07-07T17:06:38.226Z"
   },
   {
    "duration": 47,
    "start_time": "2021-07-07T17:06:38.239Z"
   },
   {
    "duration": 4,
    "start_time": "2021-07-07T17:06:38.288Z"
   },
   {
    "duration": 13,
    "start_time": "2021-07-07T17:06:38.293Z"
   },
   {
    "duration": 5,
    "start_time": "2021-07-07T17:06:38.309Z"
   },
   {
    "duration": 18,
    "start_time": "2021-07-07T17:06:38.325Z"
   },
   {
    "duration": 20,
    "start_time": "2021-07-07T17:07:02.805Z"
   },
   {
    "duration": 19,
    "start_time": "2021-07-07T17:07:08.527Z"
   },
   {
    "duration": 19,
    "start_time": "2021-07-07T17:07:12.758Z"
   },
   {
    "duration": 22,
    "start_time": "2021-07-07T17:07:17.497Z"
   },
   {
    "duration": 19,
    "start_time": "2021-07-07T17:07:19.645Z"
   },
   {
    "duration": 10,
    "start_time": "2021-07-07T17:07:34.239Z"
   },
   {
    "duration": 17,
    "start_time": "2021-07-07T17:07:54.144Z"
   },
   {
    "duration": 14,
    "start_time": "2021-07-07T17:08:14.357Z"
   },
   {
    "duration": 616,
    "start_time": "2021-07-07T17:08:45.254Z"
   },
   {
    "duration": 178,
    "start_time": "2021-07-07T17:08:45.872Z"
   },
   {
    "duration": 60,
    "start_time": "2021-07-07T17:08:46.054Z"
   },
   {
    "duration": 3,
    "start_time": "2021-07-07T17:08:46.116Z"
   },
   {
    "duration": 26,
    "start_time": "2021-07-07T17:08:46.121Z"
   },
   {
    "duration": 7,
    "start_time": "2021-07-07T17:08:46.149Z"
   },
   {
    "duration": 17,
    "start_time": "2021-07-07T17:08:46.158Z"
   },
   {
    "duration": 14,
    "start_time": "2021-07-07T17:08:46.176Z"
   },
   {
    "duration": 17,
    "start_time": "2021-07-07T17:08:46.193Z"
   },
   {
    "duration": 9,
    "start_time": "2021-07-07T17:08:46.211Z"
   },
   {
    "duration": 21,
    "start_time": "2021-07-07T17:08:46.221Z"
   },
   {
    "duration": 49,
    "start_time": "2021-07-07T17:08:46.244Z"
   },
   {
    "duration": 24,
    "start_time": "2021-07-07T17:08:46.295Z"
   },
   {
    "duration": 22,
    "start_time": "2021-07-07T17:08:46.321Z"
   },
   {
    "duration": 6,
    "start_time": "2021-07-07T17:08:46.345Z"
   },
   {
    "duration": 5,
    "start_time": "2021-07-07T17:08:46.353Z"
   },
   {
    "duration": 13,
    "start_time": "2021-07-07T17:08:46.386Z"
   },
   {
    "duration": 12,
    "start_time": "2021-07-07T17:08:46.402Z"
   },
   {
    "duration": 10,
    "start_time": "2021-07-07T17:08:46.415Z"
   },
   {
    "duration": 7,
    "start_time": "2021-07-07T17:08:46.427Z"
   },
   {
    "duration": 8,
    "start_time": "2021-07-07T17:08:46.435Z"
   },
   {
    "duration": 68,
    "start_time": "2021-07-07T17:08:46.446Z"
   },
   {
    "duration": 13,
    "start_time": "2021-07-07T17:08:46.516Z"
   },
   {
    "duration": 78,
    "start_time": "2021-07-07T17:08:46.530Z"
   },
   {
    "duration": 40,
    "start_time": "2021-07-07T17:09:08.185Z"
   },
   {
    "duration": 16,
    "start_time": "2021-07-07T17:09:19.324Z"
   },
   {
    "duration": 21,
    "start_time": "2021-07-07T17:09:23.290Z"
   },
   {
    "duration": 13,
    "start_time": "2021-07-07T17:09:54.812Z"
   },
   {
    "duration": 13,
    "start_time": "2021-07-07T17:10:02.039Z"
   },
   {
    "duration": 10,
    "start_time": "2021-07-07T17:10:29.632Z"
   },
   {
    "duration": 13,
    "start_time": "2021-07-07T17:10:52.372Z"
   },
   {
    "duration": 13,
    "start_time": "2021-07-07T17:11:17.270Z"
   },
   {
    "duration": 13,
    "start_time": "2021-07-07T17:14:59.284Z"
   },
   {
    "duration": 547,
    "start_time": "2021-07-07T17:18:52.403Z"
   },
   {
    "duration": 163,
    "start_time": "2021-07-07T17:18:52.952Z"
   },
   {
    "duration": 44,
    "start_time": "2021-07-07T17:18:53.117Z"
   },
   {
    "duration": 3,
    "start_time": "2021-07-07T17:18:53.162Z"
   },
   {
    "duration": 26,
    "start_time": "2021-07-07T17:18:53.167Z"
   },
   {
    "duration": 6,
    "start_time": "2021-07-07T17:18:53.195Z"
   },
   {
    "duration": 15,
    "start_time": "2021-07-07T17:18:53.203Z"
   },
   {
    "duration": 5,
    "start_time": "2021-07-07T17:18:53.220Z"
   },
   {
    "duration": 11,
    "start_time": "2021-07-07T17:18:53.228Z"
   },
   {
    "duration": 9,
    "start_time": "2021-07-07T17:18:53.241Z"
   },
   {
    "duration": 41,
    "start_time": "2021-07-07T17:18:53.252Z"
   },
   {
    "duration": 33,
    "start_time": "2021-07-07T17:18:53.295Z"
   },
   {
    "duration": 19,
    "start_time": "2021-07-07T17:18:53.330Z"
   },
   {
    "duration": 49,
    "start_time": "2021-07-07T17:18:53.350Z"
   },
   {
    "duration": 5,
    "start_time": "2021-07-07T17:18:53.401Z"
   },
   {
    "duration": 5,
    "start_time": "2021-07-07T17:18:53.408Z"
   },
   {
    "duration": 11,
    "start_time": "2021-07-07T17:18:53.414Z"
   },
   {
    "duration": 9,
    "start_time": "2021-07-07T17:18:53.427Z"
   },
   {
    "duration": 10,
    "start_time": "2021-07-07T17:18:53.437Z"
   },
   {
    "duration": 39,
    "start_time": "2021-07-07T17:18:53.448Z"
   },
   {
    "duration": 26,
    "start_time": "2021-07-07T17:18:55.799Z"
   },
   {
    "duration": 598,
    "start_time": "2021-07-07T17:20:17.862Z"
   },
   {
    "duration": 161,
    "start_time": "2021-07-07T17:20:18.462Z"
   },
   {
    "duration": 45,
    "start_time": "2021-07-07T17:20:18.626Z"
   },
   {
    "duration": 4,
    "start_time": "2021-07-07T17:20:18.673Z"
   },
   {
    "duration": 38,
    "start_time": "2021-07-07T17:20:26.877Z"
   },
   {
    "duration": 7,
    "start_time": "2021-07-07T17:20:37.405Z"
   },
   {
    "duration": 19,
    "start_time": "2021-07-07T17:20:51.534Z"
   },
   {
    "duration": 5,
    "start_time": "2021-07-07T17:20:57.228Z"
   },
   {
    "duration": 7,
    "start_time": "2021-07-07T17:21:08.235Z"
   },
   {
    "duration": 19,
    "start_time": "2021-07-07T17:21:42.158Z"
   },
   {
    "duration": 14,
    "start_time": "2021-07-07T17:21:50.225Z"
   },
   {
    "duration": 22,
    "start_time": "2021-07-07T17:22:54.104Z"
   },
   {
    "duration": 5,
    "start_time": "2021-07-07T17:22:56.371Z"
   },
   {
    "duration": 14,
    "start_time": "2021-07-07T17:22:58.316Z"
   },
   {
    "duration": 5,
    "start_time": "2021-07-07T17:22:58.493Z"
   },
   {
    "duration": 35,
    "start_time": "2021-07-07T17:22:59.666Z"
   },
   {
    "duration": 6,
    "start_time": "2021-07-07T17:23:02.410Z"
   },
   {
    "duration": 611,
    "start_time": "2021-07-07T17:24:59.664Z"
   },
   {
    "duration": 178,
    "start_time": "2021-07-07T17:25:01.945Z"
   },
   {
    "duration": 47,
    "start_time": "2021-07-07T17:25:02.125Z"
   },
   {
    "duration": 2,
    "start_time": "2021-07-07T17:25:07.903Z"
   },
   {
    "duration": 254,
    "start_time": "2021-07-07T17:25:08.232Z"
   },
   {
    "duration": 182,
    "start_time": "2021-07-07T17:25:08.671Z"
   },
   {
    "duration": 6,
    "start_time": "2021-07-07T17:25:13.104Z"
   },
   {
    "duration": 36,
    "start_time": "2021-07-07T17:25:13.662Z"
   },
   {
    "duration": 7,
    "start_time": "2021-07-07T17:25:14.528Z"
   },
   {
    "duration": 24,
    "start_time": "2021-07-07T17:25:27.982Z"
   },
   {
    "duration": 3,
    "start_time": "2021-07-07T17:25:48.982Z"
   },
   {
    "duration": 165,
    "start_time": "2021-07-07T17:25:48.987Z"
   },
   {
    "duration": 50,
    "start_time": "2021-07-07T17:25:49.154Z"
   },
   {
    "duration": 4,
    "start_time": "2021-07-07T17:25:49.206Z"
   },
   {
    "duration": 26,
    "start_time": "2021-07-07T17:25:49.212Z"
   },
   {
    "duration": 7,
    "start_time": "2021-07-07T17:25:49.240Z"
   },
   {
    "duration": 16,
    "start_time": "2021-07-07T17:25:49.249Z"
   },
   {
    "duration": 22,
    "start_time": "2021-07-07T17:25:49.266Z"
   },
   {
    "duration": 16,
    "start_time": "2021-07-07T17:25:49.291Z"
   },
   {
    "duration": 9,
    "start_time": "2021-07-07T17:25:49.309Z"
   },
   {
    "duration": 7,
    "start_time": "2021-07-07T17:25:49.319Z"
   },
   {
    "duration": 28,
    "start_time": "2021-07-07T17:25:49.328Z"
   },
   {
    "duration": 44,
    "start_time": "2021-07-07T17:25:49.357Z"
   },
   {
    "duration": 22,
    "start_time": "2021-07-07T17:25:49.403Z"
   },
   {
    "duration": 7,
    "start_time": "2021-07-07T17:25:49.427Z"
   },
   {
    "duration": 3,
    "start_time": "2021-07-07T17:25:49.436Z"
   },
   {
    "duration": 44,
    "start_time": "2021-07-07T17:25:49.441Z"
   },
   {
    "duration": 12,
    "start_time": "2021-07-07T17:25:49.488Z"
   },
   {
    "duration": 13,
    "start_time": "2021-07-07T17:25:49.502Z"
   },
   {
    "duration": 10,
    "start_time": "2021-07-07T17:25:49.516Z"
   },
   {
    "duration": 62,
    "start_time": "2021-07-07T17:25:49.527Z"
   },
   {
    "duration": 26,
    "start_time": "2021-07-07T17:26:51.809Z"
   },
   {
    "duration": 26,
    "start_time": "2021-07-07T17:26:55.759Z"
   },
   {
    "duration": 26,
    "start_time": "2021-07-07T17:27:04.501Z"
   },
   {
    "duration": 25,
    "start_time": "2021-07-07T17:28:24.859Z"
   },
   {
    "duration": 21,
    "start_time": "2021-07-07T17:28:55.250Z"
   },
   {
    "duration": 21,
    "start_time": "2021-07-07T17:28:58.885Z"
   },
   {
    "duration": 7,
    "start_time": "2021-07-07T17:45:40.972Z"
   },
   {
    "duration": 13,
    "start_time": "2021-07-07T17:45:42.529Z"
   },
   {
    "duration": 27,
    "start_time": "2021-07-07T17:45:51.026Z"
   },
   {
    "duration": 518,
    "start_time": "2021-07-07T17:46:15.532Z"
   },
   {
    "duration": 235,
    "start_time": "2021-07-07T17:46:16.053Z"
   },
   {
    "duration": 80,
    "start_time": "2021-07-07T17:46:16.292Z"
   },
   {
    "duration": 5,
    "start_time": "2021-07-07T17:46:16.373Z"
   },
   {
    "duration": 26,
    "start_time": "2021-07-07T17:46:16.380Z"
   },
   {
    "duration": 7,
    "start_time": "2021-07-07T17:46:16.408Z"
   },
   {
    "duration": 16,
    "start_time": "2021-07-07T17:46:16.418Z"
   },
   {
    "duration": 5,
    "start_time": "2021-07-07T17:46:16.436Z"
   },
   {
    "duration": 13,
    "start_time": "2021-07-07T17:46:16.442Z"
   },
   {
    "duration": 35,
    "start_time": "2021-07-07T17:46:16.456Z"
   },
   {
    "duration": 8,
    "start_time": "2021-07-07T17:46:16.493Z"
   },
   {
    "duration": 28,
    "start_time": "2021-07-07T17:46:16.502Z"
   },
   {
    "duration": 17,
    "start_time": "2021-07-07T17:46:16.532Z"
   },
   {
    "duration": 44,
    "start_time": "2021-07-07T17:46:16.551Z"
   },
   {
    "duration": 6,
    "start_time": "2021-07-07T17:46:16.597Z"
   },
   {
    "duration": 4,
    "start_time": "2021-07-07T17:46:16.605Z"
   },
   {
    "duration": 9,
    "start_time": "2021-07-07T17:46:16.610Z"
   },
   {
    "duration": 9,
    "start_time": "2021-07-07T17:46:16.621Z"
   },
   {
    "duration": 10,
    "start_time": "2021-07-07T17:46:16.632Z"
   },
   {
    "duration": 43,
    "start_time": "2021-07-07T17:46:16.644Z"
   },
   {
    "duration": 26,
    "start_time": "2021-07-07T17:46:16.689Z"
   },
   {
    "duration": 19,
    "start_time": "2021-07-07T17:46:16.718Z"
   },
   {
    "duration": 8,
    "start_time": "2021-07-07T17:46:16.738Z"
   },
   {
    "duration": 43,
    "start_time": "2021-07-07T17:46:16.747Z"
   },
   {
    "duration": 19,
    "start_time": "2021-07-07T17:46:16.791Z"
   },
   {
    "duration": 9,
    "start_time": "2021-07-07T17:46:16.812Z"
   },
   {
    "duration": 60,
    "start_time": "2021-07-07T17:46:16.822Z"
   },
   {
    "duration": -8,
    "start_time": "2021-07-07T17:46:16.892Z"
   },
   {
    "duration": 12,
    "start_time": "2021-07-07T17:48:47.707Z"
   },
   {
    "duration": 553,
    "start_time": "2021-07-07T18:10:09.350Z"
   },
   {
    "duration": 230,
    "start_time": "2021-07-07T18:10:09.905Z"
   },
   {
    "duration": 97,
    "start_time": "2021-07-07T18:10:10.137Z"
   },
   {
    "duration": 5,
    "start_time": "2021-07-07T18:10:10.236Z"
   },
   {
    "duration": 29,
    "start_time": "2021-07-07T18:10:10.242Z"
   },
   {
    "duration": 7,
    "start_time": "2021-07-07T18:10:10.272Z"
   },
   {
    "duration": 15,
    "start_time": "2021-07-07T18:10:10.281Z"
   },
   {
    "duration": 4,
    "start_time": "2021-07-07T18:10:10.299Z"
   },
   {
    "duration": 14,
    "start_time": "2021-07-07T18:10:10.305Z"
   },
   {
    "duration": 8,
    "start_time": "2021-07-07T18:10:10.321Z"
   },
   {
    "duration": 8,
    "start_time": "2021-07-07T18:10:10.331Z"
   },
   {
    "duration": 56,
    "start_time": "2021-07-07T18:10:10.341Z"
   },
   {
    "duration": 19,
    "start_time": "2021-07-07T18:10:10.399Z"
   },
   {
    "duration": 23,
    "start_time": "2021-07-07T18:10:10.419Z"
   },
   {
    "duration": 6,
    "start_time": "2021-07-07T18:10:10.444Z"
   },
   {
    "duration": 9,
    "start_time": "2021-07-07T18:10:10.451Z"
   },
   {
    "duration": 30,
    "start_time": "2021-07-07T18:10:10.462Z"
   },
   {
    "duration": 9,
    "start_time": "2021-07-07T18:10:10.494Z"
   },
   {
    "duration": 14,
    "start_time": "2021-07-07T18:10:10.505Z"
   },
   {
    "duration": 7,
    "start_time": "2021-07-07T18:10:10.521Z"
   },
   {
    "duration": 26,
    "start_time": "2021-07-07T18:10:10.530Z"
   },
   {
    "duration": 44,
    "start_time": "2021-07-07T18:10:10.558Z"
   },
   {
    "duration": 7,
    "start_time": "2021-07-07T18:10:10.605Z"
   },
   {
    "duration": 11,
    "start_time": "2021-07-07T18:10:10.614Z"
   },
   {
    "duration": 19,
    "start_time": "2021-07-07T18:10:10.626Z"
   },
   {
    "duration": 44,
    "start_time": "2021-07-07T18:10:10.646Z"
   },
   {
    "duration": 516,
    "start_time": "2021-07-07T18:14:00.826Z"
   },
   {
    "duration": 230,
    "start_time": "2021-07-07T18:14:01.344Z"
   },
   {
    "duration": 105,
    "start_time": "2021-07-07T18:14:01.576Z"
   },
   {
    "duration": 5,
    "start_time": "2021-07-07T18:14:01.683Z"
   },
   {
    "duration": 46,
    "start_time": "2021-07-07T18:14:01.690Z"
   },
   {
    "duration": 7,
    "start_time": "2021-07-07T18:14:01.738Z"
   },
   {
    "duration": 20,
    "start_time": "2021-07-07T18:14:01.747Z"
   },
   {
    "duration": 16,
    "start_time": "2021-07-07T18:14:01.769Z"
   },
   {
    "duration": 14,
    "start_time": "2021-07-07T18:14:01.787Z"
   },
   {
    "duration": 15,
    "start_time": "2021-07-07T18:14:01.803Z"
   },
   {
    "duration": 12,
    "start_time": "2021-07-07T18:14:01.820Z"
   },
   {
    "duration": 35,
    "start_time": "2021-07-07T18:14:01.833Z"
   },
   {
    "duration": 31,
    "start_time": "2021-07-07T18:14:01.869Z"
   },
   {
    "duration": 37,
    "start_time": "2021-07-07T18:14:01.902Z"
   },
   {
    "duration": 8,
    "start_time": "2021-07-07T18:14:01.942Z"
   },
   {
    "duration": 16,
    "start_time": "2021-07-07T18:14:01.952Z"
   },
   {
    "duration": 13,
    "start_time": "2021-07-07T18:14:01.970Z"
   },
   {
    "duration": 32,
    "start_time": "2021-07-07T18:14:01.985Z"
   },
   {
    "duration": 11,
    "start_time": "2021-07-07T18:14:02.019Z"
   },
   {
    "duration": 22,
    "start_time": "2021-07-07T18:14:02.031Z"
   },
   {
    "duration": 27,
    "start_time": "2021-07-07T18:14:02.055Z"
   },
   {
    "duration": 18,
    "start_time": "2021-07-07T18:14:02.084Z"
   },
   {
    "duration": 18,
    "start_time": "2021-07-07T18:14:02.106Z"
   },
   {
    "duration": 11,
    "start_time": "2021-07-07T18:14:02.126Z"
   },
   {
    "duration": 21,
    "start_time": "2021-07-07T18:14:02.138Z"
   },
   {
    "duration": 32,
    "start_time": "2021-07-07T18:14:02.161Z"
   },
   {
    "duration": 28,
    "start_time": "2021-07-07T18:14:44.295Z"
   },
   {
    "duration": 6,
    "start_time": "2021-07-07T18:15:05.834Z"
   },
   {
    "duration": 511,
    "start_time": "2021-07-07T18:15:41.541Z"
   },
   {
    "duration": 183,
    "start_time": "2021-07-07T18:15:42.054Z"
   },
   {
    "duration": 50,
    "start_time": "2021-07-07T18:15:42.239Z"
   },
   {
    "duration": 5,
    "start_time": "2021-07-07T18:15:42.291Z"
   },
   {
    "duration": 48,
    "start_time": "2021-07-07T18:15:42.297Z"
   },
   {
    "duration": 8,
    "start_time": "2021-07-07T18:15:42.346Z"
   },
   {
    "duration": 17,
    "start_time": "2021-07-07T18:15:42.356Z"
   },
   {
    "duration": 15,
    "start_time": "2021-07-07T18:15:42.375Z"
   },
   {
    "duration": 12,
    "start_time": "2021-07-07T18:15:42.392Z"
   },
   {
    "duration": 7,
    "start_time": "2021-07-07T18:15:42.406Z"
   },
   {
    "duration": 7,
    "start_time": "2021-07-07T18:15:42.415Z"
   },
   {
    "duration": 29,
    "start_time": "2021-07-07T18:15:42.423Z"
   },
   {
    "duration": 43,
    "start_time": "2021-07-07T18:15:42.453Z"
   },
   {
    "duration": 18,
    "start_time": "2021-07-07T18:15:42.497Z"
   },
   {
    "duration": 6,
    "start_time": "2021-07-07T18:15:42.516Z"
   },
   {
    "duration": 3,
    "start_time": "2021-07-07T18:15:42.523Z"
   },
   {
    "duration": 18,
    "start_time": "2021-07-07T18:15:42.528Z"
   },
   {
    "duration": 10,
    "start_time": "2021-07-07T18:15:42.547Z"
   },
   {
    "duration": 36,
    "start_time": "2021-07-07T18:15:42.559Z"
   },
   {
    "duration": 8,
    "start_time": "2021-07-07T18:15:42.597Z"
   },
   {
    "duration": 28,
    "start_time": "2021-07-07T18:15:42.606Z"
   },
   {
    "duration": 52,
    "start_time": "2021-07-07T18:15:42.635Z"
   },
   {
    "duration": 7,
    "start_time": "2021-07-07T18:15:42.690Z"
   },
   {
    "duration": 10,
    "start_time": "2021-07-07T18:15:42.699Z"
   },
   {
    "duration": 19,
    "start_time": "2021-07-07T18:15:42.711Z"
   },
   {
    "duration": 9,
    "start_time": "2021-07-07T18:15:42.732Z"
   },
   {
    "duration": 5,
    "start_time": "2021-07-07T18:15:42.743Z"
   },
   {
    "duration": 1450,
    "start_time": "2021-07-07T18:15:51.984Z"
   },
   {
    "duration": 161,
    "start_time": "2021-07-07T18:15:53.435Z"
   },
   {
    "duration": 124,
    "start_time": "2021-07-07T18:15:53.598Z"
   },
   {
    "duration": 5,
    "start_time": "2021-07-07T18:15:53.724Z"
   },
   {
    "duration": 34,
    "start_time": "2021-07-07T18:15:53.730Z"
   },
   {
    "duration": 7,
    "start_time": "2021-07-07T18:15:53.765Z"
   },
   {
    "duration": 15,
    "start_time": "2021-07-07T18:15:53.773Z"
   },
   {
    "duration": 5,
    "start_time": "2021-07-07T18:15:53.791Z"
   },
   {
    "duration": 19,
    "start_time": "2021-07-07T18:15:53.798Z"
   },
   {
    "duration": 9,
    "start_time": "2021-07-07T18:15:53.818Z"
   },
   {
    "duration": 19,
    "start_time": "2021-07-07T18:15:53.828Z"
   },
   {
    "duration": 27,
    "start_time": "2021-07-07T18:15:53.848Z"
   },
   {
    "duration": 16,
    "start_time": "2021-07-07T18:15:53.884Z"
   },
   {
    "duration": 29,
    "start_time": "2021-07-07T18:15:53.901Z"
   },
   {
    "duration": 5,
    "start_time": "2021-07-07T18:15:53.932Z"
   },
   {
    "duration": 15,
    "start_time": "2021-07-07T18:15:53.939Z"
   },
   {
    "duration": 13,
    "start_time": "2021-07-07T18:15:53.956Z"
   },
   {
    "duration": 20,
    "start_time": "2021-07-07T18:15:53.971Z"
   },
   {
    "duration": 14,
    "start_time": "2021-07-07T18:15:53.992Z"
   },
   {
    "duration": 9,
    "start_time": "2021-07-07T18:15:54.009Z"
   },
   {
    "duration": 28,
    "start_time": "2021-07-07T18:15:54.020Z"
   },
   {
    "duration": 50,
    "start_time": "2021-07-07T18:15:54.051Z"
   },
   {
    "duration": 8,
    "start_time": "2021-07-07T18:15:54.105Z"
   },
   {
    "duration": 11,
    "start_time": "2021-07-07T18:15:54.115Z"
   },
   {
    "duration": 20,
    "start_time": "2021-07-07T18:15:54.128Z"
   },
   {
    "duration": 13,
    "start_time": "2021-07-07T18:15:54.184Z"
   },
   {
    "duration": 7,
    "start_time": "2021-07-07T18:15:54.199Z"
   },
   {
    "duration": 7,
    "start_time": "2021-07-07T18:17:08.042Z"
   },
   {
    "duration": 8,
    "start_time": "2021-07-07T18:17:21.008Z"
   },
   {
    "duration": 7,
    "start_time": "2021-07-07T18:17:29.003Z"
   },
   {
    "duration": 8,
    "start_time": "2021-07-07T18:17:32.492Z"
   },
   {
    "duration": 9,
    "start_time": "2021-07-07T18:17:41.758Z"
   },
   {
    "duration": 255,
    "start_time": "2021-07-07T18:20:20.897Z"
   },
   {
    "duration": 173,
    "start_time": "2021-07-07T18:20:26.636Z"
   },
   {
    "duration": 7,
    "start_time": "2021-07-07T18:21:47.164Z"
   },
   {
    "duration": 254,
    "start_time": "2021-07-07T18:23:08.703Z"
   },
   {
    "duration": 21,
    "start_time": "2021-07-07T18:23:22.506Z"
   },
   {
    "duration": 315,
    "start_time": "2021-07-07T18:25:54.801Z"
   },
   {
    "duration": 34,
    "start_time": "2021-07-07T18:26:51.817Z"
   },
   {
    "duration": 327,
    "start_time": "2021-07-07T18:26:56.147Z"
   },
   {
    "duration": 342,
    "start_time": "2021-07-07T18:27:15.887Z"
   },
   {
    "duration": 302,
    "start_time": "2021-07-07T18:28:18.569Z"
   },
   {
    "duration": 226,
    "start_time": "2021-07-07T18:29:20.879Z"
   },
   {
    "duration": 207,
    "start_time": "2021-07-07T18:29:58.114Z"
   },
   {
    "duration": 140,
    "start_time": "2021-07-07T18:32:04.372Z"
   },
   {
    "duration": 158,
    "start_time": "2021-07-07T18:32:32.508Z"
   },
   {
    "duration": 145,
    "start_time": "2021-07-07T18:32:41.365Z"
   },
   {
    "duration": 132,
    "start_time": "2021-07-07T18:32:45.199Z"
   },
   {
    "duration": 11,
    "start_time": "2021-07-07T18:35:24.679Z"
   },
   {
    "duration": 268,
    "start_time": "2021-07-07T18:36:16.145Z"
   },
   {
    "duration": 227,
    "start_time": "2021-07-07T18:37:04.918Z"
   },
   {
    "duration": 3,
    "start_time": "2021-07-07T18:37:33.012Z"
   },
   {
    "duration": 671,
    "start_time": "2021-07-07T18:37:38.295Z"
   },
   {
    "duration": 54,
    "start_time": "2021-07-07T18:37:53.406Z"
   },
   {
    "duration": 631,
    "start_time": "2021-07-07T18:37:56.463Z"
   },
   {
    "duration": 19,
    "start_time": "2021-07-07T18:39:40.535Z"
   },
   {
    "duration": 20,
    "start_time": "2021-07-07T18:40:12.236Z"
   },
   {
    "duration": 633,
    "start_time": "2021-07-07T18:42:00.398Z"
   },
   {
    "duration": 218,
    "start_time": "2021-07-07T18:42:01.033Z"
   },
   {
    "duration": 49,
    "start_time": "2021-07-07T18:42:01.253Z"
   },
   {
    "duration": 5,
    "start_time": "2021-07-07T18:42:01.303Z"
   },
   {
    "duration": 27,
    "start_time": "2021-07-07T18:42:01.310Z"
   },
   {
    "duration": 8,
    "start_time": "2021-07-07T18:42:01.339Z"
   },
   {
    "duration": 20,
    "start_time": "2021-07-07T18:42:01.348Z"
   },
   {
    "duration": 6,
    "start_time": "2021-07-07T18:42:01.386Z"
   },
   {
    "duration": 16,
    "start_time": "2021-07-07T18:42:01.394Z"
   },
   {
    "duration": 9,
    "start_time": "2021-07-07T18:42:01.411Z"
   },
   {
    "duration": 11,
    "start_time": "2021-07-07T18:42:01.421Z"
   },
   {
    "duration": 31,
    "start_time": "2021-07-07T18:42:01.434Z"
   },
   {
    "duration": 18,
    "start_time": "2021-07-07T18:42:01.485Z"
   },
   {
    "duration": 23,
    "start_time": "2021-07-07T18:42:01.505Z"
   },
   {
    "duration": 6,
    "start_time": "2021-07-07T18:42:01.530Z"
   },
   {
    "duration": 10,
    "start_time": "2021-07-07T18:42:01.538Z"
   },
   {
    "duration": 13,
    "start_time": "2021-07-07T18:42:01.550Z"
   },
   {
    "duration": 24,
    "start_time": "2021-07-07T18:42:01.564Z"
   },
   {
    "duration": 20,
    "start_time": "2021-07-07T18:42:01.590Z"
   },
   {
    "duration": 8,
    "start_time": "2021-07-07T18:42:01.611Z"
   },
   {
    "duration": 31,
    "start_time": "2021-07-07T18:42:01.620Z"
   },
   {
    "duration": 39,
    "start_time": "2021-07-07T18:42:01.653Z"
   },
   {
    "duration": 8,
    "start_time": "2021-07-07T18:42:01.696Z"
   },
   {
    "duration": 13,
    "start_time": "2021-07-07T18:42:01.705Z"
   },
   {
    "duration": 20,
    "start_time": "2021-07-07T18:42:01.720Z"
   },
   {
    "duration": 12,
    "start_time": "2021-07-07T18:42:01.741Z"
   },
   {
    "duration": 35,
    "start_time": "2021-07-07T18:42:01.755Z"
   },
   {
    "duration": 14,
    "start_time": "2021-07-07T18:42:01.792Z"
   },
   {
    "duration": 188,
    "start_time": "2021-07-07T18:42:01.808Z"
   },
   {
    "duration": 19,
    "start_time": "2021-07-07T18:42:01.998Z"
   },
   {
    "duration": 175,
    "start_time": "2021-07-07T18:42:02.019Z"
   },
   {
    "duration": 134,
    "start_time": "2021-07-07T18:42:02.196Z"
   },
   {
    "duration": 10,
    "start_time": "2021-07-07T18:42:02.331Z"
   },
   {
    "duration": 19,
    "start_time": "2021-07-07T18:42:02.343Z"
   },
   {
    "duration": 628,
    "start_time": "2021-07-07T18:46:30.701Z"
   },
   {
    "duration": 183,
    "start_time": "2021-07-07T18:46:31.331Z"
   },
   {
    "duration": 48,
    "start_time": "2021-07-07T18:46:31.516Z"
   },
   {
    "duration": 5,
    "start_time": "2021-07-07T18:46:31.566Z"
   },
   {
    "duration": 28,
    "start_time": "2021-07-07T18:46:31.572Z"
   },
   {
    "duration": 8,
    "start_time": "2021-07-07T18:46:31.602Z"
   },
   {
    "duration": 19,
    "start_time": "2021-07-07T18:46:31.611Z"
   },
   {
    "duration": 6,
    "start_time": "2021-07-07T18:46:31.633Z"
   },
   {
    "duration": 17,
    "start_time": "2021-07-07T18:46:31.642Z"
   },
   {
    "duration": 10,
    "start_time": "2021-07-07T18:46:31.684Z"
   },
   {
    "duration": 9,
    "start_time": "2021-07-07T18:46:31.695Z"
   },
   {
    "duration": 28,
    "start_time": "2021-07-07T18:46:31.705Z"
   },
   {
    "duration": 18,
    "start_time": "2021-07-07T18:46:31.735Z"
   },
   {
    "duration": 48,
    "start_time": "2021-07-07T18:46:31.755Z"
   },
   {
    "duration": 6,
    "start_time": "2021-07-07T18:46:31.804Z"
   },
   {
    "duration": 4,
    "start_time": "2021-07-07T18:46:31.812Z"
   },
   {
    "duration": 9,
    "start_time": "2021-07-07T18:46:31.817Z"
   },
   {
    "duration": 10,
    "start_time": "2021-07-07T18:46:31.827Z"
   },
   {
    "duration": 12,
    "start_time": "2021-07-07T18:46:31.838Z"
   },
   {
    "duration": 39,
    "start_time": "2021-07-07T18:46:31.851Z"
   },
   {
    "duration": 24,
    "start_time": "2021-07-07T18:46:31.892Z"
   },
   {
    "duration": 15,
    "start_time": "2021-07-07T18:46:31.918Z"
   },
   {
    "duration": 7,
    "start_time": "2021-07-07T18:46:31.936Z"
   },
   {
    "duration": 8,
    "start_time": "2021-07-07T18:46:31.944Z"
   },
   {
    "duration": 19,
    "start_time": "2021-07-07T18:46:31.984Z"
   },
   {
    "duration": 10,
    "start_time": "2021-07-07T18:46:32.004Z"
   },
   {
    "duration": 5,
    "start_time": "2021-07-07T18:46:32.016Z"
   },
   {
    "duration": 9,
    "start_time": "2021-07-07T18:46:32.023Z"
   },
   {
    "duration": 199,
    "start_time": "2021-07-07T18:46:32.033Z"
   },
   {
    "duration": 19,
    "start_time": "2021-07-07T18:46:32.234Z"
   },
   {
    "duration": 159,
    "start_time": "2021-07-07T18:46:32.255Z"
   },
   {
    "duration": 134,
    "start_time": "2021-07-07T18:46:32.416Z"
   },
   {
    "duration": 10,
    "start_time": "2021-07-07T18:46:32.552Z"
   },
   {
    "duration": 34,
    "start_time": "2021-07-07T18:46:32.563Z"
   },
   {
    "duration": 1039,
    "start_time": "2021-07-08T08:41:09.419Z"
   },
   {
    "duration": 333,
    "start_time": "2021-07-08T08:41:10.459Z"
   },
   {
    "duration": 173,
    "start_time": "2021-07-08T08:41:10.794Z"
   },
   {
    "duration": 5,
    "start_time": "2021-07-08T08:41:10.968Z"
   },
   {
    "duration": 25,
    "start_time": "2021-07-08T08:41:10.975Z"
   },
   {
    "duration": 9,
    "start_time": "2021-07-08T08:41:11.002Z"
   },
   {
    "duration": 18,
    "start_time": "2021-07-08T08:41:11.013Z"
   },
   {
    "duration": 6,
    "start_time": "2021-07-08T08:41:11.033Z"
   },
   {
    "duration": 44,
    "start_time": "2021-07-08T08:41:11.042Z"
   },
   {
    "duration": 10,
    "start_time": "2021-07-08T08:41:11.088Z"
   },
   {
    "duration": 9,
    "start_time": "2021-07-08T08:41:11.100Z"
   },
   {
    "duration": 27,
    "start_time": "2021-07-08T08:41:11.111Z"
   },
   {
    "duration": 46,
    "start_time": "2021-07-08T08:41:11.140Z"
   },
   {
    "duration": 17,
    "start_time": "2021-07-08T08:41:11.187Z"
   },
   {
    "duration": 6,
    "start_time": "2021-07-08T08:41:11.206Z"
   },
   {
    "duration": 5,
    "start_time": "2021-07-08T08:41:11.213Z"
   },
   {
    "duration": 10,
    "start_time": "2021-07-08T08:41:11.219Z"
   },
   {
    "duration": 9,
    "start_time": "2021-07-08T08:41:11.230Z"
   },
   {
    "duration": 45,
    "start_time": "2021-07-08T08:41:11.241Z"
   },
   {
    "duration": 7,
    "start_time": "2021-07-08T08:41:11.287Z"
   },
   {
    "duration": 24,
    "start_time": "2021-07-08T08:41:11.296Z"
   },
   {
    "duration": 16,
    "start_time": "2021-07-08T08:41:11.322Z"
   },
   {
    "duration": 7,
    "start_time": "2021-07-08T08:41:11.341Z"
   },
   {
    "duration": 41,
    "start_time": "2021-07-08T08:41:11.349Z"
   },
   {
    "duration": 17,
    "start_time": "2021-07-08T08:41:11.391Z"
   },
   {
    "duration": 9,
    "start_time": "2021-07-08T08:41:11.410Z"
   },
   {
    "duration": 5,
    "start_time": "2021-07-08T08:41:11.421Z"
   },
   {
    "duration": 6,
    "start_time": "2021-07-08T08:41:11.428Z"
   },
   {
    "duration": 198,
    "start_time": "2021-07-08T08:41:11.435Z"
   },
   {
    "duration": 18,
    "start_time": "2021-07-08T08:41:11.635Z"
   },
   {
    "duration": 155,
    "start_time": "2021-07-08T08:41:11.655Z"
   },
   {
    "duration": 138,
    "start_time": "2021-07-08T08:41:11.811Z"
   },
   {
    "duration": 10,
    "start_time": "2021-07-08T08:41:11.950Z"
   },
   {
    "duration": 29,
    "start_time": "2021-07-08T08:41:11.961Z"
   },
   {
    "duration": 171,
    "start_time": "2021-07-08T08:47:44.522Z"
   },
   {
    "duration": 124,
    "start_time": "2021-07-08T08:47:46.872Z"
   },
   {
    "duration": 191,
    "start_time": "2021-07-08T08:47:58.148Z"
   },
   {
    "duration": 191,
    "start_time": "2021-07-08T08:48:07.412Z"
   },
   {
    "duration": 261,
    "start_time": "2021-07-08T08:48:10.385Z"
   },
   {
    "duration": 255,
    "start_time": "2021-07-08T08:48:14.494Z"
   },
   {
    "duration": 219,
    "start_time": "2021-07-08T08:48:22.752Z"
   },
   {
    "duration": 173,
    "start_time": "2021-07-08T08:49:06.395Z"
   },
   {
    "duration": 180,
    "start_time": "2021-07-08T08:49:21.011Z"
   },
   {
    "duration": 6,
    "start_time": "2021-07-08T08:50:31.697Z"
   },
   {
    "duration": 10,
    "start_time": "2021-07-08T08:50:47.394Z"
   },
   {
    "duration": 11,
    "start_time": "2021-07-08T08:53:49.332Z"
   },
   {
    "duration": 171,
    "start_time": "2021-07-08T08:54:28.408Z"
   },
   {
    "duration": 636,
    "start_time": "2021-07-08T09:02:48.385Z"
   },
   {
    "duration": 227,
    "start_time": "2021-07-08T09:02:49.023Z"
   },
   {
    "duration": 104,
    "start_time": "2021-07-08T09:02:49.252Z"
   },
   {
    "duration": 5,
    "start_time": "2021-07-08T09:02:49.358Z"
   },
   {
    "duration": 27,
    "start_time": "2021-07-08T09:02:49.365Z"
   },
   {
    "duration": 8,
    "start_time": "2021-07-08T09:02:49.394Z"
   },
   {
    "duration": 18,
    "start_time": "2021-07-08T09:02:49.404Z"
   },
   {
    "duration": 6,
    "start_time": "2021-07-08T09:02:49.424Z"
   },
   {
    "duration": 11,
    "start_time": "2021-07-08T09:02:49.433Z"
   },
   {
    "duration": 13,
    "start_time": "2021-07-08T09:02:49.485Z"
   },
   {
    "duration": 9,
    "start_time": "2021-07-08T09:02:49.500Z"
   },
   {
    "duration": 38,
    "start_time": "2021-07-08T09:02:49.511Z"
   },
   {
    "duration": 42,
    "start_time": "2021-07-08T09:02:49.551Z"
   },
   {
    "duration": 21,
    "start_time": "2021-07-08T09:02:49.594Z"
   },
   {
    "duration": 6,
    "start_time": "2021-07-08T09:02:49.616Z"
   },
   {
    "duration": 3,
    "start_time": "2021-07-08T09:02:49.623Z"
   },
   {
    "duration": 9,
    "start_time": "2021-07-08T09:02:49.628Z"
   },
   {
    "duration": 52,
    "start_time": "2021-07-08T09:02:49.638Z"
   },
   {
    "duration": 11,
    "start_time": "2021-07-08T09:02:49.692Z"
   },
   {
    "duration": 8,
    "start_time": "2021-07-08T09:02:49.704Z"
   },
   {
    "duration": 27,
    "start_time": "2021-07-08T09:02:49.713Z"
   },
   {
    "duration": 59,
    "start_time": "2021-07-08T09:02:49.741Z"
   },
   {
    "duration": 8,
    "start_time": "2021-07-08T09:02:49.803Z"
   },
   {
    "duration": 14,
    "start_time": "2021-07-08T09:02:49.813Z"
   },
   {
    "duration": 20,
    "start_time": "2021-07-08T09:02:49.829Z"
   },
   {
    "duration": 44,
    "start_time": "2021-07-08T09:02:49.851Z"
   },
   {
    "duration": 14,
    "start_time": "2021-07-08T09:02:49.896Z"
   },
   {
    "duration": 221,
    "start_time": "2021-07-08T09:02:49.912Z"
   },
   {
    "duration": 6,
    "start_time": "2021-07-08T09:02:50.134Z"
   },
   {
    "duration": 206,
    "start_time": "2021-07-08T09:02:50.142Z"
   },
   {
    "duration": 19,
    "start_time": "2021-07-08T09:02:50.350Z"
   },
   {
    "duration": 21,
    "start_time": "2021-07-08T09:02:50.370Z"
   },
   {
    "duration": 20,
    "start_time": "2021-07-08T09:02:50.393Z"
   },
   {
    "duration": 5,
    "start_time": "2021-07-08T09:02:50.414Z"
   },
   {
    "duration": 5,
    "start_time": "2021-07-08T09:03:34.173Z"
   },
   {
    "duration": 6,
    "start_time": "2021-07-08T09:04:49.062Z"
   },
   {
    "duration": 9,
    "start_time": "2021-07-08T09:04:50.118Z"
   },
   {
    "duration": 14,
    "start_time": "2021-07-08T09:04:58.512Z"
   },
   {
    "duration": 9,
    "start_time": "2021-07-08T09:05:10.988Z"
   },
   {
    "duration": 11,
    "start_time": "2021-07-08T09:05:11.743Z"
   },
   {
    "duration": 7,
    "start_time": "2021-07-08T09:05:25.677Z"
   },
   {
    "duration": 13,
    "start_time": "2021-07-08T09:05:47.189Z"
   },
   {
    "duration": 13,
    "start_time": "2021-07-08T09:05:54.755Z"
   },
   {
    "duration": 4,
    "start_time": "2021-07-08T09:06:29.189Z"
   },
   {
    "duration": 244,
    "start_time": "2021-07-08T09:06:29.195Z"
   },
   {
    "duration": 91,
    "start_time": "2021-07-08T09:06:29.441Z"
   },
   {
    "duration": 4,
    "start_time": "2021-07-08T09:06:29.534Z"
   },
   {
    "duration": 28,
    "start_time": "2021-07-08T09:06:29.540Z"
   },
   {
    "duration": 6,
    "start_time": "2021-07-08T09:06:29.570Z"
   },
   {
    "duration": 18,
    "start_time": "2021-07-08T09:06:29.578Z"
   },
   {
    "duration": 5,
    "start_time": "2021-07-08T09:06:29.597Z"
   },
   {
    "duration": 13,
    "start_time": "2021-07-08T09:06:29.605Z"
   },
   {
    "duration": 8,
    "start_time": "2021-07-08T09:06:29.620Z"
   },
   {
    "duration": 7,
    "start_time": "2021-07-08T09:06:29.630Z"
   },
   {
    "duration": 63,
    "start_time": "2021-07-08T09:06:29.639Z"
   },
   {
    "duration": 17,
    "start_time": "2021-07-08T09:06:29.704Z"
   },
   {
    "duration": 20,
    "start_time": "2021-07-08T09:06:29.723Z"
   },
   {
    "duration": 6,
    "start_time": "2021-07-08T09:06:29.745Z"
   },
   {
    "duration": 3,
    "start_time": "2021-07-08T09:06:29.752Z"
   },
   {
    "duration": 7,
    "start_time": "2021-07-08T09:06:29.785Z"
   },
   {
    "duration": 11,
    "start_time": "2021-07-08T09:06:29.794Z"
   },
   {
    "duration": 15,
    "start_time": "2021-07-08T09:06:29.807Z"
   },
   {
    "duration": 8,
    "start_time": "2021-07-08T09:06:29.823Z"
   },
   {
    "duration": 70,
    "start_time": "2021-07-08T09:06:29.832Z"
   },
   {
    "duration": 17,
    "start_time": "2021-07-08T09:06:29.903Z"
   },
   {
    "duration": 9,
    "start_time": "2021-07-08T09:06:29.921Z"
   },
   {
    "duration": 9,
    "start_time": "2021-07-08T09:06:29.932Z"
   },
   {
    "duration": 57,
    "start_time": "2021-07-08T09:06:29.942Z"
   },
   {
    "duration": 11,
    "start_time": "2021-07-08T09:06:30.001Z"
   },
   {
    "duration": 19,
    "start_time": "2021-07-08T09:06:30.016Z"
   },
   {
    "duration": 217,
    "start_time": "2021-07-08T09:06:30.037Z"
   },
   {
    "duration": 6,
    "start_time": "2021-07-08T09:06:30.255Z"
   },
   {
    "duration": 205,
    "start_time": "2021-07-08T09:06:30.263Z"
   },
   {
    "duration": 27,
    "start_time": "2021-07-08T09:06:30.470Z"
   },
   {
    "duration": 11,
    "start_time": "2021-07-08T09:06:30.500Z"
   },
   {
    "duration": 31,
    "start_time": "2021-07-08T09:06:30.513Z"
   },
   {
    "duration": 18,
    "start_time": "2021-07-08T09:06:30.546Z"
   },
   {
    "duration": 11,
    "start_time": "2021-07-08T09:06:30.566Z"
   },
   {
    "duration": 19,
    "start_time": "2021-07-08T09:06:30.579Z"
   },
   {
    "duration": 20,
    "start_time": "2021-07-08T09:06:49.466Z"
   },
   {
    "duration": 9,
    "start_time": "2021-07-08T09:06:51.994Z"
   },
   {
    "duration": 20,
    "start_time": "2021-07-08T09:06:52.273Z"
   },
   {
    "duration": 246,
    "start_time": "2021-07-08T09:10:21.272Z"
   },
   {
    "duration": 84,
    "start_time": "2021-07-08T09:10:21.436Z"
   },
   {
    "duration": 7,
    "start_time": "2021-07-08T09:10:37.608Z"
   },
   {
    "duration": 189,
    "start_time": "2021-07-08T09:10:38.573Z"
   },
   {
    "duration": 185,
    "start_time": "2021-07-08T09:10:53.181Z"
   },
   {
    "duration": 11,
    "start_time": "2021-07-08T09:10:59.549Z"
   },
   {
    "duration": 42,
    "start_time": "2021-07-08T09:10:59.709Z"
   },
   {
    "duration": 12,
    "start_time": "2021-07-08T09:11:02.857Z"
   },
   {
    "duration": 28,
    "start_time": "2021-07-08T09:11:10.062Z"
   },
   {
    "duration": 249,
    "start_time": "2021-07-08T09:11:37.388Z"
   },
   {
    "duration": 232,
    "start_time": "2021-07-08T09:11:49.485Z"
   },
   {
    "duration": 453,
    "start_time": "2021-07-08T09:12:01.546Z"
   },
   {
    "duration": 440,
    "start_time": "2021-07-08T09:12:12.347Z"
   },
   {
    "duration": 213,
    "start_time": "2021-07-08T09:13:32.196Z"
   },
   {
    "duration": 172,
    "start_time": "2021-07-08T09:14:07.400Z"
   },
   {
    "duration": 185,
    "start_time": "2021-07-08T09:14:14.905Z"
   },
   {
    "duration": 209,
    "start_time": "2021-07-08T09:14:40.109Z"
   },
   {
    "duration": 201,
    "start_time": "2021-07-08T09:14:54.506Z"
   },
   {
    "duration": 622,
    "start_time": "2021-07-08T09:18:14.497Z"
   },
   {
    "duration": 220,
    "start_time": "2021-07-08T09:18:15.121Z"
   },
   {
    "duration": 79,
    "start_time": "2021-07-08T09:18:15.343Z"
   },
   {
    "duration": 4,
    "start_time": "2021-07-08T09:18:15.425Z"
   },
   {
    "duration": 24,
    "start_time": "2021-07-08T09:18:15.431Z"
   },
   {
    "duration": 8,
    "start_time": "2021-07-08T09:18:15.457Z"
   },
   {
    "duration": 16,
    "start_time": "2021-07-08T09:18:15.466Z"
   },
   {
    "duration": 5,
    "start_time": "2021-07-08T09:18:15.484Z"
   },
   {
    "duration": 10,
    "start_time": "2021-07-08T09:18:15.493Z"
   },
   {
    "duration": 8,
    "start_time": "2021-07-08T09:18:15.504Z"
   },
   {
    "duration": 7,
    "start_time": "2021-07-08T09:18:15.513Z"
   },
   {
    "duration": 26,
    "start_time": "2021-07-08T09:18:15.522Z"
   },
   {
    "duration": 49,
    "start_time": "2021-07-08T09:18:15.550Z"
   },
   {
    "duration": 21,
    "start_time": "2021-07-08T09:18:15.601Z"
   },
   {
    "duration": 8,
    "start_time": "2021-07-08T09:18:15.624Z"
   },
   {
    "duration": 3,
    "start_time": "2021-07-08T09:18:15.634Z"
   },
   {
    "duration": 8,
    "start_time": "2021-07-08T09:18:15.639Z"
   },
   {
    "duration": 45,
    "start_time": "2021-07-08T09:18:15.649Z"
   },
   {
    "duration": 13,
    "start_time": "2021-07-08T09:18:15.696Z"
   },
   {
    "duration": 10,
    "start_time": "2021-07-08T09:18:15.711Z"
   },
   {
    "duration": 64,
    "start_time": "2021-07-08T09:18:15.722Z"
   },
   {
    "duration": 19,
    "start_time": "2021-07-08T09:18:15.788Z"
   },
   {
    "duration": 9,
    "start_time": "2021-07-08T09:18:15.809Z"
   },
   {
    "duration": 9,
    "start_time": "2021-07-08T09:18:15.820Z"
   },
   {
    "duration": 18,
    "start_time": "2021-07-08T09:18:15.831Z"
   },
   {
    "duration": 43,
    "start_time": "2021-07-08T09:18:15.851Z"
   },
   {
    "duration": 12,
    "start_time": "2021-07-08T09:18:15.897Z"
   },
   {
    "duration": 219,
    "start_time": "2021-07-08T09:18:15.911Z"
   },
   {
    "duration": 8,
    "start_time": "2021-07-08T09:18:16.132Z"
   },
   {
    "duration": 199,
    "start_time": "2021-07-08T09:18:16.141Z"
   },
   {
    "duration": 18,
    "start_time": "2021-07-08T09:18:16.341Z"
   },
   {
    "duration": 24,
    "start_time": "2021-07-08T09:18:16.361Z"
   },
   {
    "duration": 24,
    "start_time": "2021-07-08T09:18:16.387Z"
   },
   {
    "duration": 211,
    "start_time": "2021-07-08T09:18:16.413Z"
   },
   {
    "duration": 18,
    "start_time": "2021-07-08T09:18:16.626Z"
   },
   {
    "duration": 596,
    "start_time": "2021-07-08T10:06:33.623Z"
   },
   {
    "duration": 181,
    "start_time": "2021-07-08T10:06:34.221Z"
   },
   {
    "duration": 176,
    "start_time": "2021-07-08T10:06:34.635Z"
   },
   {
    "duration": 239,
    "start_time": "2021-07-08T10:06:55.572Z"
   },
   {
    "duration": 6,
    "start_time": "2021-07-08T10:06:57.687Z"
   },
   {
    "duration": 4,
    "start_time": "2021-07-08T10:07:03.956Z"
   },
   {
    "duration": 4,
    "start_time": "2021-07-08T10:07:10.376Z"
   },
   {
    "duration": 4,
    "start_time": "2021-07-08T10:17:19.889Z"
   },
   {
    "duration": 3,
    "start_time": "2021-07-08T10:19:19.407Z"
   },
   {
    "duration": 197,
    "start_time": "2021-07-08T10:19:19.412Z"
   },
   {
    "duration": 127,
    "start_time": "2021-07-08T10:19:19.611Z"
   },
   {
    "duration": 4,
    "start_time": "2021-07-08T10:19:19.740Z"
   },
   {
    "duration": 27,
    "start_time": "2021-07-08T10:19:19.746Z"
   },
   {
    "duration": 7,
    "start_time": "2021-07-08T10:19:19.775Z"
   },
   {
    "duration": 30,
    "start_time": "2021-07-08T10:19:19.784Z"
   },
   {
    "duration": 7,
    "start_time": "2021-07-08T10:19:19.817Z"
   },
   {
    "duration": 26,
    "start_time": "2021-07-08T10:19:19.826Z"
   },
   {
    "duration": 18,
    "start_time": "2021-07-08T10:19:19.854Z"
   },
   {
    "duration": 14,
    "start_time": "2021-07-08T10:19:19.874Z"
   },
   {
    "duration": 48,
    "start_time": "2021-07-08T10:19:19.890Z"
   },
   {
    "duration": 17,
    "start_time": "2021-07-08T10:19:19.940Z"
   },
   {
    "duration": 38,
    "start_time": "2021-07-08T10:19:19.959Z"
   },
   {
    "duration": 8,
    "start_time": "2021-07-08T10:19:19.999Z"
   },
   {
    "duration": 15,
    "start_time": "2021-07-08T10:19:20.009Z"
   },
   {
    "duration": 22,
    "start_time": "2021-07-08T10:19:20.026Z"
   },
   {
    "duration": 10,
    "start_time": "2021-07-08T10:19:20.050Z"
   },
   {
    "duration": 10,
    "start_time": "2021-07-08T10:19:20.062Z"
   },
   {
    "duration": 20,
    "start_time": "2021-07-08T10:19:20.073Z"
   },
   {
    "duration": 29,
    "start_time": "2021-07-08T10:19:20.095Z"
   },
   {
    "duration": 17,
    "start_time": "2021-07-08T10:19:20.126Z"
   },
   {
    "duration": 40,
    "start_time": "2021-07-08T10:19:20.146Z"
   },
   {
    "duration": 15,
    "start_time": "2021-07-08T10:19:20.189Z"
   },
   {
    "duration": 19,
    "start_time": "2021-07-08T10:19:20.206Z"
   },
   {
    "duration": 10,
    "start_time": "2021-07-08T10:19:20.226Z"
   },
   {
    "duration": 11,
    "start_time": "2021-07-08T10:19:20.238Z"
   },
   {
    "duration": 297,
    "start_time": "2021-07-08T10:19:20.250Z"
   },
   {
    "duration": 6,
    "start_time": "2021-07-08T10:19:20.549Z"
   },
   {
    "duration": 191,
    "start_time": "2021-07-08T10:19:20.557Z"
   },
   {
    "duration": 19,
    "start_time": "2021-07-08T10:19:20.750Z"
   },
   {
    "duration": 20,
    "start_time": "2021-07-08T10:19:20.771Z"
   },
   {
    "duration": 15,
    "start_time": "2021-07-08T10:19:20.793Z"
   },
   {
    "duration": 222,
    "start_time": "2021-07-08T10:19:20.809Z"
   },
   {
    "duration": 20,
    "start_time": "2021-07-08T10:19:21.033Z"
   },
   {
    "duration": 27,
    "start_time": "2021-07-08T10:45:04.055Z"
   },
   {
    "duration": 8,
    "start_time": "2021-07-08T10:45:08.478Z"
   },
   {
    "duration": 8,
    "start_time": "2021-07-08T10:45:31.982Z"
   },
   {
    "duration": 10,
    "start_time": "2021-07-08T10:46:01.221Z"
   },
   {
    "duration": 17,
    "start_time": "2021-07-08T10:46:40.011Z"
   },
   {
    "duration": 193,
    "start_time": "2021-07-08T10:48:19.471Z"
   },
   {
    "duration": 225,
    "start_time": "2021-07-08T10:49:26.480Z"
   },
   {
    "duration": 204,
    "start_time": "2021-07-08T10:49:59.992Z"
   },
   {
    "duration": 435,
    "start_time": "2021-07-08T10:50:06.779Z"
   },
   {
    "duration": 199,
    "start_time": "2021-07-08T10:50:14.891Z"
   },
   {
    "duration": 204,
    "start_time": "2021-07-08T10:50:18.501Z"
   },
   {
    "duration": 244,
    "start_time": "2021-07-08T10:50:23.359Z"
   },
   {
    "duration": 192,
    "start_time": "2021-07-08T10:50:29.135Z"
   },
   {
    "duration": 218,
    "start_time": "2021-07-08T10:50:33.092Z"
   },
   {
    "duration": 207,
    "start_time": "2021-07-08T10:52:45.381Z"
   },
   {
    "duration": 5,
    "start_time": "2021-07-08T10:53:34.641Z"
   },
   {
    "duration": 196,
    "start_time": "2021-07-08T10:53:41.478Z"
   },
   {
    "duration": 43,
    "start_time": "2021-07-08T10:53:50.335Z"
   },
   {
    "duration": 32,
    "start_time": "2021-07-08T10:53:55.294Z"
   },
   {
    "duration": 55,
    "start_time": "2021-07-08T10:54:09.675Z"
   },
   {
    "duration": 16,
    "start_time": "2021-07-08T10:54:12.260Z"
   },
   {
    "duration": 15,
    "start_time": "2021-07-08T10:54:49.150Z"
   },
   {
    "duration": 20,
    "start_time": "2021-07-08T10:56:07.596Z"
   },
   {
    "duration": 16,
    "start_time": "2021-07-08T10:58:26.276Z"
   },
   {
    "duration": 22,
    "start_time": "2021-07-08T10:59:00.486Z"
   },
   {
    "duration": 18,
    "start_time": "2021-07-08T11:02:09.653Z"
   },
   {
    "duration": 10,
    "start_time": "2021-07-08T11:03:44.331Z"
   },
   {
    "duration": 10,
    "start_time": "2021-07-08T11:03:54.055Z"
   },
   {
    "duration": 12,
    "start_time": "2021-07-08T11:04:41.967Z"
   },
   {
    "duration": 24,
    "start_time": "2021-07-08T11:07:30.732Z"
   },
   {
    "duration": 6,
    "start_time": "2021-07-08T11:07:37.364Z"
   },
   {
    "duration": 16,
    "start_time": "2021-07-08T11:08:01.819Z"
   },
   {
    "duration": 17,
    "start_time": "2021-07-08T11:09:47.488Z"
   },
   {
    "duration": 246,
    "start_time": "2021-07-08T11:10:00.830Z"
   },
   {
    "duration": 18,
    "start_time": "2021-07-08T11:13:55.195Z"
   },
   {
    "duration": 204,
    "start_time": "2021-07-08T11:14:04.951Z"
   },
   {
    "duration": 19,
    "start_time": "2021-07-08T11:15:10.613Z"
   },
   {
    "duration": 680,
    "start_time": "2021-07-08T11:16:25.793Z"
   },
   {
    "duration": 451,
    "start_time": "2021-07-08T11:16:40.313Z"
   },
   {
    "duration": 469,
    "start_time": "2021-07-08T11:17:21.286Z"
   },
   {
    "duration": 20,
    "start_time": "2021-07-08T11:19:12.554Z"
   },
   {
    "duration": 35,
    "start_time": "2021-07-08T11:20:05.484Z"
   },
   {
    "duration": 53,
    "start_time": "2021-07-08T11:21:40.050Z"
   },
   {
    "duration": 13,
    "start_time": "2021-07-08T11:22:26.059Z"
   },
   {
    "duration": 19,
    "start_time": "2021-07-08T11:22:47.419Z"
   },
   {
    "duration": 25,
    "start_time": "2021-07-08T11:23:19.958Z"
   },
   {
    "duration": 29,
    "start_time": "2021-07-08T11:23:25.415Z"
   },
   {
    "duration": 10,
    "start_time": "2021-07-08T11:24:45.138Z"
   },
   {
    "duration": 19,
    "start_time": "2021-07-08T11:24:54.498Z"
   },
   {
    "duration": 12,
    "start_time": "2021-07-08T11:25:32.225Z"
   },
   {
    "duration": 19,
    "start_time": "2021-07-08T11:25:37.092Z"
   },
   {
    "duration": 17,
    "start_time": "2021-07-08T11:25:58.116Z"
   },
   {
    "duration": 15,
    "start_time": "2021-07-08T11:26:02.258Z"
   },
   {
    "duration": 8,
    "start_time": "2021-07-08T11:26:59.682Z"
   },
   {
    "duration": 184,
    "start_time": "2021-07-08T11:27:21.894Z"
   },
   {
    "duration": 8,
    "start_time": "2021-07-08T11:27:23.824Z"
   },
   {
    "duration": 202,
    "start_time": "2021-07-08T11:27:23.962Z"
   },
   {
    "duration": 360,
    "start_time": "2021-07-08T11:28:33.215Z"
   },
   {
    "duration": 231,
    "start_time": "2021-07-08T11:32:05.542Z"
   },
   {
    "duration": 607,
    "start_time": "2021-07-08T11:36:27.854Z"
   },
   {
    "duration": 241,
    "start_time": "2021-07-08T11:36:28.463Z"
   },
   {
    "duration": 67,
    "start_time": "2021-07-08T11:36:28.709Z"
   },
   {
    "duration": 5,
    "start_time": "2021-07-08T11:36:28.778Z"
   },
   {
    "duration": 32,
    "start_time": "2021-07-08T11:36:28.784Z"
   },
   {
    "duration": 11,
    "start_time": "2021-07-08T11:36:28.819Z"
   },
   {
    "duration": 20,
    "start_time": "2021-07-08T11:36:28.834Z"
   },
   {
    "duration": 36,
    "start_time": "2021-07-08T11:36:28.857Z"
   },
   {
    "duration": 16,
    "start_time": "2021-07-08T11:36:28.895Z"
   },
   {
    "duration": 14,
    "start_time": "2021-07-08T11:36:28.913Z"
   },
   {
    "duration": 9,
    "start_time": "2021-07-08T11:36:28.930Z"
   },
   {
    "duration": 55,
    "start_time": "2021-07-08T11:36:28.941Z"
   },
   {
    "duration": 27,
    "start_time": "2021-07-08T11:36:28.999Z"
   },
   {
    "duration": 30,
    "start_time": "2021-07-08T11:36:29.028Z"
   },
   {
    "duration": 31,
    "start_time": "2021-07-08T11:36:29.060Z"
   },
   {
    "duration": 3,
    "start_time": "2021-07-08T11:36:29.093Z"
   },
   {
    "duration": 12,
    "start_time": "2021-07-08T11:36:29.099Z"
   },
   {
    "duration": 11,
    "start_time": "2021-07-08T11:36:29.112Z"
   },
   {
    "duration": 12,
    "start_time": "2021-07-08T11:36:29.125Z"
   },
   {
    "duration": 9,
    "start_time": "2021-07-08T11:36:29.139Z"
   },
   {
    "duration": 31,
    "start_time": "2021-07-08T11:36:29.191Z"
   },
   {
    "duration": 17,
    "start_time": "2021-07-08T11:36:29.226Z"
   },
   {
    "duration": 7,
    "start_time": "2021-07-08T11:36:29.245Z"
   },
   {
    "duration": 10,
    "start_time": "2021-07-08T11:36:29.254Z"
   },
   {
    "duration": 30,
    "start_time": "2021-07-08T11:36:29.292Z"
   },
   {
    "duration": 11,
    "start_time": "2021-07-08T11:36:29.324Z"
   },
   {
    "duration": 11,
    "start_time": "2021-07-08T11:36:29.337Z"
   },
   {
    "duration": 230,
    "start_time": "2021-07-08T11:36:29.349Z"
   },
   {
    "duration": 13,
    "start_time": "2021-07-08T11:36:29.588Z"
   },
   {
    "duration": 205,
    "start_time": "2021-07-08T11:36:29.603Z"
   },
   {
    "duration": 20,
    "start_time": "2021-07-08T11:36:29.810Z"
   },
   {
    "duration": 9,
    "start_time": "2021-07-08T11:36:29.832Z"
   },
   {
    "duration": 16,
    "start_time": "2021-07-08T11:36:29.843Z"
   },
   {
    "duration": 283,
    "start_time": "2021-07-08T11:36:29.861Z"
   },
   {
    "duration": 50,
    "start_time": "2021-07-08T11:36:30.146Z"
   },
   {
    "duration": 14,
    "start_time": "2021-07-08T11:36:30.198Z"
   },
   {
    "duration": 11,
    "start_time": "2021-07-08T11:36:30.214Z"
   },
   {
    "duration": 245,
    "start_time": "2021-07-08T11:36:30.227Z"
   },
   {
    "duration": 439,
    "start_time": "2021-07-08T11:36:30.474Z"
   },
   {
    "duration": 210,
    "start_time": "2021-07-08T11:36:30.915Z"
   },
   {
    "duration": 15,
    "start_time": "2021-07-08T11:36:31.127Z"
   },
   {
    "duration": 17,
    "start_time": "2021-07-08T11:38:20.451Z"
   },
   {
    "duration": 642,
    "start_time": "2021-07-08T11:46:17.881Z"
   },
   {
    "duration": 210,
    "start_time": "2021-07-08T11:46:18.525Z"
   },
   {
    "duration": 104,
    "start_time": "2021-07-08T11:46:18.741Z"
   },
   {
    "duration": 8,
    "start_time": "2021-07-08T11:46:18.847Z"
   },
   {
    "duration": 25,
    "start_time": "2021-07-08T11:46:18.857Z"
   },
   {
    "duration": 14,
    "start_time": "2021-07-08T11:46:18.884Z"
   },
   {
    "duration": 22,
    "start_time": "2021-07-08T11:46:18.900Z"
   },
   {
    "duration": 5,
    "start_time": "2021-07-08T11:46:18.924Z"
   },
   {
    "duration": 13,
    "start_time": "2021-07-08T11:46:18.931Z"
   },
   {
    "duration": 45,
    "start_time": "2021-07-08T11:46:18.946Z"
   },
   {
    "duration": 12,
    "start_time": "2021-07-08T11:46:18.993Z"
   },
   {
    "duration": 38,
    "start_time": "2021-07-08T11:46:19.006Z"
   },
   {
    "duration": 50,
    "start_time": "2021-07-08T11:46:19.046Z"
   },
   {
    "duration": 29,
    "start_time": "2021-07-08T11:46:19.099Z"
   },
   {
    "duration": 7,
    "start_time": "2021-07-08T11:46:19.130Z"
   },
   {
    "duration": 3,
    "start_time": "2021-07-08T11:46:19.139Z"
   },
   {
    "duration": 11,
    "start_time": "2021-07-08T11:46:19.144Z"
   },
   {
    "duration": 40,
    "start_time": "2021-07-08T11:46:19.157Z"
   },
   {
    "duration": 15,
    "start_time": "2021-07-08T11:46:19.199Z"
   },
   {
    "duration": 10,
    "start_time": "2021-07-08T11:46:19.217Z"
   },
   {
    "duration": 68,
    "start_time": "2021-07-08T11:46:19.230Z"
   },
   {
    "duration": 17,
    "start_time": "2021-07-08T11:46:19.301Z"
   },
   {
    "duration": 7,
    "start_time": "2021-07-08T11:46:19.321Z"
   },
   {
    "duration": 11,
    "start_time": "2021-07-08T11:46:19.330Z"
   },
   {
    "duration": 59,
    "start_time": "2021-07-08T11:46:19.343Z"
   },
   {
    "duration": 17,
    "start_time": "2021-07-08T11:46:19.405Z"
   },
   {
    "duration": 16,
    "start_time": "2021-07-08T11:46:19.424Z"
   },
   {
    "duration": 252,
    "start_time": "2021-07-08T11:46:19.443Z"
   },
   {
    "duration": 9,
    "start_time": "2021-07-08T11:46:19.697Z"
   },
   {
    "duration": 224,
    "start_time": "2021-07-08T11:46:19.708Z"
   },
   {
    "duration": 21,
    "start_time": "2021-07-08T11:46:19.934Z"
   },
   {
    "duration": 9,
    "start_time": "2021-07-08T11:46:19.956Z"
   },
   {
    "duration": 32,
    "start_time": "2021-07-08T11:46:19.967Z"
   },
   {
    "duration": 288,
    "start_time": "2021-07-08T11:46:20.004Z"
   },
   {
    "duration": 23,
    "start_time": "2021-07-08T11:46:20.300Z"
   },
   {
    "duration": 11,
    "start_time": "2021-07-08T11:46:20.325Z"
   },
   {
    "duration": 11,
    "start_time": "2021-07-08T11:46:20.339Z"
   },
   {
    "duration": 259,
    "start_time": "2021-07-08T11:46:20.352Z"
   },
   {
    "duration": 438,
    "start_time": "2021-07-08T11:46:20.613Z"
   },
   {
    "duration": 207,
    "start_time": "2021-07-08T11:46:21.054Z"
   },
   {
    "duration": 27,
    "start_time": "2021-07-08T11:46:21.262Z"
   },
   {
    "duration": 19,
    "start_time": "2021-07-08T11:46:21.291Z"
   },
   {
    "duration": 820,
    "start_time": "2021-07-08T11:49:01.655Z"
   },
   {
    "duration": 372,
    "start_time": "2021-07-08T11:49:02.478Z"
   },
   {
    "duration": 98,
    "start_time": "2021-07-08T11:49:02.853Z"
   },
   {
    "duration": 6,
    "start_time": "2021-07-08T11:49:02.953Z"
   },
   {
    "duration": 39,
    "start_time": "2021-07-08T11:49:02.960Z"
   },
   {
    "duration": 9,
    "start_time": "2021-07-08T11:49:03.003Z"
   },
   {
    "duration": 23,
    "start_time": "2021-07-08T11:49:03.014Z"
   },
   {
    "duration": 6,
    "start_time": "2021-07-08T11:49:03.041Z"
   },
   {
    "duration": 20,
    "start_time": "2021-07-08T11:49:03.049Z"
   },
   {
    "duration": 18,
    "start_time": "2021-07-08T11:49:03.084Z"
   },
   {
    "duration": 14,
    "start_time": "2021-07-08T11:49:03.104Z"
   },
   {
    "duration": 39,
    "start_time": "2021-07-08T11:49:03.119Z"
   },
   {
    "duration": 38,
    "start_time": "2021-07-08T11:49:03.160Z"
   },
   {
    "duration": 26,
    "start_time": "2021-07-08T11:49:03.200Z"
   },
   {
    "duration": 7,
    "start_time": "2021-07-08T11:49:03.227Z"
   },
   {
    "duration": 4,
    "start_time": "2021-07-08T11:49:03.236Z"
   },
   {
    "duration": 15,
    "start_time": "2021-07-08T11:49:03.243Z"
   },
   {
    "duration": 21,
    "start_time": "2021-07-08T11:49:03.285Z"
   },
   {
    "duration": 17,
    "start_time": "2021-07-08T11:49:03.309Z"
   },
   {
    "duration": 10,
    "start_time": "2021-07-08T11:49:03.328Z"
   },
   {
    "duration": 65,
    "start_time": "2021-07-08T11:49:03.340Z"
   },
   {
    "duration": 18,
    "start_time": "2021-07-08T11:49:03.407Z"
   },
   {
    "duration": 8,
    "start_time": "2021-07-08T11:49:03.428Z"
   },
   {
    "duration": 15,
    "start_time": "2021-07-08T11:49:03.438Z"
   },
   {
    "duration": 40,
    "start_time": "2021-07-08T11:49:03.455Z"
   },
   {
    "duration": 12,
    "start_time": "2021-07-08T11:49:03.497Z"
   },
   {
    "duration": 29,
    "start_time": "2021-07-08T11:49:03.511Z"
   },
   {
    "duration": 285,
    "start_time": "2021-07-08T11:49:03.542Z"
   },
   {
    "duration": 8,
    "start_time": "2021-07-08T11:49:03.829Z"
   },
   {
    "duration": 227,
    "start_time": "2021-07-08T11:49:03.838Z"
   },
   {
    "duration": 40,
    "start_time": "2021-07-08T11:49:04.066Z"
   },
   {
    "duration": 10,
    "start_time": "2021-07-08T11:49:04.108Z"
   },
   {
    "duration": 26,
    "start_time": "2021-07-08T11:49:04.121Z"
   },
   {
    "duration": 290,
    "start_time": "2021-07-08T11:49:04.149Z"
   },
   {
    "duration": 26,
    "start_time": "2021-07-08T11:49:04.441Z"
   },
   {
    "duration": 31,
    "start_time": "2021-07-08T11:49:04.470Z"
   },
   {
    "duration": 14,
    "start_time": "2021-07-08T11:49:04.503Z"
   },
   {
    "duration": 259,
    "start_time": "2021-07-08T11:49:04.521Z"
   },
   {
    "duration": 480,
    "start_time": "2021-07-08T11:49:04.782Z"
   },
   {
    "duration": 225,
    "start_time": "2021-07-08T11:49:05.264Z"
   },
   {
    "duration": 22,
    "start_time": "2021-07-08T11:49:05.491Z"
   },
   {
    "duration": 24,
    "start_time": "2021-07-08T11:49:05.515Z"
   },
   {
    "duration": 634,
    "start_time": "2021-07-08T11:52:24.960Z"
   },
   {
    "duration": 199,
    "start_time": "2021-07-08T11:52:25.599Z"
   },
   {
    "duration": 106,
    "start_time": "2021-07-08T11:52:25.803Z"
   },
   {
    "duration": 7,
    "start_time": "2021-07-08T11:52:25.911Z"
   },
   {
    "duration": 29,
    "start_time": "2021-07-08T11:52:25.920Z"
   },
   {
    "duration": 7,
    "start_time": "2021-07-08T11:52:25.951Z"
   },
   {
    "duration": 26,
    "start_time": "2021-07-08T11:52:25.961Z"
   },
   {
    "duration": 11,
    "start_time": "2021-07-08T11:52:25.990Z"
   },
   {
    "duration": 29,
    "start_time": "2021-07-08T11:52:26.005Z"
   },
   {
    "duration": 9,
    "start_time": "2021-07-08T11:52:26.036Z"
   },
   {
    "duration": 8,
    "start_time": "2021-07-08T11:52:26.047Z"
   },
   {
    "duration": 63,
    "start_time": "2021-07-08T11:52:26.057Z"
   },
   {
    "duration": 17,
    "start_time": "2021-07-08T11:52:26.122Z"
   },
   {
    "duration": 43,
    "start_time": "2021-07-08T11:52:26.142Z"
   },
   {
    "duration": 17,
    "start_time": "2021-07-08T11:52:26.187Z"
   },
   {
    "duration": 5,
    "start_time": "2021-07-08T11:52:26.206Z"
   },
   {
    "duration": 12,
    "start_time": "2021-07-08T11:52:26.212Z"
   },
   {
    "duration": 11,
    "start_time": "2021-07-08T11:52:26.226Z"
   },
   {
    "duration": 12,
    "start_time": "2021-07-08T11:52:26.238Z"
   },
   {
    "duration": 38,
    "start_time": "2021-07-08T11:52:26.252Z"
   },
   {
    "duration": 40,
    "start_time": "2021-07-08T11:52:26.292Z"
   },
   {
    "duration": 17,
    "start_time": "2021-07-08T11:52:26.336Z"
   },
   {
    "duration": 39,
    "start_time": "2021-07-08T11:52:26.355Z"
   },
   {
    "duration": 11,
    "start_time": "2021-07-08T11:52:26.395Z"
   },
   {
    "duration": 23,
    "start_time": "2021-07-08T11:52:26.408Z"
   },
   {
    "duration": 12,
    "start_time": "2021-07-08T11:52:26.432Z"
   },
   {
    "duration": 41,
    "start_time": "2021-07-08T11:52:26.446Z"
   },
   {
    "duration": 215,
    "start_time": "2021-07-08T11:52:26.493Z"
   },
   {
    "duration": 8,
    "start_time": "2021-07-08T11:52:26.710Z"
   },
   {
    "duration": 228,
    "start_time": "2021-07-08T11:52:26.720Z"
   },
   {
    "duration": 18,
    "start_time": "2021-07-08T11:52:26.950Z"
   },
   {
    "duration": 35,
    "start_time": "2021-07-08T11:52:26.969Z"
   },
   {
    "duration": 23,
    "start_time": "2021-07-08T11:52:27.006Z"
   },
   {
    "duration": 258,
    "start_time": "2021-07-08T11:52:27.030Z"
   },
   {
    "duration": 24,
    "start_time": "2021-07-08T11:52:27.290Z"
   },
   {
    "duration": 12,
    "start_time": "2021-07-08T11:52:27.316Z"
   },
   {
    "duration": 10,
    "start_time": "2021-07-08T11:52:27.329Z"
   },
   {
    "duration": 298,
    "start_time": "2021-07-08T11:52:27.341Z"
   },
   {
    "duration": 436,
    "start_time": "2021-07-08T11:52:27.641Z"
   },
   {
    "duration": 216,
    "start_time": "2021-07-08T11:52:28.079Z"
   },
   {
    "duration": 20,
    "start_time": "2021-07-08T11:52:28.297Z"
   },
   {
    "duration": 17,
    "start_time": "2021-07-08T11:52:28.319Z"
   },
   {
    "duration": 889,
    "start_time": "2022-08-19T09:49:08.622Z"
   },
   {
    "duration": 25,
    "start_time": "2022-08-19T09:49:09.514Z"
   },
   {
    "duration": 35,
    "start_time": "2022-08-19T09:49:09.541Z"
   },
   {
    "duration": 131,
    "start_time": "2022-08-19T09:49:09.578Z"
   },
   {
    "duration": 11,
    "start_time": "2022-08-19T09:49:09.711Z"
   },
   {
    "duration": 17,
    "start_time": "2022-08-19T09:49:09.724Z"
   },
   {
    "duration": 13,
    "start_time": "2022-08-19T09:49:09.743Z"
   },
   {
    "duration": 9,
    "start_time": "2022-08-19T09:49:09.758Z"
   },
   {
    "duration": 15,
    "start_time": "2022-08-19T09:49:09.770Z"
   },
   {
    "duration": 4,
    "start_time": "2022-08-19T09:49:09.788Z"
   },
   {
    "duration": 5,
    "start_time": "2022-08-19T09:49:09.794Z"
   },
   {
    "duration": 10,
    "start_time": "2022-08-19T09:49:09.801Z"
   },
   {
    "duration": 11,
    "start_time": "2022-08-19T09:49:09.813Z"
   },
   {
    "duration": 51,
    "start_time": "2022-08-19T09:49:09.827Z"
   },
   {
    "duration": 7,
    "start_time": "2022-08-19T09:49:09.880Z"
   },
   {
    "duration": 11,
    "start_time": "2022-08-19T09:49:09.889Z"
   },
   {
    "duration": 11,
    "start_time": "2022-08-19T09:49:09.903Z"
   },
   {
    "duration": 10,
    "start_time": "2022-08-19T09:49:09.916Z"
   },
   {
    "duration": 6,
    "start_time": "2022-08-19T09:49:09.928Z"
   },
   {
    "duration": 39,
    "start_time": "2022-08-19T09:49:09.935Z"
   },
   {
    "duration": 19,
    "start_time": "2022-08-19T09:49:09.976Z"
   },
   {
    "duration": 6,
    "start_time": "2022-08-19T09:49:09.997Z"
   },
   {
    "duration": 18,
    "start_time": "2022-08-19T09:49:10.005Z"
   },
   {
    "duration": 44,
    "start_time": "2022-08-19T09:49:10.026Z"
   },
   {
    "duration": 11,
    "start_time": "2022-08-19T09:49:10.072Z"
   },
   {
    "duration": 11,
    "start_time": "2022-08-19T09:49:10.085Z"
   },
   {
    "duration": 9,
    "start_time": "2022-08-19T09:49:10.097Z"
   },
   {
    "duration": 5,
    "start_time": "2022-08-19T09:49:10.112Z"
   },
   {
    "duration": 7,
    "start_time": "2022-08-19T09:49:10.120Z"
   },
   {
    "duration": 7,
    "start_time": "2022-08-19T09:49:10.129Z"
   },
   {
    "duration": 33,
    "start_time": "2022-08-19T09:49:10.138Z"
   },
   {
    "duration": 7,
    "start_time": "2022-08-19T09:49:10.174Z"
   },
   {
    "duration": 9,
    "start_time": "2022-08-19T09:49:10.183Z"
   },
   {
    "duration": 10,
    "start_time": "2022-08-19T09:49:10.194Z"
   },
   {
    "duration": 9,
    "start_time": "2022-08-19T09:49:10.205Z"
   },
   {
    "duration": 10,
    "start_time": "2022-08-19T09:49:10.216Z"
   },
   {
    "duration": 6,
    "start_time": "2022-08-19T09:49:10.229Z"
   },
   {
    "duration": 37,
    "start_time": "2022-08-19T09:49:10.237Z"
   },
   {
    "duration": 15,
    "start_time": "2022-08-19T09:49:10.276Z"
   },
   {
    "duration": 21,
    "start_time": "2022-08-19T09:49:10.293Z"
   },
   {
    "duration": 15,
    "start_time": "2022-08-19T09:49:10.316Z"
   },
   {
    "duration": 31,
    "start_time": "2022-08-19T09:49:10.334Z"
   },
   {
    "duration": 14,
    "start_time": "2022-08-19T09:49:10.367Z"
   },
   {
    "duration": 9,
    "start_time": "2022-08-19T09:49:10.384Z"
   },
   {
    "duration": 13,
    "start_time": "2022-08-19T09:49:10.396Z"
   },
   {
    "duration": 39,
    "start_time": "2022-08-19T09:49:10.410Z"
   },
   {
    "duration": 17,
    "start_time": "2022-08-19T09:49:10.451Z"
   },
   {
    "duration": 27,
    "start_time": "2022-08-19T09:49:10.472Z"
   },
   {
    "duration": 14,
    "start_time": "2022-08-19T09:49:10.501Z"
   },
   {
    "duration": 44,
    "start_time": "2022-08-19T09:49:10.517Z"
   },
   {
    "duration": 27,
    "start_time": "2022-08-19T09:49:10.563Z"
   },
   {
    "duration": 11,
    "start_time": "2022-08-19T09:49:10.592Z"
   },
   {
    "duration": 7,
    "start_time": "2022-08-19T09:49:10.605Z"
   },
   {
    "duration": 10,
    "start_time": "2022-08-19T09:49:10.613Z"
   },
   {
    "duration": 44,
    "start_time": "2022-08-19T09:49:10.625Z"
   },
   {
    "duration": 6,
    "start_time": "2022-08-19T09:49:10.671Z"
   },
   {
    "duration": 15,
    "start_time": "2022-08-19T09:49:10.679Z"
   },
   {
    "duration": 15,
    "start_time": "2022-08-19T09:49:10.696Z"
   },
   {
    "duration": 10,
    "start_time": "2022-08-19T09:49:10.713Z"
   },
   {
    "duration": 10,
    "start_time": "2022-08-19T09:49:10.725Z"
   },
   {
    "duration": 104,
    "start_time": "2022-08-19T09:49:10.737Z"
   },
   {
    "duration": 7,
    "start_time": "2022-08-19T09:49:10.844Z"
   },
   {
    "duration": 43,
    "start_time": "2022-08-19T09:49:10.867Z"
   },
   {
    "duration": 7,
    "start_time": "2022-08-19T09:49:10.913Z"
   },
   {
    "duration": 18,
    "start_time": "2022-08-19T09:49:10.922Z"
   },
   {
    "duration": 7,
    "start_time": "2022-08-19T09:49:10.942Z"
   },
   {
    "duration": 21,
    "start_time": "2022-08-19T09:49:10.951Z"
   },
   {
    "duration": 8,
    "start_time": "2022-08-19T09:49:10.974Z"
   },
   {
    "duration": 13,
    "start_time": "2022-08-19T09:49:10.984Z"
   },
   {
    "duration": 17,
    "start_time": "2022-08-19T09:49:10.999Z"
   },
   {
    "duration": 589,
    "start_time": "2022-08-19T09:49:11.019Z"
   },
   {
    "duration": 15,
    "start_time": "2022-08-19T09:49:11.610Z"
   },
   {
    "duration": 8,
    "start_time": "2022-08-19T09:49:11.627Z"
   },
   {
    "duration": 11,
    "start_time": "2022-08-19T09:49:11.637Z"
   },
   {
    "duration": 27,
    "start_time": "2022-08-19T09:49:11.650Z"
   },
   {
    "duration": 12,
    "start_time": "2022-08-19T09:49:11.679Z"
   },
   {
    "duration": 187,
    "start_time": "2022-08-19T09:49:11.693Z"
   },
   {
    "duration": 26,
    "start_time": "2022-08-19T09:49:11.882Z"
   },
   {
    "duration": 261,
    "start_time": "2022-08-19T09:49:11.910Z"
   },
   {
    "duration": 183,
    "start_time": "2022-08-19T09:49:12.174Z"
   },
   {
    "duration": 12,
    "start_time": "2022-08-19T09:49:12.359Z"
   },
   {
    "duration": 253,
    "start_time": "2022-08-19T09:49:12.377Z"
   },
   {
    "duration": 6,
    "start_time": "2022-08-19T09:49:12.631Z"
   },
   {
    "duration": 30,
    "start_time": "2022-08-19T09:49:12.639Z"
   },
   {
    "duration": 13,
    "start_time": "2022-08-19T09:49:12.671Z"
   },
   {
    "duration": 11,
    "start_time": "2022-08-19T09:49:12.685Z"
   },
   {
    "duration": 233,
    "start_time": "2022-08-19T09:49:12.699Z"
   },
   {
    "duration": 9,
    "start_time": "2022-08-19T09:49:12.934Z"
   },
   {
    "duration": 24,
    "start_time": "2022-08-19T09:49:12.945Z"
   },
   {
    "duration": 188,
    "start_time": "2022-08-19T09:49:12.971Z"
   },
   {
    "duration": 175,
    "start_time": "2022-08-19T09:49:13.161Z"
   },
   {
    "duration": 5,
    "start_time": "2022-08-19T09:49:13.338Z"
   },
   {
    "duration": 175,
    "start_time": "2022-08-19T09:49:13.345Z"
   },
   {
    "duration": 77,
    "start_time": "2022-08-19T09:49:13.522Z"
   },
   {
    "duration": 162,
    "start_time": "2022-08-19T09:49:13.601Z"
   },
   {
    "duration": 137,
    "start_time": "2022-08-19T09:49:13.768Z"
   },
   {
    "duration": 4,
    "start_time": "2022-08-19T09:49:13.907Z"
   },
   {
    "duration": 9,
    "start_time": "2022-08-19T09:49:13.913Z"
   },
   {
    "duration": 9,
    "start_time": "2022-08-19T09:49:13.923Z"
   },
   {
    "duration": 7,
    "start_time": "2022-08-19T09:49:13.934Z"
   },
   {
    "duration": 27,
    "start_time": "2022-08-19T09:49:13.942Z"
   },
   {
    "duration": 13,
    "start_time": "2022-08-19T09:49:13.971Z"
   },
   {
    "duration": 13,
    "start_time": "2022-08-19T09:49:13.986Z"
   },
   {
    "duration": 319,
    "start_time": "2022-08-19T09:49:14.002Z"
   },
   {
    "duration": 125,
    "start_time": "2022-08-19T11:03:13.521Z"
   },
   {
    "duration": 4,
    "start_time": "2022-08-19T11:07:29.815Z"
   },
   {
    "duration": 53,
    "start_time": "2022-08-19T15:23:05.628Z"
   },
   {
    "duration": 597,
    "start_time": "2022-08-19T15:23:19.493Z"
   },
   {
    "duration": 14,
    "start_time": "2022-08-19T15:23:20.092Z"
   },
   {
    "duration": 25,
    "start_time": "2022-08-19T15:23:20.107Z"
   },
   {
    "duration": 98,
    "start_time": "2022-08-19T15:23:20.134Z"
   },
   {
    "duration": 10,
    "start_time": "2022-08-19T15:23:20.233Z"
   },
   {
    "duration": 12,
    "start_time": "2022-08-19T15:23:20.245Z"
   },
   {
    "duration": 16,
    "start_time": "2022-08-19T15:23:20.258Z"
   },
   {
    "duration": 10,
    "start_time": "2022-08-19T15:23:20.275Z"
   },
   {
    "duration": 22,
    "start_time": "2022-08-19T15:23:20.287Z"
   },
   {
    "duration": 3,
    "start_time": "2022-08-19T15:23:20.313Z"
   },
   {
    "duration": 5,
    "start_time": "2022-08-19T15:23:20.318Z"
   },
   {
    "duration": 7,
    "start_time": "2022-08-19T15:23:20.324Z"
   },
   {
    "duration": 3,
    "start_time": "2022-08-19T15:23:23.882Z"
   },
   {
    "duration": 845,
    "start_time": "2022-08-19T15:28:03.687Z"
   },
   {
    "duration": 111,
    "start_time": "2022-08-19T15:28:18.154Z"
   },
   {
    "duration": 14,
    "start_time": "2022-08-19T15:28:18.267Z"
   },
   {
    "duration": 22,
    "start_time": "2022-08-19T15:28:18.282Z"
   },
   {
    "duration": 98,
    "start_time": "2022-08-19T15:28:18.306Z"
   },
   {
    "duration": 10,
    "start_time": "2022-08-19T15:28:18.406Z"
   },
   {
    "duration": 23,
    "start_time": "2022-08-19T15:28:18.417Z"
   },
   {
    "duration": 15,
    "start_time": "2022-08-19T15:28:18.442Z"
   },
   {
    "duration": 19,
    "start_time": "2022-08-19T15:28:18.458Z"
   },
   {
    "duration": 28,
    "start_time": "2022-08-19T15:28:18.479Z"
   },
   {
    "duration": 20,
    "start_time": "2022-08-19T15:28:18.509Z"
   },
   {
    "duration": 59,
    "start_time": "2022-08-19T15:28:18.530Z"
   },
   {
    "duration": 16,
    "start_time": "2022-08-19T15:28:18.591Z"
   },
   {
    "duration": 22,
    "start_time": "2022-08-19T15:28:18.609Z"
   },
   {
    "duration": 21,
    "start_time": "2022-08-19T15:28:18.634Z"
   },
   {
    "duration": 34,
    "start_time": "2022-08-19T15:28:18.656Z"
   },
   {
    "duration": 29,
    "start_time": "2022-08-19T15:28:18.692Z"
   },
   {
    "duration": 23,
    "start_time": "2022-08-19T15:28:18.723Z"
   },
   {
    "duration": 19,
    "start_time": "2022-08-19T15:28:18.748Z"
   },
   {
    "duration": 32,
    "start_time": "2022-08-19T15:28:18.769Z"
   },
   {
    "duration": 11,
    "start_time": "2022-08-19T15:28:18.803Z"
   },
   {
    "duration": 45,
    "start_time": "2022-08-19T15:28:18.815Z"
   },
   {
    "duration": 46,
    "start_time": "2022-08-19T15:28:18.861Z"
   },
   {
    "duration": 21,
    "start_time": "2022-08-19T15:28:18.909Z"
   },
   {
    "duration": 29,
    "start_time": "2022-08-19T15:28:18.931Z"
   },
   {
    "duration": 22,
    "start_time": "2022-08-19T15:28:18.962Z"
   },
   {
    "duration": 30,
    "start_time": "2022-08-19T15:28:18.985Z"
   },
   {
    "duration": 29,
    "start_time": "2022-08-19T15:28:19.016Z"
   },
   {
    "duration": 43,
    "start_time": "2022-08-19T15:28:19.047Z"
   },
   {
    "duration": 18,
    "start_time": "2022-08-19T15:28:19.092Z"
   },
   {
    "duration": 21,
    "start_time": "2022-08-19T15:28:19.112Z"
   },
   {
    "duration": 32,
    "start_time": "2022-08-19T15:28:19.134Z"
   },
   {
    "duration": 23,
    "start_time": "2022-08-19T15:28:19.168Z"
   },
   {
    "duration": 31,
    "start_time": "2022-08-19T15:28:19.193Z"
   },
   {
    "duration": 24,
    "start_time": "2022-08-19T15:28:19.226Z"
   },
   {
    "duration": 29,
    "start_time": "2022-08-19T15:28:19.252Z"
   },
   {
    "duration": 23,
    "start_time": "2022-08-19T15:28:19.283Z"
   },
   {
    "duration": 19,
    "start_time": "2022-08-19T15:28:19.308Z"
   },
   {
    "duration": 36,
    "start_time": "2022-08-19T15:28:19.328Z"
   },
   {
    "duration": 14,
    "start_time": "2022-08-19T15:28:19.366Z"
   },
   {
    "duration": 23,
    "start_time": "2022-08-19T15:28:19.381Z"
   },
   {
    "duration": 11,
    "start_time": "2022-08-19T15:28:19.407Z"
   },
   {
    "duration": 18,
    "start_time": "2022-08-19T15:28:19.420Z"
   },
   {
    "duration": 18,
    "start_time": "2022-08-19T15:28:19.440Z"
   },
   {
    "duration": 22,
    "start_time": "2022-08-19T15:28:19.459Z"
   },
   {
    "duration": 14,
    "start_time": "2022-08-19T15:28:19.482Z"
   },
   {
    "duration": 31,
    "start_time": "2022-08-19T15:28:19.498Z"
   },
   {
    "duration": 42,
    "start_time": "2022-08-19T15:28:19.530Z"
   },
   {
    "duration": 34,
    "start_time": "2022-08-19T15:28:19.573Z"
   },
   {
    "duration": 30,
    "start_time": "2022-08-19T15:28:19.608Z"
   },
   {
    "duration": 15,
    "start_time": "2022-08-19T15:28:19.639Z"
   },
   {
    "duration": 41,
    "start_time": "2022-08-19T15:28:19.655Z"
   },
   {
    "duration": 25,
    "start_time": "2022-08-19T15:28:19.698Z"
   },
   {
    "duration": 35,
    "start_time": "2022-08-19T15:28:19.724Z"
   },
   {
    "duration": 21,
    "start_time": "2022-08-19T15:28:19.761Z"
   },
   {
    "duration": 10,
    "start_time": "2022-08-19T15:28:19.784Z"
   },
   {
    "duration": 29,
    "start_time": "2022-08-19T15:28:19.796Z"
   },
   {
    "duration": 17,
    "start_time": "2022-08-19T15:28:19.826Z"
   },
   {
    "duration": 19,
    "start_time": "2022-08-19T15:28:19.845Z"
   },
   {
    "duration": 27,
    "start_time": "2022-08-19T15:28:59.642Z"
   },
   {
    "duration": 8,
    "start_time": "2022-08-19T15:29:24.258Z"
   },
   {
    "duration": 127,
    "start_time": "2022-08-19T15:29:39.948Z"
   },
   {
    "duration": 52,
    "start_time": "2022-08-19T15:30:24.642Z"
   },
   {
    "duration": 6,
    "start_time": "2022-08-19T15:30:36.155Z"
   },
   {
    "duration": 622,
    "start_time": "2022-08-19T15:31:14.367Z"
   },
   {
    "duration": 680,
    "start_time": "2022-08-19T15:31:40.760Z"
   },
   {
    "duration": 8,
    "start_time": "2022-08-19T15:32:06.274Z"
   },
   {
    "duration": 11,
    "start_time": "2022-08-19T15:32:30.133Z"
   },
   {
    "duration": 14,
    "start_time": "2022-08-19T15:35:07.074Z"
   },
   {
    "duration": 144,
    "start_time": "2022-08-19T15:38:04.221Z"
   },
   {
    "duration": 14,
    "start_time": "2022-08-19T15:38:04.367Z"
   },
   {
    "duration": 23,
    "start_time": "2022-08-19T15:38:04.382Z"
   },
   {
    "duration": 138,
    "start_time": "2022-08-19T15:38:04.407Z"
   },
   {
    "duration": 10,
    "start_time": "2022-08-19T15:38:04.547Z"
   },
   {
    "duration": 11,
    "start_time": "2022-08-19T15:38:04.559Z"
   },
   {
    "duration": 7,
    "start_time": "2022-08-19T15:38:04.572Z"
   },
   {
    "duration": 8,
    "start_time": "2022-08-19T15:38:04.580Z"
   },
   {
    "duration": 15,
    "start_time": "2022-08-19T15:38:04.590Z"
   },
   {
    "duration": 4,
    "start_time": "2022-08-19T15:38:04.608Z"
   },
   {
    "duration": 10,
    "start_time": "2022-08-19T15:38:04.614Z"
   },
   {
    "duration": 6,
    "start_time": "2022-08-19T15:38:04.626Z"
   },
   {
    "duration": 4,
    "start_time": "2022-08-19T15:38:04.658Z"
   },
   {
    "duration": 6,
    "start_time": "2022-08-19T15:38:04.664Z"
   },
   {
    "duration": 14,
    "start_time": "2022-08-19T15:38:04.672Z"
   },
   {
    "duration": 5,
    "start_time": "2022-08-19T15:38:04.687Z"
   },
   {
    "duration": 7,
    "start_time": "2022-08-19T15:38:04.693Z"
   },
   {
    "duration": 6,
    "start_time": "2022-08-19T15:38:04.702Z"
   },
   {
    "duration": 10,
    "start_time": "2022-08-19T15:38:04.709Z"
   },
   {
    "duration": 3,
    "start_time": "2022-08-19T15:38:04.721Z"
   },
   {
    "duration": 10,
    "start_time": "2022-08-19T15:38:04.757Z"
   },
   {
    "duration": 17,
    "start_time": "2022-08-19T15:38:04.769Z"
   },
   {
    "duration": 4,
    "start_time": "2022-08-19T15:38:04.788Z"
   },
   {
    "duration": 12,
    "start_time": "2022-08-19T15:38:04.794Z"
   },
   {
    "duration": 9,
    "start_time": "2022-08-19T15:38:04.808Z"
   },
   {
    "duration": 11,
    "start_time": "2022-08-19T15:38:04.818Z"
   },
   {
    "duration": 5,
    "start_time": "2022-08-19T15:38:04.857Z"
   },
   {
    "duration": 6,
    "start_time": "2022-08-19T15:38:04.867Z"
   },
   {
    "duration": 10,
    "start_time": "2022-08-19T15:38:04.875Z"
   },
   {
    "duration": 8,
    "start_time": "2022-08-19T15:38:04.887Z"
   },
   {
    "duration": 15,
    "start_time": "2022-08-19T15:38:04.897Z"
   },
   {
    "duration": 9,
    "start_time": "2022-08-19T15:38:04.914Z"
   },
   {
    "duration": 23,
    "start_time": "2022-08-19T15:38:04.925Z"
   },
   {
    "duration": 20,
    "start_time": "2022-08-19T15:38:04.950Z"
   },
   {
    "duration": 15,
    "start_time": "2022-08-19T15:38:04.972Z"
   },
   {
    "duration": 20,
    "start_time": "2022-08-19T15:38:04.989Z"
   },
   {
    "duration": 8,
    "start_time": "2022-08-19T15:38:05.010Z"
   },
   {
    "duration": 13,
    "start_time": "2022-08-19T15:38:05.020Z"
   },
   {
    "duration": 15,
    "start_time": "2022-08-19T15:38:05.035Z"
   },
   {
    "duration": 44,
    "start_time": "2022-08-19T15:38:05.052Z"
   },
   {
    "duration": 16,
    "start_time": "2022-08-19T15:38:05.098Z"
   },
   {
    "duration": 30,
    "start_time": "2022-08-19T15:38:05.115Z"
   },
   {
    "duration": 59,
    "start_time": "2022-08-19T15:38:05.147Z"
   },
   {
    "duration": 40,
    "start_time": "2022-08-19T15:38:05.208Z"
   },
   {
    "duration": 44,
    "start_time": "2022-08-19T15:38:05.250Z"
   },
   {
    "duration": 44,
    "start_time": "2022-08-19T15:38:05.297Z"
   },
   {
    "duration": 46,
    "start_time": "2022-08-19T15:38:05.343Z"
   },
   {
    "duration": 26,
    "start_time": "2022-08-19T15:38:05.391Z"
   },
   {
    "duration": 41,
    "start_time": "2022-08-19T15:38:05.419Z"
   },
   {
    "duration": 22,
    "start_time": "2022-08-19T15:38:05.462Z"
   },
   {
    "duration": 55,
    "start_time": "2022-08-19T15:38:05.486Z"
   },
   {
    "duration": 25,
    "start_time": "2022-08-19T15:38:05.543Z"
   },
   {
    "duration": 46,
    "start_time": "2022-08-19T15:38:05.570Z"
   },
   {
    "duration": 17,
    "start_time": "2022-08-19T15:38:05.618Z"
   },
   {
    "duration": 28,
    "start_time": "2022-08-19T15:38:05.636Z"
   },
   {
    "duration": 41,
    "start_time": "2022-08-19T15:38:05.666Z"
   },
   {
    "duration": 7,
    "start_time": "2022-08-19T15:38:05.709Z"
   },
   {
    "duration": 23,
    "start_time": "2022-08-19T15:38:05.718Z"
   },
   {
    "duration": 34,
    "start_time": "2022-08-19T15:38:05.743Z"
   },
   {
    "duration": 18,
    "start_time": "2022-08-19T15:38:05.779Z"
   },
   {
    "duration": 20,
    "start_time": "2022-08-19T15:38:05.799Z"
   },
   {
    "duration": 32,
    "start_time": "2022-08-19T15:38:05.821Z"
   },
   {
    "duration": 91,
    "start_time": "2022-08-19T15:38:05.855Z"
   },
   {
    "duration": 17,
    "start_time": "2022-08-19T15:38:05.948Z"
   },
   {
    "duration": 48,
    "start_time": "2022-08-19T15:38:05.967Z"
   },
   {
    "duration": 7,
    "start_time": "2022-08-19T15:38:06.017Z"
   },
   {
    "duration": 33,
    "start_time": "2022-08-19T15:38:06.026Z"
   },
   {
    "duration": 4,
    "start_time": "2022-08-19T15:38:11.142Z"
   },
   {
    "duration": 10,
    "start_time": "2022-08-19T15:38:13.129Z"
   },
   {
    "duration": 117,
    "start_time": "2022-08-19T15:40:20.943Z"
   },
   {
    "duration": 16,
    "start_time": "2022-08-19T15:40:21.063Z"
   },
   {
    "duration": 26,
    "start_time": "2022-08-19T15:40:21.081Z"
   },
   {
    "duration": 69,
    "start_time": "2022-08-19T15:40:21.109Z"
   },
   {
    "duration": 14,
    "start_time": "2022-08-19T15:40:21.180Z"
   },
   {
    "duration": 41,
    "start_time": "2022-08-19T15:40:21.196Z"
   },
   {
    "duration": 9,
    "start_time": "2022-08-19T15:40:21.239Z"
   },
   {
    "duration": 30,
    "start_time": "2022-08-19T15:40:21.250Z"
   },
   {
    "duration": 29,
    "start_time": "2022-08-19T15:40:21.282Z"
   },
   {
    "duration": 5,
    "start_time": "2022-08-19T15:40:21.315Z"
   },
   {
    "duration": 6,
    "start_time": "2022-08-19T15:40:21.322Z"
   },
   {
    "duration": 9,
    "start_time": "2022-08-19T15:40:21.330Z"
   },
   {
    "duration": 22,
    "start_time": "2022-08-19T15:40:21.340Z"
   },
   {
    "duration": 11,
    "start_time": "2022-08-19T15:40:21.365Z"
   },
   {
    "duration": 17,
    "start_time": "2022-08-19T15:40:21.378Z"
   },
   {
    "duration": 8,
    "start_time": "2022-08-19T15:40:21.396Z"
   },
   {
    "duration": 16,
    "start_time": "2022-08-19T15:40:21.406Z"
   },
   {
    "duration": 8,
    "start_time": "2022-08-19T15:40:21.425Z"
   },
   {
    "duration": 15,
    "start_time": "2022-08-19T15:40:21.435Z"
   },
   {
    "duration": 17,
    "start_time": "2022-08-19T15:40:21.452Z"
   },
   {
    "duration": 22,
    "start_time": "2022-08-19T15:40:21.471Z"
   },
   {
    "duration": 20,
    "start_time": "2022-08-19T15:40:21.495Z"
   },
   {
    "duration": 8,
    "start_time": "2022-08-19T15:40:21.517Z"
   },
   {
    "duration": 14,
    "start_time": "2022-08-19T15:40:21.527Z"
   },
   {
    "duration": 11,
    "start_time": "2022-08-19T15:40:21.543Z"
   },
   {
    "duration": 10,
    "start_time": "2022-08-19T15:40:21.556Z"
   },
   {
    "duration": 9,
    "start_time": "2022-08-19T15:40:21.567Z"
   },
   {
    "duration": 30,
    "start_time": "2022-08-19T15:40:21.581Z"
   },
   {
    "duration": 22,
    "start_time": "2022-08-19T15:40:21.613Z"
   },
   {
    "duration": 21,
    "start_time": "2022-08-19T15:40:21.637Z"
   },
   {
    "duration": 17,
    "start_time": "2022-08-19T15:40:21.660Z"
   },
   {
    "duration": 16,
    "start_time": "2022-08-19T15:40:21.679Z"
   },
   {
    "duration": 35,
    "start_time": "2022-08-19T15:40:21.697Z"
   },
   {
    "duration": 40,
    "start_time": "2022-08-19T15:40:21.733Z"
   },
   {
    "duration": 28,
    "start_time": "2022-08-19T15:40:21.775Z"
   },
   {
    "duration": 34,
    "start_time": "2022-08-19T15:40:21.805Z"
   },
   {
    "duration": 16,
    "start_time": "2022-08-19T15:40:21.842Z"
   },
   {
    "duration": 31,
    "start_time": "2022-08-19T15:40:21.860Z"
   },
   {
    "duration": 31,
    "start_time": "2022-08-19T15:40:21.893Z"
   },
   {
    "duration": 18,
    "start_time": "2022-08-19T15:40:21.925Z"
   },
   {
    "duration": 39,
    "start_time": "2022-08-19T15:40:21.945Z"
   },
   {
    "duration": 29,
    "start_time": "2022-08-19T15:40:21.986Z"
   },
   {
    "duration": 18,
    "start_time": "2022-08-19T15:40:22.017Z"
   },
   {
    "duration": 41,
    "start_time": "2022-08-19T15:40:22.037Z"
   },
   {
    "duration": 8,
    "start_time": "2022-08-19T15:40:22.080Z"
   },
   {
    "duration": 11,
    "start_time": "2022-08-19T15:40:22.090Z"
   },
   {
    "duration": 25,
    "start_time": "2022-08-19T15:40:22.103Z"
   },
   {
    "duration": 7,
    "start_time": "2022-08-19T15:40:22.131Z"
   },
   {
    "duration": 18,
    "start_time": "2022-08-19T15:40:22.140Z"
   },
   {
    "duration": 17,
    "start_time": "2022-08-19T15:40:22.159Z"
   },
   {
    "duration": 36,
    "start_time": "2022-08-19T15:40:22.178Z"
   },
   {
    "duration": 25,
    "start_time": "2022-08-19T15:40:22.216Z"
   },
   {
    "duration": 15,
    "start_time": "2022-08-19T15:40:22.243Z"
   },
   {
    "duration": 8,
    "start_time": "2022-08-19T15:40:22.259Z"
   },
   {
    "duration": 12,
    "start_time": "2022-08-19T15:40:22.269Z"
   },
   {
    "duration": 21,
    "start_time": "2022-08-19T15:40:22.284Z"
   },
   {
    "duration": 4,
    "start_time": "2022-08-19T15:40:22.307Z"
   },
   {
    "duration": 9,
    "start_time": "2022-08-19T15:40:22.312Z"
   },
   {
    "duration": 39,
    "start_time": "2022-08-19T15:40:22.323Z"
   },
   {
    "duration": 6,
    "start_time": "2022-08-19T15:40:22.364Z"
   },
   {
    "duration": 7,
    "start_time": "2022-08-19T15:40:22.372Z"
   },
   {
    "duration": 9,
    "start_time": "2022-08-19T15:40:22.380Z"
   },
   {
    "duration": 29,
    "start_time": "2022-08-19T15:40:22.390Z"
   },
   {
    "duration": 5,
    "start_time": "2022-08-19T15:40:22.421Z"
   },
   {
    "duration": 32,
    "start_time": "2022-08-19T15:40:22.427Z"
   },
   {
    "duration": 4,
    "start_time": "2022-08-19T15:40:22.461Z"
   },
   {
    "duration": 9,
    "start_time": "2022-08-19T15:40:22.467Z"
   },
   {
    "duration": 11,
    "start_time": "2022-08-19T15:40:22.477Z"
   },
   {
    "duration": 12,
    "start_time": "2022-08-19T15:40:22.490Z"
   },
   {
    "duration": 6,
    "start_time": "2022-08-19T15:40:22.504Z"
   },
   {
    "duration": 5,
    "start_time": "2022-08-19T15:40:22.512Z"
   },
   {
    "duration": 13,
    "start_time": "2022-08-19T15:40:22.519Z"
   },
   {
    "duration": 643,
    "start_time": "2022-08-19T15:40:28.797Z"
   },
   {
    "duration": 16,
    "start_time": "2022-08-19T15:45:36.345Z"
   },
   {
    "duration": 154,
    "start_time": "2022-08-19T15:45:45.526Z"
   },
   {
    "duration": 19,
    "start_time": "2022-08-19T15:45:45.682Z"
   },
   {
    "duration": 25,
    "start_time": "2022-08-19T15:45:45.704Z"
   },
   {
    "duration": 65,
    "start_time": "2022-08-19T15:45:45.730Z"
   },
   {
    "duration": 10,
    "start_time": "2022-08-19T15:45:45.797Z"
   },
   {
    "duration": 14,
    "start_time": "2022-08-19T15:45:45.809Z"
   },
   {
    "duration": 10,
    "start_time": "2022-08-19T15:45:45.825Z"
   },
   {
    "duration": 6,
    "start_time": "2022-08-19T15:45:45.837Z"
   },
   {
    "duration": 22,
    "start_time": "2022-08-19T15:45:45.845Z"
   },
   {
    "duration": 7,
    "start_time": "2022-08-19T15:45:45.877Z"
   },
   {
    "duration": 9,
    "start_time": "2022-08-19T15:45:45.886Z"
   },
   {
    "duration": 12,
    "start_time": "2022-08-19T15:45:45.897Z"
   },
   {
    "duration": 18,
    "start_time": "2022-08-19T15:45:45.910Z"
   },
   {
    "duration": 8,
    "start_time": "2022-08-19T15:45:45.931Z"
   },
   {
    "duration": 25,
    "start_time": "2022-08-19T15:45:45.941Z"
   },
   {
    "duration": 7,
    "start_time": "2022-08-19T15:45:45.969Z"
   },
   {
    "duration": 13,
    "start_time": "2022-08-19T15:45:45.977Z"
   },
   {
    "duration": 9,
    "start_time": "2022-08-19T15:45:45.991Z"
   },
   {
    "duration": 10,
    "start_time": "2022-08-19T15:45:46.002Z"
   },
   {
    "duration": 10,
    "start_time": "2022-08-19T15:45:46.014Z"
   },
   {
    "duration": 11,
    "start_time": "2022-08-19T15:45:46.026Z"
   },
   {
    "duration": 12,
    "start_time": "2022-08-19T15:45:46.039Z"
   },
   {
    "duration": 8,
    "start_time": "2022-08-19T15:45:46.057Z"
   },
   {
    "duration": 14,
    "start_time": "2022-08-19T15:45:46.067Z"
   },
   {
    "duration": 10,
    "start_time": "2022-08-19T15:45:46.082Z"
   },
   {
    "duration": 11,
    "start_time": "2022-08-19T15:45:46.093Z"
   },
   {
    "duration": 10,
    "start_time": "2022-08-19T15:45:46.105Z"
   },
   {
    "duration": 16,
    "start_time": "2022-08-19T15:45:46.116Z"
   },
   {
    "duration": 8,
    "start_time": "2022-08-19T15:45:46.134Z"
   },
   {
    "duration": 7,
    "start_time": "2022-08-19T15:45:46.143Z"
   },
   {
    "duration": 28,
    "start_time": "2022-08-19T15:45:46.152Z"
   },
   {
    "duration": 8,
    "start_time": "2022-08-19T15:45:46.182Z"
   },
   {
    "duration": 14,
    "start_time": "2022-08-19T15:45:46.192Z"
   },
   {
    "duration": 20,
    "start_time": "2022-08-19T15:45:46.208Z"
   },
   {
    "duration": 10,
    "start_time": "2022-08-19T15:45:46.229Z"
   },
   {
    "duration": 7,
    "start_time": "2022-08-19T15:45:46.240Z"
   },
   {
    "duration": 7,
    "start_time": "2022-08-19T15:45:46.249Z"
   },
   {
    "duration": 10,
    "start_time": "2022-08-19T15:45:46.269Z"
   },
   {
    "duration": 9,
    "start_time": "2022-08-19T15:45:46.281Z"
   },
   {
    "duration": 14,
    "start_time": "2022-08-19T15:45:46.292Z"
   },
   {
    "duration": 9,
    "start_time": "2022-08-19T15:45:46.311Z"
   },
   {
    "duration": 9,
    "start_time": "2022-08-19T15:45:46.324Z"
   },
   {
    "duration": 12,
    "start_time": "2022-08-19T15:45:46.334Z"
   },
   {
    "duration": 9,
    "start_time": "2022-08-19T15:45:46.347Z"
   },
   {
    "duration": 31,
    "start_time": "2022-08-19T15:45:46.359Z"
   },
   {
    "duration": 10,
    "start_time": "2022-08-19T15:45:46.392Z"
   },
   {
    "duration": 27,
    "start_time": "2022-08-19T15:45:46.404Z"
   },
   {
    "duration": 6,
    "start_time": "2022-08-19T15:45:46.433Z"
   },
   {
    "duration": 16,
    "start_time": "2022-08-19T15:45:46.440Z"
   },
   {
    "duration": 18,
    "start_time": "2022-08-19T15:45:46.457Z"
   },
   {
    "duration": 34,
    "start_time": "2022-08-19T15:45:46.477Z"
   },
   {
    "duration": 25,
    "start_time": "2022-08-19T15:45:46.512Z"
   },
   {
    "duration": 12,
    "start_time": "2022-08-19T15:45:46.539Z"
   },
   {
    "duration": 24,
    "start_time": "2022-08-19T15:45:46.552Z"
   },
   {
    "duration": 10,
    "start_time": "2022-08-19T15:45:46.577Z"
   },
   {
    "duration": 28,
    "start_time": "2022-08-19T15:45:46.589Z"
   },
   {
    "duration": 8,
    "start_time": "2022-08-19T15:45:46.619Z"
   },
   {
    "duration": 14,
    "start_time": "2022-08-19T15:45:46.628Z"
   },
   {
    "duration": 22,
    "start_time": "2022-08-19T15:45:46.644Z"
   },
   {
    "duration": 11,
    "start_time": "2022-08-19T15:45:46.668Z"
   },
   {
    "duration": 18,
    "start_time": "2022-08-19T15:45:46.680Z"
   },
   {
    "duration": 6,
    "start_time": "2022-08-19T15:45:46.699Z"
   },
   {
    "duration": 27,
    "start_time": "2022-08-19T15:45:46.707Z"
   },
   {
    "duration": 5,
    "start_time": "2022-08-19T15:45:46.736Z"
   },
   {
    "duration": 27,
    "start_time": "2022-08-19T15:45:46.743Z"
   },
   {
    "duration": 8,
    "start_time": "2022-08-19T15:45:46.772Z"
   },
   {
    "duration": 10,
    "start_time": "2022-08-19T15:45:46.781Z"
   },
   {
    "duration": 7,
    "start_time": "2022-08-19T15:45:46.793Z"
   },
   {
    "duration": 12,
    "start_time": "2022-08-19T15:45:46.801Z"
   },
   {
    "duration": 6,
    "start_time": "2022-08-19T15:45:46.814Z"
   },
   {
    "duration": 7,
    "start_time": "2022-08-19T15:45:46.822Z"
   },
   {
    "duration": 10,
    "start_time": "2022-08-19T15:45:46.830Z"
   },
   {
    "duration": 137,
    "start_time": "2022-08-19T15:45:46.842Z"
   },
   {
    "duration": 10,
    "start_time": "2022-08-19T15:45:46.981Z"
   },
   {
    "duration": 9,
    "start_time": "2022-08-19T15:45:46.993Z"
   },
   {
    "duration": 7,
    "start_time": "2022-08-19T15:45:47.004Z"
   },
   {
    "duration": 14,
    "start_time": "2022-08-19T15:45:47.013Z"
   },
   {
    "duration": 149,
    "start_time": "2022-08-19T15:46:08.726Z"
   },
   {
    "duration": 153,
    "start_time": "2022-08-19T15:47:30.141Z"
   },
   {
    "duration": 160,
    "start_time": "2022-08-19T15:48:15.494Z"
   },
   {
    "duration": 113,
    "start_time": "2022-08-19T16:11:46.237Z"
   },
   {
    "duration": 14,
    "start_time": "2022-08-19T16:11:46.353Z"
   },
   {
    "duration": 31,
    "start_time": "2022-08-19T16:11:46.368Z"
   },
   {
    "duration": 62,
    "start_time": "2022-08-19T16:11:46.400Z"
   },
   {
    "duration": 10,
    "start_time": "2022-08-19T16:11:46.464Z"
   },
   {
    "duration": 15,
    "start_time": "2022-08-19T16:11:46.476Z"
   },
   {
    "duration": 12,
    "start_time": "2022-08-19T16:11:46.493Z"
   },
   {
    "duration": 8,
    "start_time": "2022-08-19T16:11:46.507Z"
   },
   {
    "duration": 15,
    "start_time": "2022-08-19T16:11:46.516Z"
   },
   {
    "duration": 26,
    "start_time": "2022-08-19T16:11:46.532Z"
   },
   {
    "duration": 3,
    "start_time": "2022-08-19T16:11:46.560Z"
   },
   {
    "duration": 7,
    "start_time": "2022-08-19T16:11:46.565Z"
   },
   {
    "duration": 7,
    "start_time": "2022-08-19T16:11:46.574Z"
   },
   {
    "duration": 5,
    "start_time": "2022-08-19T16:11:46.585Z"
   },
   {
    "duration": 13,
    "start_time": "2022-08-19T16:11:46.592Z"
   },
   {
    "duration": 5,
    "start_time": "2022-08-19T16:11:46.606Z"
   },
   {
    "duration": 7,
    "start_time": "2022-08-19T16:11:46.612Z"
   },
   {
    "duration": 5,
    "start_time": "2022-08-19T16:11:46.658Z"
   },
   {
    "duration": 9,
    "start_time": "2022-08-19T16:11:46.664Z"
   },
   {
    "duration": 5,
    "start_time": "2022-08-19T16:11:46.675Z"
   },
   {
    "duration": 11,
    "start_time": "2022-08-19T16:11:46.682Z"
   },
   {
    "duration": 11,
    "start_time": "2022-08-19T16:11:46.695Z"
   },
   {
    "duration": 5,
    "start_time": "2022-08-19T16:11:46.707Z"
   },
   {
    "duration": 45,
    "start_time": "2022-08-19T16:11:46.713Z"
   },
   {
    "duration": 7,
    "start_time": "2022-08-19T16:11:46.761Z"
   },
   {
    "duration": 8,
    "start_time": "2022-08-19T16:11:46.770Z"
   },
   {
    "duration": 7,
    "start_time": "2022-08-19T16:11:46.780Z"
   },
   {
    "duration": 9,
    "start_time": "2022-08-19T16:11:46.789Z"
   },
   {
    "duration": 7,
    "start_time": "2022-08-19T16:11:46.799Z"
   },
   {
    "duration": 6,
    "start_time": "2022-08-19T16:11:46.808Z"
   },
   {
    "duration": 8,
    "start_time": "2022-08-19T16:11:46.816Z"
   },
   {
    "duration": 32,
    "start_time": "2022-08-19T16:11:46.825Z"
   },
   {
    "duration": 20,
    "start_time": "2022-08-19T16:11:46.859Z"
   },
   {
    "duration": 9,
    "start_time": "2022-08-19T16:11:46.881Z"
   },
   {
    "duration": 17,
    "start_time": "2022-08-19T16:11:46.892Z"
   },
   {
    "duration": 9,
    "start_time": "2022-08-19T16:11:46.911Z"
   },
   {
    "duration": 20,
    "start_time": "2022-08-19T16:11:46.921Z"
   },
   {
    "duration": 10,
    "start_time": "2022-08-19T16:11:46.943Z"
   },
   {
    "duration": 9,
    "start_time": "2022-08-19T16:11:46.955Z"
   },
   {
    "duration": 20,
    "start_time": "2022-08-19T16:11:46.966Z"
   },
   {
    "duration": 14,
    "start_time": "2022-08-19T16:11:46.990Z"
   },
   {
    "duration": 26,
    "start_time": "2022-08-19T16:11:47.005Z"
   },
   {
    "duration": 7,
    "start_time": "2022-08-19T16:11:47.033Z"
   },
   {
    "duration": 6,
    "start_time": "2022-08-19T16:11:47.042Z"
   },
   {
    "duration": 7,
    "start_time": "2022-08-19T16:11:47.049Z"
   },
   {
    "duration": 16,
    "start_time": "2022-08-19T16:11:47.058Z"
   },
   {
    "duration": 26,
    "start_time": "2022-08-19T16:11:47.076Z"
   },
   {
    "duration": 5,
    "start_time": "2022-08-19T16:11:47.104Z"
   },
   {
    "duration": 13,
    "start_time": "2022-08-19T16:11:47.111Z"
   },
   {
    "duration": 8,
    "start_time": "2022-08-19T16:11:47.125Z"
   },
   {
    "duration": 40,
    "start_time": "2022-08-19T16:11:47.134Z"
   },
   {
    "duration": 25,
    "start_time": "2022-08-19T16:11:47.176Z"
   },
   {
    "duration": 13,
    "start_time": "2022-08-19T16:11:47.202Z"
   },
   {
    "duration": 7,
    "start_time": "2022-08-19T16:11:47.217Z"
   },
   {
    "duration": 12,
    "start_time": "2022-08-19T16:11:47.226Z"
   },
   {
    "duration": 31,
    "start_time": "2022-08-19T16:11:47.239Z"
   },
   {
    "duration": 4,
    "start_time": "2022-08-19T16:11:47.272Z"
   },
   {
    "duration": 8,
    "start_time": "2022-08-19T16:11:47.278Z"
   },
   {
    "duration": 16,
    "start_time": "2022-08-19T16:11:47.288Z"
   },
   {
    "duration": 4,
    "start_time": "2022-08-19T16:11:47.306Z"
   },
   {
    "duration": 6,
    "start_time": "2022-08-19T16:11:47.311Z"
   },
   {
    "duration": 7,
    "start_time": "2022-08-19T16:11:47.319Z"
   },
   {
    "duration": 67,
    "start_time": "2022-08-19T16:11:47.328Z"
   },
   {
    "duration": 5,
    "start_time": "2022-08-19T16:11:47.397Z"
   },
   {
    "duration": 21,
    "start_time": "2022-08-19T16:11:47.405Z"
   },
   {
    "duration": 5,
    "start_time": "2022-08-19T16:11:47.428Z"
   },
   {
    "duration": 8,
    "start_time": "2022-08-19T16:11:47.435Z"
   },
   {
    "duration": 14,
    "start_time": "2022-08-19T16:11:47.444Z"
   },
   {
    "duration": 9,
    "start_time": "2022-08-19T16:11:47.460Z"
   },
   {
    "duration": 5,
    "start_time": "2022-08-19T16:11:47.472Z"
   },
   {
    "duration": 6,
    "start_time": "2022-08-19T16:11:47.478Z"
   },
   {
    "duration": 10,
    "start_time": "2022-08-19T16:11:47.485Z"
   },
   {
    "duration": 151,
    "start_time": "2022-08-19T16:11:47.497Z"
   },
   {
    "duration": 16,
    "start_time": "2022-08-19T16:11:47.650Z"
   },
   {
    "duration": 6,
    "start_time": "2022-08-19T16:11:47.667Z"
   },
   {
    "duration": 10,
    "start_time": "2022-08-19T16:11:47.675Z"
   },
   {
    "duration": 13,
    "start_time": "2022-08-19T16:11:47.686Z"
   },
   {
    "duration": 163,
    "start_time": "2022-08-19T16:11:47.701Z"
   },
   {
    "duration": 7,
    "start_time": "2022-08-19T16:11:47.865Z"
   },
   {
    "duration": 212,
    "start_time": "2022-08-19T16:11:47.874Z"
   },
   {
    "duration": 19,
    "start_time": "2022-08-19T16:11:48.090Z"
   },
   {
    "duration": 185,
    "start_time": "2022-08-19T16:11:48.111Z"
   },
   {
    "duration": 175,
    "start_time": "2022-08-19T16:11:48.298Z"
   },
   {
    "duration": 5,
    "start_time": "2022-08-19T16:11:48.474Z"
   },
   {
    "duration": 244,
    "start_time": "2022-08-19T16:11:48.481Z"
   },
   {
    "duration": 5,
    "start_time": "2022-08-19T16:12:11.532Z"
   },
   {
    "duration": 12,
    "start_time": "2022-08-19T16:12:16.446Z"
   },
   {
    "duration": 10,
    "start_time": "2022-08-19T16:12:18.866Z"
   },
   {
    "duration": 5,
    "start_time": "2022-08-19T16:16:04.230Z"
   },
   {
    "duration": 11,
    "start_time": "2022-08-19T16:16:13.283Z"
   },
   {
    "duration": 9,
    "start_time": "2022-08-19T16:17:06.634Z"
   },
   {
    "duration": 7,
    "start_time": "2022-08-19T16:17:08.231Z"
   },
   {
    "duration": 149,
    "start_time": "2022-08-19T16:17:40.575Z"
   },
   {
    "duration": 8,
    "start_time": "2022-08-19T16:22:49.728Z"
   },
   {
    "duration": 106,
    "start_time": "2022-08-19T16:23:11.773Z"
   },
   {
    "duration": 15,
    "start_time": "2022-08-19T16:23:11.882Z"
   },
   {
    "duration": 35,
    "start_time": "2022-08-19T16:23:11.899Z"
   },
   {
    "duration": 101,
    "start_time": "2022-08-19T16:23:11.936Z"
   },
   {
    "duration": 10,
    "start_time": "2022-08-19T16:23:12.039Z"
   },
   {
    "duration": 16,
    "start_time": "2022-08-19T16:23:12.051Z"
   },
   {
    "duration": 11,
    "start_time": "2022-08-19T16:23:12.069Z"
   },
   {
    "duration": 13,
    "start_time": "2022-08-19T16:23:12.081Z"
   },
   {
    "duration": 19,
    "start_time": "2022-08-19T16:23:12.096Z"
   },
   {
    "duration": 4,
    "start_time": "2022-08-19T16:23:12.117Z"
   },
   {
    "duration": 6,
    "start_time": "2022-08-19T16:23:12.123Z"
   },
   {
    "duration": 8,
    "start_time": "2022-08-19T16:23:12.131Z"
   },
   {
    "duration": 6,
    "start_time": "2022-08-19T16:23:12.141Z"
   },
   {
    "duration": 6,
    "start_time": "2022-08-19T16:23:12.158Z"
   },
   {
    "duration": 16,
    "start_time": "2022-08-19T16:23:12.165Z"
   },
   {
    "duration": 6,
    "start_time": "2022-08-19T16:23:12.182Z"
   },
   {
    "duration": 9,
    "start_time": "2022-08-19T16:23:12.190Z"
   },
   {
    "duration": 5,
    "start_time": "2022-08-19T16:23:12.201Z"
   },
   {
    "duration": 12,
    "start_time": "2022-08-19T16:23:12.207Z"
   },
   {
    "duration": 37,
    "start_time": "2022-08-19T16:23:12.221Z"
   },
   {
    "duration": 10,
    "start_time": "2022-08-19T16:23:12.260Z"
   },
   {
    "duration": 14,
    "start_time": "2022-08-19T16:23:12.271Z"
   },
   {
    "duration": 12,
    "start_time": "2022-08-19T16:23:12.287Z"
   },
   {
    "duration": 19,
    "start_time": "2022-08-19T16:23:12.300Z"
   },
   {
    "duration": 16,
    "start_time": "2022-08-19T16:23:12.321Z"
   },
   {
    "duration": 19,
    "start_time": "2022-08-19T16:23:12.338Z"
   },
   {
    "duration": 10,
    "start_time": "2022-08-19T16:23:12.359Z"
   },
   {
    "duration": 21,
    "start_time": "2022-08-19T16:23:12.373Z"
   },
   {
    "duration": 14,
    "start_time": "2022-08-19T16:23:12.395Z"
   },
   {
    "duration": 7,
    "start_time": "2022-08-19T16:23:12.411Z"
   },
   {
    "duration": 6,
    "start_time": "2022-08-19T16:23:12.420Z"
   },
   {
    "duration": 7,
    "start_time": "2022-08-19T16:23:12.427Z"
   },
   {
    "duration": 7,
    "start_time": "2022-08-19T16:23:12.435Z"
   },
   {
    "duration": 7,
    "start_time": "2022-08-19T16:23:12.443Z"
   },
   {
    "duration": 10,
    "start_time": "2022-08-19T16:23:12.451Z"
   },
   {
    "duration": 7,
    "start_time": "2022-08-19T16:23:12.462Z"
   },
   {
    "duration": 6,
    "start_time": "2022-08-19T16:23:12.470Z"
   },
   {
    "duration": 13,
    "start_time": "2022-08-19T16:23:12.477Z"
   },
   {
    "duration": 8,
    "start_time": "2022-08-19T16:23:12.491Z"
   },
   {
    "duration": 18,
    "start_time": "2022-08-19T16:23:12.501Z"
   },
   {
    "duration": 11,
    "start_time": "2022-08-19T16:23:12.521Z"
   },
   {
    "duration": 10,
    "start_time": "2022-08-19T16:23:12.533Z"
   },
   {
    "duration": 8,
    "start_time": "2022-08-19T16:23:12.544Z"
   },
   {
    "duration": 9,
    "start_time": "2022-08-19T16:23:12.554Z"
   },
   {
    "duration": 5,
    "start_time": "2022-08-19T16:23:12.565Z"
   },
   {
    "duration": 7,
    "start_time": "2022-08-19T16:23:12.571Z"
   },
   {
    "duration": 20,
    "start_time": "2022-08-19T16:23:12.580Z"
   },
   {
    "duration": 5,
    "start_time": "2022-08-19T16:23:12.602Z"
   },
   {
    "duration": 9,
    "start_time": "2022-08-19T16:23:12.609Z"
   },
   {
    "duration": 4,
    "start_time": "2022-08-19T16:23:12.619Z"
   },
   {
    "duration": 54,
    "start_time": "2022-08-19T16:23:12.625Z"
   },
   {
    "duration": 23,
    "start_time": "2022-08-19T16:23:12.681Z"
   },
   {
    "duration": 17,
    "start_time": "2022-08-19T16:23:12.706Z"
   },
   {
    "duration": 7,
    "start_time": "2022-08-19T16:23:12.725Z"
   },
   {
    "duration": 6,
    "start_time": "2022-08-19T16:23:12.734Z"
   },
   {
    "duration": 28,
    "start_time": "2022-08-19T16:23:12.742Z"
   },
   {
    "duration": 4,
    "start_time": "2022-08-19T16:23:12.772Z"
   },
   {
    "duration": 9,
    "start_time": "2022-08-19T16:23:12.778Z"
   },
   {
    "duration": 19,
    "start_time": "2022-08-19T16:23:12.789Z"
   },
   {
    "duration": 6,
    "start_time": "2022-08-19T16:23:12.809Z"
   },
   {
    "duration": 9,
    "start_time": "2022-08-19T16:23:12.817Z"
   },
   {
    "duration": 8,
    "start_time": "2022-08-19T16:23:12.828Z"
   },
   {
    "duration": 25,
    "start_time": "2022-08-19T16:23:12.857Z"
   },
   {
    "duration": 5,
    "start_time": "2022-08-19T16:23:12.884Z"
   },
   {
    "duration": 18,
    "start_time": "2022-08-19T16:23:12.890Z"
   },
   {
    "duration": 5,
    "start_time": "2022-08-19T16:23:12.909Z"
   },
   {
    "duration": 8,
    "start_time": "2022-08-19T16:23:12.916Z"
   },
   {
    "duration": 32,
    "start_time": "2022-08-19T16:23:12.926Z"
   },
   {
    "duration": 10,
    "start_time": "2022-08-19T16:23:12.960Z"
   },
   {
    "duration": 10,
    "start_time": "2022-08-19T16:23:12.971Z"
   },
   {
    "duration": 13,
    "start_time": "2022-08-19T16:23:12.983Z"
   },
   {
    "duration": 9,
    "start_time": "2022-08-19T16:23:12.997Z"
   },
   {
    "duration": 134,
    "start_time": "2022-08-19T16:23:13.008Z"
   },
   {
    "duration": 19,
    "start_time": "2022-08-19T16:23:13.144Z"
   },
   {
    "duration": 6,
    "start_time": "2022-08-19T16:23:13.165Z"
   },
   {
    "duration": 13,
    "start_time": "2022-08-19T16:23:13.174Z"
   },
   {
    "duration": 16,
    "start_time": "2022-08-19T16:23:13.188Z"
   },
   {
    "duration": 155,
    "start_time": "2022-08-19T16:23:13.206Z"
   },
   {
    "duration": 6,
    "start_time": "2022-08-19T16:23:13.363Z"
   },
   {
    "duration": 142,
    "start_time": "2022-08-19T16:23:13.370Z"
   },
   {
    "duration": 20,
    "start_time": "2022-08-19T16:23:13.513Z"
   },
   {
    "duration": 233,
    "start_time": "2022-08-19T16:23:13.538Z"
   },
   {
    "duration": 149,
    "start_time": "2022-08-19T16:23:13.773Z"
   },
   {
    "duration": 5,
    "start_time": "2022-08-19T16:23:13.923Z"
   },
   {
    "duration": 224,
    "start_time": "2022-08-19T16:23:13.929Z"
   },
   {
    "duration": 5,
    "start_time": "2022-08-19T16:23:14.157Z"
   },
   {
    "duration": 15,
    "start_time": "2022-08-19T16:23:14.163Z"
   },
   {
    "duration": 13,
    "start_time": "2022-08-19T16:23:14.180Z"
   },
   {
    "duration": 9,
    "start_time": "2022-08-19T16:23:14.195Z"
   },
   {
    "duration": 158,
    "start_time": "2022-08-19T16:23:14.206Z"
   },
   {
    "duration": 9,
    "start_time": "2022-08-19T16:23:14.367Z"
   },
   {
    "duration": 27,
    "start_time": "2022-08-19T16:23:14.378Z"
   },
   {
    "duration": 131,
    "start_time": "2022-08-19T16:23:14.407Z"
   },
   {
    "duration": 167,
    "start_time": "2022-08-19T16:23:14.539Z"
   },
   {
    "duration": 5,
    "start_time": "2022-08-19T16:23:14.707Z"
   },
   {
    "duration": 160,
    "start_time": "2022-08-19T16:23:14.714Z"
   },
   {
    "duration": 50,
    "start_time": "2022-08-19T16:23:14.877Z"
   },
   {
    "duration": 153,
    "start_time": "2022-08-19T16:23:14.929Z"
   },
   {
    "duration": 145,
    "start_time": "2022-08-19T16:23:15.084Z"
   },
   {
    "duration": 4,
    "start_time": "2022-08-19T16:23:15.232Z"
   },
   {
    "duration": 4,
    "start_time": "2022-08-19T16:23:24.296Z"
   },
   {
    "duration": 4,
    "start_time": "2022-08-19T16:24:46.225Z"
   },
   {
    "duration": 4,
    "start_time": "2022-08-19T16:24:48.548Z"
   },
   {
    "duration": 4,
    "start_time": "2022-08-19T16:25:14.476Z"
   },
   {
    "duration": 4,
    "start_time": "2022-08-19T16:26:52.428Z"
   },
   {
    "duration": 7,
    "start_time": "2022-08-19T16:26:54.570Z"
   },
   {
    "duration": 287,
    "start_time": "2022-08-19T16:32:46.092Z"
   }
  ],
  "colab": {
   "name": "DA+. Сборный проект 1. Шаблон (1).ipynb",
   "provenance": []
  },
  "kernelspec": {
   "display_name": "Python 3 (ipykernel)",
   "language": "python",
   "name": "python3"
  },
  "language_info": {
   "codemirror_mode": {
    "name": "ipython",
    "version": 3
   },
   "file_extension": ".py",
   "mimetype": "text/x-python",
   "name": "python",
   "nbconvert_exporter": "python",
   "pygments_lexer": "ipython3",
   "version": "3.9.12"
  },
  "toc": {
   "base_numbering": 1,
   "nav_menu": {},
   "number_sections": true,
   "sideBar": true,
   "skip_h1_title": true,
   "title_cell": "Table of Contents",
   "title_sidebar": "Contents",
   "toc_cell": false,
   "toc_position": {
    "height": "calc(100% - 180px)",
    "left": "10px",
    "top": "150px",
    "width": "375.391px"
   },
   "toc_section_display": true,
   "toc_window_display": false
  }
 },
 "nbformat": 4,
 "nbformat_minor": 1
}
